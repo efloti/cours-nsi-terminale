{
 "cells": [
  {
   "cell_type": "markdown",
   "metadata": {},
   "source": [
    "# Tutoriel sql avec postgresql"
   ]
  },
  {
   "cell_type": "markdown",
   "metadata": {},
   "source": [
    "*Adaptation du tutoriel officiel de postgresql*"
   ]
  },
  {
   "cell_type": "markdown",
   "metadata": {},
   "source": [
    "## Avant toute chose"
   ]
  },
  {
   "cell_type": "markdown",
   "metadata": {},
   "source": [
    "**Commencer par ouvrir un terminal et placer le à côté de ce document, puis**:"
   ]
  },
  {
   "cell_type": "markdown",
   "metadata": {},
   "source": [
    "1. créer un répertoire *sql* contenant un répertoire *tuto* dans votre espace,\n",
    "   \n",
    "```\n",
    "~$ mkdir -p sql/tuto # -p pour path (chemin): crée tous les dossiers du chemin\n",
    "~$ cd sql/tuto\n",
    "```"
   ]
  },
  {
   "cell_type": "markdown",
   "metadata": {},
   "source": [
    "2. puis y copier les deux fichiers du répertoire *1_decouverte_sql* qui contient ce notebook (`*` signifie «tous» et `.` dénote le répertoire courant),\n",
    "\n",
    "```\n",
    "~/sql/tuto$ cp ~/.../1_decouverte/* .\n",
    "```"
   ]
  },
  {
   "cell_type": "markdown",
   "metadata": {},
   "source": [
    "3. **créer la base de donnée**: préfixer le nom de la base par vos initiales `<initiales>_test_bd`,\n",
    "\n",
    "```\n",
    "~/sql/tuto$ createdb <initiales>_test_bd\n",
    "```"
   ]
  },
  {
   "cell_type": "markdown",
   "metadata": {},
   "source": [
    "4. se connecter à cette base avec le client *psql*.\n",
    "\n",
    "```\n",
    "~/sql/tuto$ psql <initiales>_test_bd\n",
    "```"
   ]
  },
  {
   "cell_type": "markdown",
   "metadata": {},
   "source": [
    "Vous obtenez alors un **prompt**:\n",
    "\n",
    "    test_bd=> \n",
    "\n",
    "à la suite duquel on peut saisir des **commandes sql** ou des «pseudos commandes» expliquées ci-après."
   ]
  },
  {
   "cell_type": "markdown",
   "metadata": {},
   "source": [
    "## `CREATE TABLE` - Créer une nouvelle table"
   ]
  },
  {
   "cell_type": "markdown",
   "metadata": {},
   "source": [
    "On utilise une instruction de la *forme*:   "
   ]
  },
  {
   "cell_type": "raw",
   "metadata": {},
   "source": [
    "CREATE TABLE nom_table (nom_col1 type_col1, nom_col2 type_col2,...);"
   ]
  },
  {
   "cell_type": "markdown",
   "metadata": {},
   "source": [
    "Noter le `;` qui indique la fin de l'instruction sql: il est obligatoire!\n",
    "\n",
    "Noter encore que SQL n'est pas sensible à la «casse»: `CREATE` ou `Create` ou `create` se réfèrent à la même commande; préférer les minuscules car c'est plus facile à saisir.\n",
    "\n",
    "Enfin, les espaces et sauts de lignes équivalent à un espace seul: cela permet de *formater agréablement* les «ordres sql»."
   ]
  },
  {
   "cell_type": "markdown",
   "metadata": {},
   "source": [
    "Par exemple (`--` annonce un commentaire - inutile de le saisir!):"
   ]
  },
  {
   "cell_type": "markdown",
   "metadata": {},
   "source": [
    "```sql\n",
    "CREATE TABLE meteos (\n",
    "    ville    varchar(80),\n",
    "    t_min    int,     -- température minimale\n",
    "    t_max    int,     -- température maximale\n",
    "    prcp     real,    -- précipitation\n",
    "    date     date\n",
    ");\n",
    "```"
   ]
  },
  {
   "cell_type": "markdown",
   "metadata": {},
   "source": [
    "Cela crée une table `meteo` ayant 5 colonnes. \n",
    "\n",
    "Vérifier-le avec les «pseudos commandes» `\\d` (pour *describe*) puis `\\d meteos` (saisir `q` pour quitter)."
   ]
  },
  {
   "cell_type": "markdown",
   "metadata": {},
   "source": [
    "#### À vous de jouer"
   ]
  },
  {
   "cell_type": "markdown",
   "metadata": {},
   "source": [
    "Créer une table **villes** dont psql donne la description suivante (avec `\\d villes`):"
   ]
  },
  {
   "cell_type": "raw",
   "metadata": {},
   "source": [
    "                       Table \"public.villes\"\n",
    "  Column  |         Type          | Collation | Nullable | Default \n",
    "----------+-----------------------+-----------+----------+---------\n",
    " nom      | character varying(80) |           |          | \n",
    " position | point                 |           |          | "
   ]
  },
  {
   "cell_type": "markdown",
   "metadata": {},
   "source": [
    "*Note*: `character varying(80)` et `varchar(80)` sont deux synonymes."
   ]
  },
  {
   "cell_type": "markdown",
   "metadata": {},
   "source": [
    "Vérifier vos tables avec `\\d` et `\\d villes`. "
   ]
  },
  {
   "cell_type": "markdown",
   "metadata": {},
   "source": [
    "**Solution**"
   ]
  },
  {
   "cell_type": "markdown",
   "metadata": {
    "jupyter": {
     "source_hidden": true
    }
   },
   "source": [
    "```sql\n",
    "CREATE TABLE villes (\n",
    "    nom      varchar(80),\n",
    "    position point -- type particulier à postgresql\n",
    ");\n",
    "```"
   ]
  },
  {
   "cell_type": "markdown",
   "metadata": {},
   "source": [
    "*Note*: Si l'une de vos tables n'est pas correcte, supprimer la et recréer la en reprenant soigneusement le code sql fourni plus tôt:\n",
    "\n",
    "```sql\n",
    "DROP TABLE nom_table; -- supprime la table indiquée\n",
    "```"
   ]
  },
  {
   "cell_type": "markdown",
   "metadata": {},
   "source": [
    "## `INSERT INTO` - Ajouter des lignes"
   ]
  },
  {
   "cell_type": "markdown",
   "metadata": {},
   "source": [
    "L'instruction est de la *forme*:   "
   ]
  },
  {
   "cell_type": "raw",
   "metadata": {},
   "source": [
    "INSERT INTO nom_table [(col1, col2,...)] VALUES (val1, val2,...);"
   ]
  },
  {
   "cell_type": "markdown",
   "metadata": {},
   "source": [
    "*Note*: Les crochets indiquent un ou des arguments *optionnels*."
   ]
  },
  {
   "cell_type": "markdown",
   "metadata": {},
   "source": [
    "Ainsi, il y a plusieurs façons de préciser à quelle colonne correspond quelle valeur."
   ]
  },
  {
   "cell_type": "markdown",
   "metadata": {},
   "source": [
    "**Première façon**: Le cas le plus simple consiste à donner les valeurs dans le même ordre que celui des colonnes dans la table (lors de sa création). Par exemple:"
   ]
  },
  {
   "cell_type": "markdown",
   "metadata": {},
   "source": [
    "```sql\n",
    "INSERT INTO meteos VALUES ('Tours', 12, 23, 0.2, '2020-11-03');\n",
    "```"
   ]
  },
  {
   "cell_type": "markdown",
   "metadata": {},
   "source": [
    "Note: l'instruction `select * from meteos;` permet de vérifier l'insertion. "
   ]
  },
  {
   "cell_type": "markdown",
   "metadata": {},
   "source": [
    "#### À vous de jouer"
   ]
  },
  {
   "cell_type": "markdown",
   "metadata": {},
   "source": [
    "La ville de `'Tours'` a pour coordonnées (long, lat) `'(47.38333, 0.68333)'`. Insérer une ligne dans la table **villes** pour tours."
   ]
  },
  {
   "cell_type": "markdown",
   "metadata": {},
   "source": [
    "**Solution**"
   ]
  },
  {
   "cell_type": "markdown",
   "metadata": {
    "jupyter": {
     "source_hidden": true
    }
   },
   "source": [
    "```sql\n",
    "INSERT INTO villes VALUES ('Tours', '(47.38333, 0.68333)');\n",
    "-- vérification\n",
    "select * from villes;\n",
    "```"
   ]
  },
  {
   "cell_type": "markdown",
   "metadata": {},
   "source": [
    "**Deuxième façon**: On peut préciser les colonnes associées aux valeurs après le nom de la table; les valeurs doivent alors être données dans le même ordre. Par exemple:"
   ]
  },
  {
   "cell_type": "markdown",
   "metadata": {},
   "source": [
    "```sql\n",
    "INSERT INTO meteos (t_min, t_max, date, ville, prcp) \n",
    "    VALUES        (10, 18, '2020-11-04', 'Tours', 0.2);\n",
    "```"
   ]
  },
  {
   "cell_type": "markdown",
   "metadata": {},
   "source": [
    "#### À vous de jouer"
   ]
  },
  {
   "cell_type": "markdown",
   "metadata": {},
   "source": [
    "> La journée du 15 novembre 2020, à bordeaux, le temps était sec et la température a varié de 12 à 19 degrés.\n",
    "\n",
    "Insérer cette information dans la table appropriée."
   ]
  },
  {
   "cell_type": "markdown",
   "metadata": {},
   "source": [
    "**Solution**"
   ]
  },
  {
   "cell_type": "markdown",
   "metadata": {
    "jupyter": {
     "source_hidden": true
    }
   },
   "source": [
    "```sql\n",
    "INSERT INTO meteos (date, ville, prc, t_min, t_max)\n",
    "VALUES            ('2020-11-15', 'Bordeaux', 0, 12, 19);\n",
    "-- vérification\n",
    "select * from meteos;\n",
    "```"
   ]
  },
  {
   "cell_type": "markdown",
   "metadata": {},
   "source": [
    "## Insertion de données «en masse»"
   ]
  },
  {
   "cell_type": "markdown",
   "metadata": {},
   "source": [
    "Pour pouvoir découvrir la notion de **requête dans une base de données**, nous allons insérer des données via un **script sql**."
   ]
  },
  {
   "cell_type": "markdown",
   "metadata": {},
   "source": [
    "**Dans le hub**, ouvrir le fichier *tuto.sql* pour voir son contenu,"
   ]
  },
  {
   "cell_type": "markdown",
   "metadata": {},
   "source": [
    "**Dans psql** (terminal), utiliser la pseudo commande `\\i` pour «jouer» le script sql:\n",
    "\n",
    "    test_bd=>\\i tuto.sql"
   ]
  },
  {
   "cell_type": "markdown",
   "metadata": {},
   "source": [
    "*Note*: le script *tuto.sql* doit être dans le répertoire courant de *psql*. Si ce n'est pas le cas, quitter psql avec `\\q` et le rouvrir depuis le répertoire approprié."
   ]
  },
  {
   "cell_type": "markdown",
   "metadata": {},
   "source": [
    "## `SELECT` - Requête sur une table"
   ]
  },
  {
   "cell_type": "markdown",
   "metadata": {},
   "source": [
    "L'instruction `SELECT` est utilisée pour récupérer/explorer des données. \n",
    "Sa syntaxe (simplifié) est de la forme:"
   ]
  },
  {
   "cell_type": "raw",
   "metadata": {},
   "source": [
    "SELECT col1, col2, ... FROM table1, table2, ... [WHERE conditions];"
   ]
  },
  {
   "cell_type": "markdown",
   "metadata": {},
   "source": [
    "- Voici un exemple simple (`*` signifie «toutes les colonnes de la table»):"
   ]
  },
  {
   "cell_type": "markdown",
   "metadata": {},
   "source": [
    "```sql\n",
    "SELECT * FROM meteos;\n",
    "```"
   ]
  },
  {
   "cell_type": "markdown",
   "metadata": {},
   "source": [
    "Vous devriez obtenir l'affichage:"
   ]
  },
  {
   "cell_type": "raw",
   "metadata": {
    "jupyter": {
     "source_hidden": true
    }
   },
   "source": [
    "   ville   | t_min | t_max | prcp |    date    \n",
    "-----------+-------+-------+------+------------\n",
    " Tours     |    12 |    23 |  0.2 | 2020-11-03\n",
    " Paris     |    12 |    17 |  0.7 | 2020-11-03\n",
    " Marseille |    17 |    24 |    0 | 2020-11-03\n",
    " Tours     |    17 |    21 |  0.1 | 2020-11-04\n",
    " Paris     |    11 |    18 |    0 | 2020-11-04\n",
    " Marseille |    19 |    26 |    0 | 2020-11-04\n",
    " Tours     |     9 |    16 |    0 | 2020-11-05\n",
    " Paris     |     9 |    13 |    0 | 2020-11-05\n",
    " Marseille |    14 |    22 |  1.2 | 2020-11-05\n",
    " Tours     |     5 |    15 |    0 | 2020-11-06\n",
    " Paris     |    15 |     5 |    0 | 2020-11-06\n",
    " Marseille |    15 |    25 |  0.6 | 2020-11-06\n",
    " Tours     |    -2 |     7 |    0 | 2020-11-07\n",
    " Paris     |     0 |     8 |  0.1 | 2020-11-07\n",
    " Marseille |    19 |    28 |  2.1 | 2020-11-07\n",
    " Tours     |     6 |    14 |    0 | 2020-11-08\n",
    " Paris     |     2 |    17 |    0 | 2020-11-08\n",
    " Marseille |    15 |    19 |    0 | 2020-11-08\n",
    "(18 rows)"
   ]
  },
  {
   "cell_type": "markdown",
   "metadata": {},
   "source": [
    "#### À vous de jouer"
   ]
  },
  {
   "cell_type": "markdown",
   "metadata": {},
   "source": [
    "<span style=\"font-size: 18pt;\">☞</span> Afficher toutes les lignes de la table villes."
   ]
  },
  {
   "cell_type": "markdown",
   "metadata": {
    "jupyter": {
     "source_hidden": true
    }
   },
   "source": [
    "```sql\n",
    "SELECT * FROM villes;\n",
    "```"
   ]
  },
  {
   "cell_type": "markdown",
   "metadata": {},
   "source": [
    "- On peut aussi mettre des expressions à la place d'une colonne:"
   ]
  },
  {
   "cell_type": "markdown",
   "metadata": {},
   "source": [
    "```sql\n",
    "SELECT ville, (t_min+t_max)/2 AS t_moy, date \n",
    "FROM meteos;\n",
    "```"
   ]
  },
  {
   "cell_type": "markdown",
   "metadata": {},
   "source": [
    "Note: Le mot clé `AS` sert à créer un «alias» de colonne pour l'expression."
   ]
  },
  {
   "cell_type": "markdown",
   "metadata": {},
   "source": [
    "Vous devriez obtenir l'affichage:"
   ]
  },
  {
   "cell_type": "raw",
   "metadata": {
    "jupyter": {
     "source_hidden": true
    }
   },
   "source": [
    "   ville   | t_moy |    date    \n",
    "-----------+-------+------------\n",
    " Tours     |    17 | 2020-11-03\n",
    " Paris     |    14 | 2020-11-03\n",
    " Marseille |    20 | 2020-11-03\n",
    " Tours     |    19 | 2020-11-04\n",
    " Paris     |    14 | 2020-11-04\n",
    " Marseille |    22 | 2020-11-04\n",
    " Tours     |    12 | 2020-11-05\n",
    " Paris     |    11 | 2020-11-05\n",
    " Marseille |    18 | 2020-11-05\n",
    " Tours     |    10 | 2020-11-06\n",
    " Paris     |    10 | 2020-11-06\n",
    " Marseille |    20 | 2020-11-06\n",
    " Tours     |     2 | 2020-11-07\n",
    " Paris     |     4 | 2020-11-07\n",
    " Marseille |    23 | 2020-11-07\n",
    " Tours     |    10 | 2020-11-08\n",
    " Paris     |     9 | 2020-11-08\n",
    " Marseille |    17 | 2020-11-08\n",
    "(18 rows)\n",
    "\n",
    "# Noter que temp_moy est du type commun à temp_min et max; int! pas de conversion implicite..."
   ]
  },
  {
   "cell_type": "markdown",
   "metadata": {},
   "source": [
    "#### À vous de jouer"
   ]
  },
  {
   "cell_type": "markdown",
   "metadata": {},
   "source": [
    "<span style=\"font-size: 18pt;\">☞</span> Afficher l'écart de température pour chaque ligne de la table. Ne conserver que les colonnes ville, date et écart."
   ]
  },
  {
   "cell_type": "markdown",
   "metadata": {
    "jupyter": {
     "source_hidden": true
    }
   },
   "source": [
    "```sql\n",
    "SELECT ville, date, (t_max-t_min) AS écart\n",
    "FROM meteos;\n",
    "```"
   ]
  },
  {
   "cell_type": "markdown",
   "metadata": {},
   "source": [
    "- Si vous souhaitez sélectionner les lignes qui satisfont à certaines **conditions**, placer les après `WHERE`. Par exemple:"
   ]
  },
  {
   "cell_type": "markdown",
   "metadata": {},
   "source": [
    "```sql\n",
    "SELECT * FROM meteos\n",
    "WHERE ville = 'Paris'\n",
    "  AND prcp > 0.0;\n",
    "```"
   ]
  },
  {
   "cell_type": "raw",
   "metadata": {
    "jupyter": {
     "source_hidden": true
    }
   },
   "source": [
    " ville | temp_max | temp_min | prcp | date \n",
    "-------+----------+----------+------+------\n",
    "(0 rows)\n",
    "\n",
    "# prcp n'a pas de valeur pour Paris; supprimer la ligne AND et recommencer"
   ]
  },
  {
   "cell_type": "markdown",
   "metadata": {},
   "source": [
    "#### À vous de jouer"
   ]
  },
  {
   "cell_type": "markdown",
   "metadata": {},
   "source": [
    "<span style=\"font-size: 18pt;\">☞</span> Afficher les températures min pour la ville de 'Tours' à partir du 7 novembre 2020."
   ]
  },
  {
   "cell_type": "markdown",
   "metadata": {
    "jupyter": {
     "source_hidden": true
    }
   },
   "source": [
    "```sql\n",
    "SELECT t_min\n",
    "FROM meteos\n",
    "WHERE ville = 'Tours'\n",
    "  AND date >= '2020-11-07';\n",
    "```"
   ]
  },
  {
   "cell_type": "markdown",
   "metadata": {},
   "source": [
    "- Tester *successivement* (en les tapant - ok pour l'historique...) les instructions SQL suivantes:"
   ]
  },
  {
   "cell_type": "markdown",
   "metadata": {},
   "source": [
    "```sql\n",
    "SELECT ville \n",
    "FROM meteos;\n",
    "\n",
    "SELECT DISTINCT ville\n",
    "FROM meteos;\n",
    "\n",
    "SELECT ville\n",
    "FROM meteos\n",
    "ORDER BY ville;\n",
    "```"
   ]
  },
  {
   "cell_type": "markdown",
   "metadata": {},
   "source": [
    "### Jointure entre tables"
   ]
  },
  {
   "cell_type": "markdown",
   "metadata": {},
   "source": [
    "- Une **requête** peut porter sur plusieurs table à la fois. Par exemple:"
   ]
  },
  {
   "cell_type": "markdown",
   "metadata": {},
   "source": [
    "```sql\n",
    "SELECT *\n",
    "FROM meteos, villes;\n",
    "```"
   ]
  },
  {
   "cell_type": "markdown",
   "metadata": {},
   "source": [
    "#### À vous de jouer"
   ]
  },
  {
   "cell_type": "markdown",
   "metadata": {},
   "source": [
    "<span style=\"font-size: 18pt;\">☞</span> Combien obtient-on de lignes? Pourquoi? (aide: regarder le nombre de lignes de chaque tables)"
   ]
  },
  {
   "cell_type": "markdown",
   "metadata": {
    "jupyter": {
     "source_hidden": true
    }
   },
   "source": [
    "Normalement **72** ($= 18\\times 4$). En effet chaque ligne de la table meteos (il y en a 18) est combinée avec chaque ligne de la table villes (il y en a 4)."
   ]
  },
  {
   "cell_type": "markdown",
   "metadata": {},
   "source": [
    "- Pour éviter ce phénomène on cherche *une colonne de chaque table* dont les valeurs sont «comparables» (notamment de même type) afin de **joindre** les tables et de «croiser» leurs données:"
   ]
  },
  {
   "cell_type": "markdown",
   "metadata": {},
   "source": [
    "```sql\n",
    "SELECT *\n",
    "FROM meteos, villes\n",
    "WHERE ville = nom;\n",
    "```"
   ]
  },
  {
   "cell_type": "markdown",
   "metadata": {},
   "source": [
    "Éliminons la duplication de 'Tours' et raccourcissons:"
   ]
  },
  {
   "cell_type": "markdown",
   "metadata": {},
   "source": [
    "```sql\n",
    "SELECT ville, t_min, t_max, position\n",
    "FROM meteos, villes\n",
    "WHERE ville = nom;\n",
    "```"
   ]
  },
  {
   "cell_type": "markdown",
   "metadata": {},
   "source": [
    "Comme les noms de colonnes sont *tous différents d'une table à l'autre*, on n'a pas besoin de préciser à quelle table appartient une colonne ici. En pratique c'est rarement le cas et il faudrait lever l'ambiguîté en écrivant plutôt quelque chose comme:"
   ]
  },
  {
   "cell_type": "markdown",
   "metadata": {},
   "source": [
    "```sql\n",
    "SELECT M.ville, M.t_min, M.t_max, V.position\n",
    "FROM meteos M, villes V -- alias de tables\n",
    "WHERE M.ville = V.nom;\n",
    "```"
   ]
  },
  {
   "cell_type": "markdown",
   "metadata": {},
   "source": [
    "cela permet de préciser l'appartenance d'une colonne à une table en utilisant un **nom qualifié**."
   ]
  },
  {
   "cell_type": "markdown",
   "metadata": {},
   "source": [
    "- On peut encore **joindre une table à elle-même**.\n",
    "\n",
    "Dans ce cas il est *indispensable* d'utiliser des noms qualifiés.\n",
    "\n",
    "Supposons qu'on veuille trouver toutes les lignes de meteos dont la température min est supérieure à la température max d'au moins une autre ligne (ou elle-même)."
   ]
  },
  {
   "cell_type": "markdown",
   "metadata": {},
   "source": [
    "```sql\n",
    "SELECT M1.ville, M1.t_min, M1.date, M2.ville, M2.t_max, M2.date\n",
    "FROM meteos M1, meteos M2\n",
    "WHERE M1.t_min > M2.t_max\n",
    "  AND M1.date = M2.date;\n",
    "```"
   ]
  },
  {
   "cell_type": "markdown",
   "metadata": {},
   "source": [
    "#### À vous de jouer"
   ]
  },
  {
   "cell_type": "markdown",
   "metadata": {},
   "source": [
    "<span style=\"font-size: 18pt;\">☞</span>Lors de la saisie des données, un opérateur a pu se tromper. Par exemple, une ligne pourrait contenir une température min inférieure à la température max.\n",
    "\n",
    "Chercher si une telle ligne existe en joignant la table meteos à elle-même."
   ]
  },
  {
   "cell_type": "markdown",
   "metadata": {
    "jupyter": {
     "source_hidden": true
    }
   },
   "source": [
    "```sql\n",
    "SELECT M1.* FROM meteos M1, meteos M2\n",
    "WHERE M1.t_min > M2.t_max \n",
    "  AND M1.ville = M2.ville \n",
    "  AND M1.date = M2.date;\n",
    "```"
   ]
  },
  {
   "cell_type": "markdown",
   "metadata": {},
   "source": [
    "### Fonctions d'agrégation"
   ]
  },
  {
   "cell_type": "markdown",
   "metadata": {},
   "source": [
    "L'agrégation consiste à **combiner les valeurs d'une colonne** d'une table afin d'obtenir un résumé. Voici un exemple avec la fonction `max`:"
   ]
  },
  {
   "cell_type": "markdown",
   "metadata": {},
   "source": [
    "```sql\n",
    "SELECT max(t_min)\n",
    "FROM meteos;\n",
    "```"
   ]
  },
  {
   "cell_type": "markdown",
   "metadata": {},
   "source": [
    "#### À vous de jouer"
   ]
  },
  {
   "cell_type": "markdown",
   "metadata": {},
   "source": [
    "<span style=\"font-size: 18pt;\">☞</span> Voici quelques fonctions d'aggrégation à tester: `min`, `avg` (*average*, moyenne), `sum`, `count` (souvent utilisé sous la forme `count(*)`), ...\n",
    "_____"
   ]
  },
  {
   "cell_type": "markdown",
   "metadata": {},
   "source": [
    "Une agrégation produit normalement une seule valeur et on peut donc l'utiliser comme **sous-requête** pour compléter une condition:"
   ]
  },
  {
   "cell_type": "markdown",
   "metadata": {},
   "source": [
    "```sql\n",
    "SELECT ville, t_min, date FROM meteos\n",
    "WHERE t_min = (SELECT max(t_min) FROM meteos);\n",
    "```"
   ]
  },
  {
   "cell_type": "markdown",
   "metadata": {},
   "source": [
    "#### À vous de jouer"
   ]
  },
  {
   "cell_type": "markdown",
   "metadata": {},
   "source": [
    "<span style=\"font-size: 18pt;\">☞</span> Trouver la ville qui a le «record de température» et le jour où cela a eu lieu."
   ]
  },
  {
   "cell_type": "markdown",
   "metadata": {
    "jupyter": {
     "source_hidden": true
    }
   },
   "source": [
    "```sql\n",
    "SELECT ville, date\n",
    "FROM meteos\n",
    "WHERE t_max = (\n",
    "    select max(t_max) from meteos\n",
    ");\n",
    "```"
   ]
  },
  {
   "cell_type": "markdown",
   "metadata": {},
   "source": [
    "Plutôt que d'aggréger toutes les lignes d'une table, on peut aggréger des **groupes de lignes**:"
   ]
  },
  {
   "cell_type": "markdown",
   "metadata": {},
   "source": [
    "```sql\n",
    "SELECT ville, max(t_min)\n",
    "FROM meteos\n",
    "GROUP BY ville;\n",
    "```"
   ]
  },
  {
   "cell_type": "markdown",
   "metadata": {},
   "source": [
    "Il est possible de sélectionner/filtrer certains de ces groupes en utilisant l'**agrégat** avec `HAVING`:"
   ]
  },
  {
   "cell_type": "markdown",
   "metadata": {},
   "source": [
    "```sql\n",
    "SELECT ville, max(t_min)\n",
    "FROM meteos\n",
    "GROUP BY ville\n",
    "HAVING max(t_min) < 16;\n",
    "```"
   ]
  },
  {
   "cell_type": "markdown",
   "metadata": {},
   "source": [
    "## `UPDATE` - Mettre à jour une table"
   ]
  },
  {
   "cell_type": "markdown",
   "metadata": {},
   "source": [
    "Supposer que nous découvrions que toutes les températures ait été surestimées de 2 degrés à partir du 4 novembre 2020: "
   ]
  },
  {
   "cell_type": "markdown",
   "metadata": {},
   "source": [
    "```sql\n",
    "UPDATE meteos\n",
    "SET t_max = t_max - 2,  t_min = t_min - 2\n",
    "WHERE date >= '2020-11-04';\n",
    "```"
   ]
  },
  {
   "cell_type": "markdown",
   "metadata": {},
   "source": [
    "#### À vous de jouer"
   ]
  },
  {
   "cell_type": "markdown",
   "metadata": {},
   "source": [
    "<span style=\"font-size: 18pt;\">☞</span> Comme vue prédémment, une ligne est erroné (t_min > t_max). On suppose que les températures ont été inversées.\n",
    "\n",
    "Corriger cette erreur."
   ]
  },
  {
   "cell_type": "markdown",
   "metadata": {},
   "source": [
    "## ̀`DELETE` - Suppression de lignes"
   ]
  },
  {
   "cell_type": "markdown",
   "metadata": {},
   "source": [
    "Supposez que nous ne soyons plus intéressés par les données météos de Paris:"
   ]
  },
  {
   "cell_type": "markdown",
   "metadata": {},
   "source": [
    "```sql\n",
    "DELETE FROM meteos\n",
    "WHERE ville = 'Paris';\n",
    "```"
   ]
  },
  {
   "cell_type": "markdown",
   "metadata": {},
   "source": [
    "On peut supprimer toutes les lignes d'une table (cela ne supprime pas la table, le vérifier):"
   ]
  },
  {
   "cell_type": "markdown",
   "metadata": {},
   "source": [
    "```sql\n",
    "DELETE FROM meteos;\n",
    "```"
   ]
  },
  {
   "cell_type": "markdown",
   "metadata": {},
   "source": [
    "## `DROP` - Suppression de tables"
   ]
  },
  {
   "cell_type": "markdown",
   "metadata": {},
   "source": [
    "```sql\n",
    "DROP TABLE meteos, villes;\n",
    "```"
   ]
  },
  {
   "cell_type": "markdown",
   "metadata": {},
   "source": [
    "## Quitter psql et supprimer la base de données"
   ]
  },
  {
   "cell_type": "markdown",
   "metadata": {},
   "source": [
    "Saisir la commande `\\q`\n",
    "\n",
    "    test_bd=>\\q"
   ]
  },
  {
   "cell_type": "markdown",
   "metadata": {},
   "source": [
    "De retour dans le shell ordinaire:\n",
    "\n",
    "    ...$ dropdb test_bd"
   ]
  }
 ],
 "metadata": {
  "kernelspec": {
   "display_name": "Python 3",
   "language": "python",
   "name": "python3"
  },
  "language_info": {
   "codemirror_mode": {
    "name": "ipython",
    "version": 3
   },
   "file_extension": ".py",
   "mimetype": "text/x-python",
   "name": "python",
   "nbconvert_exporter": "python",
   "pygments_lexer": "ipython3",
   "version": "3.7.3"
  }
 },
 "nbformat": 4,
 "nbformat_minor": 4
}
