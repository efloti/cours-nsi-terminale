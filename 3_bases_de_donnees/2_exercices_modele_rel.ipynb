{
 "cells": [
  {
   "cell_type": "markdown",
   "metadata": {},
   "source": [
    "# Exercices sur le modèle relationnel"
   ]
  },
  {
   "cell_type": "markdown",
   "metadata": {},
   "source": [
    "### Exercice 1 - annuaire"
   ]
  },
  {
   "cell_type": "markdown",
   "metadata": {},
   "source": [
    "On souhaite modéliser un annuaire téléphonique simple dans lequel chaque personne (identifiée par son nom et son prénom) est associée à son numéro de téléphone.\n",
    "\n",
    "Proposer une modélisation relationnelle de cet annuaire."
   ]
  },
  {
   "cell_type": "markdown",
   "metadata": {
    "jupyter": {
     "source_hidden": true
    }
   },
   "source": [
    "```\n",
    "annuaire(nom , prenom, !num_tel)\n",
    "```\n",
    "\n",
    "Convention: `!` ou `![]` pour une clé primaire.\n",
    "\n",
    "Contraintes de domaines: *nom, prenom et num_tel* sont des chaînes de caractères (peut-on faire un calcul avec un numéro de téléphone).\n",
    "\n",
    "Le numéro de téléphone ne peut apparaître qu'une fois dans une telle table, il est donc naturel de le choisir comme clé primaire."
   ]
  },
  {
   "cell_type": "markdown",
   "metadata": {},
   "source": [
    "### Exercice 2 - bulletin"
   ]
  },
  {
   "cell_type": "markdown",
   "metadata": {},
   "source": [
    "Réaliser la modélisation relationnelle d'un bulletin scolaire. Cette dernière doit permettre de mentionner:\n",
    "- des élèves, possédants un numéro d'étudiant alphanumérique unique,\n",
    "- un ensemble de matière fixées, mais qui ne sont pas données,\n",
    "- au plus une note sur 20, par matière et par élève.\n",
    "\n",
    "On prendra soin de préciser toutes les contraintes utilisateurs (sur les valeurs possibles de tel ou tel champs) qui ne peuvent être inscrites dans le schéma relationnel."
   ]
  },
  {
   "cell_type": "markdown",
   "metadata": {
    "jupyter": {
     "source_hidden": true
    }
   },
   "source": [
    "```\n",
    "notes(![#etudiant, #matiere], note)\n",
    "        \n",
    "eleves(nom, prenom, !id)\n",
    "\n",
    "matieres(intitule, !id)\n",
    "```\n",
    "\n",
    "Contraintes:\n",
    "- **domaines**: *matieres(id), etudiant, matiere* et *note* sont de type **numérique** (INTEGER) et *nom, prenom, intitule* et *eleves(id)* sont de type **chaîne de caractères**. Pour *note*, on peut vérifier qu'elle est dans l'intervalle $[0;20]$.\n",
    "- **clés primaires**:\n",
    "    - le couple *etudiant, matière* pour la table **notes**,\n",
    "    - *id* pour les deux autres.\n",
    "- **clé étrangère**: *etudiant* fait référence à **eleves**_(id)_ et matiere à **matieres**_(id)_.\n"
   ]
  },
  {
   "cell_type": "markdown",
   "metadata": {},
   "source": [
    "### Exercice 3 - jeu de données valide ou non"
   ]
  },
  {
   "cell_type": "markdown",
   "metadata": {},
   "source": [
    "On considère la solution proposée pour l'exercice 1. Dire si chacun des ensembles est une relation valide pour le schéma *Annuaire*:"
   ]
  },
  {
   "cell_type": "raw",
   "metadata": {},
   "source": [
    "1. {}"
   ]
  },
  {
   "cell_type": "raw",
   "metadata": {},
   "source": [
    "2. {('Titi', 'Toto', '0123456789')}"
   ]
  },
  {
   "cell_type": "raw",
   "metadata": {},
   "source": [
    "3. {('Titi', 'Toto', '0123456789'), ('Doe', 'John', '0123456789')}"
   ]
  },
  {
   "cell_type": "raw",
   "metadata": {},
   "source": [
    "4. {('Titi', 'Toto', '0123456789'), ('Titi', 'Toto', '9876543210')}"
   ]
  },
  {
   "cell_type": "raw",
   "metadata": {},
   "source": [
    "5. {('Titi', 'Toto', '0123456789'), ('John', 'Doe')}"
   ]
  },
  {
   "cell_type": "raw",
   "metadata": {},
   "source": [
    "6. {('Titi', 'Toto', 42)}"
   ]
  },
  {
   "cell_type": "markdown",
   "metadata": {
    "jupyter": {
     "source_hidden": true
    }
   },
   "source": [
    "1. **Valide**: signifie simplement que la table est vide.\n",
    "2. **Valide**: une entrée conforme aux différents champs,\n",
    "3. **Non**: le numéro de téléphone doit-être unique dans la table (clé primaire),\n",
    "4. **Oui**: personnes homonymes mais avec des numéros différents,\n",
    "5. **Non**: le numéro de téléphone est obligatoire car c'est la clé primaire\n",
    "6. **Non**: le numéro de téléphone doit être de type «chaîne de caractères» et non «entier»."
   ]
  },
  {
   "cell_type": "markdown",
   "metadata": {},
   "source": [
    "### Exercice 4 - bis"
   ]
  },
  {
   "cell_type": "markdown",
   "metadata": {},
   "source": [
    "On considère le schéma relationnel de l'exercice 2. Dire si chacun des ensembles est une relation valide pour le schéma de la base de données du bulletin de notes."
   ]
  },
  {
   "cell_type": "raw",
   "metadata": {},
   "source": [
    "1.   eleves = {}\n",
    "     matieres = {}\n",
    "     notes = {}"
   ]
  },
  {
   "cell_type": "raw",
   "metadata": {},
   "source": [
    "2.   eleves = {('Titi', 'Toto', 'AB56789')}\n",
    "     matieres = {('NSI', 0), ('Sport', 1)}\n",
    "     notes = {('AB56789', 1, 17)}"
   ]
  },
  {
   "cell_type": "raw",
   "metadata": {},
   "source": [
    "3.   eleves = {('Titi', 'Toto', 'AB56789')}\n",
    "     matieres = {('NSI', 0)}\n",
    "     notes = {('AB56789', 1, 17)}"
   ]
  },
  {
   "cell_type": "raw",
   "metadata": {},
   "source": [
    "4.   eleves = {('Titi', 'Toto', 'AB56789')}\n",
    "     matieres = {('NSI', 0)}\n",
    "     notes = {('AB56789', 0, 17), ('AB56789', 0, 18)}"
   ]
  },
  {
   "cell_type": "raw",
   "metadata": {},
   "source": [
    "5.   eleves = {('Titi', 'Toto', 'AB56789')}\n",
    "     matieres = {('NSI', 0), ('Sport', 1)}\n",
    "     notes = {('AB56789', 0, 17), ('AB56789', 1, 17)}"
   ]
  },
  {
   "cell_type": "markdown",
   "metadata": {
    "jupyter": {
     "source_hidden": true
    }
   },
   "source": [
    "1. **Valide**: les tables sont simplement vides et donc toutes les contraintes sont respectées...\n",
    "2. **Valide**: tous les tuples vérifient les contraintes...\n",
    "3. **Invalide**: **notes** contient un objet qui fait référence à une matière d'identifiant 1 or elle n'existe pas dans la table **matières** - cela viole la contrainte de clé étrangère.\n",
    "4. **Invalide**: le couple *eleve, matiere* doit être unique dans la table **notes** - contrainte de clé primaire.\n",
    "5. **Valide**: «Titi Toto\" a eu 17 en NSI et 17 en sport."
   ]
  },
  {
   "cell_type": "markdown",
   "metadata": {},
   "source": [
    "### Exercice 5 - départements"
   ]
  },
  {
   "cell_type": "markdown",
   "metadata": {},
   "source": [
    "Modéliser des informations sur les départements français. Pour chaque département on veut pouvoir stocker son nom, son code, son chef-lieu et la liste de tous les départements voisins. Attention, les codes de département sont tous des nombres, sauf la Corse du Sud et la Haute Corse qui ont les codes 2A et 2B respectivement. Les départements d'Outre-Mer ont un code sur trois chiffres (de 971 à 976). Proposer une contrainte utilisateur permettant d'éviter la redondance d'information dans la liste des voisins."
   ]
  },
  {
   "cell_type": "markdown",
   "metadata": {
    "jupyter": {
     "source_hidden": true
    }
   },
   "source": [
    "```\n",
    "departements(nom, !code, chef_lieu)\n",
    "\n",
    "voisins(![#dep1, #dep2])\n",
    "```\n",
    "\n",
    "Contraintes:\n",
    "- domaines: tous les champs sont des chaînes de caractères d'au plus 5 caractères alphanumérique\n",
    "- clé primaire: le *code* pour **départements** et le couple de codes *dep1, dep2* pour **voisins**,\n",
    "- clé étrangère: *dep1* et *dep2* font tous deux références à **departements**_(code)_\n",
    "- éviter la redondance dans **voisins**: on peut exiger que `dep1 < dep2` (ordre lexicographique) de façon à éviter qu'on puisse avoir (par exemple) 971, 971 ou encore *2A, 2B* et aussi *2B, 2A*."
   ]
  },
  {
   "cell_type": "markdown",
   "metadata": {},
   "source": [
    "### Exercice 6 - réseau de bus"
   ]
  },
  {
   "cell_type": "markdown",
   "metadata": {},
   "source": [
    "Proposer une modélisation pour un réseau de bus. Cette dernière doit être suffisamment riche pour permettre de générer, pour chaque arrêt de bus du réseau, une fiche horaire avec tous les horaires de passage de toutes les lignes de bus qui desservent l'arrêt.\n",
    "\n",
    "*Indication*: ici, plus qu'une simple traduction du français vers le modèle relationnel, on essayera de déterminer dans un premier temps quelles informations sont pertinentes et comment les représenter. On pourra ensuite procéder à la modélisation sous forme de relations."
   ]
  },
  {
   "cell_type": "markdown",
   "metadata": {
    "jupyter": {
     "source_hidden": true
    }
   },
   "source": [
    "Voici une proposition (car on peut trouver d'autres modèles)\n",
    "```\n",
    "arrets(!intitule, couvert, ...)\n",
    "\n",
    "connexions(!id, #arret1, #arret2, duree)\n",
    "\n",
    "bus(!id, nb_passagers, ...)\n",
    "\n",
    "lignes(!id, #depart, #arrive) -- depart et arrive font références à arrets(intitule)\n",
    "\n",
    "attributions(!id, #bus, #ligne, heure_depart)\n",
    "```\n",
    "\n",
    "Étant donné un arrêt, en exploitant conjointement **lignes** et **connexions**, il est possible de trouver les *trajets* (suite d'arrêts) qui mènent à l'arrêt donné, ainsi que leur durée et les les lignes correspondantes.\n",
    "\n",
    "Ensuite, en utilisant les lignes trouvées, on peut trouver tous les bus qui les parcourent avec **attributions** ainsi que leurs horaires de départ et en déduire grâce aux informations de durée de trajet l'heure à laquelle ils passeront à l'arrêt donné au tout début.\n",
    "\n",
    "En collectant ces horaires, on peut réaliser la fiche demandée."
   ]
  },
  {
   "cell_type": "markdown",
   "metadata": {},
   "source": [
    "### Exercice 7 - Schéma relationnel abstrait"
   ]
  },
  {
   "cell_type": "markdown",
   "metadata": {},
   "source": [
    "On considère deux relations:\n",
    "\n",
    "        R(!a Int, b Int, c Int) \n",
    "                  et \n",
    "        S(![#a Int, e Int])    "
   ]
  },
  {
   "cell_type": "markdown",
   "metadata": {},
   "source": [
    "`!` ou `![]` indique une clé primaire et `#` une clé étrangère qui fait référence au champ de même nom dans l'autre table. Dire si les affirmations suivantes sont vraies ou fausses, en justifiant:\n",
    "1. Les `a` de `R` sont tous deux à deux distincts.\n",
    "2. Les `b` de `R` sont tous deux à deux distincts.\n",
    "3. Les `a` de `S` sont tous deux à deux distincts.\n",
    "4. Les `e` de `S` sont tous deux à deux distincts.\n",
    "5. `S` peut être vide alors que `R` est non vide.\n",
    "6. `R` peut être vide alors que `S` est non vide."
   ]
  },
  {
   "cell_type": "markdown",
   "metadata": {
    "jupyter": {
     "source_hidden": true
    }
   },
   "source": [
    "1. **vraie** car `a` est la clé primaire de `R`.\n",
    "2. **faux**: il n'y a aucune contrainte de cette sorte sur `b` de `R`,\n",
    "3. **faux**: `a` de `S` est une clé étrangère qui fait clairement référence à `a` de `R` et il n'y a pas de contrainte d'unicité sur une clé étrangère. Ainsi `(a1, e1)` et `(a1, e2)` sont deux couples valides (si `e1!=e2`) car distincts: c'est le couple qui doit-être unique!\n",
    "4. **faux**: voir explication du 3.\n",
    "5. **vraie**: voir plus loin,\n",
    "6. **faux**: la clé étrangère `a` de `S` fait référence à celle de `R` si `(a1, e1)` est dans `S` alors `R` doit contenir un objet de la forme `(a1, ...)`."
   ]
  }
 ],
 "metadata": {
  "kernelspec": {
   "display_name": "Python 3",
   "language": "python",
   "name": "python3"
  },
  "language_info": {
   "codemirror_mode": {
    "name": "ipython",
    "version": 3
   },
   "file_extension": ".py",
   "mimetype": "text/x-python",
   "name": "python",
   "nbconvert_exporter": "python",
   "pygments_lexer": "ipython3",
   "version": "3.7.3"
  }
 },
 "nbformat": 4,
 "nbformat_minor": 4
}
