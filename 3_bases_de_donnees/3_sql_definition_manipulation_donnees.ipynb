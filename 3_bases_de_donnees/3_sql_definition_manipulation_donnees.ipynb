{
 "cells": [
  {
   "cell_type": "markdown",
   "metadata": {},
   "source": [
    "# Base de données relationnelles - DDL et DML"
   ]
  },
  {
   "cell_type": "markdown",
   "metadata": {},
   "source": [
    "Nous abordons les parties du **langage SQL** (*Structured Query Langage*) qui permettent de spécifiér le **schéma relationnel** d'une base de données; il y en a deux:\n",
    "- Une pour la **définition des données** abrégé en *DDL* pour *Data Definition Language*\n",
    "    \n",
    "    - *mots clés*: `CREATE TABLE`, `DROP TABLE`, `ALTER TABLE`.\n",
    "\n",
    "- L'autre pour leur **manipulation** abrégé en *DML* pour *Data Manipulation Language*.\n",
    "    \n",
    "    - *mots clés*: `INSERT INTO`, `UPDATE` et `DELETE`."
   ]
  },
  {
   "cell_type": "markdown",
   "metadata": {},
   "source": [
    "**Utiliser la table des matières pour «naviguer» dans le document**"
   ]
  },
  {
   "cell_type": "markdown",
   "metadata": {
    "toc-hr-collapsed": true,
    "toc-nb-collapsed": true
   },
   "source": [
    "## Création de tables"
   ]
  },
  {
   "cell_type": "markdown",
   "metadata": {},
   "source": [
    "La syntaxe SQL pour la création d'une table est de la forme:\n",
    "\n",
    "```sql\n",
    "CREATE TABLE nom_table (\n",
    "    nom_champ1  domaine  [contraintes],\n",
    "    nom_champ2  domaine  [contraintes],\n",
    "    ...\n",
    "    [contrainte1,\n",
    "    contrainte2,\n",
    "    ...]\n",
    ");\n",
    "```\n",
    "\n",
    "Les crochets `[]` indiquent une partie optionnelle. Attention aux `,` qui terminent chaque ligne **sauf** la dernière."
   ]
  },
  {
   "cell_type": "markdown",
   "metadata": {},
   "source": [
    "Une contrainte **sur un seul attribut** (champ) peut être indiqué à la suite du domaine. Par exemple:\n",
    "\n",
    "        ...,\n",
    "        nom VARCHAR(20) NOT NULL,\n",
    "        ...\n",
    "        \n",
    "indique que l'attribut `nom` est une chaîne de caractère de taille max 20 caractères qui possède une contrainte de non nullité qui signifie qu'il n'est pas possible d'avoir une ligne (entité) dont le nom ne soit pas précisé."
   ]
  },
  {
   "cell_type": "markdown",
   "metadata": {},
   "source": [
    "Lorsque une contrainte porte sur **plusieurs attributs**, il est possible de la placer après toutes les déclarations d'attributs; par exemple:\n",
    "\n",
    "        CREATE TABLE personnes(\n",
    "            id ...,\n",
    "            nom ...   ,\n",
    "            prenom ...,\n",
    "            maman ...,\n",
    "            ...,\n",
    "            PRIMARY KEY id,\n",
    "            UNIQUE (nom, prenom),\n",
    "            FOREIGN KEY maman REFERENCES personnes (id),\n",
    "            ...\n",
    "        );"
   ]
  },
  {
   "cell_type": "markdown",
   "metadata": {},
   "source": [
    "La contrainte d'unicité - `UNIQUE` signifie que deux personnes ne peuvent être «homonyme» dans cette table.\n",
    "\n",
    "L'attribut `id` sert de *clé primaire* (il ne peut y en avoir qu'une par table), et `maman` est une *clé étrangère* qui fait référence à une personne de cette table. Notez que pour un clé étrangère, il est obligatoire de citer la table à laquelle elle fait référence.\n",
    "\n",
    "Bien sûr, comme ces clés portent sur un seul attribut, on peut les mettres sur la même ligne que l'attribut visé:\n",
    "\n",
    "        CREATE TABLE personnes(\n",
    "            id ... PRIMARY KEY,\n",
    "            nom ...   ,\n",
    "            prenom ...,\n",
    "            maman ... REFERENCES personnes (id),\n",
    "            ...,\n",
    "            UNIQUE (nom, prenom),\n",
    "            ...\n",
    "        );\n",
    "\n",
    "ce qui allège un peu."
   ]
  },
  {
   "cell_type": "markdown",
   "metadata": {},
   "source": [
    "### Suppression d'une table - \\[*drop table*\\]"
   ]
  },
  {
   "cell_type": "markdown",
   "metadata": {},
   "source": [
    "C'est simplissime ...\n",
    "```sql\n",
    "DROP TABLE nom_table;\n",
    "```\n",
    "... mais cela peut échouer. En bref, si la table qu'on souhaite supprimée est référencée par les lignes d'une autre table (clé étrangère vers la table à supprimer), l'opération échoue. On peut forcer la suppression en cascade:\n",
    "\n",
    "```sql\n",
    "DROP TABLE nom_table CASCADE;\n",
    "```\n",
    "ce qui a pour effet de supprimer la ou les tables qui référence celle qu'on souhaite supprimer."
   ]
  },
  {
   "cell_type": "markdown",
   "metadata": {},
   "source": [
    "[En savoir plus...](https://docs.postgresql.fr/13/ddl-depend.html)"
   ]
  },
  {
   "cell_type": "markdown",
   "metadata": {},
   "source": [
    "### Modification d'une table - \\[alter table\\]\n",
    "\n",
    "Nous ne détaillerons pas cette partie du langage. Voici un simple exemple:\n",
    "\n",
    "```sql\n",
    "ALTER TABLE membres ADD COLUMN email VARCHAR(50);\n",
    "```\n",
    "\n",
    "Ajoute le champ `email` à la table `membres`."
   ]
  },
  {
   "cell_type": "markdown",
   "metadata": {},
   "source": [
    "[En savoir plus...](https://docs.postgresql.fr/13/ddl-alter.html)"
   ]
  },
  {
   "cell_type": "markdown",
   "metadata": {
    "toc-hr-collapsed": true,
    "toc-nb-collapsed": true
   },
   "source": [
    "## Domaines de données les plus courants"
   ]
  },
  {
   "cell_type": "markdown",
   "metadata": {},
   "source": [
    "La normes SQL prévoit les **domaines** (ou types) suivants:"
   ]
  },
  {
   "cell_type": "markdown",
   "metadata": {},
   "source": [
    "### Numériques"
   ]
  },
  {
   "cell_type": "markdown",
   "metadata": {},
   "source": [
    "**Entiers** (signés): \n",
    "- `INTEGER` alias `INT` (codé sur 4 octets), \n",
    "- mais aussi `SMALLINT` (2 octets) et `BIGINT` (8 octets)."
   ]
  },
  {
   "cell_type": "markdown",
   "metadata": {},
   "source": [
    "**Décimaux**:\n",
    "- **exactes**: `DECIMAL(f, d)` alias `NUMERIC(f, d)`.\n",
    "    - si `f` et `d` ne sont pas précisés - `DECIMAL` ou `NUMERIC` - la précision est maximale et dépend de la machine utilisée,\n",
    "    - `f` désigne le nombre de chiffres significatifs et `d` le nombre de chiffres de la partie décimale.\n",
    "      \n",
    "      *ex:* pour représenter 543.21 on a besoin de 5 chiffres significatifs et de 2 pour la partie décimale - `DECIMAL(5,2)`.\n",
    "- **approchés**: `REAL` qui représente un flottant codé sur 4 octets."
   ]
  },
  {
   "cell_type": "markdown",
   "metadata": {},
   "source": [
    "[Pour en savoir plus (postgresql)](https://docs.postgresql.fr/13/datatype-numeric.html)"
   ]
  },
  {
   "cell_type": "markdown",
   "metadata": {},
   "source": [
    "### Chaînes de caractères"
   ]
  },
  {
   "cell_type": "markdown",
   "metadata": {},
   "source": [
    "- `CHAR(nb_car)`: chaîne de **taille fixe** précisé par `nb_car`,\n",
    "- `VARCHAR(nb_car_max)`: chaîne de **taille variable** mais dont le nombre maximum de caractères est précisé,\n",
    "- `TEXT`: chaîne de longueur arbitraire."
   ]
  },
  {
   "cell_type": "markdown",
   "metadata": {},
   "source": [
    "*Note*: si une chaîne dépasse la taille maximum, elle est souvent *tronquée* sans pour autant produire d'erreur."
   ]
  },
  {
   "cell_type": "markdown",
   "metadata": {},
   "source": [
    "[Pour en savoir plus (postgresql)](https://docs.postgresql.fr/13/datatype-character.html)"
   ]
  },
  {
   "cell_type": "markdown",
   "metadata": {},
   "source": [
    "### Dates/heures"
   ]
  },
  {
   "cell_type": "markdown",
   "metadata": {},
   "source": [
    "- `DATE`: représente une **date** (jour-mois-année). \n",
    "  \n",
    "  Par exemple, pour spécifier *le samedi 5 décembre 2020*, on peut écrire `'2020-12-05'` (format ISO - *year-month-day*),\n",
    "- `TIME`: réprésente un **horaire** *sans précision d'un fuseau horaire* (*time zone*). \n",
    "  \n",
    "  Par exemple `'08:37:42.348` (format ISO) signifie 8h37 et 42 secondes et 348 millièmes de secondes. Bien sûr, on peut être moins précis: `'08:37'`,\n",
    "- `TIMESTAMP`: réprésente un **horodatage** (date + horaire) *sans précision d'un fuseau horaire*. \n",
    "\n",
    "  Par exemple `'2020-12-05 08:37'`."
   ]
  },
  {
   "cell_type": "markdown",
   "metadata": {},
   "source": [
    "Il est possible de préciser un horaire ou un horodatage avec un **fuseau horaire** en suffixant le type avec `TZ` (pour *time zone*). Par exemple `'2020-12-05 08:37+01'` ou `'2020-12-05 08:37 Europe/Paris'` désigne un horodatage valable pour la France à l'heure d'hivers..."
   ]
  },
  {
   "cell_type": "markdown",
   "metadata": {},
   "source": [
    "Il existe aussi des **valeurs spéciales** comme `'now'` (TIMESTAMP), `'today'`, `'tomorrow'`, `'yesterday'` (DATE) etc. qui se rapportent au moment où la transaction SQL est réalisée (INSERT INTO ...)."
   ]
  },
  {
   "cell_type": "markdown",
   "metadata": {},
   "source": [
    "[Pour en savoir plus (postgresql)](https://docs.postgresql.fr/13/datatype-datetime.html)"
   ]
  },
  {
   "cell_type": "markdown",
   "metadata": {},
   "source": [
    "### Autres types\n",
    "\n",
    "Il existe bien d'autres types mais *ils dépendent souvent du SGBDR utilisé*. \n",
    "\n",
    "Pour **Postgresql**, citons:\n",
    "- `SERIAL`: type numérique entier qui est automatiquement incrémenté lors de l'insertion d'une entité dans une table; s'utilise fréquemment pour une clé primaire numérique,\n",
    "- le type booléen: `BOOLEAN` avec ces valeurs `true/false` ou `on/off` ou `1/0` ...\n",
    "- Les types «géométriques»: `POINT`, `LINE`, `POLYGON`, `PATH` etc.\n",
    "- la possibilité de créer ses propres types - `CREATE TYPE nom_type AS (...);`"
   ]
  },
  {
   "cell_type": "markdown",
   "metadata": {},
   "source": [
    "[Pour en savoir plus (postgresql)](https://docs.postgresql.fr/13/datatype.html)"
   ]
  },
  {
   "cell_type": "markdown",
   "metadata": {
    "toc-hr-collapsed": true,
    "toc-nb-collapsed": true
   },
   "source": [
    "## Spécification des contraintes d'intégrités"
   ]
  },
  {
   "cell_type": "markdown",
   "metadata": {},
   "source": [
    "[*Vue d'ensemble*](https://docs.postgresql.fr/13/ddl-constraints.html)"
   ]
  },
  {
   "cell_type": "markdown",
   "metadata": {},
   "source": [
    "### Clé primaire - \\[*primary key*\\]"
   ]
  },
  {
   "cell_type": "markdown",
   "metadata": {},
   "source": [
    "Si elle porte sur un seul attribut, il suffit d'écrire `PRIMARY KEY` dans la zone [options] de la ligne,\n",
    "\n",
    "Sinon, on la place sur sa ligne propre *après les déclarations d'attributs*: `PRIMARY KEY (attr1, attr2, ...)`"
   ]
  },
  {
   "cell_type": "markdown",
   "metadata": {},
   "source": [
    "[En savoir plus...](https://docs.postgresql.fr/13/ddl-constraints.html#DDL-CONSTRAINTS-PRIMARY-KEYS)"
   ]
  },
  {
   "cell_type": "markdown",
   "metadata": {},
   "source": [
    "### Clé étrangère - \\[*foreign key*\\]"
   ]
  },
  {
   "cell_type": "markdown",
   "metadata": {},
   "source": [
    "Si elle porte sur un seul attribut, il suffit d'écrire `REFERENCES table_visé (nom_attr)`\n",
    "\n",
    "Si elle porte sur plusieurs attributs (moins fréquent), on place sa déclaration après celle des attributs:\n",
    "\n",
    "    FOREIGN KEY (attr1, attr2, ...) REFERENCES table_visé (attr1', attr2',...)\n",
    "\n",
    "Le «prime» de `attr'` signifie «le nom de l'attribut dans la `table_visé`» (qui peut être identique ou différent de celui de la table courante)."
   ]
  },
  {
   "cell_type": "markdown",
   "metadata": {},
   "source": [
    "[En savoir plus...](https://docs.postgresql.fr/13/ddl-constraints.html#DDL-CONSTRAINTS-FK)"
   ]
  },
  {
   "cell_type": "markdown",
   "metadata": {},
   "source": [
    "### de Vérification - \\[*check*\\]"
   ]
  },
  {
   "cell_type": "markdown",
   "metadata": {},
   "source": [
    "Il est possible de s'assurer que la valeur d'un attribut respecte certaines conditions.\n",
    "\n",
    "Par exemple, supposons avoir un attribut *note* de type `DECIMAL(3,1)`. Rien ne garantie que la note soit entre 0 et 20. Pour s'assurer que c'est bien le cas, on pourrait utiliser la contrainte de vérification:\n",
    "\n",
    "    CHECK (note >= 0 AND note <= 20)"
   ]
  },
  {
   "cell_type": "markdown",
   "metadata": {},
   "source": [
    "[En savoir plus...](https://docs.postgresql.fr/13/ddl-constraints.html#DDL-CONSTRAINTS-CHECK-CONSTRAINTS)"
   ]
  },
  {
   "cell_type": "markdown",
   "metadata": {},
   "source": [
    "### de non nullité - \\[*not null*\\]"
   ]
  },
  {
   "cell_type": "markdown",
   "metadata": {},
   "source": [
    "Par défaut, un attribut peut ne recevoir «aucune valeur» ce qui correspond à la valeur spéciale `NULL` en SQL.\n",
    "\n",
    "Pour préciser qu'un attribut DOIT être renseigné, on peut utiliser la contrainte `NOT NULL` qu'on place à la suite du type de l'attribut."
   ]
  },
  {
   "cell_type": "markdown",
   "metadata": {},
   "source": [
    "[En savoir plus...](https://docs.postgresql.fr/13/ddl-constraints.html#id-1.5.4.6.6)"
   ]
  },
  {
   "cell_type": "markdown",
   "metadata": {},
   "source": [
    "### d'unicité - \\[*unique*\\]\n",
    "\n",
    "Il peut parfois être souhaitable d'imposer qu'un attribut ou une combinaison d'attributs soit unique dans une table. Ainsi, deux entités distinctes ne peuvent pas avoir une même valeur pour un attribut `UNIQUE`.\n",
    "\n",
    "Par exemple, si l'attribut `no_tel` ne doit pas pouvoir prendre deux fois la même valeur dans une table:\n",
    "\n",
    "        ...\n",
    "        no_tel CHAR(10) NOT NULL UNIQUE,\n",
    "        ...\n",
    "\n",
    "Une clé primaire vérifie automatiquement cette contrainte donc ne l'utiliser que pour un attribut ou une combinaison d'attributs qui n'ont pas la contrainte clé primaire.\n",
    "\n",
    "Pour une combinaison d'attributs, indiquer la contrainte sur sa propore ligne:\n",
    "\n",
    "        ...\n",
    "        UNIQUE (nom, prenom)\n",
    "        ..."
   ]
  },
  {
   "cell_type": "markdown",
   "metadata": {},
   "source": [
    "[En savoir plus...](https://docs.postgresql.fr/13/ddl-constraints.html#DDL-CONSTRAINTS-UNIQUE-CONSTRAINTS)"
   ]
  },
  {
   "cell_type": "markdown",
   "metadata": {
    "toc-hr-collapsed": true,
    "toc-nb-collapsed": true
   },
   "source": [
    "## Manipulation de données"
   ]
  },
  {
   "cell_type": "markdown",
   "metadata": {},
   "source": [
    "### [Insertion](https://docs.postgresql.fr/13/dml-insert.html) - \\[*insert into ... values ...*\\]"
   ]
  },
  {
   "cell_type": "markdown",
   "metadata": {},
   "source": [
    "Pour insérer des données, il y a deux syntaxes (préférer la seconde pour l'écriture d'un script sql):\n",
    "\n",
    "- **Implicite**: les valeurs doivent-être indiquées dans le même ordre que celui de la déclaration des attributs\n",
    "\n",
    "```sql\n",
    "INSERT INTO nom_table VALUES (v_attr1, v_attr2, ...);\n",
    "```\n",
    "\n",
    "- **Explicite**: les attributs visés (on peut ne pas en préciser certains s'il peuvent être laissés vides ou s'ils possède une valeur par défaut) sont précisés et les valeurs données dans le même ordre.\n",
    "\n",
    "```sql\n",
    "INSERT INTO nom_table (nom_attr2, nom_attr5, ...) VALUES (v_attr2, v_attr5, ...);\n",
    "```"
   ]
  },
  {
   "cell_type": "markdown",
   "metadata": {},
   "source": [
    "Il est possible d'insérer plusieurs entités en séparant les n-uplets de valeurs avec une `,`."
   ]
  },
  {
   "cell_type": "markdown",
   "metadata": {},
   "source": [
    "Noter que si vous utilisez un attribut de type `SERIAL` (entier auto incrémenté) comme clé primaire, il faut utiliser la syntaxe explicite sans mentionner cet attribut (puisqu'il est calculé automatiquement)."
   ]
  },
  {
   "cell_type": "markdown",
   "metadata": {},
   "source": [
    "[En savoir plus...](https://docs.postgresql.fr/13/dml-insert.html)"
   ]
  },
  {
   "cell_type": "markdown",
   "metadata": {},
   "source": [
    "### [Actualisation](https://docs.postgresql.fr/13/dml-insert.html) - \\[*update ... set ...*\\]"
   ]
  },
  {
   "cell_type": "markdown",
   "metadata": {},
   "source": [
    "Donnons un simple exemple: on veut diminuer un attribut `prix` de 10% d'une table **produits**:\n",
    "\n",
    "```sql\n",
    "UPDATE produits SET prix = prix * 0.9;\n",
    "```"
   ]
  },
  {
   "cell_type": "markdown",
   "metadata": {},
   "source": [
    "Il est possible d'ajouter une condition pour n'appliquer ce changement qu'à certaines lignes; par exemple:\n",
    "\n",
    "```sql\n",
    "UPDATE produits SET prix = prix * 0.9 where en_promo IS 'true';\n",
    "```\n",
    "en supposant qu'il y ait un attribut booléen `en_promo`."
   ]
  },
  {
   "cell_type": "markdown",
   "metadata": {},
   "source": [
    "[En savoir plus...](https://docs.postgresql.fr/13/dml-update.html)"
   ]
  },
  {
   "cell_type": "markdown",
   "metadata": {},
   "source": [
    "### Suppression - \\[*delete from ...*\\]"
   ]
  },
  {
   "cell_type": "markdown",
   "metadata": {},
   "source": [
    "Deux exemples:\n",
    "- suppression de toutes les lignes:\n",
    "  ```sql\n",
    "  DELETE FROM produits;\n",
    "  ```\n",
    "- suppression de certaines lignes:\n",
    "  ```sql\n",
    "  DELETE FROM produits WHERE prix < 5;\n",
    "  ```"
   ]
  },
  {
   "cell_type": "markdown",
   "metadata": {},
   "source": [
    "*Note*: la suppression peut échouer si la ligne qu'on souhaite supprimée *est référencée* par une ligne d'une autre table (contrainte de clé étrangère). Dans ce cas, il faut commencer par supprimer toutes les lignes de toutes les tables qui références la ligne visée..."
   ]
  },
  {
   "cell_type": "markdown",
   "metadata": {},
   "source": [
    "[En savoir plus...](https://docs.postgresql.fr/13/dml-delete.html)"
   ]
  }
 ],
 "metadata": {
  "kernelspec": {
   "display_name": "Python 3",
   "language": "python",
   "name": "python3"
  },
  "language_info": {
   "codemirror_mode": {
    "name": "ipython",
    "version": 3
   },
   "file_extension": ".py",
   "mimetype": "text/x-python",
   "name": "python",
   "nbconvert_exporter": "python",
   "pygments_lexer": "ipython3",
   "version": "3.7.3"
  }
 },
 "nbformat": 4,
 "nbformat_minor": 4
}
