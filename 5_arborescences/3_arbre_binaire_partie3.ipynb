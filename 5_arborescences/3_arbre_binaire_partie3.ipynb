{
 "cells": [
  {
   "cell_type": "markdown",
   "metadata": {},
   "source": [
    "Avant toute chose, récupérer le code des TP précédents en exécutant cette cellule cachée.\n",
    "\n",
    "> Attention à bien copier le dossier code et son contenu au même endroit que ce notebook."
   ]
  },
  {
   "cell_type": "code",
   "execution_count": null,
   "metadata": {
    "jupyter": {
     "source_hidden": true
    }
   },
   "outputs": [],
   "source": [
    "# «machinerie» de pytest\n",
    "import pytest\n",
    "import ipytest\n",
    "ipytest.autoconfig()\n",
    "\n",
    "# ajustement du sys.path\n",
    "import sys, os\n",
    "if not sys.path[0].endswith(\"code\"): # pour éviter de re-modifier sys.path\n",
    "    # sys.path est une liste contennant tous les dossiers où python\n",
    "    # recherche les modules/paquets chargés avec import.\n",
    "    # le premier d'entre eux est le répertoire courant,\n",
    "    # modifions le de façon à ce qu'il pointe sur le dossier «code» du\n",
    "    # répertoire courant.\n",
    "    sys.path[0] = os.path.join(sys.path[0], \"code\")\n",
    "\n",
    "from noeud_bin_p2 import NoeudBin"
   ]
  },
  {
   "cell_type": "markdown",
   "metadata": {},
   "source": [
    "puis, utiliser la table des matières."
   ]
  },
  {
   "cell_type": "markdown",
   "metadata": {
    "toc-hr-collapsed": true,
    "toc-nb-collapsed": true
   },
   "source": [
    "# Évaluation d'un arbre «arithmétique»"
   ]
  },
  {
   "cell_type": "markdown",
   "metadata": {},
   "source": [
    "Nous reprenons l'arbre déjà donné plus tôt."
   ]
  },
  {
   "attachments": {
    "2ce44078-3f6f-41a1-ab08-d9cd1e19aa96.png": {
     "image/png": "[encoded data removed]"
    }
   },
   "cell_type": "markdown",
   "metadata": {},
   "source": [
    "<p style=\"text-align: center;\">\n",
    "<img src=\"attachment:2ce44078-3f6f-41a1-ab08-d9cd1e19aa96.png\" width=\"130px;\"/>\n",
    "</p>"
   ]
  },
  {
   "cell_type": "markdown",
   "metadata": {},
   "source": [
    "**Question1**: Combien vaut l'expression qu'il représente si on prend $x=5$, $y=3$ et $z=2$ ? ____"
   ]
  },
  {
   "cell_type": "markdown",
   "metadata": {
    "jupyter": {
     "source_hidden": true
    }
   },
   "source": [
    "18.5"
   ]
  },
  {
   "cell_type": "markdown",
   "metadata": {},
   "source": [
    "Voici pour rappel comment le représenter à l'aide de «noeuds binaires»"
   ]
  },
  {
   "cell_type": "code",
   "execution_count": null,
   "metadata": {},
   "outputs": [],
   "source": [
    "@pytest.fixture()\n",
    "def expr1():\n",
    "    N = NoeudBin # alias\n",
    "    return N(\"+\",\n",
    "        N(\"-\",\n",
    "            N(5),\n",
    "            N(\"*\", N(2), N(3)),\n",
    "        ),\n",
    "        N(\"*\",\n",
    "            N(\"+\",\n",
    "                N(5),\n",
    "                N(\"/\", N(3), N(2)),\n",
    "            ),\n",
    "            N(3),\n",
    "        ),\n",
    "    )"
   ]
  },
  {
   "cell_type": "markdown",
   "metadata": {},
   "source": [
    "**Question 2**: Dessiner un autre arbre arithmétique et créer une «fixture» pour le représenter."
   ]
  },
  {
   "cell_type": "code",
   "execution_count": null,
   "metadata": {},
   "outputs": [],
   "source": [
    "# Par exemple, x^2-(5/3)x+3 avec x=6\n",
    "# conseil: dessiner l'arbre avant de le coder!\n",
    "@pytest.fixture()\n",
    "def expr2():\n",
    "    N = NoeudBin # alias\n",
    "    pass"
   ]
  },
  {
   "cell_type": "code",
   "execution_count": null,
   "metadata": {
    "jupyter": {
     "source_hidden": true
    }
   },
   "outputs": [],
   "source": [
    "# Par exemple, pour x^2-(5/3)x+3 avec x=6\n",
    "@pytest.fixture()\n",
    "def expr2():\n",
    "    N = NoeudBin # alias\n",
    "    # il y a plusieurs solutions...\n",
    "    return N(\"+\",\n",
    "              N(\"-\",\n",
    "                 N(\"**\", N(6), N(2)), # ou N(\"*\", N(6), N(6))\n",
    "                 N(\"*\", \n",
    "                   N(\"/\", N(5), N(3)),\n",
    "                   N(6),\n",
    "                  ),\n",
    "               ),\n",
    "              N(3),\n",
    "            )"
   ]
  },
  {
   "cell_type": "markdown",
   "metadata": {},
   "source": [
    "On souhaite implémenter une fonction `evaluer(expr)` qui renvoie la valeur d'un arbre binaire `expr` représentant une expression arithmétique. On supposera que:\n",
    "1. ses noeuds internes sont doubles et contiennent un opérateur arithmétique\n",
    "   sous la forme d'une chaîne parmi `'+'`, `'-'`, `'*'`, `'/'`, `'**'`.\n",
    "2. les noeuds externes contiennent des nombres.\n"
   ]
  },
  {
   "cell_type": "markdown",
   "metadata": {},
   "source": [
    "**Question 3**: Écrire un scénario de test pour les deux expressions précédentes."
   ]
  },
  {
   "cell_type": "code",
   "execution_count": null,
   "metadata": {},
   "outputs": [],
   "source": [
    "%%run_pytest[clean]\n",
    "\n",
    "def test_evaluer(expr1, expr2):\n",
    "    pass"
   ]
  },
  {
   "cell_type": "code",
   "execution_count": null,
   "metadata": {
    "jupyter": {
     "source_hidden": true
    }
   },
   "outputs": [],
   "source": [
    "%%run_pytest[clean]\n",
    "\n",
    "def test_evaluer(expr1, expr2):\n",
    "    # méfiance dans les tests d'égalités avec les flottants... (ex: 0.1+0.1+0.1==0.3 donne False!)\n",
    "    delta = 1e-10 # précision\n",
    "    assert abs(evaluer(expr1) - 18.5) < delta \n",
    "    assert abs(evaluer(expr2) - 29.0) < delta"
   ]
  },
  {
   "cell_type": "markdown",
   "metadata": {},
   "source": [
    "**Question 4**: Implémenter la fonction `evaluer`."
   ]
  },
  {
   "cell_type": "code",
   "execution_count": null,
   "metadata": {},
   "outputs": [],
   "source": [
    "def evaluer(expr):\n",
    "    \"\"\"On suppose que expr est le noeud racine d'un arbre binaire «arithmétique».\n",
    "    C'est-à-dire que:\n",
    "    1. ses noeuds internes sont doubles et contiennent un opérateur arithmétique\n",
    "       sous la forme d'une chaîne parmi \"+\", \"-\", \"*\", \"/\", \"**\".\n",
    "    2. les noeuds externes contiennent des nombres.\n",
    "    On renvoie alors la valeur de l'expression arithmétique qu'il représente.\n",
    "    \"\"\"\n",
    "    pass"
   ]
  },
  {
   "cell_type": "code",
   "execution_count": null,
   "metadata": {
    "jupyter": {
     "source_hidden": true
    }
   },
   "outputs": [],
   "source": [
    "def evaluer(expr):\n",
    "    \"\"\"On suppose que expr est le noeud racine d'un arbre binaire «arithmétique».\n",
    "    C'est-à-dire que:\n",
    "    1. ses noeuds internes sont doubles et contiennent un opérateur arithmétique\n",
    "       sous la forme d'une chaîne parmi \"*\", \"+\", \"-\",\n",
    "    2. les noeuds externes contiennent des nombres.\n",
    "    On renvoie alors la valeur de l'expression arithmétique qu'il représente.\n",
    "    \"\"\"\n",
    "    if expr.est_feuille():\n",
    "        return expr.valeur\n",
    "    op = expr.valeur\n",
    "    a = evaluer(expr.gauche)\n",
    "    b = evaluer(expr.droit)\n",
    "    if op == \"+\":\n",
    "        return a + b\n",
    "    if op == \"-\":\n",
    "        return a - b\n",
    "    if op == \"*\":\n",
    "        return a * b\n",
    "    if op == \"/\":\n",
    "        return a / b\n",
    "    if op == \"**\":\n",
    "        return a ** b"
   ]
  },
  {
   "cell_type": "markdown",
   "metadata": {
    "toc-hr-collapsed": true,
    "toc-nb-collapsed": true
   },
   "source": [
    "# Arbre binaire avec pointeur parent"
   ]
  },
  {
   "cell_type": "markdown",
   "metadata": {},
   "source": [
    "Bien souvent, pour des raisons d'efficacité entre autres, on modèlise les noeuds d'un arbre binaire en leur ajoutant un attribut **parent** de façon à les faire «pointer» vers le noeud immédiatement supérieur (sauf pour la racine qui pointe vers `None`)."
   ]
  },
  {
   "cell_type": "markdown",
   "metadata": {},
   "source": [
    "Ainsi, la représentation de l'arbre\n",
    "\n",
    "               A\n",
    "              / \\\n",
    "             B   C \n",
    "                / \\\n",
    "               D   E\n",
    "\n",
    "peut être schématisée ainsi:"
   ]
  },
  {
   "attachments": {
    "ab02ab09-641e-477e-821f-d0e885baa1c5.png": {
     "image/png": "[encoded data removed]"
    }
   },
   "cell_type": "markdown",
   "metadata": {},
   "source": [
    "<p style=\"text-align: center;\">\n",
    "<img src=\"attachment:ab02ab09-641e-477e-821f-d0e885baa1c5.png\" width=\"400px;\"/>\n",
    "</p>"
   ]
  },
  {
   "cell_type": "markdown",
   "metadata": {},
   "source": [
    "Pour représenter les noeuds, on peut - *heureusement* - récupérer le travail déjà accompli pour `NoeudBin` et définir une nouvelle classe `NoeudBin2` sur la base de la première:"
   ]
  },
  {
   "cell_type": "code",
   "execution_count": null,
   "metadata": {},
   "outputs": [],
   "source": [
    "class NoeudBin2(NoeudBin):\n",
    "    def __init__(self, valeur, gauche=None, droit=None, parent=None):\n",
    "        # appel du «constructeur» de NoeudBin\n",
    "        super().__init__(valeur, gauche, droit)\n",
    "        self.parent = parent\n",
    "        # On fait pointer les enfants vers ce noeud\n",
    "        if isinstance(self.gauche, NoeudBin2):\n",
    "            self.gauche.parent = self\n",
    "        if isinstance(self.droit, NoeudBin2):\n",
    "            self.droit.parent = self"
   ]
  },
  {
   "cell_type": "markdown",
   "metadata": {},
   "source": [
    "L'intérêt est qu'une instance de `NoeudBin2` dispose de toutes les méthodes de `NoeudBin`: inutile de les réécrire (ouf!)."
   ]
  },
  {
   "cell_type": "markdown",
   "metadata": {},
   "source": [
    "On peut alors créer des «fixtures» similaires à celles qu'on avait précédemment:"
   ]
  },
  {
   "cell_type": "code",
   "execution_count": null,
   "metadata": {},
   "outputs": [],
   "source": [
    "@pytest.fixture()\n",
    "def pedigree():\n",
    "    N = NoeudBin2 # alias pour raccourcir\n",
    "    return N(\"Zoé\",\n",
    "             N(\"Belle\",\n",
    "               N(\"Rose\"),\n",
    "               N(\"Eclair\",\n",
    "                 None,\n",
    "                 N(\"Mistigri\", N(\"Luna\")),\n",
    "                 ),\n",
    "               ),\n",
    "             N(\"Tonnerre\",\n",
    "               N(\"Nébuleuse\"),\n",
    "               N(\"Adrien\", N(\"Mirabelle\"))\n",
    "              )\n",
    "            )"
   ]
  },
  {
   "cell_type": "markdown",
   "metadata": {},
   "source": [
    "Certaines méthodes deviennent alors plus naturelles et surtout plus efficaces car il est à présent possible de «remonter» le long d'une branche.\n",
    "\n",
    "Par exemple, il est relativement simple d'écrire une méthode pour calculer la **profondeur** d'un noeud."
   ]
  },
  {
   "cell_type": "markdown",
   "metadata": {},
   "source": [
    "Commençons par le test. On rappel que `capsys` est un objet spécial de *pytest* qui permet de récupérer ce qui a été écris sur la *sortie standard*:\n",
    "1. on utilise une fonction qui écrit sur la sortie standard avec des `print`,\n",
    "2. on appelle `capsys.readouterr()` qui renvoie un 2-tuples: le premier élément capte la *sortie standard* (la seule qui nous intéresse), le second la sortie d'erreur (que nous n'utiliserons pas)."
   ]
  },
  {
   "cell_type": "code",
   "execution_count": null,
   "metadata": {},
   "outputs": [],
   "source": [
    "%%run_pytest[clean]\n",
    "\n",
    "def test_profondeur(pedigree, capsys):\n",
    "    pedigree.parcours_prefixe(lambda n: print(n.profondeur()))\n",
    "    out, _ = capsys.readouterr()\n",
    "    assert out == ___"
   ]
  },
  {
   "cell_type": "code",
   "execution_count": null,
   "metadata": {
    "jupyter": {
     "source_hidden": true
    }
   },
   "outputs": [],
   "source": [
    "%%run_pytest[clean]\n",
    "\n",
    "def test_profondeur(pedigree, capsys):\n",
    "    pedigree.parcours_prefixe(lambda n: print(n.profondeur()))\n",
    "    out, _ = capsys.readouterr()\n",
    "    assert out == \"0\\n1\\n2\\n2\\n3\\n4\\n1\\n2\\n2\\n3\\n\""
   ]
  },
  {
   "cell_type": "code",
   "execution_count": null,
   "metadata": {},
   "outputs": [],
   "source": [
    "def profondeur(self):\n",
    "    \"\"\"Renvoie la profondeur du noeud courant.\"\"\"\n",
    "    pass\n",
    "\n",
    "NoeudBin2.profondeur = profondeur\n",
    "del profondeur"
   ]
  },
  {
   "cell_type": "code",
   "execution_count": null,
   "metadata": {
    "jupyter": {
     "source_hidden": true
    }
   },
   "outputs": [],
   "source": [
    "def profondeur(self):\n",
    "    \"\"\"Renvoie la profondeur du noeud courant.\"\"\"\n",
    "    p = -1\n",
    "    courant = self\n",
    "    while courant:\n",
    "        p += 1\n",
    "        courant = courant.parent\n",
    "    return p\n",
    "\n",
    "NoeudBin2.profondeur = profondeur\n",
    "del profondeur"
   ]
  },
  {
   "cell_type": "markdown",
   "metadata": {},
   "source": [
    "De même, on peut «redéfinir» les méthodes `est_ancetre(n)` et `occurrence()` afin de les rendre plus efficaces. Cela a pour effet de «cacher» les anciennes méthodes.\n",
    "\n",
    "Bien sûr, on peut récupérer nos anciens tests"
   ]
  },
  {
   "cell_type": "code",
   "execution_count": null,
   "metadata": {},
   "outputs": [],
   "source": [
    "%%run_pytest[clean]\n",
    "\n",
    "def test_est_ancetre(pedigree):\n",
    "    zoe = pedigree\n",
    "    eclair = zoe.gauche.droit\n",
    "    luna = eclair.droit.gauche\n",
    "    mirabelle = zoe.droit.droit.gauche\n",
    "    for n in [zoe, eclair, luna, mirabelle]:\n",
    "        assert zoe.est_ancetre(n)\n",
    "    assert eclair.est_ancetre(luna)\n",
    "    assert not mirabelle.est_ancetre(luna)"
   ]
  },
  {
   "cell_type": "markdown",
   "metadata": {},
   "source": [
    "Pour `occurrence` nous n'en avions par écrit, compléter celui-là:"
   ]
  },
  {
   "cell_type": "code",
   "execution_count": null,
   "metadata": {},
   "outputs": [],
   "source": [
    "%%run_pytest[clean]\n",
    "\n",
    "def test_occurrence(pedigree, capsys):\n",
    "    pedigree.parcours_prefixe(lambda n: print(n.occurrence()))\n",
    "    out, _ = capsys.readouterr()\n",
    "    assert out == ____"
   ]
  },
  {
   "cell_type": "code",
   "execution_count": null,
   "metadata": {
    "jupyter": {
     "source_hidden": true
    }
   },
   "outputs": [],
   "source": [
    "%%run_pytest[clean]\n",
    "\n",
    "def test_occurrence(pedigree, capsys):\n",
    "    pedigree.parcours_prefixe(lambda n: print(n.occurrence()))\n",
    "    out, _ = capsys.readouterr()\n",
    "    assert out == \"\\n0\\n00\\n01\\n011\\n0110\\n1\\n10\\n11\\n110\\n\""
   ]
  },
  {
   "cell_type": "markdown",
   "metadata": {},
   "source": [
    "Reste à ré-implémenter ces méthodes:"
   ]
  },
  {
   "cell_type": "code",
   "execution_count": null,
   "metadata": {},
   "outputs": [],
   "source": [
    "def est_ancetre(self, n):\n",
    "    \"\"\"Renvoie True si le noeud courant est un ancêtre du noeud fourni en argument.\n",
    "    Un noeud n1 est un ancêtre d'un noeud n2 si n2 fait partie de l'arbre enraciné\n",
    "    au noeud n1.\n",
    "    Est plus efficace que la version récursive de NoeudBin.\"\"\"\n",
    "    pass\n",
    "\n",
    "NoeudBin2.est_ancetre = est_ancetre\n",
    "del est_ancetre"
   ]
  },
  {
   "cell_type": "code",
   "execution_count": null,
   "metadata": {
    "jupyter": {
     "source_hidden": true
    }
   },
   "outputs": [],
   "source": [
    "def est_ancetre(self, n):\n",
    "    \"\"\"Renvoie True si le noeud courant est un ancetre du noeud fourni en argument.\n",
    "    Un noeud n1 est un ancêtre d'un noeud n2 si n2 fait partie de l'arbre enraciné\n",
    "    au noeud n1.\n",
    "    Est plus efficace que la version récursive de NoeudBin.\"\"\"\n",
    "    courant = n\n",
    "    while courant:\n",
    "        if courant is self:\n",
    "            return True\n",
    "        courant = courant.parent\n",
    "    return False\n",
    "\n",
    "NoeudBin2.est_ancetre = est_ancetre\n",
    "del est_ancetre"
   ]
  },
  {
   "cell_type": "code",
   "execution_count": null,
   "metadata": {},
   "outputs": [],
   "source": [
    "def occurrence(self):\n",
    "    \"\"\"Renvoie l'occurrence du noeud courant.\n",
    "    L'occurrence de la racine est '', et si occ est l'occurrence d'un noeud,\n",
    "    celle de son fils gauche est (occ + '0'), et celle de son fils droit (occ + '1').\"\"\"\n",
    "    occ = \"\"\n",
    "    courant = self\n",
    "    while courant.parent:\n",
    "        pass\n",
    "    return occ\n",
    "\n",
    "NoeudBin2.occurrence = occurrence\n",
    "del occurrence"
   ]
  },
  {
   "cell_type": "code",
   "execution_count": null,
   "metadata": {
    "jupyter": {
     "source_hidden": true
    }
   },
   "outputs": [],
   "source": [
    "def occurrence(self):\n",
    "    \"\"\"Renvoie l'occurrence du noeud courant.\n",
    "    L'occurrence de la racine est '', et si occ est l'occurrence d'un noeud,\n",
    "    celle de son fils gauche est (occ + '0'), et celle de son fils droit (occ + '1').\"\"\"\n",
    "    occ = \"\"\n",
    "    courant = self\n",
    "    while courant.parent:\n",
    "        if courant.parent.gauche is courant:\n",
    "            occ = \"0\" + occ\n",
    "        else:\n",
    "            occ = \"1\" + occ\n",
    "        courant = courant.parent\n",
    "    return occ\n",
    "\n",
    "NoeudBin2.occurrence = occurrence\n",
    "del occurrence"
   ]
  }
 ],
 "metadata": {
  "kernelspec": {
   "display_name": "Python 3",
   "language": "python",
   "name": "python3"
  },
  "language_info": {
   "codemirror_mode": {
    "name": "ipython",
    "version": 3
   },
   "file_extension": ".py",
   "mimetype": "text/x-python",
   "name": "python",
   "nbconvert_exporter": "python",
   "pygments_lexer": "ipython3",
   "version": "3.7.3"
  },
  "toc-autonumbering": false
 },
 "nbformat": 4,
 "nbformat_minor": 4
}
