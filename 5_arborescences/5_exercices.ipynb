{
 "cells": [
  {
   "cell_type": "markdown",
   "metadata": {},
   "source": [
    "## Arbres binaires"
   ]
  },
  {
   "cell_type": "code",
   "execution_count": null,
   "metadata": {},
   "outputs": [],
   "source": [
    "# pour pourvoir importer les modules du dossier 'code'\n",
    "import sys\n",
    "if not 'code' in sys.path[0]:\n",
    "    sys.path = [sys.path[0] + '/code'] + sys.path"
   ]
  },
  {
   "cell_type": "markdown",
   "metadata": {
    "toc-hr-collapsed": true,
    "toc-nb-collapsed": true
   },
   "source": [
    "### Ex1 - dessiner/observer"
   ]
  },
  {
   "cell_type": "markdown",
   "metadata": {},
   "source": [
    "Dessiner tous les arbres binaires contenant respectivement 3 et 4 noeuds."
   ]
  },
  {
   "cell_type": "markdown",
   "metadata": {
    "toc-hr-collapsed": true,
    "toc-nb-collapsed": true
   },
   "source": [
    "#### Solution"
   ]
  },
  {
   "cell_type": "markdown",
   "metadata": {},
   "source": [
    "Il y 5 arbres binaires a trois noeuds ..."
   ]
  },
  {
   "cell_type": "raw",
   "metadata": {},
   "source": [
    "    *    *    *    *    *        \n",
    "   /    /    / \\    \\    \\\n",
    "  *    *    *   *    *    *\n",
    " /      \\           /      \\\n",
    "*        *         *        *"
   ]
  },
  {
   "cell_type": "markdown",
   "metadata": {},
   "source": [
    "et 14 pour quatre noeuds."
   ]
  },
  {
   "cell_type": "raw",
   "metadata": {},
   "source": [
    "      *    *    *    *    *        même chose en partant de       *\n",
    "     /    /    /    /    /                                         \\   \n",
    "    *    *    *    *    *                 Total=10                 ... (× 5) \n",
    "   /    /    / \\    \\    \\              racine simple\n",
    "  *    *    *   *    *    *            \n",
    " /      \\           /      \\\n",
    "*        *         *        *\n",
    "                                         racine double\n",
    "        sous-arbre\n",
    "        gauche de                   *       *       *       *  \n",
    "        taille 3                   / \\     / \\     / \\     / \\\n",
    "   (voir cas précédent)           *   *   *   *   *   *   *   *\n",
    "                                 /         \\         /         \\\n",
    "                                *           *       *           *"
   ]
  },
  {
   "cell_type": "markdown",
   "metadata": {
    "toc-hr-collapsed": true,
    "toc-nb-collapsed": true
   },
   "source": [
    "### Ex2 - dénombrer"
   ]
  },
  {
   "cell_type": "markdown",
   "metadata": {},
   "source": [
    "Sachant qu'il y a 1 arbre binaire vide, 1 arbre binaire contenant 1 noeud, 2 arbres binaires contenant 2 noeuds, 5 contenant 3 noeuds et 14 contenant 4 noeuds, *calculer le nombre d'arbres binaires contenant cinq noeuds*. On ne cherchera pas à les construire tous mais seulement à les dénombrer."
   ]
  },
  {
   "cell_type": "markdown",
   "metadata": {
    "toc-hr-collapsed": true,
    "toc-nb-collapsed": true
   },
   "source": [
    "#### Solution"
   ]
  },
  {
   "cell_type": "markdown",
   "metadata": {},
   "source": [
    "Pour dénombrer les arbres binaires a cinq noeuds, on peut les *classer* selon le nombre de noeuds des sous-arbres de la racine: ils doivent en contenir quatre au total (tous sauf la racine):\n",
    "\n",
    "- *4 à gauche, 0 à droite*; cela donne autant de possibilités que d'arbre binaires a 4 noeuds soit **14**,\n",
    "- *3 à gauche, 1 à droite*; soit autant de possibilité que d'arbres binaires a 5 noeud: **5**\n",
    "- *2 à gauche, 2 à droite*; les possibilités «se multiplient» $2\\times 2$ soit **4**,\n",
    "- *1 à gauche, 3 à droite*: **5** («symétrique» du deuxième cas),\n",
    "- *0 à gauche, 4 à droite*: **14** («symétrique du premier cas).\n",
    "\n",
    "Ainsi, on totalise $14+5+4+5+14={\\bf 42}$ arbres binaires a 5 noeuds."
   ]
  },
  {
   "cell_type": "markdown",
   "metadata": {},
   "source": [
    "Prenons un peut de «recul». Si on note $N(n)$ le nombre d'arbres binaires a $n$ noeuds alors l'énoncé nous apprend que $$N(0)=N(1)=1, N(2)=2, N(3)=5, N(4)=14$$\n",
    "\n",
    "et, en réinterprétant le calcul ci-dessus, on obtient (en faisant apparaître les facteurs égaux à 1):\n",
    "$$N(5)=\\overbrace{14}^{N(4)}\\times \\overbrace{1}^{N(0)}\n",
    "+\\overbrace{5}^{N(3)}\\times \\overbrace{1}^{N(1)}\n",
    "+\\overbrace{2}^{N(2)}\\times \\overbrace{2}^{N(2)}\n",
    "+\\overbrace{1}^{N(1)}\\times \\overbrace{5}^{N(3)}\n",
    "+\\overbrace{1}^{N(0)}\\times \\overbrace{14}^{N(4)}\n",
    "$$\n",
    "\n",
    "ce qu'on généralise assez facilement par:\n",
    "\n",
    "$$N(n)=N(n-1)\\times N(0)+N(n-2)\\times N(1)+\\cdots +N(0)\\times N(n-1)$$\n",
    "\n",
    "ou, de façon plus condensée (pour les matheux): $$N(k)=\\sum_{k=0}^{n-1}N(k)\\times N(n-1-k)\\quad\\text{pour } n\\geqslant 1$$"
   ]
  },
  {
   "cell_type": "markdown",
   "metadata": {},
   "source": [
    "Observe2 que si on dispose ces nombres dans un tableau `N`:\n",
    "\n",
    "            [N(0), N(1), ...., N(n-1)]\n",
    "\n",
    "Il est facile de calculer l'élément suivant de celui-ci:\n",
    "\n",
    "        initialiser i à 0\n",
    "        S = 0\n",
    "        Tant que i < n:\n",
    "            ajouter N[i]*N[n-1-i] à S\n",
    "            incrémenter i\n",
    "        Ajouter S au tableau N (à la position n)"
   ]
  },
  {
   "cell_type": "markdown",
   "metadata": {},
   "source": [
    "Voici une façon de calculer $N(n)$ «efficacement» en utilisant une variable globale:"
   ]
  },
  {
   "cell_type": "code",
   "execution_count": null,
   "metadata": {},
   "outputs": [],
   "source": [
    "N = []\n",
    "def nb_arbres_binaires(nb_noeuds):\n",
    "    n = nb_noeuds # pour raccourcir\n",
    "    global N # pour stocker les résultats intermédiaires\n",
    "    \n",
    "    # ne pas recalculer si possible...\n",
    "    if n < len(N):\n",
    "        return N[n]\n",
    "    \n",
    "    # récursivité\n",
    "    # cas de base\n",
    "    if n == 0:\n",
    "        N.append(1)\n",
    "        return 1\n",
    "    # appels récursifs et recomposition\n",
    "    i = 0infixe\n",
    "    S = 0\n",
    "    while i < n:\n",
    "        S += nb_arbres_binaires(i) * nb_arbres_binaires(n-1-i)\n",
    "        i += 1\n",
    "    N.append(S)\n",
    "    return S\n",
    "\n",
    "nb_arbres_binaires(5)"
   ]
  },
  {
   "cell_type": "markdown",
   "metadata": {
    "toc-hr-collapsed": true,
    "toc-nb-collapsed": true
   },
   "source": [
    "### Ex3 - parcours et «sérialisation» d'un arbre binaire"
   ]
  },
  {
   "cell_type": "markdown",
   "metadata": {},
   "source": [
    "Écrire une fonction `affiche(a)` qui imprime un arbre binaire sous la forme suivante:\n",
    "- pour un arbre vide, on n'affiche rien,\n",
    "- pour un noeud on imprime:\n",
    "    - une parenthèse ouvrante `(`,\n",
    "    - son sous-arbre gauche (récursivement),\n",
    "    - sa valeur,\n",
    "    - son sous-arbre droit et\n",
    "    - une parenthèse fermante `)`. \n",
    "\n",
    "Ainsi pour l'arbre:\n",
    "\n",
    "                A\n",
    "               / \\\n",
    "              B   D\n",
    "               \\\n",
    "                C\n",
    "\n",
    "on doit afficher `\"((B(C))A(D))\"`. "
   ]
  },
  {
   "cell_type": "markdown",
   "metadata": {},
   "source": [
    "#### Solution"
   ]
  },
  {
   "cell_type": "markdown",
   "metadata": {},
   "source": [
    "En repartant de «zéro»"
   ]
  },
  {
   "cell_type": "code",
   "execution_count": null,
   "metadata": {},
   "outputs": [],
   "source": [
    "class N:\n",
    "    def __init__(self, v, g=None, d=None):\n",
    "        self.v = v\n",
    "        self.g = g\n",
    "        self.d = d\n",
    "\n",
    "def affiche(a):\n",
    "    print('(', end=\"\")\n",
    "    if a.g is not None:\n",
    "        affiche(a.g)\n",
    "    print(a.v, end=\"\")\n",
    "    if a.d is not None:\n",
    "        affiche(a.d)\n",
    "    print(')', end=\"\")\n",
    "\n",
    "test = N('A', N('B', None, N('C')), N('D'))\n",
    "affiche(test)"
   ]
  },
  {
   "cell_type": "markdown",
   "metadata": {},
   "source": [
    "En réutilisant `NoeudBin` et sa méthode `parcours_main_gauche(t1, t2, t3)`..."
   ]
  },
  {
   "cell_type": "code",
   "execution_count": null,
   "metadata": {},
   "outputs": [],
   "source": [
    "# si on veut réutiliser NoeudBin et sa méthode générale parcours_main_gauche\n",
    "import sys\n",
    "if not 'code' in sys.path[0]:\n",
    "    sys.path[0] += '/code'\n",
    "\n",
    "from noeud_bin_p2 import NoeudBin"
   ]
  },
  {
   "cell_type": "code",
   "execution_count": null,
   "metadata": {},
   "outputs": [],
   "source": [
    "N = NoeudBin\n",
    "test = N('A', N('B', None, N('C')), N('D'))\n",
    "test.parcours_main_gauche(\n",
    "    lambda _: print('(', end=\"\"),\n",
    "    lambda n: print(n.valeur, end=\"\"),\n",
    "    lambda _: print(')', end=\"\"),\n",
    ")"
   ]
  },
  {
   "cell_type": "markdown",
   "metadata": {
    "toc-hr-collapsed": true,
    "toc-nb-collapsed": true
   },
   "source": [
    "### Ex4 - retrouver l'arbre d'après sa «sérialisation»"
   ]
  },
  {
   "cell_type": "markdown",
   "metadata": {},
   "source": [
    "Dessiner l'arbre binaire pour lequel la fonction précédente affiche `\"(1((2)3))\"`. D'une manière générale expliquer comment retrouver l'arbre dont l'affichage est donné."
   ]
  },
  {
   "cell_type": "markdown",
   "metadata": {
    "toc-hr-collapsed": true,
    "toc-nb-collapsed": true
   },
   "source": [
    "#### Solution"
   ]
  },
  {
   "cell_type": "raw",
   "metadata": {},
   "source": [
    "                 1\n",
    "                  \\\n",
    "                   3\n",
    "                  /\n",
    "                 2"
   ]
  },
  {
   "cell_type": "markdown",
   "metadata": {
    "toc-hr-collapsed": true,
    "toc-nb-collapsed": true
   },
   "source": [
    "### Ex5 - égalité..."
   ]
  },
  {
   "cell_type": "markdown",
   "metadata": {},
   "source": [
    "Ajouter à la classe `Noeud` une méthode `__eq__` permettant de tester l'égalité de deux arbres binaires à l'aide de l'opérateur `==`. Attention, il y a un piège."
   ]
  },
  {
   "cell_type": "code",
   "execution_count": null,
   "metadata": {},
   "outputs": [],
   "source": [
    "class Noeud:\n",
    "    def __init__(self, v, g=None, d=None):\n",
    "        self.v = v\n",
    "        self.g = g\n",
    "        self.d = d"
   ]
  },
  {
   "cell_type": "markdown",
   "metadata": {
    "toc-hr-collapsed": true,
    "toc-nb-collapsed": true
   },
   "source": [
    "#### Solution"
   ]
  },
  {
   "cell_type": "markdown",
   "metadata": {},
   "source": [
    "Il faut être très attentif aux cas limites (notamment au cas des noeuds feuilles)"
   ]
  },
  {
   "cell_type": "code",
   "execution_count": null,
   "metadata": {},
   "outputs": [],
   "source": [
    "## Égalité si on a les mêmes valeurs aux mêmes noeuds.\n",
    "## ATTENTION aux cas des sous-arbres vides!\n",
    "## Note: On pourrait aussi tester l'égalité au sens de la **disposition relative** des noeuds\n",
    "## (indépendamment des valeurs qu'ils portent...)\n",
    "\n",
    "def __eq__(self, autre):\n",
    "    if autre is None or self.v != autre.v: # self ne peut pas valoir None...\n",
    "        return False\n",
    "    \n",
    "    # ici, 1. autre n'est pas None et \n",
    "    # 2. self et autre portent la même valeur\n",
    "    \n",
    "    # Comparaison de leur sous-arbres gauches\n",
    "    eq_g = False\n",
    "    if self.g is not None:\n",
    "        # appel récursif\n",
    "        eq_g = self.g == autre.g\n",
    "    elif autre.g is None: # ici les deux sous-arbres gauches sont vides et donc égaux\n",
    "        eq_g = True\n",
    "    if not eq_g:\n",
    "        return False\n",
    "    \n",
    "    # puis de leurs sous-arbres droits\n",
    "    eq_d = False\n",
    "    if self.d is not None:\n",
    "        eq_d = self.d == autre.d\n",
    "    elif autre.d is None:\n",
    "        eq_d = True\n",
    "    if not eq_d:\n",
    "        return False\n",
    "    \n",
    "    # ici eq_g et eq_d sont à True donc\n",
    "    return True\n",
    "\n",
    "Noeud.__eq__ = __eq__\n",
    "del __eq__"
   ]
  },
  {
   "cell_type": "markdown",
   "metadata": {
    "toc-hr-collapsed": true,
    "toc-nb-collapsed": true
   },
   "source": [
    "### Ex6 - arbres binaires «limites»"
   ]
  },
  {
   "cell_type": "markdown",
   "metadata": {},
   "source": [
    "Écrire la fonction indiquée qui prend un entier `h` supérieur ou égal à 0 en argument:\n",
    "1. `complet(h)` qui renvoie un arbre binaire parfait - dont tous les noeuds internes sont doubles - de hauteur `h`,\n",
    "2. `peigne_droit(h)` qui renvoie un peigne de hauteur `h`: arbre binaire filiforme (sans points doubles) où chaque noeud a un sous-arbre gauche vide."
   ]
  },
  {
   "cell_type": "markdown",
   "metadata": {
    "toc-hr-collapsed": true,
    "toc-nb-collapsed": true
   },
   "source": [
    "#### Solution"
   ]
  },
  {
   "cell_type": "code",
   "execution_count": null,
   "metadata": {},
   "outputs": [],
   "source": [
    "def complet(h):\n",
    "    if h == 0:\n",
    "        return None\n",
    "    return Noeud('', complet(h-1), complet(h-1))"
   ]
  },
  {
   "cell_type": "code",
   "execution_count": null,
   "metadata": {},
   "outputs": [],
   "source": [
    "def peigne_droit(h):\n",
    "    if h == 0:\n",
    "        return None\n",
    "    return Noeud('', None, peigne_gauche(h-1))"
   ]
  },
  {
   "cell_type": "markdown",
   "metadata": {
    "toc-hr-collapsed": true,
    "toc-nb-collapsed": true
   },
   "source": [
    "### Ex7 - parcours..."
   ]
  },
  {
   "cell_type": "markdown",
   "metadata": {},
   "source": [
    "Donner cinq arbres de taille 3 dont les noeuds contiennent les valeurs 1, 2, 3 et pour lesquels un *parcours infixe* produirait l'affichage: \n",
    "\n",
    "    1 2 3"
   ]
  },
  {
   "cell_type": "markdown",
   "metadata": {
    "toc-hr-collapsed": true,
    "toc-nb-collapsed": true
   },
   "source": [
    "#### Solution"
   ]
  },
  {
   "cell_type": "markdown",
   "metadata": {},
   "source": [
    "Il suffit de considérer les cinqs arbres binaires de taille 3 puis de placer les valeurs sur les noeuds adéquats.\n",
    "\n",
    "Note: Ajouter des noeuds $\\emptyset$ peut aider à bien comprendre."
   ]
  },
  {
   "cell_type": "raw",
   "metadata": {},
   "source": [
    "         3        1               2             3          1\n",
    "        /          \\             / \\           /            \\\n",
    "       2            2           1   3         1              3\n",
    "      /              \\                         \\            /\n",
    "     1                3                         2          2"
   ]
  },
  {
   "cell_type": "raw",
   "metadata": {},
   "source": [
    "         3        1               2             3          1\n",
    "        / \\      / \\             / \\           / \\        / \\\n",
    "       2   ∅    ∅   2           1   3         1   ∅      ∅   3\n",
    "      / \\          / \\         / \\ / \\       / \\            / \\\n",
    "     1   ∅        ∅    3      ∅   ∅   ∅     ∅   2          2   ∅\n",
    "    / \\               / \\                      / \\        / \\\n",
    "   ∅   ∅             ∅   ∅                    ∅   ∅      ∅   ∅"
   ]
  },
  {
   "cell_type": "markdown",
   "metadata": {},
   "source": [
    "## Arbres binaires de recherche"
   ]
  },
  {
   "cell_type": "code",
   "execution_count": null,
   "metadata": {},
   "outputs": [],
   "source": [
    "# pour réutilisation...\n",
    "from noeud_bin2 import NoeudBin2\n",
    "from abr import ABR"
   ]
  },
  {
   "cell_type": "markdown",
   "metadata": {
    "toc-hr-collapsed": true,
    "toc-nb-collapsed": true
   },
   "source": [
    "### Ex1 - dessiner"
   ]
  },
  {
   "cell_type": "markdown",
   "metadata": {},
   "source": [
    "Donner tous les ABR formés de trois noeuds et contenant les entiers 1, 2, 3."
   ]
  },
  {
   "cell_type": "markdown",
   "metadata": {
    "toc-hr-collapsed": true,
    "toc-nb-collapsed": true
   },
   "source": [
    "#### Solution"
   ]
  },
  {
   "cell_type": "raw",
   "metadata": {},
   "source": [
    "    *        3 |     *        3   |    *          2    | *        2   | *        1\n",
    "   /        /  |    /        /    |   / \\        / \\   |  \\        \\  |  \\        \\\n",
    "  *   -->  2   |   *   -->  1     |  *   *  --> 1   3  |   * -->    3 |   * -->    2\n",
    " /        /    |    \\        \\    |                    |  /        /  |    \\        \\\n",
    "*        1     |     *        2   |                    | *        1   |     *        3"
   ]
  },
  {
   "cell_type": "markdown",
   "metadata": {
    "toc-hr-collapsed": true,
    "toc-nb-collapsed": true
   },
   "source": [
    "### Ex2 - minimum"
   ]
  },
  {
   "cell_type": "markdown",
   "metadata": {},
   "source": [
    "Dans un ABR, où se trouve le plus petit élément? En déduire une fonction `minimum(a)` qui renvoie le plus plus petit élément de l'ABR `a` ou `None` si `a` est vide."
   ]
  },
  {
   "cell_type": "markdown",
   "metadata": {
    "toc-hr-collapsed": true,
    "toc-nb-collapsed": true
   },
   "source": [
    "#### Solution"
   ]
  },
  {
   "cell_type": "markdown",
   "metadata": {},
   "source": [
    "Dans un ABR non vide, un tel élément est:\n",
    "- la racine si celle-ci n'a pas d'enfant gauche,\n",
    "- ou dans le sous-ABR gauche de la racine.\n",
    "\n",
    "Par suite, on obtient le minimum en suivant les «liens gauches» tant qu'il y en a.\n"
   ]
  },
  {
   "cell_type": "code",
   "execution_count": null,
   "metadata": {},
   "outputs": [],
   "source": [
    "def minimum(a):\n",
    "    if a is None:\n",
    "        return None\n",
    "    n = a\n",
    "    while n.g is not None:\n",
    "        n = n.g\n",
    "    return n.v"
   ]
  },
  {
   "cell_type": "markdown",
   "metadata": {
    "toc-hr-collapsed": true,
    "toc-nb-collapsed": true
   },
   "source": [
    "### Ex3 - ABR sans doublons"
   ]
  },
  {
   "cell_type": "markdown",
   "metadata": {},
   "source": [
    "Écrire une variante de la méthode `ABR.inserer(x)` qui n'ajoute pas l'élément `x` si l'arbre le contient déjà."
   ]
  },
  {
   "cell_type": "markdown",
   "metadata": {
    "toc-hr-collapsed": true,
    "toc-nb-collapsed": true
   },
   "source": [
    "#### Solution"
   ]
  },
  {
   "cell_type": "code",
   "execution_count": null,
   "metadata": {},
   "outputs": [],
   "source": [
    "def inserer_bis(self, x): # self représente l'ABR et non un noeud!\n",
    "    n_ins = NoeudBin2(x)\n",
    "    if len(self) == 0:\n",
    "        self.racine = n_ins\n",
    "        self.taille += 1\n",
    "        return\n",
    "    \n",
    "    # localisons le parent du noeud à insérer et le côté \n",
    "    g = False\n",
    "    n = None\n",
    "    n_ = self.racine\n",
    "    while n_ is not None:\n",
    "        n = n_\n",
    "        c_ins = self.cle(n_ins)\n",
    "        c_n_ = self.cle(n_)\n",
    "        if c_ins == c_n_:\n",
    "            return\n",
    "        elif c_ins < c_n_:\n",
    "            n_ = n_.gauche\n",
    "            g = True\n",
    "        else:\n",
    "            n_ = n_.droit\n",
    "            g = False\n",
    "\n",
    "    # n est le parent de n_ins\n",
    "    self.taille += 1\n",
    "    n_ins.parent = n\n",
    "    if g:\n",
    "        n.gauche = n_ins\n",
    "    else:\n",
    "        n.droit = n_ins\n",
    "        \n",
    "ABR.inserer_bis = inserer_bis\n",
    "del inserer_bis"
   ]
  },
  {
   "cell_type": "code",
   "execution_count": null,
   "metadata": {},
   "outputs": [],
   "source": [
    "# simple test\n",
    "from random import randint\n",
    "valeurs = [randint(1, 10) for _ in range(100)]\n",
    "\n",
    "abr = ABR()\n",
    "for v in valeurs:\n",
    "    abr.inserer_bis(v)\n",
    "\n",
    "assert len(abr) == len(set(valeurs)) # un ensemble ne peut pas contenir deux fois la même valeur..."
   ]
  },
  {
   "cell_type": "markdown",
   "metadata": {
    "toc-hr-collapsed": true,
    "toc-nb-collapsed": true
   },
   "source": [
    "### Ex4 - compter"
   ]
  },
  {
   "cell_type": "markdown",
   "metadata": {},
   "source": [
    "Écrire une méthode `ABR.compte(x)` qui renvoie le nombre d'apparition de `x` dans l'ABR. On s'évertuera à ne pas descendre dans les sous-arbres dans lesquels on est certain que la valeur `x` ne peut apparaître."
   ]
  },
  {
   "cell_type": "markdown",
   "metadata": {
    "toc-hr-collapsed": true,
    "toc-nb-collapsed": true
   },
   "source": [
    "#### Solution"
   ]
  },
  {
   "cell_type": "code",
   "execution_count": null,
   "metadata": {},
   "outputs": [],
   "source": [
    "def compte(self, x):\n",
    "    if self.taille == 0:\n",
    "        return 0\n",
    "    compteur = 0\n",
    "    cx = self.cle(NoeudBin2(x))\n",
    "    n = self.racine\n",
    "    while n is not None:\n",
    "        cn = self.cle(n)\n",
    "        if cx == cn:\n",
    "            # deux valeurs ayant une même clé ne sont pas nécessairement identiques\n",
    "            if n.valeur == x:\n",
    "                compteur +=1\n",
    "            # se souvenir que les valeur du sous-arbre gauche sont inférieures ou égales\n",
    "            # du noeud courant pour cet ABR, donc:\n",
    "            n = n.gauche\n",
    "        elif cx < cn:\n",
    "            n = n.gauche\n",
    "        else:\n",
    "            n = n.droit\n",
    "    return compteur\n",
    "\n",
    "ABR.compte = compte\n",
    "del compte"
   ]
  },
  {
   "cell_type": "code",
   "execution_count": null,
   "metadata": {},
   "outputs": [],
   "source": [
    "# simple test\n",
    "from random import randint\n",
    "valeurs = [randint(1, 10) for _ in range(100)]\n",
    "\n",
    "abr = ABR()\n",
    "for v in valeurs:\n",
    "    abr.inserer(v)\n",
    "\n",
    "assert abr.compte(5) == valeurs.count(5)"
   ]
  },
  {
   "cell_type": "markdown",
   "metadata": {
    "toc-hr-collapsed": true,
    "toc-nb-collapsed": true
   },
   "source": [
    "### Ex5 - retour sur le tri"
   ]
  },
  {
   "cell_type": "markdown",
   "metadata": {},
   "source": [
    "Écrire une méthode `ABR.remplir(t)` qui ajoute tous les éléments de l'ABR dans le tableau `t` dans l'ordre *infixe*. Ajouter ensuite une méthode `ABR.lister()` qui renvoie un nouveau tableau contenant tous les éléments par ordre croissant. En déduire une fonction `trier(t)` qui reçoit en argument un tableau d'entiers et renvoie un tableau trié contenant les mêmes éléments.\n",
    "\n",
    "Quelle est l'efficacité de ce tri?"
   ]
  },
  {
   "cell_type": "markdown",
   "metadata": {
    "toc-hr-collapsed": true,
    "toc-nb-collapsed": true
   },
   "source": [
    "#### Solution"
   ]
  },
  {
   "cell_type": "code",
   "execution_count": null,
   "metadata": {},
   "outputs": [],
   "source": [
    "def remplir1(self, t): # self est un NoeudBin2\n",
    "    if self.gauche:\n",
    "        self.gauche.remplir(t)\n",
    "    t.append(self.valeur)\n",
    "    if self.droit:\n",
    "        self.droit.remplir(t)\n",
    "\n",
    "def remplir2(self, t): # self est un ABR\n",
    "    if len(self) == 0:\n",
    "        return\n",
    "    self.racine.remplir(t)\n",
    "    \n",
    "NoeudBin2.remplir = remplir1\n",
    "del remplir1\n",
    "ABR.remplir = remplir2\n",
    "del remplir2"
   ]
  },
  {
   "cell_type": "code",
   "execution_count": null,
   "metadata": {},
   "outputs": [],
   "source": [
    "def lister(self):\n",
    "    tab = []\n",
    "    self.remplir(tab)\n",
    "    return tab\n",
    "\n",
    "ABR.lister = lister\n",
    "del lister"
   ]
  },
  {
   "cell_type": "code",
   "execution_count": null,
   "metadata": {},
   "outputs": [],
   "source": [
    "def trier(t):\n",
    "    abr = ABR()\n",
    "    # il vaudrait mieux randomiser les éléments de t\n",
    "    # pour qu'en moyenne, l'abr soit approximativement «équilibré»\n",
    "    for x in t:\n",
    "        abr.inserer(x)\n",
    "    return abr.lister()"
   ]
  },
  {
   "cell_type": "code",
   "execution_count": null,
   "metadata": {},
   "outputs": [],
   "source": [
    "from random import randint\n",
    "trier([randint(0, 100) for _ in range(10)])"
   ]
  },
  {
   "cell_type": "code",
   "execution_count": null,
   "metadata": {},
   "outputs": [],
   "source": [
    "from time import time\n",
    "listes = [\n",
    "    [randint(0, 10**n) for _ in range(10**n)]\n",
    "    for n in range(3, 7)\n",
    "]\n",
    "for l in listes:\n",
    "    _t = time()\n",
    "    trier(l)\n",
    "    t_ = time()\n",
    "    print(f\"taille: {len(l)}, duree du tri (en s): {t_ - _t}\")\n",
    "    "
   ]
  },
  {
   "cell_type": "markdown",
   "metadata": {},
   "source": [
    "Malgré l'expérience encouragente du test précédent - qui fait penser que l'algorithme est quasi-linéaire $O(n\\lg n)$:\n",
    "1. le tri est très long pour une petite liste (comparez avec `sorted`),\n",
    "2. l'efficacité relative du tri vient du fait que les données sont randomisées.\n",
    "\n",
    "En fait, l'insertion est en O(h) où h est la hauteur de l'arbre. Si la liste de départ est déjà triée, l'ABR va être en forme de «peigne» (filiforme) et la création de l'arbre coûte dans ce cas:\n",
    "\n",
    "$$1+2+\\cdots +n\\qquad\\text{qui est de l'ordre de }\\qquad n^2$$\n",
    "\n",
    "L'ordre de grandeur de ce coût «domine» celui de l'opération «lister» qui est $O(n)$ car l'appel récursif se produit une fois et une seule pour chaque noeud de l'arbre.\n",
    "\n",
    "Ainsi ce tri est $O(n^2)$ comme on peut le vérifier (quoi qu'on va se frotter aux limites imposées par Python en terme de récursion): "
   ]
  },
  {
   "cell_type": "code",
   "execution_count": null,
   "metadata": {},
   "outputs": [],
   "source": [
    "from time import time\n",
    "listes = [\n",
    "    sorted([randint(0, 10**n) for _ in range(10**n)])\n",
    "    for n in range(2, 5)\n",
    "]\n",
    "for l in listes:\n",
    "    _t = time()\n",
    "    trier(l)\n",
    "    t_ = time()\n",
    "    print(f\"taille: {len(l)}, duree du tri (en s): {t_ - _t}\")\n",
    "# note: comme la limite de récursion de Python est 1000, on aura jamais le dernier temps (vu que l'ABR est filiforme de longueur 10000)"
   ]
  }
 ],
 "metadata": {
  "kernelspec": {
   "display_name": "Python 3",
   "language": "python",
   "name": "python3"
  },
  "language_info": {
   "codemirror_mode": {
    "name": "ipython",
    "version": 3
   },
   "file_extension": ".py",
   "mimetype": "text/x-python",
   "name": "python",
   "nbconvert_exporter": "python",
   "pygments_lexer": "ipython3",
   "version": "3.7.3"
  }
 },
 "nbformat": 4,
 "nbformat_minor": 4
}
