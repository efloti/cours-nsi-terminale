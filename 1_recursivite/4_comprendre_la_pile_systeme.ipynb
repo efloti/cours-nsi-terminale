{
 "cells": [
  {
   "cell_type": "markdown",
   "metadata": {},
   "source": [
    "# Récursivité bas niveau - pile système"
   ]
  },
  {
   "cell_type": "markdown",
   "metadata": {},
   "source": [
    "Pour rappel, voilà l'implémentation python pour notre somme récursive d'une liste donnée."
   ]
  },
  {
   "cell_type": "code",
   "execution_count": 2,
   "metadata": {},
   "outputs": [],
   "source": [
    "def sommer(nbs):\n",
    "    if not nbs:\n",
    "        return 0\n",
    "    return nbs[0] + sommer(nbs[1:])\n",
    "    \n",
    "assert sommer([3, 7, 10]) == 20"
   ]
  },
  {
   "cell_type": "markdown",
   "metadata": {},
   "source": [
    "L'objectif est de comprendre et de simuler la réalisation de l'appel récursif à `sommer` du point de vue du processeur."
   ]
  },
  {
   "cell_type": "markdown",
   "metadata": {},
   "source": [
    "Pour y parvenir, nous utiliserons un simulateur pour un processeur de type `ARM` (qui équipe vos smartphone) simplifié."
   ]
  },
  {
   "cell_type": "markdown",
   "metadata": {},
   "source": [
    "[Accès au simulateur](http://peterhigginson.co.uk/RISC/)"
   ]
  },
  {
   "cell_type": "markdown",
   "metadata": {},
   "source": [
    "Voici [une vidéo pour vous aider à comprendre comment cela fonctionne](https://vimeo.com/456344406). Les morceaux de programmes en assembleur qui suivent y sont détaillés."
   ]
  },
  {
   "cell_type": "markdown",
   "metadata": {},
   "source": [
    "### `MOV`, `ADD`, `INP`/`OUT`, `HLT` et le compteur de programme \\[*Program Counter - PC*\\]"
   ]
  },
  {
   "cell_type": "raw",
   "metadata": {},
   "source": [
    "MOV R0, #5\n",
    "MOV R1, #7\n",
    "ADD R1, R0\n",
    "OUT R1, 4"
   ]
  },
  {
   "cell_type": "raw",
   "metadata": {},
   "source": [
    "INP R0, 2\n",
    "INP R1, 2\n",
    "ADD R3, R0, R1\n",
    "OUT R3, 4"
   ]
  },
  {
   "cell_type": "markdown",
   "metadata": {},
   "source": [
    "`MOV Rd, #immediate` ou `MOV Rd, Rs`: Copie la valeur immédiate ou le contenu de `Rs` dans `Rd`\n",
    "\n",
    "`ADD Rd, Rs1, Rs2` ou `ADD Rd, Rs` ou : Ajoute les contenus de `Rs1` et `Rs2` et place le résultat dans `Rd`. L'autre forme est une abréviation de `ADD Rd, Rd, Rs`.\n",
    "\n",
    "`INP Rd, 2`: entrée numérique de l'utilisateur, résultat dans `Rd`.\n",
    "\n",
    "`OUT Rs, 4`: sortie écran d'une valeur numérique située dans `Rd`.\n",
    "\n",
    "`HLT`: Fin de programme."
   ]
  },
  {
   "cell_type": "markdown",
   "metadata": {},
   "source": [
    "### `LDR`/`STR`, `DAT` et étiquette"
   ]
  },
  {
   "cell_type": "raw",
   "metadata": {},
   "source": [
    "        MOV R0, #10\n",
    "        MOV R1, #100\n",
    "        STR R0, 200\n",
    "        STR R0, label\n",
    "        STR R0, (R1)\n",
    "label:  DAT 1000 "
   ]
  },
  {
   "cell_type": "raw",
   "metadata": {},
   "source": [
    "        LDR R0, 200\n",
    "        LDR R1, valeur\n",
    "        MOV R7, #210\n",
    "        LDR R2, (R7)\n",
    "valeur:     DAT 200"
   ]
  },
  {
   "cell_type": "markdown",
   "metadata": {},
   "source": [
    "`DAT valeur` place `valeur` en mémoire au démarrage de la machine\n",
    "\n",
    "`LDR Rd, adr`: charge dans le registre `Rd` la valeur situé à `adr` en mémoire. si `adr` est de la forme `(Rs)`, l'adresse correspond au contenu de ce registre (utilisé comme un **pointeur**).\n",
    "\n",
    "`STR Rs, adresse`: range le contenu du registre `Rs` en mémoire à l'adresse précisé. même remarque que précédemment.\n",
    "\n",
    "`<etiquette>: <instruction>`: mot qui désigne l'adresse de la ligne où il se trouve."
   ]
  },
  {
   "cell_type": "markdown",
   "metadata": {},
   "source": [
    "### `CMP` et le mot d'état \\[*Program Status Word*\\], `Bxx` (`BEQ`, `BLT`, `BLE`, ...) "
   ]
  },
  {
   "cell_type": "raw",
   "metadata": {},
   "source": [
    "MOV R0, #0\n",
    "MOV R1, #3\n",
    "BRA debut\n",
    "boucle: ADD R0, #1\n",
    "debut: CMP R0, R1\n",
    "BLT boucle\n",
    "BEQ fin\n",
    "OUT R0, 4\n",
    "fin: HLT"
   ]
  },
  {
   "cell_type": "markdown",
   "metadata": {},
   "source": [
    "`CMP Ra, Rb` positionne le **mot d'état** (*flags* dans le simulateur) `NZCV` pour gérer un **branchement** ultérieur.\n",
    "\n",
    "Si `Ra == Rb` alors le bit `Z`ero est mis à 1, si `Ra < Rb`, le bit `N`egative est mis à 1.\n",
    "\n",
    "`Bxx adr`: Branchement à l'adresse précisée si le test `xx` est vraie:\n",
    "- `xx == RA`: branchement inconditionnel\n",
    "- `xx == EQ`: le bit `N` du mot d'état est à 1\n",
    "- `xx == LT`: le bit `Z` est à 1\n",
    "- `xx == LE`: le bit `Z` est à 1 ou le bit `N` est à 1\n",
    "- ..."
   ]
  },
  {
   "cell_type": "markdown",
   "metadata": {},
   "source": [
    "### `JMS` et le registre **LR**; `PSH` et `POP`, pile système et registre **SP**"
   ]
  },
  {
   "cell_type": "raw",
   "metadata": {},
   "source": [
    "        MOV R0, #5\n",
    "        JMS test\n",
    "        HLT\n",
    "test:   PSH {R0}\n",
    "        ADD R0, R0\n",
    "        OUT R0, 4\n",
    "        POP {R0}\n",
    "        RET"
   ]
  },
  {
   "cell_type": "markdown",
   "metadata": {},
   "source": [
    "Mais `RET` ne permet pas d'avoir un nouveau `JMS` (*jump*) dans une fonction car le `LR` \\[*Link Register*\\] serait perdu (car écrasé par le `JMS` imbriqué)"
   ]
  },
  {
   "cell_type": "raw",
   "metadata": {},
   "source": [
    "BRA main\n",
    "mult:   PSH {LR}\n",
    "        PSH {R0}\n",
    "        PSH {R1}\n",
    "        PSH {R2}\n",
    "        MOV R2, R1\n",
    "        SUB R0, #1\n",
    "boucle: ADD R1, R2\n",
    "        SUB R0, #1\n",
    "        CMP R0, #0\n",
    "        BGT boucle\n",
    "        MOV R7, R1\n",
    "        POP {R2}\n",
    "        POP {R1}\n",
    "        POP {R0}\n",
    "        POP {PC}\n",
    "//\n",
    "main: INP R0, 2\n",
    "      INP R1, 2\n",
    "      JMS mult\n",
    "      OUT R7, 4\n",
    "      HLT"
   ]
  },
  {
   "cell_type": "markdown",
   "metadata": {},
   "source": [
    "`JMS adr`: modification du registre `LR` (`Link Register`) qui prend pour valeur l'adresse suivante de celle de ce `JMS` et branchement à l'adresse indiqué.\n",
    "\n",
    "`PSH {Registres}`: (pour *push*) sauvegarde les registres indiqués dans la pile «système» et déplace le pointeur de pile `SP` \\[*Stack Pointer*\\] en conséquence.\n",
    "\n",
    "`POP {Registres}`: restitue les registres indiqués depuis la pile «système» et ...\n",
    "\n",
    "`RET`: remplace `PC` par le contenu de `LR` ce qui produit un branchement. *Ne pas utiliser en cas de procédures imbriquées*."
   ]
  },
  {
   "cell_type": "markdown",
   "metadata": {},
   "source": [
    "### Récursivité avec la pile «système»"
   ]
  },
  {
   "cell_type": "raw",
   "metadata": {},
   "source": [
    "// Calcule récursivement la somme d'une liste de nombres\n",
    "// R7: contient la somme à calculer\n",
    "// R0: contient l'adresse de la valeur courante\n",
    "// R1: contient la valeur située à l'adresse R0\n",
    "\n",
    "\n",
    "        BRA main\n",
    "\n",
    "// sous-routine récursive\n",
    "somme:  PSH {R0,R1,LR}\n",
    "        LDR R1, [R0]\n",
    "        ADD R0, #1\n",
    "        CMP R1, #0\n",
    "        BEQ retour\n",
    "        JMS somme\n",
    "retour: ADD R7, R1\n",
    "        POP {R0,R1,PC}\n",
    "// fin sous-routine\n",
    "\n",
    "main:   MOV R0, #14\n",
    "        MOV R7, #0\n",
    "        JMS somme\n",
    "        OUT R7, 4\n",
    "        HLT\n",
    "\n",
    "//tableau\n",
    "tab:    DAT 3\n",
    "        DAT 7\n",
    "        DAT 10\n",
    "        DAT 0 //fin tableau"
   ]
  },
  {
   "cell_type": "markdown",
   "metadata": {},
   "source": [
    "**Exercice pour les plus courageux**: Améliorer ce dernier programme en demandant les valeurs à sommer à l'utilisateur."
   ]
  },
  {
   "cell_type": "markdown",
   "metadata": {},
   "source": [
    "**Solution**"
   ]
  },
  {
   "cell_type": "raw",
   "metadata": {
    "jupyter": {
     "source_hidden": true
    }
   },
   "source": [
    "// récupère valeurs\n",
    "        mov R6, #0\n",
    "        inp R5, 1\n",
    "        str R5, len\n",
    "boucle: ldr R7, tab\n",
    "        add R7, R6\n",
    "        add R6, #1\n",
    "        inp R0, 1\n",
    "        str R0, (R7)\n",
    "        cmp R6, R5\n",
    "        blt boucle\n",
    "// calcule de leur somme\n",
    "        ldr R7, tab\n",
    "        ldr R6, len\n",
    "        add R6, R7\n",
    "        mov R0, #0\n",
    "        jms somme\n",
    "        out R0, 4\n",
    "        hlt\n",
    "somme:  psh {R1,R7,LR}\n",
    "        ldr R1, [R7]\n",
    "        add R7, #1\n",
    "        cmp R7, R6\n",
    "        beq fin\n",
    "        jms somme\n",
    "fin:    add R0, R1\n",
    "        pop {R1,R7,PC}\n",
    "len:    DAT 0\n",
    "tab:    DAT 200\n",
    "\n"
   ]
  }
 ],
 "metadata": {
  "kernelspec": {
   "display_name": "Python 3",
   "language": "python",
   "name": "python3"
  },
  "language_info": {
   "codemirror_mode": {
    "name": "ipython",
    "version": 3
   },
   "file_extension": ".py",
   "mimetype": "text/x-python",
   "name": "python",
   "nbconvert_exporter": "python",
   "pygments_lexer": "ipython3",
   "version": "3.7.3"
  }
 },
 "nbformat": 4,
 "nbformat_minor": 4
}
