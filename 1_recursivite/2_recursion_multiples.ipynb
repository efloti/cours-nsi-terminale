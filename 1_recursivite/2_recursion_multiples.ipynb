{
 "cells": [
  {
   "cell_type": "markdown",
   "metadata": {},
   "source": [
    "# Récursions multiples"
   ]
  },
  {
   "cell_type": "markdown",
   "metadata": {
    "slideshow": {
     "slide_type": "slide"
    }
   },
   "source": [
    "## Exemple: Recherche d'un élément dans une liste"
   ]
  },
  {
   "cell_type": "markdown",
   "metadata": {
    "slideshow": {
     "slide_type": "subslide"
    }
   },
   "source": [
    "*Problème*: Trouver si un nombre appartient ou non à une liste. \n",
    "\n",
    "On renvoie `True` si c'est le cas `False` autrement."
   ]
  },
  {
   "cell_type": "markdown",
   "metadata": {
    "slideshow": {
     "slide_type": "fragment"
    }
   },
   "source": [
    "**Cas de base**: la liste ne contient qu'un nombre, il suffit alors de le comparer avec celui qu'on cherche."
   ]
  },
  {
   "cell_type": "markdown",
   "metadata": {
    "slideshow": {
     "slide_type": "fragment"
    }
   },
   "source": [
    "**Partage**: la liste initiale $L$ est découpée en deux listes $L_g$ et $L_d$ de tailles égales ou presque. Si $n$ est le nombre d'éléments de la liste et $m$ est le résultat de la division entière de $n$ par $2$:\n",
    "- $L_g=T[1\\dots m]$ (en python cela donne `Lg = L[:m]`)\n",
    "- $L_d=T[(m+1)\\dots n]$ (en python `Ld = L[m:]`)"
   ]
  },
  {
   "cell_type": "markdown",
   "metadata": {
    "slideshow": {
     "slide_type": "fragment"
    }
   },
   "source": [
    "**Récursion**: On appelle récursivement la fonction sur $T_g$ puis sur $T_d$; si l'un de ces appels récursifs renvoie `True`, on renvoie `True`; sinon on renvoie `False`. "
   ]
  },
  {
   "cell_type": "code",
   "execution_count": null,
   "metadata": {
    "slideshow": {
     "slide_type": "subslide"
    }
   },
   "outputs": [],
   "source": [
    "def recherche(nb, nbs):\n",
    "    # cas de base\n",
    "    if len(nbs) == 1: \n",
    "        return nb == nbs[0]\n",
    "    \n",
    "    # découpage\n",
    "    m = len(nbs)//2\n",
    "    nbs_g, nbs_d = nbs[:m], nbs[m:]\n",
    "    # résolution récursive\n",
    "    a_gauche = recherche(nb, nbs_g)\n",
    "    a_droite = recherche(nb, nbs_d)\n",
    "    # combinaison\n",
    "    res = a_gauche or a_droite\n",
    "    return res\n",
    "\n",
    "recherche(23, [0, 5, 15, 20, 25])"
   ]
  },
  {
   "cell_type": "markdown",
   "metadata": {
    "slideshow": {
     "slide_type": "subslide"
    }
   },
   "source": [
    "ou de façon plus concise:"
   ]
  },
  {
   "cell_type": "code",
   "execution_count": null,
   "metadata": {
    "slideshow": {
     "slide_type": "fragment"
    }
   },
   "outputs": [],
   "source": [
    "def recherche(nb, nbs):\n",
    "    if len(nbs) == 1: return nb == nbs[0] # cas de base\n",
    "    m = len(nbs)//2 # découpage\n",
    "    return recherche(nb, nbs[:m]) or recherche(nb, nbs[m:])\n",
    "  \n",
    "recherche(5, [3, 1, 7, 5, 10])"
   ]
  },
  {
   "cell_type": "markdown",
   "metadata": {
    "slideshow": {
     "slide_type": "fragment"
    }
   },
   "source": [
    "Voir dans [Python Tutor](http://pythontutor.com/visualize.html#code=def%20recherche%28nb,%20nbs%29%3A%0A%20%20%20%20if%20len%28nbs%29%20%3D%3D%201%3A%20return%20nb%20%3D%3D%20nbs%5B0%5D%0A%20%20%20%20m%20%3D%20len%28nbs%29%20//%202%0A%20%20%20%20return%20recherche%28nb,%20nbs%5B%3Am%5D%29%20or%20recherche%28nb,%20nbs%5Bm%3A%5D%29%0A%20%20%0Arecherche%285,%20%5B3,%201,%207,%205,%2010%5D%29&cumulative=false&curInstr=0&heapPrimitives=false&mode=display&origin=opt-frontend.js&py=3&rawInputLstJSON=%5B%5D&textReferences=false)"
   ]
  },
  {
   "cell_type": "markdown",
   "metadata": {
    "slideshow": {
     "slide_type": "subslide"
    }
   },
   "source": [
    "### Illustration: arbre des appels"
   ]
  },
  {
   "cell_type": "markdown",
   "metadata": {
    "slideshow": {
     "slide_type": "fragment"
    }
   },
   "source": [
    "On peut tracer un arbre qui précise les différents **appels** (flèches noires) et **retours** (flèches rouges); les petits numéros indiquent l'ordre de ces événements:"
   ]
  },
  {
   "attachments": {
    "3befd413-0ead-4875-b29c-b2176883d3aa.png": {
     "image/png": "[encoded data removed]"
    }
   },
   "cell_type": "markdown",
   "metadata": {},
   "source": [
    "<center><img src=\"attachment:3befd413-0ead-4875-b29c-b2176883d3aa.png\"/></center>"
   ]
  },
  {
   "cell_type": "markdown",
   "metadata": {
    "slideshow": {
     "slide_type": "subslide"
    }
   },
   "source": [
    "### Note: opérateurs «court-circuits» `and` et `or`"
   ]
  },
  {
   "cell_type": "markdown",
   "metadata": {
    "slideshow": {
     "slide_type": "fragment"
    }
   },
   "source": [
    "L'appel entouré en pointillé n'a en fait pas lieu. Cela vient du comportement «court-circuit» ou «fainéant» des opérateurs logiques `and` et `or`. "
   ]
  },
  {
   "cell_type": "markdown",
   "metadata": {
    "slideshow": {
     "slide_type": "fragment"
    }
   },
   "source": [
    "En effet, **dans** `recherche(5, [5, 10])`, lors de l'évaluation de:\n",
    "    \n",
    "    recherche(5, [5]) or recherche(5, [10])\n",
    "                 \n",
    "                 «de la forme»\n",
    "                \n",
    "                expr1 or expr2"
   ]
  },
  {
   "cell_type": "markdown",
   "metadata": {
    "slideshow": {
     "slide_type": "fragment"
    }
   },
   "source": [
    "si `expr1` vaut `True`, l'expression `expr1 or expr2` vaudra `True` ***quel que soit*** la valeur de `expr2`. Pour cette raison `expr2` n'est *pas évaluée dans ce cas* (comportement «fainéant»)."
   ]
  },
  {
   "cell_type": "markdown",
   "metadata": {
    "slideshow": {
     "slide_type": "subslide"
    }
   },
   "source": [
    "Comme ici, `recherche(5, [5])` vaut évidemment `True`,  `recherche(5, [10])` n'est **pas évaluée**. Vérifier par vous-même:"
   ]
  },
  {
   "cell_type": "code",
   "execution_count": null,
   "metadata": {
    "slideshow": {
     "slide_type": "fragment"
    }
   },
   "outputs": [],
   "source": [
    "def test():\n",
    "    print(\"--> appel de test\")\n",
    "    return True\n",
    "\n",
    "False or test() # exécuter puis remplacer `False` par `True`"
   ]
  },
  {
   "cell_type": "markdown",
   "metadata": {
    "slideshow": {
     "slide_type": "fragment"
    }
   },
   "source": [
    "De même, dans `expr1 and expr2`, si `expr1` vaut `False`, alors `expr2` n'est pas évaluée et le résultat est `False`."
   ]
  },
  {
   "cell_type": "markdown",
   "metadata": {
    "slideshow": {
     "slide_type": "subslide"
    }
   },
   "source": [
    "### Visualiser les appels et retours"
   ]
  },
  {
   "cell_type": "code",
   "execution_count": null,
   "metadata": {
    "slideshow": {
     "slide_type": "fragment"
    }
   },
   "outputs": [],
   "source": [
    "def recherche_voir(nb, nbs, n=0):\n",
    "    dec = \"  \" * n\n",
    "    print(f\"{dec}appel recherche({nb}, {nbs})\")\n",
    "    # cas de base\n",
    "    if len(nbs) == 1:\n",
    "        print(f\"{dec}retour recherche({nb}, {nbs}): -> {nb == nbs[0]}\")\n",
    "        return nb == nbs[0]\n",
    "    \n",
    "    # découpage\n",
    "    m = len(nbs)//2\n",
    "    g = recherche_voir(nb, nbs[:m], n+1)\n",
    "    res = g or recherche_voir(nb, nbs[m:], n+1)\n",
    "    print(f\"{dec}retour recherche({nb}, {nbs}): -> {res}\")\n",
    "    return res\n",
    "\n",
    "recherche_voir(5, [3, 1, 7, 5, 10])"
   ]
  },
  {
   "cell_type": "markdown",
   "metadata": {},
   "source": [
    "## Exercices"
   ]
  },
  {
   "cell_type": "markdown",
   "metadata": {},
   "source": [
    "### Exercice 1 - Recherche dichotomique"
   ]
  },
  {
   "cell_type": "markdown",
   "metadata": {},
   "source": [
    "Adapter la fonction `recherche` afin de fournir une *implémentation récursive* de la **recherche dichotomique** dans un tableau trié."
   ]
  },
  {
   "cell_type": "code",
   "execution_count": null,
   "metadata": {},
   "outputs": [],
   "source": [
    "def recherche_dicho(nb, nbs):\n",
    "    # votre code ici"
   ]
  },
  {
   "cell_type": "markdown",
   "metadata": {},
   "source": [
    "**Solution**"
   ]
  },
  {
   "cell_type": "code",
   "execution_count": null,
   "metadata": {
    "jupyter": {
     "source_hidden": true
    }
   },
   "outputs": [],
   "source": [
    "def recherche_dicho(nb, nbs):\n",
    "    N = len(nbs)\n",
    "    if N == 1:\n",
    "        return nb == nbs[0]\n",
    "    m = N // 2\n",
    "    if nb < nbs[m]:\n",
    "        return recherche_dicho(nb, nbs[:m])\n",
    "    elif nb > nbs[m]:\n",
    "        return recherche_dicho(nb, nbs[m+1:])\n",
    "    else:\n",
    "        return True\n",
    "    \n",
    "assert recherche_dicho(5, [1, 3, 4, 6, 12, 13, 15, 100, 1000, 1001]) == False\n",
    "assert recherche_dicho(5, [1, 3, 5, 6, 12, 13, 15, 100, 1000]) == True"
   ]
  },
  {
   "cell_type": "markdown",
   "metadata": {},
   "source": [
    "Ajouter du code pour visualiser les appels et les retours"
   ]
  },
  {
   "cell_type": "code",
   "execution_count": null,
   "metadata": {},
   "outputs": [],
   "source": [
    "def recherche_dicho_voir(nb, nbs, n=0):\n",
    "    # votre code ici"
   ]
  },
  {
   "cell_type": "markdown",
   "metadata": {},
   "source": [
    "**Solution**"
   ]
  },
  {
   "cell_type": "code",
   "execution_count": null,
   "metadata": {
    "jupyter": {
     "source_hidden": true
    }
   },
   "outputs": [],
   "source": [
    "def recherche_dicho_voir(nb, nbs, n=0):\n",
    "    dec = \"  \" * n\n",
    "    print(f\"{dec}appel de recherche_dicho({nb}, {nbs})\")\n",
    "    N = len(nbs)\n",
    "    if N == 1:\n",
    "        print(f\"{dec}retour de recherche_dicho({nb}, {nbs}) -> {nbs == nbs[0]}\")\n",
    "        return nb == nbs[0]\n",
    "    m = N // 2\n",
    "    if nb < nbs[m]:\n",
    "        res = recherche_dicho_voir(nb, nbs[:m], n+1)\n",
    "        print(f\"{dec}retour de recherche_dicho({nb}, {nbs}) -> {res}\")\n",
    "        return res\n",
    "    elif nb > nbs[m]:\n",
    "        res = recherche_dicho_voir(nb, nbs[m+1:], n+1)\n",
    "        print(f\"{dec}retour de recherche_dicho({nb}, {nbs}) -> {res}\")\n",
    "        return res\n",
    "    else:\n",
    "        print(f\"{dec}retour de recherche_dicho({nb}, {nbs}) -> {True}\")\n",
    "        return True\n",
    "    \n",
    "assert recherche_dicho_voir(5, [1, 3, 4, 6, 12, 13, 15, 100, 1000, 1001]) == False\n",
    "print()\n",
    "assert recherche_dicho_voir(5, [1, 3, 5, 6, 12, 13, 15, 100, 1000]) == True"
   ]
  },
  {
   "cell_type": "markdown",
   "metadata": {
    "slideshow": {
     "slide_type": "skip"
    }
   },
   "source": [
    "***"
   ]
  },
  {
   "cell_type": "markdown",
   "metadata": {},
   "source": [
    "### Exercice 2 - Tri fusion"
   ]
  },
  {
   "cell_type": "markdown",
   "metadata": {},
   "source": [
    "En première sont abordées les algorithmes de **tris** par **sélection** et de **tri** par **insertion**.\n",
    "\n",
    "Leur complexité est $O(n^2)$ ce qui veut dire que, pour un tableau de taille $n$, le temps qu'il mettrons pour réaliser le tri sera proportionnel au carré de la taille du tableau d'entrée.\n",
    "\n",
    "Nous abordons ici un nouvel algorithme de tri, le **tri fusion**, dont la complexité est $O(n\\log n)$ (quasi-linéaire).\n",
    "\n",
    "Ce tri procède *récursivement* selon la méthodologie **diviser-régner**.\n",
    "\n",
    "Lors de la phase de descente, il partage *récursivement* le tableau donné en entrée en deux tableaux de tailles voisines jusqu'à obtenir des tableaux de taille 1 (triés par définition)\n",
    "\n",
    "Arrivé à ce point, lors de la phase de remontée, il **fusionne** les tableaux deux à deux pour produire un nouveau tableau trié.\n",
    "\n",
    "L'opération de **fusion** de deux tableaux triés est donné ci-après:"
   ]
  },
  {
   "cell_type": "code",
   "execution_count": null,
   "metadata": {},
   "outputs": [],
   "source": [
    "def fusionner(nbs1, nbs2):\n",
    "    nbs = []\n",
    "    i, j, N1, N2 = 0, 0, len(nbs1), len(nbs2)\n",
    "    while i < N1 and j < N2:\n",
    "        nb1, nb2 = nbs1[i], nbs2[j]\n",
    "        if nb1 < nb2:\n",
    "            nbs.append(nb1)\n",
    "            i += 1\n",
    "        else:\n",
    "            nbs.append(nb2)\n",
    "            j += 1\n",
    "    if i == N1:\n",
    "        nbs.extend(nbs2[j:])\n",
    "    else:\n",
    "        nbs.extend(nbs1[i:])\n",
    "    return nbs"
   ]
  },
  {
   "cell_type": "code",
   "execution_count": null,
   "metadata": {},
   "outputs": [],
   "source": [
    "assert fusionner([3], [2, 5]) == [2, 3, 5]"
   ]
  },
  {
   "cell_type": "markdown",
   "metadata": {},
   "source": [
    "Implémenter `tri_fusion(nbs)`"
   ]
  },
  {
   "cell_type": "code",
   "execution_count": null,
   "metadata": {},
   "outputs": [],
   "source": [
    "def tri_fusion(nbs):\n",
    "    # votre code ici"
   ]
  },
  {
   "cell_type": "code",
   "execution_count": null,
   "metadata": {},
   "outputs": [],
   "source": [
    "from random import randint\n",
    "tri_fusion([randint(1, 100) for i in range(10)])"
   ]
  },
  {
   "cell_type": "markdown",
   "metadata": {},
   "source": [
    "**Solution**"
   ]
  },
  {
   "cell_type": "code",
   "execution_count": null,
   "metadata": {
    "jupyter": {
     "source_hidden": true
    }
   },
   "outputs": [],
   "source": [
    "def tri_fusion(nbs):\n",
    "    N = len(nbs)\n",
    "    if N == 1: return nbs\n",
    "    m = N // 2\n",
    "    return fusionner(\n",
    "        tri_fusion(nbs[:m]),\n",
    "        tri_fusion(nbs[m:])\n",
    "    )      "
   ]
  },
  {
   "cell_type": "markdown",
   "metadata": {
    "slideshow": {
     "slide_type": "skip"
    }
   },
   "source": [
    "***"
   ]
  }
 ],
 "metadata": {
  "kernelspec": {
   "display_name": "Python 3",
   "language": "python",
   "name": "python3"
  },
  "language_info": {
   "codemirror_mode": {
    "name": "ipython",
    "version": 3
   },
   "file_extension": ".py",
   "mimetype": "text/x-python",
   "name": "python",
   "nbconvert_exporter": "python",
   "pygments_lexer": "ipython3",
   "version": "3.7.3"
  }
 },
 "nbformat": 4,
 "nbformat_minor": 4
}
