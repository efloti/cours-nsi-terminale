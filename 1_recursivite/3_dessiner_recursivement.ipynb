{
 "cells": [
  {
   "cell_type": "code",
   "execution_count": null,
   "metadata": {},
   "outputs": [],
   "source": []
  },
  {
   "cell_type": "markdown",
   "metadata": {},
   "source": [
    "# Dessiner récursivement"
   ]
  },
  {
   "cell_type": "markdown",
   "metadata": {},
   "source": [
    "## `ipycanvas`"
   ]
  },
  {
   "cell_type": "markdown",
   "metadata": {},
   "source": [
    "Nous utilisons le module `ipycanvas` - [doc](https://ipycanvas.readthedocs.io/en/latest/index.html) - permettant de dessiner dans un «canvas» intégré au notebook."
   ]
  },
  {
   "cell_type": "code",
   "execution_count": null,
   "metadata": {},
   "outputs": [],
   "source": [
    "from ipycanvas import Canvas"
   ]
  },
  {
   "cell_type": "markdown",
   "metadata": {},
   "source": [
    "Il suffit alors de le «construire» (en lui fournissant éventuellement sa largeur *width* et sa hauteur *height*):"
   ]
  },
  {
   "cell_type": "code",
   "execution_count": null,
   "metadata": {},
   "outputs": [],
   "source": [
    "can = Canvas(width=400, height=400)\n",
    "can"
   ]
  },
  {
   "cell_type": "markdown",
   "metadata": {},
   "source": [
    "**Note**: pour garder en vue la zone affichée, ouvrir une autre vue du même notebook (clic droit sur le nom du notebook et choisir «New View for Notebook»)."
   ]
  },
  {
   "cell_type": "markdown",
   "metadata": {},
   "source": [
    "### Couleur de remplissage"
   ]
  },
  {
   "cell_type": "markdown",
   "metadata": {},
   "source": [
    "On définit la couleur de remplissage `.fill_style = <couleur>` et on remplit un rectangle `.fill_rect(x, y, w, h)`.\n",
    "\n",
    "Nous encadrons ces commandes avec `.save()` et `.restore()` afin de remettre la couleur de remplissage par défaut à sa valeur initiale."
   ]
  },
  {
   "cell_type": "code",
   "execution_count": null,
   "metadata": {},
   "outputs": [],
   "source": [
    "can.save()\n",
    "can.fill_style = \"cornsilk\" # voir https://developer.mozilla.org/fr/docs/Web/CSS/Type_color\n",
    "can.fill_rect(0, 0, can.width, can.height)\n",
    "can.restore()# remet la couleur de remplissage par défaut"
   ]
  },
  {
   "cell_type": "markdown",
   "metadata": {},
   "source": [
    "### Dessiner sur le canvas"
   ]
  },
  {
   "cell_type": "markdown",
   "metadata": {},
   "source": [
    "Le canvas est rapporté un à repère comme suit:\n",
    "![](https://ipycanvas.readthedocs.io/en/latest/_images/grid.png)"
   ]
  },
  {
   "cell_type": "markdown",
   "metadata": {},
   "source": [
    "#### Des rectangles pour commencer"
   ]
  },
  {
   "cell_type": "markdown",
   "metadata": {},
   "source": [
    "ExerciceUn rectangle est défini par les coordonnées de son point supérieur gauche (*topleft*), sa largeur (*width*) et sa hauteur (*height*).\n",
    "\n",
    "L'opération `.fill_rect(x, y, width, height)` remplit le rectangle donné avec la couleur de remplissage `.fill_rect`.\n",
    "\n",
    "L'opération `.stroke_rect(<rect>)` dessine son **contour** avec la couleur `.stroke_style`."
   ]
  },
  {
   "cell_type": "markdown",
   "metadata": {},
   "source": [
    "Voici un exemple simple:"
   ]
  },
  {
   "cell_type": "code",
   "execution_count": null,
   "metadata": {},
   "outputs": [],
   "source": [
    "y = can.height / 2\n",
    "for x in range(10, can.width-10, 20):\n",
    "    can.fill_rect(x, y, 10, 10)\n",
    "    can.save()\n",
    "    can.stroke_style = \"red\"\n",
    "    can.stroke_rect(x, y, 10, 10)\n",
    "    can.restore()"
   ]
  },
  {
   "cell_type": "markdown",
   "metadata": {},
   "source": [
    "`.clear()` pour effacer le canvas."
   ]
  },
  {
   "cell_type": "code",
   "execution_count": null,
   "metadata": {},
   "outputs": [],
   "source": [
    "can.clear()"
   ]
  },
  {
   "cell_type": "markdown",
   "metadata": {},
   "source": [
    "ExerciceMais on souhaite conserver une couleur de fond... alors définissons une fonction pour cela:"
   ]
  },
  {
   "cell_type": "code",
   "execution_count": null,
   "metadata": {},
   "outputs": [],
   "source": [
    "def clear(couleur=\"cornsilk\"):\n",
    "    can.clear()\n",
    "    can.save()\n",
    "    can.fill_style = couleur # voir https://developer.mozilla.org/fr/docs/Web/CSS/Type_color\n",
    "    can.fill_rect(0, 0, can.width, can.height)\n",
    "    can.restore() # remet la couleur de remplissage par défaut"
   ]
  },
  {
   "cell_type": "code",
   "execution_count": null,
   "metadata": {},
   "outputs": [],
   "source": [
    "clear()"
   ]
  },
  {
   "cell_type": "markdown",
   "metadata": {},
   "source": [
    "#### Exercice 1"
   ]
  },
  {
   "cell_type": "markdown",
   "metadata": {},
   "source": [
    "1. En reprenant l'exemple précédent, afficher une colonne de petits rectangles noirs (plutôt qu'une ligne)"
   ]
  },
  {
   "cell_type": "code",
   "execution_count": null,
   "metadata": {},
   "outputs": [],
   "source": [
    "# votre solution"
   ]
  },
  {
   "cell_type": "markdown",
   "metadata": {},
   "source": [
    "**Solution**"
   ]
  },
  {
   "cell_type": "code",
   "execution_count": null,
   "metadata": {
    "jupyter": {
     "source_hidden": true
    }
   },
   "outputs": [],
   "source": [
    "clear()\n",
    "x = can.width / 2\n",
    "for y in range(10, can.height-10, 20):\n",
    "    can.fill_rect(x, y, 10, 10)\n",
    "    can.save()\n",
    "    can.stroke_style = \"red\"\n",
    "    can.stroke_rect(x, y, 10, 10)\n",
    "    can.restore()"
   ]
  },
  {
   "cell_type": "markdown",
   "metadata": {},
   "source": [
    "2. Remplir tout le canvas avec ces petits rectangle (boucles imbriqués)"
   ]
  },
  {
   "cell_type": "code",
   "execution_count": null,
   "metadata": {},
   "outputs": [],
   "source": [
    "# votre solution"
   ]
  },
  {
   "cell_type": "markdown",
   "metadata": {},
   "source": [
    "**Solution**"
   ]
  },
  {
   "cell_type": "code",
   "execution_count": null,
   "metadata": {
    "jupyter": {
     "source_hidden": true
    }
   },
   "outputs": [],
   "source": [
    "clear()\n",
    "for x in range(10, can.height-10, 20):\n",
    "    for y in range(10, can.width-10, 20):\n",
    "        can.fill_rect(x, y, 10, 10)\n",
    "        can.save()\n",
    "        can.stroke_style = \"red\"\n",
    "        can.stroke_rect(x, y, 10, 10)\n",
    "        can.restore()"
   ]
  },
  {
   "cell_type": "markdown",
   "metadata": {},
   "source": [
    "### Tracer une ligne polygonale"
   ]
  },
  {
   "cell_type": "markdown",
   "metadata": {},
   "source": [
    "On déclare qu'on va définir une telle ligne avec `.begin_path()`(*path*: chemin), puis on place son point de départ `.move_to(x, y)` et on définit des lignes avec `.line_to(x, y)` (la position courante du tracé est mise à jour).\n",
    "\n",
    "Une fois la ligne polygonale définie, on la trace avec `.stroke()`."
   ]
  },
  {
   "cell_type": "markdown",
   "metadata": {},
   "source": [
    "Pour bien comprendre, nous allons ralentir le tracé avec la fonction `sleep(<secondes>)` du module `time`. Cela suspend python le temps indiqué."
   ]
  },
  {
   "cell_type": "code",
   "execution_count": null,
   "metadata": {},
   "outputs": [],
   "source": [
    "from time import sleep"
   ]
  },
  {
   "cell_type": "markdown",
   "metadata": {},
   "source": [
    "Voici un exemple basique:"
   ]
  },
  {
   "cell_type": "code",
   "execution_count": null,
   "metadata": {},
   "outputs": [],
   "source": [
    "clear()\n",
    "x0, x1, x2, x3 = 10,  50, 100, 20\n",
    "y0, y1, y2, y3 = 20, 100,  50, 10\n",
    "can.begin_path()\n",
    "can.move_to(x0,y0)\n",
    "# on peut séparer plusieurs instructions sur une même ligne\n",
    "# avec «;»\n",
    "can.line_to(x1,y1); can.stroke(); sleep(.5) \n",
    "can.line_to(x2,y2); can.stroke(); sleep(.5)\n",
    "can.line_to(x3,y3); can.stroke(); sleep(.5)"
   ]
  },
  {
   "cell_type": "markdown",
   "metadata": {},
   "source": [
    "En voici un autre:"
   ]
  },
  {
   "cell_type": "code",
   "execution_count": null,
   "metadata": {},
   "outputs": [],
   "source": [
    "clear()\n",
    "can.begin_path()\n",
    "x, y = 10, can.height / 2\n",
    "can.move_to(x,y)\n",
    "for i in range(100):\n",
    "    x += 10\n",
    "    if x > can.width - 10:\n",
    "        break\n",
    "    y += 10 if i % 2 == 0 else -10\n",
    "    can.line_to(x,y)\n",
    "can.stroke() # il est plus efficace de dessiner le chemin en une fois"
   ]
  },
  {
   "cell_type": "markdown",
   "metadata": {},
   "source": [
    "Voilà pour le principe. À présent, plutôt que de fournir (ou de calculer) chaque point au fur et à mesure, on peut les fournir dans une liste à une fonction `poly` qui se chargera de dessiner la ligne polygonale correspondante."
   ]
  },
  {
   "cell_type": "markdown",
   "metadata": {},
   "source": [
    "#### Exercice 2"
   ]
  },
  {
   "cell_type": "markdown",
   "metadata": {},
   "source": [
    "Voici un point de départ à compléter:"
   ]
  },
  {
   "cell_type": "code",
   "execution_count": null,
   "metadata": {},
   "outputs": [],
   "source": [
    "# pts est une liste de tuples de la forme (x, y)\n",
    "def poly(pts, fermer=True):\n",
    "    if len(pts) < 2: return\n",
    "    depart, *autres = pts\n",
    "    can.___()\n",
    "    can.move_to(*depart) # equivalent à `x, y = depart; can.move_to(x, y)`\n",
    "    for pt in autres:\n",
    "        can.line_to(___)\n",
    "    if fermer:\n",
    "        can.close_path()\n",
    "    can.___()"
   ]
  },
  {
   "cell_type": "markdown",
   "metadata": {},
   "source": [
    "Pour la tester"
   ]
  },
  {
   "cell_type": "code",
   "execution_count": null,
   "metadata": {},
   "outputs": [],
   "source": [
    "clear()\n",
    "pts = [\n",
    "    (1/4 * can.width, 2/3 * can.height),\n",
    "    (3/4 * can.width, 2/3 * can.height),\n",
    "    (1/2 * can.width, 1/4 * can.height)\n",
    "]\n",
    "poly(pts) # essayer poly(pts, fermer=False) pour voir la différence..."
   ]
  },
  {
   "cell_type": "markdown",
   "metadata": {},
   "source": [
    "**Solution**"
   ]
  },
  {
   "cell_type": "code",
   "execution_count": null,
   "metadata": {
    "jupyter": {
     "source_hidden": true
    }
   },
   "outputs": [],
   "source": [
    "def poly(pts, fermer=True):\n",
    "    if len(pts) < 2: return\n",
    "    depart, *autres = pts\n",
    "    can.begin_path()\n",
    "    can.move_to(*depart) # equivalent à `x, y = depart; can.move_to(x, y)`\n",
    "    for pt in autres:\n",
    "        can.line_to(*pt)\n",
    "    if fermer:\n",
    "        can.close_path()\n",
    "    can.stroke()"
   ]
  },
  {
   "cell_type": "markdown",
   "metadata": {},
   "source": [
    "***"
   ]
  },
  {
   "cell_type": "markdown",
   "metadata": {},
   "source": [
    "## Triangle de Sierpinsky"
   ]
  },
  {
   "cell_type": "markdown",
   "metadata": {},
   "source": [
    "On part d'un triangle (souvent équilatéral... mais pas obligatoirement), et on en construit d'autres selon le schéma:\n",
    "\n",
    "![](https://mathworld.wolfram.com/images/eps-gif/SierpinskiGraph_800.gif)"
   ]
  },
  {
   "cell_type": "markdown",
   "metadata": {},
   "source": [
    "Pour dessiner une figure analogue, nous aurons clairement besoin de calculer le point milieu de deux points donnés."
   ]
  },
  {
   "cell_type": "markdown",
   "metadata": {},
   "source": [
    "#### Exercice 3"
   ]
  },
  {
   "cell_type": "markdown",
   "metadata": {},
   "source": [
    "compléter le code qui suit"
   ]
  },
  {
   "cell_type": "code",
   "execution_count": null,
   "metadata": {},
   "outputs": [],
   "source": [
    "# pt1 et pt2 sont supposés être des tuples de la forme (x, y)\n",
    "def milieu(pt1, pt2):\n",
    "    x1, y1 = pt1\n",
    "    ___\n",
    "    return ____, ____"
   ]
  },
  {
   "cell_type": "code",
   "execution_count": null,
   "metadata": {},
   "outputs": [],
   "source": [
    "assert milieu((100, 50), (200, 150)) == (150, 100)"
   ]
  },
  {
   "cell_type": "markdown",
   "metadata": {},
   "source": [
    "**Solution**"
   ]
  },
  {
   "cell_type": "code",
   "execution_count": null,
   "metadata": {
    "jupyter": {
     "source_hidden": true
    }
   },
   "outputs": [],
   "source": [
    "def milieu(pt1, pt2):\n",
    "    x1, y1 = pt1\n",
    "    x2, y2 = pt2\n",
    "    return (x1 + x2) / 2, (y1 + y2) / 2"
   ]
  },
  {
   "cell_type": "markdown",
   "metadata": {},
   "source": [
    "On peut alors utiliser cette fonction pour calculer **les** milieux des segments d'une ligne polygonale fournie sous la forme d'une liste de points:"
   ]
  },
  {
   "cell_type": "code",
   "execution_count": null,
   "metadata": {},
   "outputs": [],
   "source": [
    "def milieux(pts, fermer=True):\n",
    "    if len(pts) < 2: return []\n",
    "    ms = []\n",
    "    A, *autres = pts\n",
    "    for B in autres:\n",
    "        ptm = milieu(A, B)\n",
    "        ms.append(ptm)\n",
    "        A = B\n",
    "    if fermer:\n",
    "        ms.append(milieu(pts[0],A))\n",
    "    return ms"
   ]
  },
  {
   "cell_type": "code",
   "execution_count": null,
   "metadata": {},
   "outputs": [],
   "source": [
    "clear()\n",
    "poly(pts)\n",
    "poly(milieux(pts))"
   ]
  },
  {
   "cell_type": "markdown",
   "metadata": {},
   "source": [
    "#### Exercice 4"
   ]
  },
  {
   "cell_type": "markdown",
   "metadata": {},
   "source": [
    "En exploitant la récursivité multiple, vous devriez réussir à dessiner votre propre triangle de Sierpinsky:\n",
    "\n",
    "Compléter la fonction qui suit pour y parvenir:"
   ]
  },
  {
   "cell_type": "code",
   "execution_count": null,
   "metadata": {},
   "outputs": [],
   "source": [
    "def sierpinsky(pts, n):\n",
    "    if n == -1: return\n",
    "    poly(pts)\n",
    "    ms = milieux(pts)\n",
    "    sierpinsky([pts[0],ms[0],ms[2]], n-1)\n",
    "    sierpinsky(___, n-1)\n",
    "    sierpinsky(___, n-1)"
   ]
  },
  {
   "cell_type": "markdown",
   "metadata": {},
   "source": [
    "puis tester:"
   ]
  },
  {
   "cell_type": "code",
   "execution_count": null,
   "metadata": {},
   "outputs": [],
   "source": [
    "clear()\n",
    "tri = [\n",
    "    (0, can.height),\n",
    "    (can.width, can.height),\n",
    "    (can.width/2, 0)\n",
    "]\n",
    "sierpinsky(tri, 5)"
   ]
  },
  {
   "cell_type": "markdown",
   "metadata": {},
   "source": [
    "**Solution**"
   ]
  },
  {
   "cell_type": "code",
   "execution_count": null,
   "metadata": {
    "jupyter": {
     "source_hidden": true
    }
   },
   "outputs": [],
   "source": [
    "def sierpinsky(pts, n):\n",
    "    if n == -1: return\n",
    "    poly(pts)\n",
    "    ms = milieux(pts)\n",
    "    sierpinsky([pts[0],ms[0],ms[2]], n-1)\n",
    "    sierpinsky([pts[1],ms[0],ms[1]], n-1)\n",
    "    sierpinsky([pts[2],ms[2],ms[1]], n-1)"
   ]
  },
  {
   "cell_type": "markdown",
   "metadata": {},
   "source": [
    "***"
   ]
  },
  {
   "cell_type": "markdown",
   "metadata": {},
   "source": [
    "Si on prend `n=7` dans le code précédent, le dessin ne vas pas au bout. En effet, chaque appel de commande de dessin comme `.stroke` envoie un «message» au canvas et le nombre limite de tels messages est de 1000. Or:"
   ]
  },
  {
   "cell_type": "code",
   "execution_count": null,
   "metadata": {},
   "outputs": [],
   "source": [
    "3**6, 3**7"
   ]
  },
  {
   "cell_type": "markdown",
   "metadata": {},
   "source": [
    "Mais, on peut tout de même effectuer le tracer à condition d'envoyer toutes les commandes en une fois.\n",
    "\n",
    "Pour cela, on utilise la syntaxe:\n",
    "```python\n",
    "with hold_canvas(can):\n",
    "    ## dessins\n",
    "```\n",
    "\n",
    "Il est nécessaire d'importer `hold_canvas`:\n",
    "```python\n",
    "from ipycanvas import hold_canvas\n",
    "```\n",
    "\n",
    "Ici, cela donne:"
   ]
  },
  {
   "cell_type": "code",
   "execution_count": null,
   "metadata": {},
   "outputs": [],
   "source": [
    "from ipycanvas import hold_canvas"
   ]
  },
  {
   "cell_type": "code",
   "execution_count": null,
   "metadata": {},
   "outputs": [],
   "source": [
    "clear()\n",
    "with hold_canvas(can):\n",
    "    sierpinsky(tri, 7)"
   ]
  },
  {
   "cell_type": "markdown",
   "metadata": {},
   "source": [
    "#### Un peu de couleur (complément)"
   ]
  },
  {
   "cell_type": "markdown",
   "metadata": {},
   "source": [
    "On pourrait mettre un peu de couleur... en adaptant `poly` et `sierpinsky`:"
   ]
  },
  {
   "cell_type": "code",
   "execution_count": null,
   "metadata": {},
   "outputs": [],
   "source": [
    "palette = [\"black\", \"red\", \"green\", \"blue\", \"white\"]\n",
    "\n",
    "def poly_col(pts, color=\"white\"):\n",
    "    if len(pts) < 2: return\n",
    "    depart, *autres = pts\n",
    "    can.begin_path()\n",
    "    can.move_to(*depart)\n",
    "    for pt in autres:\n",
    "        can.line_to(*pt)\n",
    "    can.close_path()\n",
    "    can.save()\n",
    "    can.fill_style = color\n",
    "    can.fill()\n",
    "    can.restore()\n",
    "\n",
    "def sierpinsky_col(pts, n):\n",
    "    if n == -1: return\n",
    "    poly_col(\n",
    "        pts, \n",
    "        palette[n%len(palette)]\n",
    "    )\n",
    "    ms = milieux(pts)\n",
    "    sierpinsky_col([pts[0],ms[0],ms[2]], n-1)\n",
    "    sierpinsky_col([pts[1],ms[0],ms[1]], n-1)\n",
    "    sierpinsky_col([pts[2],ms[2],ms[1]], n-1)"
   ]
  },
  {
   "cell_type": "code",
   "execution_count": null,
   "metadata": {},
   "outputs": [],
   "source": [
    "clear()\n",
    "# with hold_canvas(can):\n",
    "sierpinsky_col(tri, 6)"
   ]
  },
  {
   "cell_type": "markdown",
   "metadata": {},
   "source": [
    "## Tapis de Sierpinsky"
   ]
  },
  {
   "cell_type": "markdown",
   "metadata": {},
   "source": [
    "On commence par dessiner un rectangle."
   ]
  },
  {
   "cell_type": "code",
   "execution_count": null,
   "metadata": {},
   "outputs": [],
   "source": [
    "rect_base = (\n",
    "    .1 * can.width, .1 * can.height, # x, y\n",
    "    .8 * can.width, .8 * can.height # w, h\n",
    ")\n",
    "clear()\n",
    "can.fill_rect(*rect_base)"
   ]
  },
  {
   "cell_type": "markdown",
   "metadata": {},
   "source": [
    "Puis, on le divise en 9 rectangles de même taille en divisant la\n",
    "largeur et la hauteur du rectangle initial par 3.\n",
    "\n",
    "On retire alors le rectangle du milieu (en le remplissant de blanc par exemple)"
   ]
  },
  {
   "cell_type": "code",
   "execution_count": null,
   "metadata": {},
   "outputs": [],
   "source": [
    "x, y, w, h = rect_base\n",
    "rect_centre = (\n",
    "    x + 1/3 * w, y + 1/3 * h,\n",
    "    w/3, h/3\n",
    ")\n",
    "can.save()\n",
    "can.fill_style = \"white\"\n",
    "can.fill_rect(*rect_centre)\n",
    "can.restore()"
   ]
  },
  {
   "cell_type": "markdown",
   "metadata": {},
   "source": [
    "L'idée est alors de recommencer avec les 8 sous-rectangles restants...\n",
    "\n",
    "![](https://s3.amazonaws.com/illustrativemathematics/images/000/002/320/max/2_f84d6f2ea4f799167285abcb4002e75e.jpg?1369368754)"
   ]
  },
  {
   "cell_type": "markdown",
   "metadata": {},
   "source": [
    "Il y a intérêt à s'organiser..."
   ]
  },
  {
   "cell_type": "code",
   "execution_count": null,
   "metadata": {},
   "outputs": [],
   "source": [
    "def trouer_rectangle(rect):\n",
    "    x, y, w, h = rect\n",
    "    can.save()\n",
    "    can.fill_style = \"white\"\n",
    "    can.fill_rect(x+w/3, y+h/3, w/3, h/3)\n",
    "    can.restore()\n",
    "    # construire la liste des 8 sous-rectangles\n",
    "    sous_rects = []\n",
    "    for i in range(3):\n",
    "        for j in range(3):\n",
    "            if not (i == 1 and j == 1):\n",
    "                sous_rects.append((\n",
    "                    x + i * w/3, y + j * h/3,\n",
    "                    w/3, h/3\n",
    "            ))\n",
    "    return sous_rects"
   ]
  },
  {
   "cell_type": "markdown",
   "metadata": {},
   "source": [
    "on peut alors procéder comme suit:"
   ]
  },
  {
   "cell_type": "code",
   "execution_count": null,
   "metadata": {},
   "outputs": [],
   "source": [
    "clear()\n",
    "can.fill_rect(*rect_base)\n",
    "sous_rs = trouer_rectangle(rect_base)\n",
    "for r in sous_rs:\n",
    "    trouer_rectangle(r)"
   ]
  },
  {
   "cell_type": "markdown",
   "metadata": {},
   "source": [
    "Mais on pourrait recommencer avec les 8 sous-sous-rectangles des sous rectangles, et puis faire cela à nouveau..."
   ]
  },
  {
   "cell_type": "markdown",
   "metadata": {},
   "source": [
    "#### Exercice 5"
   ]
  },
  {
   "cell_type": "markdown",
   "metadata": {},
   "source": [
    "En réutilisant `trouer_rectangle`, définir `tapis(rect, n)` qui dessine un tapis de Sierpinsky de «niveau» `n` dans le rectangle `rect` fourni.\n",
    "\n",
    "Pour `n=0`, On affiche le rectangle de base, pour `n=1`, il est troué, pour `n=2`, les sous-rectangles le sont à leur tour et ainsi de suite."
   ]
  },
  {
   "cell_type": "code",
   "execution_count": null,
   "metadata": {},
   "outputs": [],
   "source": [
    "def tapis(rect, n):\n",
    "    # à vous de jouer"
   ]
  },
  {
   "cell_type": "code",
   "execution_count": null,
   "metadata": {},
   "outputs": [],
   "source": [
    "clear()\n",
    "tapis(rect_base, n=3)"
   ]
  },
  {
   "cell_type": "markdown",
   "metadata": {},
   "source": [
    "Cela échoue pour `n=4` car $8^4=(2^3)^4=2^{12} > 1000$"
   ]
  },
  {
   "cell_type": "code",
   "execution_count": null,
   "metadata": {},
   "outputs": [],
   "source": [
    "clear()\n",
    "with hold_canvas(can):\n",
    "    tapis(rect_base, n=4)"
   ]
  },
  {
   "cell_type": "markdown",
   "metadata": {},
   "source": [
    "**Solution**"
   ]
  },
  {
   "cell_type": "code",
   "execution_count": null,
   "metadata": {
    "jupyter": {
     "source_hidden": true
    }
   },
   "outputs": [],
   "source": [
    "def tapis(rect, n):\n",
    "    if n == 0:\n",
    "        can.save()\n",
    "        can.fill_style = \"black\"\n",
    "        can.fill_rect(*rect)\n",
    "        can.restore()\n",
    "        return\n",
    "    rs = trouer_rectangle(rect)\n",
    "    for r in rs:\n",
    "        tapis(r, n-1)"
   ]
  },
  {
   "cell_type": "markdown",
   "metadata": {},
   "source": [
    "***"
   ]
  }
 ],
 "metadata": {
  "kernelspec": {
   "display_name": "Python 3",
   "language": "python",
   "name": "python3"
  },
  "language_info": {
   "codemirror_mode": {
    "name": "ipython",
    "version": 3
   },
   "file_extension": ".py",
   "mimetype": "text/x-python",
   "name": "python",
   "nbconvert_exporter": "python",
   "pygments_lexer": "ipython3",
   "version": "3.7.3"
  },
  "toc-autonumbering": false
 },
 "nbformat": 4,
 "nbformat_minor": 4
}
