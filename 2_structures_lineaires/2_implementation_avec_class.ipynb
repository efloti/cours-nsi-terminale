{
 "cells": [
  {
   "cell_type": "markdown",
   "metadata": {},
   "source": [
    "# Implémentation avec `class`e!"
   ]
  },
  {
   "cell_type": "markdown",
   "metadata": {},
   "source": [
    "Nous allons définir nos propres `Cellule`s et nous appuyer sur elles pour définir des `Liste`s chaînées simples."
   ]
  },
  {
   "cell_type": "markdown",
   "metadata": {},
   "source": [
    "**CONSIGNE**: On donne à chaque fois un début d'implémentation avec des parties manquantes marquées par `___` et qu'il faut compléter de façon à passer les assertions qui suivent immédiatement."
   ]
  },
  {
   "cell_type": "markdown",
   "metadata": {
    "toc-hr-collapsed": true,
    "toc-nb-collapsed": true
   },
   "source": [
    "## Classe `Cellule`"
   ]
  },
  {
   "attachments": {
    "a73a52e8-9f25-4778-81b9-28266a2764d8.png": {
     "image/png": "[encoded data removed]"
    }
   },
   "cell_type": "markdown",
   "metadata": {},
   "source": [
    "Une `Cellule` comporte deux **attributs**:\n",
    "- `valeur`: qui pointe vers la donnée transportée par la cellule,\n",
    "- `_suivante`: qui pointe (ou fait référence à) la cellule suivante - non pas à sa valeur - s'il y en a une.\n",
    "\n",
    "<center>\n",
    "    <img src=\"attachment:a73a52e8-9f25-4778-81b9-28266a2764d8.png\" alt=\"cellule.png\"/>\n",
    "</center>"
   ]
  },
  {
   "cell_type": "code",
   "execution_count": null,
   "metadata": {},
   "outputs": [],
   "source": [
    "class Cellule:\n",
    "    \"\"\"Fondation du type ListeSimple\"\"\"\n",
    "    def __init__(self, valeur, suivante=None):\n",
    "        self.valeur = valeur\n",
    "        # éviter de jouer avec ce pointeur en écriture\n",
    "        # convention «underscore»: _attrib\n",
    "        self._suivante = suivante\n",
    "\n",
    "    # Pour donner accès en lecture à l'attribut _suivante\n",
    "    # Si c est une Cellule, «cell = c.suivante» est licite\n",
    "    # mais pas «c.suivante = valeur»\n",
    "    @property # on appelle cela un décorateur.\n",
    "    def suivante(self):\n",
    "        return self._suivante"
   ]
  },
  {
   "cell_type": "markdown",
   "metadata": {},
   "source": [
    "**IMPORTANT**: Afin de pouvoir définir la classe dans des cellules successives du notebook (petit à petit), nous définirons une méthode par cellule du notebook en utilisant la syntaxe:\n",
    "\n",
    "```python\n",
    "def fn(self,...):\n",
    "    ...\n",
    "\n",
    "# fn est «accroché» à la classe «Classe» et deviens une méthode de cette classe\n",
    "Classe.fn = fn \n",
    "# on supprime le nom «décroché» fn de l'espace de nommage courant\n",
    "del fn\n",
    "```\n",
    "\n",
    "Il s'agit juste d'une *astuce technique*: ordinairement, les méthodes sont définies dans le corps de la construction `class`."
   ]
  },
  {
   "cell_type": "markdown",
   "metadata": {},
   "source": [
    "### `__str__`"
   ]
  },
  {
   "cell_type": "markdown",
   "metadata": {},
   "source": [
    "On souhaite pouvoir afficher la valeur d'une cellule ainsi que celles qui la suivent s'il y en a."
   ]
  },
  {
   "cell_type": "code",
   "execution_count": null,
   "metadata": {},
   "outputs": [],
   "source": [
    "# À COMPLETER\n",
    "# fn spéciale: renvoie une chaîne de caractère pour utilisation avec print\n",
    "def __str__(self):\n",
    "    # cas de base:\n",
    "    # la cellule n'a pas de suivante\n",
    "    if self.___ is None:\n",
    "        return f\"{self.___}\"\n",
    "    \n",
    "    # Appel récursif\n",
    "    return f\"{self.valeur} → {___}\"\n",
    "        \n",
    "\n",
    "Cellule.__str__ = __str__\n",
    "del __str__"
   ]
  },
  {
   "cell_type": "code",
   "execution_count": null,
   "metadata": {},
   "outputs": [],
   "source": [
    "c0, c1, c3 = Cellule(\"zéro\"), Cellule(\"un\"), Cellule(\"trois\")\n",
    "c2 = Cellule(\"deux\", c3)\n",
    "c0._suivante = c1; c1._suivante = c2\n",
    "\n",
    "assert str(c0) == \"zéro → un → deux → trois\"\n",
    "assert str(c3.suivante) == \"None\""
   ]
  },
  {
   "cell_type": "markdown",
   "metadata": {},
   "source": [
    "**solution**"
   ]
  },
  {
   "cell_type": "code",
   "execution_count": null,
   "metadata": {
    "jupyter": {
     "source_hidden": true
    }
   },
   "outputs": [],
   "source": [
    "# fn spéciale: renvoie une chaîne de caractère pour utilisation avec print\n",
    "def __str__(self):\n",
    "    # cas de base:\n",
    "    # la cellule n'a pas de suivante\n",
    "    if self._suivante is None:\n",
    "        return f\"{self.valeur}\"\n",
    "    \n",
    "    # Appel récursif\n",
    "    return f\"{self.valeur} → {self._suivante}\"\n",
    "        \n",
    "\n",
    "Cellule.__str__ = __str__\n",
    "del __str__"
   ]
  },
  {
   "cell_type": "markdown",
   "metadata": {},
   "source": [
    "### Digression: Gestion automatique de la mémoire\n",
    "\n",
    "Lorsqu'un objet n'est plus accessible car aucun nom n'y fait plus référence, Python libère *automatiquement* l'espace mémoire occupé par l'objet.\n",
    "\n",
    "Juste avant de libérer (pour réutilisation) l'espace mémoire d'un objet, Python appelle sa méthode `__del__` si elle existe."
   ]
  },
  {
   "cell_type": "code",
   "execution_count": null,
   "metadata": {},
   "outputs": [],
   "source": [
    "# Pour voir le fonctionnement du «ramasse miette» (garbage collector)\n",
    "def __del__(self):\n",
    "    print(f\"libération de la mémoire occupée par la cellule contenant la valeur: {self.valeur}\")\n",
    "\n",
    "Cellule.__del__ = __del__\n",
    "del __del__"
   ]
  },
  {
   "cell_type": "code",
   "execution_count": null,
   "metadata": {},
   "outputs": [],
   "source": [
    "# n'exécuter qu'une fois\n",
    "test = Cellule(\"coeur\", Cellule(\"carreau\", Cellule(\"pique\", Cellule(\"trèfle\"))))\n",
    "lien = test._suivante._suivante"
   ]
  },
  {
   "cell_type": "code",
   "execution_count": null,
   "metadata": {},
   "outputs": [],
   "source": [
    "# exécuter plusieur fois et observez attentivement l'affichage\n",
    "test = test._suivante"
   ]
  },
  {
   "cell_type": "markdown",
   "metadata": {},
   "source": [
    "À chaque exécution, `test` pointe vers la cellule qui suit la cellule de tête courante! La cellule de tête n'est plus accessible (sauf s'il s'agit de celle pointée par `lien`).\n",
    "\n",
    "Observer que \"coeur\" et \"carreau\" sont supprimés mais ni \"pique\", ni \"trèfle\"; pour \"trèfle\" cela peut étonner... voyez-vous l'explication?"
   ]
  },
  {
   "cell_type": "markdown",
   "metadata": {},
   "source": [
    "Supprimons cette méthode pour éviter d'avoir des messages à chaque fois qu'une cellule est détruite:"
   ]
  },
  {
   "cell_type": "code",
   "execution_count": null,
   "metadata": {},
   "outputs": [],
   "source": [
    "del test; del lien\n",
    "del Cellule.__del__"
   ]
  },
  {
   "cell_type": "markdown",
   "metadata": {},
   "source": [
    "### Récapitulatif pour la classe `Cellule`"
   ]
  },
  {
   "cell_type": "code",
   "execution_count": null,
   "metadata": {},
   "outputs": [],
   "source": [
    "class Cellule:\n",
    "    \"\"\"Fondation du type ListeSimple\"\"\"\n",
    "    def __init__(self, valeur, suivante=None):\n",
    "        self.valeur = valeur\n",
    "        self._suivante = suivante  # éviter de jouer avec ce pointeur...\n",
    "\n",
    "    @property\n",
    "    def suivante(self):\n",
    "        return self._suivante\n",
    "\n",
    "    def __str__(self):\n",
    "        if self._suivante is None:\n",
    "            return f\"{self.valeur}\"\n",
    "        return f\"{self.valeur} → {self._suivante}\""
   ]
  },
  {
   "cell_type": "markdown",
   "metadata": {},
   "source": [
    "Vérifions que vous comprenez bien le fonctionnement de cette classe:"
   ]
  },
  {
   "cell_type": "code",
   "execution_count": null,
   "metadata": {},
   "outputs": [],
   "source": [
    "liste = Cellule(\"tête\",Cellule(\"queue\"))\n",
    "print(liste)\n",
    "print(f\"type: {type(liste)}\")"
   ]
  },
  {
   "cell_type": "markdown",
   "metadata": {},
   "source": [
    "Ajouter une cellule comportant la donnée `\"corps\"` en milieu de chaîne."
   ]
  },
  {
   "cell_type": "code",
   "execution_count": null,
   "metadata": {},
   "outputs": [],
   "source": [
    "# à toi de jouer"
   ]
  },
  {
   "cell_type": "code",
   "execution_count": null,
   "metadata": {},
   "outputs": [],
   "source": [
    "assert str(liste) == \"tête → corps → queue\""
   ]
  },
  {
   "cell_type": "markdown",
   "metadata": {},
   "source": [
    "**solution**"
   ]
  },
  {
   "cell_type": "code",
   "execution_count": null,
   "metadata": {
    "jupyter": {
     "source_hidden": true
    }
   },
   "outputs": [],
   "source": [
    "corps = Cellule(\"corps\")\n",
    "corps._suivante = liste._suivante\n",
    "liste._suivante = corps\n",
    "print(liste)"
   ]
  },
  {
   "cell_type": "markdown",
   "metadata": {},
   "source": [
    "À partir de là, il serait simple de réimplémenter les fonctions `liste_chaine_simple`, `ajouter`, ..."
   ]
  },
  {
   "cell_type": "markdown",
   "metadata": {},
   "source": [
    "Mais au lieu de le faire de «l'extérieur» nous allons mettre une coquille `Liste` pour **encapsuler** nos cellules."
   ]
  },
  {
   "cell_type": "markdown",
   "metadata": {
    "toc-hr-collapsed": true,
    "toc-nb-collapsed": true
   },
   "source": [
    "## Classe `Liste`"
   ]
  },
  {
   "cell_type": "markdown",
   "metadata": {},
   "source": [
    "### Interface minimale"
   ]
  },
  {
   "cell_type": "markdown",
   "metadata": {},
   "source": [
    "Voici une **interface** pour `Liste`:\n",
    "- **attributs** privés: `_tete: Cellule`, `_queue: Cellule` et `_taille: int`. Les deux premiers sont accessibles via `tete` et `queue` depuis le code «client» (cf. le décorateur `@property`).\n",
    "- **méthodes**:\n",
    "    - `inserer_apres(valeur[, cellule])`: Insère valeur juste après cellule. Si cellule n'est pas précisée, l'insertion se fait en tête.\n",
    "    - `supprimer_apres([cellule]) -> <valeur>`: Supprime et renvoie la valeur située dans la cellule qui suit celle fournie.\n",
    "        Si aucune cellule n'est précisée, supprimer la cellule de tête.\n",
    "    - *spéciales*: `__len__` pour le nombre de ses éléments et `__str__` pour sa représentation en chaîne."
   ]
  },
  {
   "cell_type": "markdown",
   "metadata": {},
   "source": [
    "*Note*: Dans cette façon de préciser l'interface, les `[`, `]` indique un (ou des) paramètre(s) optionnel(s) et `->` indique une valeur de retour;  `: <type>` est utilisé optionnellement pour précisé le type de la valeur qu'il précède."
   ]
  },
  {
   "cell_type": "markdown",
   "metadata": {},
   "source": [
    "```python\n",
    "class Liste:\n",
    "    \"\"\"Une liste chaînée simple - utilise Cellule\"\"\"\n",
    "    def __init__(self):\n",
    "        \"\"\"Crée une liste chaînée vide\"\"\"\n",
    "        # trois attributs privés: __tete, __queue et __taille\n",
    "        pass\n",
    "    @property\n",
    "    def tete(self):\n",
    "        return self.__tete\n",
    "    @property\n",
    "    def queue(self):\n",
    "        return self.__queue\n",
    "    def inserer_apres(self, valeur, cellule=None):\n",
    "        \"\"\"\n",
    "        Insère valeur juste après cellule. \n",
    "        Si cellule n'est pas précisée, l'insertion se fait en tête.\n",
    "        \"\"\"\n",
    "        pass\n",
    "    def supprimer_apres(self, cellule=None):\n",
    "        \"\"\"\n",
    "        Supprime et renvoie la valeur située dans la cellule qui suit celle fournie.\n",
    "        Si aucune cellule n'est précisée, supprimer la cellule de tête.\n",
    "        \"\"\"\n",
    "        pass\n",
    "    ## MÉTHODES SPÉCIALES\n",
    "    def __len__(self):\n",
    "        pass \n",
    "    def __str__(self):\n",
    "        pass\n",
    "```"
   ]
  },
  {
   "cell_type": "markdown",
   "metadata": {},
   "source": [
    "*Note*: Les `@property` transforme les méthodes qu'elles précèdent en «propriété». Cela permet à l'utilisateur de la classe d'accéder aux attributs privés `_tete` et `_queue` en lecture seule. Si `l` est une instance de `Liste`, l'utilisateur peut utiliser les écritures `l.tete` ou `l.queue` - sans parenthèses - pour accéder à la première et à la dernière cellule de la liste."
   ]
  },
  {
   "cell_type": "markdown",
   "metadata": {},
   "source": [
    "Les *méthodes spéciales* permettrons respectivement à l'utilisateur de:\n",
    "- `__len__`: consulter la taille de la liste avec `len(liste)`,\n",
    "- `__str__`: obtenir une description de la liste sous la forme d'une chaîne de caractères avec `str(liste)`."
   ]
  },
  {
   "cell_type": "markdown",
   "metadata": {},
   "source": [
    "Enfin, les **méthodes d'insertion et de suppression** à une position arbitraire de la liste possède le suffixe «apres» du fait de la **nature unidirectionnelle** des listes chaînées simples. Nous en reparlerons bientôt."
   ]
  },
  {
   "cell_type": "markdown",
   "metadata": {},
   "source": [
    "### Exemples de «code client»"
   ]
  },
  {
   "cell_type": "markdown",
   "metadata": {},
   "source": [
    "L'**implémentation** de `Liste` est cachée dans la cellule qui suit. Notre objectif pour l'instant est seulement de voir comment ces listes s'*utilisent*.\n",
    "\n",
    "**EXÉCUTER LÀ SANS L'OUVRIR!**"
   ]
  },
  {
   "cell_type": "code",
   "execution_count": null,
   "metadata": {
    "jupyter": {
     "source_hidden": true
    }
   },
   "outputs": [],
   "source": [
    "class Cellule:\n",
    "    \"\"\"Fondation du type ListeSimple\"\"\"\n",
    "    def __init__(self, valeur, suivante=None):\n",
    "        self.valeur = valeur\n",
    "        self._suivante = suivante  # éviter de jouer avec ce pointeur...\n",
    "\n",
    "    @property\n",
    "    def suivante(self):\n",
    "        return self._suivante\n",
    "\n",
    "    def __str__(self):\n",
    "        if self._suivante is None:\n",
    "            return f\"{self.valeur}\"\n",
    "        return f\"{self.valeur} → {self._suivante}\"\n",
    "\n",
    "class Liste:\n",
    "    \"\"\"Une liste chaînée simple - utilise Cellule\"\"\"\n",
    "    def __init__(self):\n",
    "        \"\"\"Crée une liste chaînée vide\"\"\"\n",
    "        self._tete = None\n",
    "        self._queue = None\n",
    "        self._taille = 0\n",
    "\n",
    "    @property\n",
    "    def tete(self):\n",
    "        return self._tete\n",
    "\n",
    "    @property\n",
    "    def queue(self):\n",
    "        return self._queue\n",
    "    \n",
    "    def __len__(self):\n",
    "        return self._taille\n",
    "\n",
    "    def __str__(self):\n",
    "        if self._tete is None:\n",
    "            return \"None\"\n",
    "        else:\n",
    "            return str(self._tete)\n",
    "\n",
    "    def inserer_apres(self, valeur, cellule=None):\n",
    "        \"\"\"\n",
    "        Insère valeur juste après cellule. Si cellule n'est pas précisée, l'insertion se fait en tête.\n",
    "        \"\"\"\n",
    "        self._taille += 1\n",
    "        cell = Cellule(valeur)\n",
    "\n",
    "        # insertion en tête\n",
    "        if cellule is None:\n",
    "            cell._suivante = self._tete\n",
    "            self._tete = cell\n",
    "            # si la cellule est seule, elle est aussi la queue!\n",
    "            if self._tete._suivante is None:\n",
    "                self._queue = cell\n",
    "            return\n",
    "\n",
    "        # insertion queue\n",
    "        if cellule._suivante is None:\n",
    "            cellule._suivante = cell\n",
    "            self._queue = cell\n",
    "            return\n",
    "\n",
    "        # insertion ailleurs\n",
    "        cell._suivante = cellule._suivante\n",
    "        cellule._suivante = cell\n",
    "\n",
    "    def supprimer_apres(self, cellule=None):\n",
    "        \"\"\"\n",
    "        Supprime et renvoie la valeur située dans la cellule qui suit celle fournie. Si aucune cellule n'est\n",
    "        précisée, supprimer la cellule de tête.\n",
    "        \"\"\"\n",
    "        # la liste est vide ou cellule n'a pas de suivante\n",
    "        if self._tete is None or (cellule is not None and cellule._suivante is None):\n",
    "            raise IndexError(\"Liste vide!\")\n",
    "\n",
    "        self._taille -= 1\n",
    "        # supprimer en tête\n",
    "        if cellule is None:\n",
    "            v = self.tete.valeur\n",
    "            if self._tete._suivante is None:\n",
    "                self._queue = None\n",
    "            self._tete = self.tete._suivante\n",
    "            return v\n",
    "\n",
    "        # ailleurs\n",
    "        v = cellule._suivante.valeur\n",
    "        # mais peut-être la queue\n",
    "        if cellule._suivante is self._queue:\n",
    "            self._queue = cellule\n",
    "        cellule._suivante = cellule._suivante._suivante\n",
    "        # penser à renvoyer la valeur effectivement supprimée\n",
    "        return v\n",
    "\n"
   ]
  },
  {
   "cell_type": "markdown",
   "metadata": {},
   "source": [
    "Puis «jouer» avec les extraits de code qui suivent:"
   ]
  },
  {
   "cell_type": "code",
   "execution_count": null,
   "metadata": {},
   "outputs": [],
   "source": [
    "liste = Liste() # __init__\n",
    "for v in \"Python\", \"est\", \"incroyable\", \"!\":\n",
    "    liste.inserer_apres(v)\n",
    "print(liste) # __str__"
   ]
  },
  {
   "cell_type": "code",
   "execution_count": null,
   "metadata": {},
   "outputs": [],
   "source": [
    "type(liste) # nous avons défini notre propre type!"
   ]
  },
  {
   "cell_type": "code",
   "execution_count": null,
   "metadata": {},
   "outputs": [],
   "source": [
    "len(liste) # __len__"
   ]
  },
  {
   "cell_type": "code",
   "execution_count": null,
   "metadata": {},
   "outputs": [],
   "source": [
    "liste.inserer_apres(\"Impressionant\", liste.queue)\n",
    "print(liste)"
   ]
  },
  {
   "cell_type": "code",
   "execution_count": null,
   "metadata": {},
   "outputs": [],
   "source": [
    "liste.inserer_apres(\"Non?\")\n",
    "print(liste)"
   ]
  },
  {
   "cell_type": "code",
   "execution_count": null,
   "metadata": {},
   "outputs": [],
   "source": [
    "valeur = liste.supprimer_apres()\n",
    "print(f\"valeur: {valeur}\")\n",
    "print(f\"liste: {liste}\")"
   ]
  },
  {
   "cell_type": "markdown",
   "metadata": {
    "toc-hr-collapsed": true,
    "toc-nb-collapsed": true
   },
   "source": [
    "## Implémentation «pas à pas» de `Liste`"
   ]
  },
  {
   "cell_type": "markdown",
   "metadata": {},
   "source": [
    "Assurez-vous que la classe `Cellule` a été exécutée avant de poursuivre. On donne ce point de départ:"
   ]
  },
  {
   "cell_type": "code",
   "execution_count": null,
   "metadata": {},
   "outputs": [],
   "source": [
    "class Liste:\n",
    "    \"\"\"Une liste chaînée simple - utilise Cellule\"\"\"\n",
    "    def __init__(self): # déclarer et initialiser les attributs ici\n",
    "        \"\"\"Crée une liste chaînée vide \"\"\"\n",
    "        self._tete = None  # pointe vers la cellule de tête\n",
    "        self._queue = None # même chose pour la queue\n",
    "        self._taille = 0   # nb de cellules\n",
    "    \n",
    "    @property\n",
    "    def tete(self):\n",
    "        return self._tete\n",
    "\n",
    "    @property\n",
    "    def queue(self):\n",
    "        return self._queue\n",
    "    \n",
    "    def __len__(self):\n",
    "        return self._taille\n",
    "    \n",
    "    def __str__(self):\n",
    "        return str(self._tete) # voir la classe Cellule\n",
    "    "
   ]
  },
  {
   "cell_type": "markdown",
   "metadata": {},
   "source": [
    "Testons le brièvement:"
   ]
  },
  {
   "cell_type": "code",
   "execution_count": null,
   "metadata": {},
   "outputs": [],
   "source": [
    "liste = Liste()\n",
    "assert len(liste) == 0\n",
    "assert liste.tete == liste.queue and liste.tete == None\n",
    "assert str(liste) == \"None\""
   ]
  },
  {
   "cell_type": "markdown",
   "metadata": {},
   "source": [
    "### `inserer_apres`"
   ]
  },
  {
   "cell_type": "markdown",
   "metadata": {},
   "source": [
    "Il y a plusieurs cas à considérer:\n",
    "\n",
    "1. **cas générique**: la cellule précisée en deuxième argument n'est pas la cellule en queue."
   ]
  },
  {
   "attachments": {
    "c5c0dbc6-f4b2-4132-9652-3ed2c2da2ac9.png": {
     "image/png": "[encoded data removed]"
    }
   },
   "cell_type": "markdown",
   "metadata": {},
   "source": [
    "![inserer_supprimer_liste_chaine_simple.png](attachment:c5c0dbc6-f4b2-4132-9652-3ed2c2da2ac9.png)"
   ]
  },
  {
   "attachments": {
    "0ccbbfa2-63ab-49f8-b418-c3ebaaed1f5b.png": {
     "image/png": "[encoded data removed]"
    },
    "4bfa1e62-9a5b-4829-96b6-299ed269a000.png": {
     "image/png": "[encoded data removed]"
    },
    "cbfb67f5-2855-49f5-8a18-8744f888a076.png": {
     "image/png": "[encoded data removed]"
    }
   },
   "cell_type": "markdown",
   "metadata": {},
   "source": [
    "2. **cas particuliers**:\n",
    "    1. la cellule précisée en deuxième argument est celle de queue.\n",
    "\n",
    "    ![inserer_apres_si_suiv_est_queue.png](attachment:4bfa1e62-9a5b-4829-96b6-299ed269a000.png)\n",
    "    \n",
    "    2. aucune cellule n'est précisée, l'insertion a lieu en tête (la liste est supposée non vide)\n",
    "    \n",
    "    ![inserer_apres_si_cellule_none.png](attachment:cbfb67f5-2855-49f5-8a18-8744f888a076.png)\n",
    "    \n",
    "    3. insertion dans une liste vide (sous cas du cas précédent):\n",
    "    \n",
    "    ![inserer_apres_liste_vide.png](attachment:0ccbbfa2-63ab-49f8-b418-c3ebaaed1f5b.png)"
   ]
  },
  {
   "cell_type": "markdown",
   "metadata": {},
   "source": [
    "Après avoir étudié soigneusement les figures précédentes, compléter (en prenant garde que ce qui est appelé `liste` dans les figures est ici `self`):"
   ]
  },
  {
   "cell_type": "code",
   "execution_count": null,
   "metadata": {},
   "outputs": [],
   "source": [
    "# À COMPLETER\n",
    "def inserer_apres(self, valeur, cellule=None):\n",
    "    \"\"\"\n",
    "    Insère valeur juste après cellule. Si cellule n'est pas précisée, l'insertion se fait en tête.\n",
    "    \"\"\"\n",
    "    self._taille ___\n",
    "    cell = Cellule(valeur)\n",
    "\n",
    "    # insertion en tête\n",
    "    if cellule is __:\n",
    "        cell._suivante = ___\n",
    "        ___ = cell\n",
    "        # si la liste était vide cette cellule est aussi la queue!\n",
    "        if ___:\n",
    "            ___\n",
    "        return\n",
    "\n",
    "    # insertion en queue\n",
    "    if ___:\n",
    "        ___\n",
    "        ___\n",
    "        return\n",
    "\n",
    "    # insertion ailleurs\n",
    "    ___\n",
    "    ___\n",
    "\n",
    "# Accrochage ...\n",
    "Liste.inserer_apres = inserer_apres\n",
    "del inserer_apres"
   ]
  },
  {
   "cell_type": "markdown",
   "metadata": {},
   "source": [
    "Vérifier que votre implémentation passe les tests:"
   ]
  },
  {
   "cell_type": "code",
   "execution_count": null,
   "metadata": {},
   "outputs": [],
   "source": [
    "liste = Liste()\n",
    "for i in range(3):\n",
    "    liste.inserer_apres(i)\n",
    "assert str(liste) == \"2 → 1 → 0\"\n",
    "for i in range(3):\n",
    "    liste.inserer_apres(i, liste.queue)\n",
    "assert str(liste) == \"2 → 1 → 0 → 0 → 1 → 2\"\n",
    "liste.inserer_apres(3, liste.tete)\n",
    "assert str(liste) == \"2 → 3 → 1 → 0 → 0 → 1 → 2\""
   ]
  },
  {
   "cell_type": "markdown",
   "metadata": {},
   "source": [
    "**solution**"
   ]
  },
  {
   "cell_type": "code",
   "execution_count": null,
   "metadata": {
    "jupyter": {
     "source_hidden": true
    }
   },
   "outputs": [],
   "source": [
    "def inserer_apres(self, valeur, cellule=None):\n",
    "    \"\"\"\n",
    "    Insère valeur juste après cellule. Si cellule n'est pas précisée, l'insertion se fait en tête.\n",
    "    \"\"\"\n",
    "    self._taille += 1\n",
    "    cell = Cellule(valeur)\n",
    "\n",
    "    # insertion en tête\n",
    "    if cellule is None:\n",
    "        cell._suivante = self._tete\n",
    "        self._tete = cell\n",
    "        # si la cellule est seule, elle est aussi la queue!\n",
    "        if self._tete._suivante is None:\n",
    "            self._queue = cell\n",
    "        return\n",
    "\n",
    "    # insertion queue\n",
    "    if cellule._suivante is None:\n",
    "        cellule._suivante = cell\n",
    "        self._queue = cell\n",
    "        return\n",
    "\n",
    "    # insertion ailleurs\n",
    "    cell._suivante = cellule._suivante\n",
    "    cellule._suivante = cell\n",
    "\n",
    "# Accrochage ...\n",
    "Liste.inserer_apres = inserer_apres\n",
    "del inserer_apres"
   ]
  },
  {
   "cell_type": "markdown",
   "metadata": {},
   "source": [
    "### `supprimer_apres`"
   ]
  },
  {
   "cell_type": "markdown",
   "metadata": {},
   "source": [
    "Tout d'abord, la suppression n'est **pas toujours possible**: si la liste est vide ou si la cellule précisée n'a pas de suivante. Dans ce cas, on choisit de lever une erreur de type `IndexError`.\n",
    "\n",
    "Ensuite, lorsque la suppression est possible, ne pas oublier de récupérer et renvoyer la valeur de la cellule qu'on va supprimer. Il y a plusieurs cas de figure aussi:"
   ]
  },
  {
   "attachments": {
    "11666ea4-e546-4b0a-908f-399bf7613d26.png": {
     "image/png": "[encoded data removed]"
    },
    "80039953-9021-4f90-9dd1-308370ffb7c9.png": {
     "image/png": "[encoded data removed]"
    },
    "acfc96d9-3e9f-46ed-aaac-7d160b3ae2ac.png": {
     "image/png": "[encoded data removed]"
    },
    "ef62edb2-4b59-4957-8833-84ff081723b2.png": {
     "image/png": "[encoded data removed]"
    }
   },
   "cell_type": "markdown",
   "metadata": {},
   "source": [
    "1. **cas générique**: la liste contient plus d'une cellule et la cellule précisée a une suivante qui n'est pas la queue.\n",
    "\n",
    "![supprimer_cas_generique.png](attachment:11666ea4-e546-4b0a-908f-399bf7613d26.png)\n",
    "\n",
    "2. **Cas particuliers**:\n",
    "    1. la suivante de la cellule précisée est la queue,\n",
    "    \n",
    "    ![supprimer_queue.png](attachment:ef62edb2-4b59-4957-8833-84ff081723b2.png)\n",
    "    \n",
    "    2. aucune cellule n'est précisée: on supprime la tête,\n",
    "    \n",
    "    ![supprimer_tete.png](attachment:80039953-9021-4f90-9dd1-308370ffb7c9.png)\n",
    "    \n",
    "    3. on supprime la dernière cellule de la liste (sous cas du précédent).\n",
    "    \n",
    "    ![supprimer_derniere.png](attachment:acfc96d9-3e9f-46ed-aaac-7d160b3ae2ac.png)"
   ]
  },
  {
   "cell_type": "markdown",
   "metadata": {},
   "source": [
    "Après avoir étudié soigneusement les figures précédentes, compléter:"
   ]
  },
  {
   "cell_type": "code",
   "execution_count": null,
   "metadata": {},
   "outputs": [],
   "source": [
    "# À COMPLÉTER\n",
    "def supprimer_apres(self, cellule=None):\n",
    "    \"\"\"\n",
    "    Supprime et renvoie la valeur située dans la cellule qui suit celle fournie. Si aucune cellule n'est\n",
    "    précisée, supprimer la cellule de tête.\n",
    "    \"\"\"\n",
    "    # la liste est vide ou cellule n'a pas de suivante\n",
    "    if ___ or (___ and ___):\n",
    "        raise IndexError(\"Liste vide ou aucune cellule après celle fournie.\")\n",
    "    \n",
    "    self._taille ___\n",
    "    # supprimer en tête\n",
    "    if ___:\n",
    "        v = self.tete.___\n",
    "        # si la liste n'a qu'une cellule\n",
    "        if ___:\n",
    "            ___\n",
    "        self._tete = ___\n",
    "        return v\n",
    "\n",
    "    # ailleurs\n",
    "    v = ___\n",
    "    # mais peut-être en queue\n",
    "    if ___:\n",
    "        ___\n",
    "    cellule.___ = cellule.____\n",
    "    \n",
    "    # penser à renvoyer la valeur effectivement supprimée\n",
    "    return v\n",
    "\n",
    "Liste.supprimer_apres = supprimer_apres\n",
    "del supprimer_apres"
   ]
  },
  {
   "cell_type": "markdown",
   "metadata": {},
   "source": [
    "Vérifier que votre implémentation passe les tests:"
   ]
  },
  {
   "cell_type": "code",
   "execution_count": null,
   "metadata": {},
   "outputs": [],
   "source": [
    "liste = Liste()\n",
    "for i in range(4):\n",
    "    liste.inserer_apres(i)\n",
    "v = liste.supprimer_apres()\n",
    "assert v == 3 and str(liste) == \"2 → 1 → 0\"\n",
    "v = liste.supprimer_apres(liste.tete)\n",
    "assert v == 1 and str(liste) == \"2 → 0\"\n",
    "v = liste.supprimer_apres(liste.tete)\n",
    "assert liste.queue.valeur == 2 and liste.tete == liste.queue and str(liste) == \"2\"\n",
    "try:\n",
    "    liste.supprimer_apres(liste.queue)\n",
    "except IndexError:\n",
    "    pass\n",
    "except Exception:\n",
    "    raise AssertionError(\"devrait produire une erreur de type IndexError: suppression après queue!\")\n",
    "liste.supprimer_apres()\n",
    "assert liste.tete == liste.queue and liste.tete == None\n",
    "try:\n",
    "    liste.supprimer_apres()\n",
    "except IndexError:\n",
    "    pass\n",
    "except Exception:\n",
    "    raise AssertionError(\"devrait produire une erreur de type IndexError: la liste est vide!\")"
   ]
  },
  {
   "cell_type": "markdown",
   "metadata": {},
   "source": [
    "**solution**"
   ]
  },
  {
   "cell_type": "code",
   "execution_count": null,
   "metadata": {
    "jupyter": {
     "source_hidden": true
    }
   },
   "outputs": [],
   "source": [
    "def supprimer_apres(self, cellule=None):\n",
    "    \"\"\"\n",
    "    Supprime et renvoie la valeur située dans la cellule qui suit celle fournie. Si aucune cellule n'est\n",
    "    précisée, supprimer la cellule de tête.\n",
    "    \"\"\"\n",
    "    # la liste est vide ou cellule n'a pas de suivante\n",
    "    if self._tete is None or (cellule is not None and cellule._suivante is None):\n",
    "        raise IndexError(\"Liste vide!\")\n",
    "    \n",
    "    self._taille -= 1\n",
    "    # supprimer en tête\n",
    "    if cellule is None:\n",
    "        v = self.tete.valeur\n",
    "        if self._tete._suivante is None:\n",
    "            self._queue = None\n",
    "        self._tete = self.tete._suivante\n",
    "        return v\n",
    "\n",
    "    # ailleurs\n",
    "    v = cellule._suivante.valeur\n",
    "    # mais peut-être la queue\n",
    "    if cellule._suivante is self._queue:\n",
    "        self._queue = cellule\n",
    "    cellule._suivante = cellule._suivante._suivante\n",
    "    # penser à renvoyer la valeur effectivement supprimée\n",
    "    return v\n",
    "\n",
    "Liste.supprimer_apres = supprimer_apres\n",
    "del supprimer_apres"
   ]
  },
  {
   "cell_type": "markdown",
   "metadata": {
    "toc-hr-collapsed": true,
    "toc-nb-collapsed": true
   },
   "source": [
    "## Exercices"
   ]
  },
  {
   "cell_type": "markdown",
   "metadata": {},
   "source": [
    "Bien sûr, on peut «augmenter» notre interface en ajoutant des méthodes à la classe («spéciales ou non)."
   ]
  },
  {
   "cell_type": "markdown",
   "metadata": {},
   "source": [
    "### 1 - Insertion/suppression"
   ]
  },
  {
   "cell_type": "markdown",
   "metadata": {},
   "source": [
    "On souhaite fournir à l'utilisateur des méthodes simples à utiliser `inserer_[tete|queue]` et `supprimer_tete`.\n",
    "\n",
    "Implémenter ces méthodes en exploitant l'interface existante:"
   ]
  },
  {
   "cell_type": "code",
   "execution_count": null,
   "metadata": {},
   "outputs": [],
   "source": [
    "def inserer_tete(self, valeur):\n",
    "    pass\n",
    "\n",
    "def inserer_queue(self, valeur):\n",
    "    pass\n",
    "\n",
    "def supprimer_tete(self):\n",
    "    pass\n",
    "\n",
    "Liste.inserer_tete = inserer_tete\n",
    "Liste.inserer_queue = inserer_queue\n",
    "Liste.supprimer_tete = supprimer_tete\n",
    "del inserer_tete; del inserer_queue; del supprimer_tete"
   ]
  },
  {
   "cell_type": "markdown",
   "metadata": {},
   "source": [
    "Tester!"
   ]
  },
  {
   "cell_type": "code",
   "execution_count": null,
   "metadata": {},
   "outputs": [],
   "source": [
    "liste = Liste()\n",
    "liste.inserer_queue(\"un\");liste.inserer_queue(\"deux\");liste.inserer_tete(\"trois\")\n",
    "acc = []\n",
    "for i in range(2):\n",
    "    acc.append(liste.supprimer_tete())\n",
    "assert acc == [\"trois\", \"un\"] and str(liste) == \"deux\""
   ]
  },
  {
   "cell_type": "markdown",
   "metadata": {},
   "source": [
    "**solution**"
   ]
  },
  {
   "cell_type": "code",
   "execution_count": null,
   "metadata": {
    "jupyter": {
     "source_hidden": true
    }
   },
   "outputs": [],
   "source": [
    "def inserer_tete(self, valeur):\n",
    "    self.inserer_apres(valeur)\n",
    "\n",
    "def inserer_queue(self, valeur):\n",
    "    self.inserer_apres(valeur, self._queue)\n",
    "\n",
    "def supprimer_tete(self):\n",
    "    return self.supprimer_apres()\n",
    "\n",
    "Liste.inserer_tete = inserer_tete\n",
    "Liste.inserer_queue = inserer_queue\n",
    "Liste.supprimer_tete = supprimer_tete\n",
    "del inserer_tete; del inserer_queue; del supprimer_tete"
   ]
  },
  {
   "cell_type": "markdown",
   "metadata": {},
   "source": [
    "Toutes les méthodes implémentées jusqu'ici sont $O(1)$ (le temps ne dépend pas du nombre d'éléments dans la liste).\n",
    "\n",
    "Pourquoi ne peut-on pas fournir une méthode rapide - en $O(1)$ - `supprimer_queue`?"
   ]
  },
  {
   "cell_type": "markdown",
   "metadata": {},
   "source": [
    "**solution**"
   ]
  },
  {
   "cell_type": "markdown",
   "metadata": {
    "jupyter": {
     "source_hidden": true
    }
   },
   "source": [
    "On ne peut le faire «rapidement» car il faudrait pouvoir «remonter» de la cellule de queue à celle qui précède pour mettre à jour l'attribut `_queue`. Malheureusement les pointeurs de cellules ne vont que dans un sens (de la tête vers la queue).\n",
    "\n",
    "On peut tout de même implémenter cette méthode mais sa complexité sera $O(n)$ où $n$ est le nombre d'élément de la liste."
   ]
  },
  {
   "cell_type": "markdown",
   "metadata": {},
   "source": [
    "### 2 - `copier()`"
   ]
  },
  {
   "cell_type": "markdown",
   "metadata": {},
   "source": [
    "On souhaite pouvoir renvoyer une copie de notre liste de façon à disposer de deux listes indépendantes.\n",
    "\n",
    "**Remarque**: On ne poussera pas le vice jusqu'à faire une copie d'une valeur qui pourrait elle-même être une liste; on parle alors de copie superficielle (voir en fin de section si ce n'est pas clair)."
   ]
  },
  {
   "cell_type": "code",
   "execution_count": null,
   "metadata": {},
   "outputs": [],
   "source": [
    "# À COMPLÉTER\n",
    "def copier(self):\n",
    "    \"\"\"Renvoie une copie «superficielle» de la liste courante\"\"\"\n",
    "    ret = Liste()\n",
    "    courant = ___\n",
    "    while courant is not ___:\n",
    "        ___\n",
    "        ___\n",
    "    return ___\n",
    "\n",
    "# Accrochage ...\n",
    "Liste.copier = copier\n",
    "del copier"
   ]
  },
  {
   "cell_type": "code",
   "execution_count": null,
   "metadata": {},
   "outputs": [],
   "source": [
    "liste = Liste(); liste.inserer_queue(1);liste.inserer_queue(2);liste.inserer_queue(3)\n",
    "copie = liste.copier()\n",
    "liste.supprimer_tete()\n",
    "copie.inserer_tete(0)\n",
    "\n",
    "assert str(liste) == \"2 → 3\" and str(copie) == \"0 → 1 → 2 → 3\""
   ]
  },
  {
   "cell_type": "markdown",
   "metadata": {},
   "source": [
    "**solution**"
   ]
  },
  {
   "cell_type": "code",
   "execution_count": null,
   "metadata": {
    "jupyter": {
     "source_hidden": true
    }
   },
   "outputs": [],
   "source": [
    "def copier(self):\n",
    "    \"\"\"Renvoie une copie «superficielle» de la liste courante\"\"\"\n",
    "    ret = Liste()\n",
    "    courant = self._tete\n",
    "    while courant is not None:\n",
    "        ret.inserer_queue(courant.valeur)\n",
    "        courant = courant._suivante\n",
    "    return ret\n",
    "\n",
    "Liste.copier = copier\n",
    "del copier"
   ]
  },
  {
   "cell_type": "markdown",
   "metadata": {},
   "source": [
    "Si vous ne comprenez toujours pas le terme «superficiel» pour copie, tester et réfléchir:"
   ]
  },
  {
   "cell_type": "code",
   "execution_count": null,
   "metadata": {},
   "outputs": [],
   "source": [
    "liste = Liste()\n",
    "liste.inserer_queue(\"tete\"); liste.inserer_queue(Liste())\n",
    "copie = liste.copier()\n",
    "# accès à la sous-liste interne\n",
    "sous_liste = copie.queue.valeur\n",
    "sous_liste.inserer_tete(\"queue\")\n",
    "# cela impacte-t-il liste?\n",
    "print(f\"liste: {liste}, copie: {copie}\")"
   ]
  },
  {
   "cell_type": "markdown",
   "metadata": {},
   "source": [
    "### 3 - Rendre la liste «indexable»"
   ]
  },
  {
   "cell_type": "markdown",
   "metadata": {},
   "source": [
    "Lorsqu'on écrit `var[i]` python le traduit (en interne) en `var.__getitem__(i)`. \n",
    "\n",
    "Ainsi, si l'objet référence par `var` dispose de cette méthode, il devient indexable."
   ]
  },
  {
   "cell_type": "code",
   "execution_count": null,
   "metadata": {},
   "outputs": [],
   "source": [
    "# À COMPLÉTER\n",
    "def __getitem__(self, i):\n",
    "    # On lève une erreur si i n'est pas dans [0,...,len(self) - 1]\n",
    "    if ___:\n",
    "        raise IndexError(\"Index hors des bornes\")\n",
    "    \n",
    "    # Efficacité: cas particulier de la dernière valeur\n",
    "    ___\n",
    "    \n",
    "    # Autrement, on parcourt la liste\n",
    "    j = 0\n",
    "    courante = ___\n",
    "    while ___ < ___:\n",
    "        ___\n",
    "        ___\n",
    "    return ___\n",
    "\n",
    "# Accrochage ...\n",
    "Liste.__getitem__ = __getitem__\n",
    "del __getitem__"
   ]
  },
  {
   "cell_type": "code",
   "execution_count": null,
   "metadata": {},
   "outputs": [],
   "source": [
    "liste = Liste()\n",
    "for i in reversed(range(1, 6)):\n",
    "    liste.inserer_tete(i)\n",
    "assert liste[0] == 1 and liste[4] == 5 and liste[2] == 3\n",
    "try:\n",
    "    liste[15]\n",
    "    print(\"il y a un problème!\")\n",
    "except: pass\n",
    "try:\n",
    "    liste[-1]\n",
    "    print(\"il y en a un autre!\")\n",
    "except: pass"
   ]
  },
  {
   "cell_type": "markdown",
   "metadata": {},
   "source": [
    "**solution**"
   ]
  },
  {
   "cell_type": "code",
   "execution_count": null,
   "metadata": {
    "jupyter": {
     "source_hidden": true
    }
   },
   "outputs": [],
   "source": [
    "# «truc[i]» est traduit en «truc.__getitem__(i)»\n",
    "def __getitem__(self, i):\n",
    "    # On lève une erreur si i n'est pas dans [0,...,len(self) - 1]\n",
    "    if i < 0 or i >= self._taille:\n",
    "        raise IndexError(\"Index hors des bornes\")\n",
    "    \n",
    "    # Efficacité: cas particulier de la dernière valeur\n",
    "    if i == self._taille - 1:\n",
    "        return self._queue.valeur\n",
    "    # Autrement, on parcourt la liste\n",
    "    j = 0\n",
    "    courante = self._tete\n",
    "    while j < i:\n",
    "        courante = courante.suivante\n",
    "        j += 1\n",
    "    return courante.valeur\n",
    "\n",
    "Liste.__getitem__ = __getitem__\n",
    "del __getitem__"
   ]
  },
  {
   "cell_type": "markdown",
   "metadata": {},
   "source": [
    "De même, `var[i] = valeur` est traduit en `var.__setitem__(i, valeur)`. \n",
    "\n",
    "Rendre `Liste` indexable en «écriture». Voici du code pour tester."
   ]
  },
  {
   "cell_type": "code",
   "execution_count": null,
   "metadata": {},
   "outputs": [],
   "source": [
    "liste = Liste()\n",
    "liste.inserer_queue(1); liste.inserer_queue(2); liste.inserer_queue(3)\n",
    "liste[1] = 0\n",
    "assert str(liste) == \"1 → 0 → 3\"\n",
    "try:\n",
    "    liste[-1] = 2\n",
    "except IndexError:\n",
    "    pass\n",
    "except:\n",
    "    raise AssertionError(\"Nous n'acceptons pas les indices négatifs, oh...\")\n",
    "try: \n",
    "    liste[3] = 1\n",
    "except IndexError:\n",
    "    pass\n",
    "except:\n",
    "    raise AssertionError(\"Indice trop grand\")"
   ]
  },
  {
   "cell_type": "code",
   "execution_count": null,
   "metadata": {},
   "outputs": [],
   "source": [
    "def __setitem__(self, i, valeur):\n",
    "    pass\n",
    "\n",
    "Liste.__setitem__ = __setitem__\n",
    "del __setitem__"
   ]
  },
  {
   "cell_type": "markdown",
   "metadata": {},
   "source": [
    "**solution**"
   ]
  },
  {
   "cell_type": "code",
   "execution_count": null,
   "metadata": {
    "jupyter": {
     "source_hidden": true
    }
   },
   "outputs": [],
   "source": [
    "def __setitem__(self, i, valeur):\n",
    "    # On lève une erreur si i n'est pas dans [0,...,len(self) - 1]\n",
    "    if i < 0 or i >= self._taille:\n",
    "        raise IndexError(\"Index hors des bornes\")\n",
    "    \n",
    "    # Efficacité: cas particulier de la dernière valeur\n",
    "    if i == self._taille - 1:\n",
    "        self._queue.valeur = valeur\n",
    "    # Autrement, on parcourt la liste\n",
    "    j = 0\n",
    "    courante = self._tete\n",
    "    while j < i:\n",
    "        courante = courante.suivante\n",
    "        j += 1\n",
    "    courante.valeur = valeur\n",
    "\n",
    "Liste.__setitem__ = __setitem__\n",
    "del __setitem__"
   ]
  },
  {
   "cell_type": "markdown",
   "metadata": {},
   "source": [
    "### 4 - Améliorer le constructeur"
   ]
  },
  {
   "cell_type": "markdown",
   "metadata": {},
   "source": [
    "On souhaiterait pouvoir constuire des listes avec la syntaxe `Liste(1, 2, 3, ...)` (nombres d'arguments variables) qui produirait `1 → 2 → 3 → ...`\n",
    "\n",
    "Pour y parvenir, on peut utiliser la syntaxe `def fn(*args)`. \n",
    "\n",
    "En effet, lorsqu'on appelle la fonction avec plusieurs arguments - ex `fn(1, 2, 3)` - python place les arguments dans un tableau `[1, 2, 3]` (en fait dans un `tuple`) qu'il lie au nom `args`. Voici un exemple:"
   ]
  },
  {
   "cell_type": "code",
   "execution_count": null,
   "metadata": {},
   "outputs": [],
   "source": [
    "def ajouter(*nbs):\n",
    "    # nbs est en fait de type `tuple`: s'utilise similairement à une liste\n",
    "    print(type(nbs))\n",
    "    acc = 0\n",
    "    for nb in nbs:\n",
    "        acc += nb\n",
    "    return acc\n",
    "\n",
    "print(ajouter(5, 10, 100, 200))"
   ]
  },
  {
   "cell_type": "markdown",
   "metadata": {},
   "source": [
    "Utiliser cette astuce syntaxique pour modifier le constructeur de `Liste`:"
   ]
  },
  {
   "cell_type": "code",
   "execution_count": null,
   "metadata": {},
   "outputs": [],
   "source": [
    "# À COMPLÉTER\n",
    "def __init__(self, *valeurs):\n",
    "    \"\"\"Crée une liste chaînée avec les valeurs fournies ou vide (s'il n'y en a pas)\"\"\"\n",
    "    self._tete, self._queue, self._taille = None, None, 0\n",
    "\n",
    "    # tenir compte des valeurs éventuellement fournies\n",
    "    # ne pas hésiter à utiliser les méthodes déjà définies!\n",
    "    for ___:\n",
    "        ___\n",
    "\n",
    "# Accrochage ...\n",
    "Liste.__init__ = __init__\n",
    "del __init__"
   ]
  },
  {
   "cell_type": "code",
   "execution_count": null,
   "metadata": {},
   "outputs": [],
   "source": [
    "liste1 = Liste(1, 2, 3); liste2 = Liste()\n",
    "assert str(liste1) == \"1 → 2 → 3\" and str(liste2) == \"None\""
   ]
  },
  {
   "cell_type": "markdown",
   "metadata": {},
   "source": [
    "**solution**"
   ]
  },
  {
   "cell_type": "code",
   "execution_count": null,
   "metadata": {
    "jupyter": {
     "source_hidden": true
    }
   },
   "outputs": [],
   "source": [
    "def __init__(self, *valeurs):\n",
    "    \"\"\"Crée une liste chaînée avec les valeurs fournies ou vide (s'il n'y en a pas)\"\"\"\n",
    "    self._tete, self._queue, self._taille = None, None, 0\n",
    "    \n",
    "    # tenir compte des valeurs fournies (s'il y en a)\n",
    "    for v in valeurs:\n",
    "        self.inserer_queue(v)\n",
    "\n",
    "Liste.__init__ = __init__\n",
    "del __init__"
   ]
  },
  {
   "cell_type": "markdown",
   "metadata": {},
   "source": [
    "### 5 - Concaténation"
   ]
  },
  {
   "cell_type": "markdown",
   "metadata": {},
   "source": [
    "On voudrait faire en sorte que `Liste(1, 2, 3) + Liste(4, 5)` donne une nouvelle liste obtenue en concaténant les deux fournies.\n",
    "\n",
    "Sachant que `var1 + var2` est traduit (la plupart du temps...) en `var1.__add__(var2)`, réaliser cette opérations: "
   ]
  },
  {
   "cell_type": "code",
   "execution_count": null,
   "metadata": {},
   "outputs": [],
   "source": [
    "# À COMPLÉTER\n",
    "def __add__(self, autre_liste):\n",
    "    \"\"\"renvoie une nouvelle liste obtenue en concaténant\n",
    "    une copie superficielle de la liste courante (self) avec\n",
    "    une copie superficielle de celle fournie en argument.\n",
    "    \"\"\"\n",
    "    # Vérifions que l'opérande de droite de l'addition est une liste\n",
    "    if not isinstance(autre_liste, Liste):\n",
    "        raise SyntaxError(f\"Je ne sais pas faire «ListeSimple + {type(autre_liste)}»\")\n",
    "    \n",
    "    debut, suite = self.copier(), autre_liste.copier()\n",
    "    # si suite est vide\n",
    "    if ___:\n",
    "        return ___\n",
    "    # autrement\n",
    "    ___\n",
    "    ___\n",
    "    ___\n",
    "    return debut\n",
    "\n",
    "# Accrochage ...\n",
    "Liste.__add__ = __add__\n",
    "del __add__"
   ]
  },
  {
   "cell_type": "code",
   "execution_count": null,
   "metadata": {},
   "outputs": [],
   "source": [
    "liste1 = Liste(1,2,3); liste2 = Liste(4, 5)\n",
    "liste = liste1 + liste2\n",
    "liste1.supprimer_tete()\n",
    "liste2.ajouter_tete(0)\n",
    "\n",
    "assert len(liste) == 5 and str(liste) == \"1 → 2 → 3 → 4 → 5\"\n",
    "assert str(liste1) == \"2 → 3\" and str(liste2) == \"0 → 4 → 5\" "
   ]
  },
  {
   "cell_type": "markdown",
   "metadata": {},
   "source": [
    "**solution**"
   ]
  },
  {
   "cell_type": "code",
   "execution_count": null,
   "metadata": {
    "jupyter": {
     "source_hidden": true
    }
   },
   "outputs": [],
   "source": [
    "# «obj1 + obj2» est traduit en «obj1.__add__(obj2)» qui doit renvoyer la somme définie\n",
    "def __add__(self, autre_liste):\n",
    "    \"\"\"renvoie une nouvelle liste obtenue en concaténant\n",
    "    une copie superficielle de la liste courante (self) avec\n",
    "    une copie superficielle de celle fournie en argument.\n",
    "    \"\"\"\n",
    "    # Vérifions que l'opérande de droite de l'addition est une liste\n",
    "    if not isinstance(autre_liste, ListeSimple):\n",
    "        raise SyntaxError(f\"Je ne sais pas faire «ListeSimple + {type(autre_liste)}»\")\n",
    "    \n",
    "    debut, suite = self.copier(), autre_liste.copier()\n",
    "    if suite.est_vide():\n",
    "        return debut\n",
    "    debut.__queue.suivante = suite.__tete\n",
    "    debut.__queue = suite.__queue\n",
    "    debut.__taille += len(suite)\n",
    "    return debut\n",
    "\n",
    "ListeSimple.__add__ = __add__\n",
    "del __add__"
   ]
  },
  {
   "cell_type": "markdown",
   "metadata": {},
   "source": [
    "### 6 - Parcourir la liste facilement (avancé)"
   ]
  },
  {
   "cell_type": "markdown",
   "metadata": {},
   "source": [
    "On souhaiterait permettre à l'utilisateur d'utiliser la syntaxe `for valeur in liste` pour parcourir une `Liste`.\n",
    "\n",
    "Voilà, dans les grandes lignes comment python procède avec cette syntaxe:\n",
    "\n",
    "1. il commence par regarder si l'objet `liste` possède une méthode `__iter__`. Si non, il lève une erreur, \n",
    "\n",
    "2. Si oui, il appelle cette méthode qui doit **normalement renvoyer un objet** que nous désignerons par `it`,\n",
    "\n",
    "3. il vérifie que `it` possède une méthode `__next__`. Si non, il lève une erreur,\n",
    "\n",
    "4. Si oui, il appelle `valeur = it.__next__()` à chaque itération. Il y a deux possibilités:\n",
    "    1. valeur est celle de l'itération courante,\n",
    "    2. `it.__next__()` lève l'«erreur» `StopIteration()` qui signifie qu'il n'y a plus rien à parcourir.  \n",
    "\n"
   ]
  },
  {
   "cell_type": "markdown",
   "metadata": {},
   "source": [
    "En résumé, `for valeur in liste` est traduit dans les grandes lignes en:\n",
    "\n",
    "```python\n",
    "it = liste.__iter__() # ou iter(liste)\n",
    "while True:\n",
    "    try:\n",
    "        valeur = it.__next__() # ou next(it)\n",
    "    except StopIteration():\n",
    "        break\n",
    "    # corp de boucle\n",
    "```"
   ]
  },
  {
   "cell_type": "code",
   "execution_count": null,
   "metadata": {},
   "outputs": [],
   "source": [
    "liste = [1, 2, 3]\n",
    "it = iter(liste) # ou liste.__iter__()"
   ]
  },
  {
   "cell_type": "code",
   "execution_count": null,
   "metadata": {},
   "outputs": [],
   "source": [
    "# exécuter plusieurs fois\n",
    "next(it) # ou it.__next__()"
   ]
  },
  {
   "cell_type": "markdown",
   "metadata": {},
   "source": [
    "Pour parvenir à notre objectif, \n",
    "1. on va ajouter un attribut secret à notre liste `__curseur` qui va nous servir à la parcourir,\n",
    "2. et définir à la fois la méthode `__iter__` et `__next__`:\n",
    "    - la première va initialiser `__curseur` et renvoyer la liste elle-même (vue qu'elle possède une méthode `__next__` ...),\n",
    "    - la seconde va renvoyer la valeur courante (s'il y en a une) et faire avancer `__curseur`."
   ]
  },
  {
   "cell_type": "code",
   "execution_count": null,
   "metadata": {},
   "outputs": [],
   "source": [
    "def __init__(self, *valeurs):\n",
    "    \"\"\"Crée une liste chaînée avec les valeurs fournies ou vide (s'il n'y en a pas)\"\"\"\n",
    "    self._tete, self._queue, self._taille = None, None, 0\n",
    "    for v in valeurs:\n",
    "        self.inserer_queue(v)\n",
    "    \n",
    "    # attribut privé de parcours\n",
    "    self.__curseur = None\n",
    "\n",
    "# À COMPLÉTER\n",
    "def __iter__(self):\n",
    "    self.__curseur = self.___ # on initialise le curseur.\n",
    "    return self # car la classe définie elle-même la méthode __next__()...\n",
    "        \n",
    "def __next__(self):\n",
    "    if self.__curseur is ___:\n",
    "        raise StopIteration()\n",
    "    courante = self.__curseur\n",
    "    # on prépare le prochain tour\n",
    "    self.__curseur = ___\n",
    "    return courante.___\n",
    "\n",
    "# accrochage\n",
    "Liste.__init__ = __init__\n",
    "Liste.__next__ = __next__\n",
    "Liste.__iter__ = __iter__\n",
    "del __init__; del __next__; del __iter__"
   ]
  },
  {
   "cell_type": "code",
   "execution_count": null,
   "metadata": {},
   "outputs": [],
   "source": [
    "for v in Liste(1, 2, 3):\n",
    "    print(v)\n",
    "# cela fonctionne même en compréhension\n",
    "assert [v for v in Liste(1, 2, 3)] == [1, 2, 3] "
   ]
  },
  {
   "cell_type": "markdown",
   "metadata": {},
   "source": [
    "**solution**"
   ]
  },
  {
   "cell_type": "code",
   "execution_count": null,
   "metadata": {
    "jupyter": {
     "source_hidden": true
    }
   },
   "outputs": [],
   "source": [
    "def __init__(self, *valeurs):\n",
    "    \"\"\"Crée une liste chaînée avec les valeurs fournies ou vide (s'il n'y en a pas)\"\"\"\n",
    "    self._tete, self._queue, self._taille = None, None, 0\n",
    "    for v in valeurs:\n",
    "        self.inserer_queue(v)\n",
    "    \n",
    "    # attribut privé de parcours\n",
    "    self.__curseur = None\n",
    "\n",
    "# À COMPLÉTER\n",
    "def __iter__(self):\n",
    "    self.__curseur = self._tete # on initialise le curseur.\n",
    "    return self # car la classe définie elle-même la méthode __next__()...\n",
    "        \n",
    "def __next__(self):\n",
    "    if self.__curseur is None:\n",
    "        raise StopIteration()\n",
    "    courante = self.__curseur\n",
    "    # on prépare le prochain tour\n",
    "    self.__curseur = self.__curseur.suivante\n",
    "    return courante.valeur\n",
    "\n",
    "# accrochage\n",
    "Liste.__init__ = __init__\n",
    "Liste.__next__ = __next__\n",
    "Liste.__iter__ = __iter__\n",
    "del __init__; del __next__; del __iter__"
   ]
  }
 ],
 "metadata": {
  "kernelspec": {
   "display_name": "Python 3",
   "language": "python",
   "name": "python3"
  },
  "language_info": {
   "codemirror_mode": {
    "name": "ipython",
    "version": 3
   },
   "file_extension": ".py",
   "mimetype": "text/x-python",
   "name": "python",
   "nbconvert_exporter": "python",
   "pygments_lexer": "ipython3",
   "version": "3.7.3"
  },
  "toc-autonumbering": false
 },
 "nbformat": 4,
 "nbformat_minor": 4
}
