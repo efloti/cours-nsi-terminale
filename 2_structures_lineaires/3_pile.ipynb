{
 "cells": [
  {
   "cell_type": "markdown",
   "metadata": {},
   "source": [
    "# Pile \\[*Stack*\\]"
   ]
  },
  {
   "cell_type": "markdown",
   "metadata": {},
   "source": [
    "Une pile est «conteneur» assujetti à la displine **Dernier entré, Premier sorti** (*Last In, First Out* abrégé en **LIFO**).\n",
    "\n",
    "On peut se la représenter comme une «pile d'assiette»: \n",
    "- **Empiler** \\[*push*\\] consiste à poser une assiette sur le haut de la pile,\n",
    "- **Dépiler** \\[*pop*\\] consiste à enlever l'assiette du haut de la pile (et à récupérer son contenu)."
   ]
  },
  {
   "cell_type": "markdown",
   "metadata": {},
   "source": [
    "Son interface doit prévoir au minimum (en plus d'un constructeur):\n",
    "- `empiler(valeur)`: insère une valeur au sommet de la pile,\n",
    "- `depiler()`: renvoie et supprime la valeur située au sommet de la pile."
   ]
  },
  {
   "cell_type": "markdown",
   "metadata": {},
   "source": [
    "On ajoute souvent un attribut `sommet` accessible en lecture seule qui permet de récupérer la valeur au sommet de la pile et aussi un moyen de savoir le nombre d'éléments situés dans la pile."
   ]
  },
  {
   "cell_type": "markdown",
   "metadata": {},
   "source": [
    "## Implémentations"
   ]
  },
  {
   "cell_type": "markdown",
   "metadata": {
    "toc-hr-collapsed": true,
    "toc-nb-collapsed": true
   },
   "source": [
    "### avec une `list`"
   ]
  },
  {
   "cell_type": "markdown",
   "metadata": {},
   "source": [
    "On peut tout simplement utiliser une `list` en se limitant à ses méthodes:\n",
    "- `append(valeur)` pour empiler,\n",
    "- `pop()` pour dépiler,\n",
    "- `liste[-1]` pour accéder au sommet,\n",
    "- `len(liste)` pour connaître son nombre d'éléments."
   ]
  },
  {
   "cell_type": "markdown",
   "metadata": {},
   "source": [
    "C'est très efficace car les opérations en fin de liste se font (presque toujours) en temps constant $O(1)$."
   ]
  },
  {
   "cell_type": "markdown",
   "metadata": {},
   "source": [
    "Si on souhaite renforcer la «**sémantique**» des opérations, on peut créer une classe ayant un attribut privé `__list`.\n",
    "\n",
    "Achever l'implémentation qui suit de façon à passer le test ci-après."
   ]
  },
  {
   "cell_type": "code",
   "execution_count": null,
   "metadata": {},
   "outputs": [],
   "source": [
    "class Pile:\n",
    "    def __init__(self):\n",
    "        self.__liste = []\n",
    "    def empiler(self, valeur):\n",
    "        pass\n",
    "    def depiler(self):\n",
    "        if ___:\n",
    "            raise IndexError(\"pile vide!\")\n",
    "        pass\n",
    "    @property\n",
    "    def sommet(self):\n",
    "        ___\n",
    "    def est_vide(self):\n",
    "        pass\n",
    "    def __len__(self):\n",
    "        pass\n",
    "    def __str__(self):\n",
    "        if self.est_vide():\n",
    "            return \"Pile vide!\"\n",
    "        ch = \"\"\n",
    "        for v in reversed(self.__liste):\n",
    "            ch += f\"{v}\\n\"\n",
    "        return ch[:-1]"
   ]
  },
  {
   "cell_type": "markdown",
   "metadata": {},
   "source": [
    "Test"
   ]
  },
  {
   "cell_type": "code",
   "execution_count": null,
   "metadata": {},
   "outputs": [],
   "source": [
    "pile = Pile()\n",
    "assert pile.est_vide() and str(pile) == \"Pile vide!\"\n",
    "try:\n",
    "    pile.depiler()\n",
    "    raise AssertionError()\n",
    "except:\n",
    "    pass\n",
    "pile.empiler(1); pile.empiler(2); pile.empiler(3)\n",
    "assert str(pile) == \"3\\n2\\n1\" and len(pile)\n",
    "assert pile.sommet == 3\n",
    "v = pile.depiler()\n",
    "assert v == 3 and pile.sommet == 2\n",
    "pile.depiler(); v = pile.depiler()\n",
    "assert len(pile) == 0 and pile.est_vide() and v == 1\n",
    "print(\"Impeccable\")"
   ]
  },
  {
   "cell_type": "markdown",
   "metadata": {},
   "source": [
    "**Solution**"
   ]
  },
  {
   "cell_type": "code",
   "execution_count": null,
   "metadata": {
    "jupyter": {
     "source_hidden": true
    }
   },
   "outputs": [],
   "source": [
    "class Pile:\n",
    "    def __init__(self):\n",
    "        self.__liste = []\n",
    "    def empiler(self, valeur):\n",
    "        self.__liste.append(valeur)\n",
    "    def depiler(self):\n",
    "        if len(self.__liste) == 0:\n",
    "            raise IndexError(\"pile vide!\")\n",
    "        return self.__liste.pop()\n",
    "    @property\n",
    "    def sommet(self):\n",
    "        return self.__liste[-1]\n",
    "    def est_vide(self):\n",
    "        return len(self) == 0\n",
    "    def __len__(self):\n",
    "        return len(self.__liste)\n",
    "    def __str__(self):\n",
    "        if self.est_vide():\n",
    "            return \"Pile vide!\"\n",
    "        ch = \"\"\n",
    "        for v in reversed(self.__liste):\n",
    "            ch += f\"{v}\\n\"\n",
    "        return ch[:-1]"
   ]
  },
  {
   "cell_type": "markdown",
   "metadata": {
    "toc-hr-collapsed": true,
    "toc-nb-collapsed": true
   },
   "source": [
    "### avec un «vrai» tableau"
   ]
  },
  {
   "cell_type": "markdown",
   "metadata": {},
   "source": [
    "On ferait probablement cela avec un langage qui ne possède pas nativement de tableaux «dynamiques» comme Python  (il y en a beaucoup), mais des *tableaux de taille fixe*.\n",
    "\n",
    "Pour comprendre cette manière de faire, nous la simulons avec un tableau de la forme `[None] * taille`.\n",
    "\n",
    "On utilise alors un «pointeur» sur le **sommet** de pile \\[*top of stack*\\] qu'on initialise à $-1$ pour signifier que la pile est vide."
   ]
  },
  {
   "attachments": {
    "610d88c1-7a96-4e4d-a23f-55cfd7e8cdc0.png": {
     "image/png": "[encoded data removed]"
    }
   },
   "cell_type": "markdown",
   "metadata": {},
   "source": [
    "![pile_tableau.png](attachment:610d88c1-7a96-4e4d-a23f-55cfd7e8cdc0.png)"
   ]
  },
  {
   "cell_type": "markdown",
   "metadata": {},
   "source": [
    "À vous de jouer!"
   ]
  },
  {
   "cell_type": "code",
   "execution_count": null,
   "metadata": {},
   "outputs": [],
   "source": [
    "class Pile:\n",
    "    def __init__(self, taille=2**10):\n",
    "        self.__tableau = [None] * taille\n",
    "        self.__sommet = -1\n",
    "        self.__IMAX = taille - 1\n",
    "    def empiler(self, valeur):\n",
    "        if ___:\n",
    "            raise IndexError(\"Pile pleine!\")\n",
    "        self.__sommet ___\n",
    "        self.__tableau[___] = valeur\n",
    "    def depiler(self):\n",
    "        if ___:\n",
    "            raise IndexError(\"Pile vide!\")\n",
    "        ___\n",
    "        return ___\n",
    "    @property\n",
    "    def sommet(self):\n",
    "        ___\n",
    "    def est_vide(self): # redondant avec __len__\n",
    "        return ___\n",
    "    def __len__(self):\n",
    "        return ___\n",
    "    def __str__(self):\n",
    "        if self.est_vide():\n",
    "            return \"Pile vide!\"\n",
    "        ch = \"\"\n",
    "        i = self.__sommet\n",
    "        while i >= 0:\n",
    "            ch += f\"{self.__tableau[i]}\\n\"\n",
    "            i -= 1\n",
    "        return ch[:-1]"
   ]
  },
  {
   "cell_type": "code",
   "execution_count": null,
   "metadata": {},
   "outputs": [],
   "source": [
    "pile = Pile(4)\n",
    "assert pile.est_vide() and str(pile) == \"Pile vide!\"\n",
    "try:\n",
    "    pile.depiler()\n",
    "    raise AssertionError()\n",
    "except:\n",
    "    pass\n",
    "pile.empiler(1); pile.empiler(2); pile.empiler(3)\n",
    "assert str(pile) == \"3\\n2\\n1\" and len(pile)\n",
    "assert pile.sommet == 3\n",
    "v = pile.depiler()\n",
    "assert v == 3 and pile.sommet == 2\n",
    "pile.depiler(); v = pile.depiler()\n",
    "assert len(pile) == 0 and pile.est_vide() and v == 1\n",
    "pile.empiler(1); pile.empiler(2); pile.empiler(3); pile.empiler(4)\n",
    "try:\n",
    "    pile.empiler(5)\n",
    "    raise AssertionError()\n",
    "except:\n",
    "    pass\n",
    "print(\"Impeccable\")"
   ]
  },
  {
   "cell_type": "markdown",
   "metadata": {},
   "source": [
    "**Solution**"
   ]
  },
  {
   "cell_type": "code",
   "execution_count": null,
   "metadata": {
    "jupyter": {
     "source_hidden": true
    }
   },
   "outputs": [],
   "source": [
    "class Pile:\n",
    "    def __init__(self, taille=2**10):\n",
    "        self.__tableau = [None] * taille\n",
    "        self.__sommet = -1\n",
    "        self.__IMAX = taille - 1\n",
    "    def empiler(self, valeur):\n",
    "        if self.__sommet == self.__IMAX:\n",
    "            raise IndexError(\"Pile pleine!\")\n",
    "        self.__sommet += 1\n",
    "        self.__tableau[self.__sommet] = valeur\n",
    "    def depiler(self):\n",
    "        if self.__sommet == -1:\n",
    "            raise IndexError(\"Pile vide!\")\n",
    "        self.__sommet -= 1\n",
    "        return self.__tableau[self.__sommet+1]\n",
    "    @property\n",
    "    def sommet(self):\n",
    "        return self.__tableau[self.__sommet]\n",
    "    def est_vide(self): # redondant avec __len__\n",
    "        return self.__sommet == -1\n",
    "    def __len__(self):\n",
    "        return self.__sommet + 1\n",
    "    def __str__(self):\n",
    "        if self.est_vide():\n",
    "            return \"Pile vide!\"\n",
    "        ch = \"\"\n",
    "        i = self.__sommet\n",
    "        while i >= 0:\n",
    "            ch += f\"{self.__tableau[i]}\\n\"\n",
    "            i -= 1\n",
    "        return ch[:-1]"
   ]
  },
  {
   "cell_type": "markdown",
   "metadata": {
    "toc-hr-collapsed": true,
    "toc-nb-collapsed": true
   },
   "source": [
    "### avec une liste chaînée"
   ]
  },
  {
   "cell_type": "markdown",
   "metadata": {},
   "source": [
    "On suppose disposer d'un type `Liste` muni de l'interface minimale suivante (outre un constructeur):\n",
    "- **propriétés** (en lecture seul):\n",
    "    - `tete`: permet d'obtenir la cellule en tête de liste,\n",
    "    - `queue`: permet d'obtenir la cellule en queue de liste.\n",
    "- **méthodes**:\n",
    "    - `inserer_apres(valeur, cellule)`: insère valeur dans une cellule qui suit celle qui est donnée; si le deuxième argument n'est pas précisé, la valeur est insérée en tête de liste,\n",
    "    - `supprimer_apres(cellule)`: supprime la valeur située dans la cellule qui suit celle qui est donnée; si aucun argument n'est fourni, supprime la cellule de tête. Elle renvoie la valeur de la cellule supprimée,\n",
    "    - `__len__()`,\n",
    "    - `__str__()`.\n",
    "\n",
    "Une cellule est un objet ayant l'attribut publique `valeur` et la propriété accessible en lecture seule `suivante`."
   ]
  },
  {
   "cell_type": "markdown",
   "metadata": {},
   "source": [
    "Implémenter `Pile` en utilisant cette interface."
   ]
  },
  {
   "cell_type": "code",
   "execution_count": null,
   "metadata": {},
   "outputs": [],
   "source": [
    "from liste import Liste\n",
    "\n",
    "class Pile:\n",
    "    def __init__(self):\n",
    "        self.__liste = ___\n",
    "    def est_vide(self):\n",
    "        pass\n",
    "    def empiler(self, valeur):\n",
    "        pass\n",
    "    def depiler(self):\n",
    "        if ___:\n",
    "            raise IndexError(\"Pile vide!\")\n",
    "        pass\n",
    "    @property\n",
    "    def sommet(self):\n",
    "        pass\n",
    "    def __len__(self):\n",
    "        pass\n",
    "    def __str__(self):\n",
    "        return str(self.__liste)"
   ]
  },
  {
   "cell_type": "code",
   "execution_count": null,
   "metadata": {},
   "outputs": [],
   "source": [
    "pile = Pile()\n",
    "assert pile.est_vide() and str(pile) == \"None\"\n",
    "try:\n",
    "    pile.depiler()\n",
    "    raise AssertionError()\n",
    "except:\n",
    "    pass\n",
    "pile.empiler(1); pile.empiler(2); pile.empiler(3)\n",
    "assert str(pile) == \"3 → 2 → 1\" and len(pile)\n",
    "assert pile.sommet == 3\n",
    "v = pile.depiler()\n",
    "assert v == 3 and pile.sommet == 2\n",
    "pile.depiler(); v = pile.depiler()\n",
    "assert len(pile) == 0 and pile.est_vide() and v == 1\n",
    "print(\"Impeccable\")"
   ]
  },
  {
   "cell_type": "markdown",
   "metadata": {},
   "source": [
    "**Solution**"
   ]
  },
  {
   "cell_type": "code",
   "execution_count": null,
   "metadata": {
    "jupyter": {
     "source_hidden": true
    }
   },
   "outputs": [],
   "source": [
    "from liste import Liste\n",
    "\n",
    "class Pile:\n",
    "    def __init__(self):\n",
    "        self.__liste = Liste()\n",
    "    def est_vide(self):\n",
    "        return len(self.__liste) == 0\n",
    "    def empiler(self, valeur):\n",
    "        self.__liste.inserer_apres(valeur)\n",
    "    def depiler(self):\n",
    "        if self.est_vide():\n",
    "            raise IndexError(\"Pile vide!\")\n",
    "        return self.__liste.supprimer_apres()\n",
    "    @property\n",
    "    def sommet(self):\n",
    "        return self.__liste.tete.valeur\n",
    "    def __len__(self):\n",
    "        return len(self.__liste)\n",
    "    def __str__(self):\n",
    "        return str(self.__liste)"
   ]
  },
  {
   "cell_type": "markdown",
   "metadata": {},
   "source": [
    "## Applications - Exercices"
   ]
  },
  {
   "cell_type": "markdown",
   "metadata": {
    "toc-hr-collapsed": true,
    "toc-nb-collapsed": true
   },
   "source": [
    "### 1 - Parenthèses équilibrées"
   ]
  },
  {
   "cell_type": "markdown",
   "metadata": {},
   "source": [
    "Les parenthèses d'une chaîne sont *bien équilibrées* si:\n",
    "- la chaîne ne contient aucune parenthèse ou,\n",
    "- si elle est de la forme `\"<prefixe>(<milieu>)<suffixe>\"` où `<prefixe>`, `<milieu>` et `<suffixe>` sont des chaînes dont les parenthèses sont *bien équilibrées*.\n",
    "\n",
    "On pourrait dès lors «facilement» écrire une fonction récursive `par_ok(chaine)` qui renvoie `True` ou `False` selon que la chaîne fournie est bien équilibrée au niveau des parenthèses.\n",
    "\n",
    "Mais *on peut aussi utiliser une pile*: l'idée est de lire les caractères de gauche à droite et de faire un *push* lorsqu'on rencontre une parenthèse ouvrante et un *pop* pour une parenthèse fermante.\n",
    "\n",
    "À quelle condition peut-on affirmer que les parenthèses de la chaîne lue sont équilibrées?"
   ]
  },
  {
   "cell_type": "markdown",
   "metadata": {},
   "source": [
    "Implémenter cette fonction."
   ]
  },
  {
   "cell_type": "code",
   "execution_count": null,
   "metadata": {},
   "outputs": [],
   "source": [
    "# À VOUS DE JOUER (COMMENCER PAR QUELQUES ASSERTIONS)"
   ]
  },
  {
   "cell_type": "markdown",
   "metadata": {},
   "source": [
    "**Solution**"
   ]
  },
  {
   "cell_type": "code",
   "execution_count": null,
   "metadata": {
    "jupyter": {
     "source_hidden": true
    }
   },
   "outputs": [],
   "source": [
    "def par_ok(chaine):\n",
    "    pile = Pile()\n",
    "    for c in chaine:\n",
    "        if c == \"(\":\n",
    "            pile.empiler(c)\n",
    "        elif c == \")\":\n",
    "            pile.depiler()\n",
    "    return len(pile) == 0\n",
    "\n",
    "assert par_ok(\"()()\") == True\n",
    "assert par_ok(\"(()\") == False\n",
    "assert par_ok(\"\") == True\n",
    "assert par_ok(\"((hue)((oh)(ah)))\") == True"
   ]
  },
  {
   "cell_type": "markdown",
   "metadata": {
    "toc-hr-collapsed": true,
    "toc-nb-collapsed": true
   },
   "source": [
    "### 2 - Notation polonaise inverse"
   ]
  },
  {
   "cell_type": "markdown",
   "metadata": {},
   "source": [
    "Les calculatrices scientifique HP (qui était très courantes il y a encore peu) proposaient d'écrire les calculs sans aucune parenthèses. Par exemple:\n",
    "- $5\\times(2+6)$ s'écrivait `2 6 + 5 *`. Le calcul se déroulait comme suit:\n",
    "    - `2 6 + 5 *` devient `8 5 *` devient `40`.\n",
    "\n",
    "\n",
    "- $(1-2\\times 3)\\times 4$ s'écrivait `1 2 3 * - 4 *` et donnait:\n",
    "    - `1 2 3 * - 4 *` devient `1 6 - 4 *` devient `-5 4 *` devient `-20`.\n",
    "\n",
    "Implémenter la fonction `eval_polinv(expression)` qui renvoie la valeur de l'expression fournie (sous la forme d'une chaîne de caractère)."
   ]
  },
  {
   "cell_type": "code",
   "execution_count": null,
   "metadata": {},
   "outputs": [],
   "source": [
    "# À VOUS DE JOUER (COMMENCER PAR QUELQUES ASSERTIONS)"
   ]
  },
  {
   "cell_type": "markdown",
   "metadata": {},
   "source": [
    "**Solution**"
   ]
  },
  {
   "cell_type": "code",
   "execution_count": 5,
   "metadata": {
    "jupyter": {
     "source_hidden": true
    }
   },
   "outputs": [],
   "source": [
    "def eval_polinv(expression: str):\n",
    "    pile = Pile()\n",
    "    lecture_nb = False\n",
    "    nb_str = \"\"\n",
    "    for c in expression:\n",
    "        if c == \" \":\n",
    "            if lecture_nb:\n",
    "                lecture_nb = False\n",
    "                pile.empiler(float(nb_str))\n",
    "                nb_str = \"\"\n",
    "            continue\n",
    "        if c in \"+-*/\":\n",
    "            v1 = float(pile.depiler())\n",
    "            v2 = float(pile.depiler())\n",
    "            if c == \"+\":\n",
    "                pile.empiler(v1 + v2)\n",
    "            elif c == \"-\":\n",
    "                pile.empiler(v2 - v1) # attention à l'oredre\n",
    "            elif c == \"*\":\n",
    "                pile.empiler(v1 * v2)\n",
    "            elif c == \"/\":\n",
    "                pile.empiler(v2 / v1)\n",
    "        else:\n",
    "            if not lecture_nb:\n",
    "                lecture_nb = True\n",
    "            nb_str += c\n",
    "    if len(pile) != 1:\n",
    "        raise SyntaxError(\"l'expression fournie n'est pas correctement formé\")\n",
    "    return pile.depiler()\n",
    "            \n",
    "assert eval_polinv(\"2 6 + 5 *\") == 40\n",
    "assert eval_polinv(\"1 2 3 * - 4 *\") == -20"
   ]
  },
  {
   "cell_type": "markdown",
   "metadata": {},
   "source": [
    "à faire ..."
   ]
  }
 ],
 "metadata": {
  "kernelspec": {
   "display_name": "Python 3",
   "language": "python",
   "name": "python3"
  },
  "language_info": {
   "codemirror_mode": {
    "name": "ipython",
    "version": 3
   },
   "file_extension": ".py",
   "mimetype": "text/x-python",
   "name": "python",
   "nbconvert_exporter": "python",
   "pygments_lexer": "ipython3",
   "version": "3.7.3"
  }
 },
 "nbformat": 4,
 "nbformat_minor": 4
}
