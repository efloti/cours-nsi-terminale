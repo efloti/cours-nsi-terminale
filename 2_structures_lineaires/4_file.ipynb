{
 "cells": [
  {
   "cell_type": "markdown",
   "metadata": {},
   "source": [
    "# File \\[*queue*\\]"
   ]
  },
  {
   "cell_type": "markdown",
   "metadata": {},
   "source": [
    "Une file est «conteneur» assujetti à la displine **Premier entré, Premier sorti** (*First In, First Out* abrégé en **FIFO**).\n",
    "\n",
    "On peut se la représenter comme un *tube à deux bouts*: \n",
    "- **Enfiler** \\[*enqueue*\\] consiste à insérer une donnée par une extrémité,\n",
    "- **Défiler** \\[*dequeue*\\] consiste à enlever (et récupérer) une donnée à l'**autre** extrémité."
   ]
  },
  {
   "cell_type": "markdown",
   "metadata": {},
   "source": [
    "Son interface doit prévoir au minimum (en plus d'un constructeur):\n",
    "- `enfiler(valeur)`: insère une valeur à une extrémité de la file,\n",
    "- `defiler()`: renvoie et supprime la valeur située à son autre extrémité."
   ]
  },
  {
   "cell_type": "markdown",
   "metadata": {},
   "source": [
    "On ajoute souvent un attribut `voir` accessible en lecture seule permettant de récupérer la valeur en sortie de file et un moyen pour obtenir le nombre d'éléments dans la file."
   ]
  },
  {
   "cell_type": "markdown",
   "metadata": {},
   "source": [
    "## Implémentations"
   ]
  },
  {
   "cell_type": "markdown",
   "metadata": {
    "toc-hr-collapsed": true,
    "toc-nb-collapsed": true
   },
   "source": [
    "### Le type `deque` de Python"
   ]
  },
  {
   "cell_type": "markdown",
   "metadata": {},
   "source": [
    "Les `list`(s) de Python ne sont pas adaptées pour implémenter une **file** ... Pour quelle raison?"
   ]
  },
  {
   "cell_type": "markdown",
   "metadata": {
    "jupyter": {
     "source_hidden": true
    }
   },
   "source": [
    "L'insertion et la suppression en **début** de `list` sont des opérations de complexité $O(n)$ (temps proportionnel aux nombres d'éléménts stockés dans la liste)."
   ]
  },
  {
   "cell_type": "markdown",
   "metadata": {},
   "source": [
    "Pour cette raison, Python propose dans sa librairie standard le module `collections`. Celui-ci contient le type `deque` (file «double») dont les opérations d'insertion ou de suppression aux deux bouts se font en temps constant $O(1)$.\n",
    "\n",
    "Pour l'utiliser: `from collections import deque`.\n",
    "\n",
    "On peut, entre autre chose (*interface*):\n",
    "- construire une «deque» vide: `f = deque()`,\n",
    "- «enfiler» une valeur avec: `f.append(valeur)`,\n",
    "- et «défiler» (en récupérant la valeur) avec: `v = f.popleft()`.\n",
    "\n",
    "Ou bien (raison pour laquelle on parle de file double) enfiler avec `appendleft(valeur)` et «défiler» avec `pop`.\n",
    "\n",
    "Y'a qu'à choisir son côté. Tester!"
   ]
  },
  {
   "cell_type": "code",
   "execution_count": null,
   "metadata": {},
   "outputs": [],
   "source": [
    "# À TESTER"
   ]
  },
  {
   "cell_type": "markdown",
   "metadata": {},
   "source": [
    "**Un exemple**"
   ]
  },
  {
   "cell_type": "code",
   "execution_count": null,
   "metadata": {
    "jupyter": {
     "source_hidden": true
    }
   },
   "outputs": [],
   "source": [
    "from collections import deque\n",
    "\n",
    "f = deque()\n",
    "for i in range(3):\n",
    "    f.append(i) # pour enfiler\n",
    "print(f\"état de la file f: {f}\")\n",
    "v = f.popleft() # pour defiler\n",
    "print(f\"valeur défilée: {v}\")\n",
    "print(f\"état de la file après défilement {f}\")\n",
    "print(f\"est-ce une liste? {type(f) is list}\")\n",
    "print(f\"est-ce une «deque» (file double)? {type(f) is deque}\")"
   ]
  },
  {
   "cell_type": "markdown",
   "metadata": {
    "toc-hr-collapsed": true,
    "toc-nb-collapsed": true
   },
   "source": [
    "### avec une liste chaînée"
   ]
  },
  {
   "cell_type": "markdown",
   "metadata": {},
   "source": [
    "On enfile en insérant la valeur en queue (réfléchir) et on défile en supprimant la tête. Ces opérations sont très efficaces pourvues que la liste possède une propriété `queue` permettant de récupérer simplement la dernière cellule de la liste...\n",
    "\n",
    "On réutilise le type `Liste` dont l'interface a été décrite plus tôt (voir pile)."
   ]
  },
  {
   "cell_type": "code",
   "execution_count": null,
   "metadata": {},
   "outputs": [],
   "source": [
    "from liste import Liste\n",
    "\n",
    "class File:\n",
    "    def __init__(self):\n",
    "        self.__liste = Liste()\n",
    "    def est_vide(self):\n",
    "        return len(self.__liste) == 0\n",
    "    def enfiler(self, valeur):\n",
    "        pass\n",
    "    def defiler(self):\n",
    "        pass\n",
    "    def __len__(self):\n",
    "        return len(self.__liste)\n",
    "    def __str__(self):\n",
    "        return str(self.__liste.tete)    "
   ]
  },
  {
   "cell_type": "code",
   "execution_count": null,
   "metadata": {},
   "outputs": [],
   "source": [
    "f = File()\n",
    "f.enfiler(1)\n",
    "f.enfiler(2)\n",
    "print(f)\n",
    "assert f.defiler() == 1\n",
    "f.enfiler(3)\n",
    "f.enfiler(4)\n",
    "f.enfiler(5)\n",
    "assert len(f) == 4\n",
    "print(f)"
   ]
  },
  {
   "cell_type": "markdown",
   "metadata": {},
   "source": [
    "**Solution**"
   ]
  },
  {
   "cell_type": "code",
   "execution_count": null,
   "metadata": {
    "jupyter": {
     "source_hidden": true
    }
   },
   "outputs": [],
   "source": [
    "from liste import Liste\n",
    "\n",
    "class File:\n",
    "    def __init__(self):\n",
    "        self.__liste = Liste()\n",
    "    def est_vide(self):\n",
    "        return len(self.__liste) == 0\n",
    "    def enfiler(self, valeur):\n",
    "        queue = self.__liste.queue\n",
    "        self.__liste.inserer_apres(valeur, queue) # pas de return ici!\n",
    "    def defiler(self):\n",
    "        ret = self.__liste.tete.valeur\n",
    "        self.__liste.supprimer_apres()\n",
    "        return ret \n",
    "    def __len__(self):\n",
    "        return len(self.__liste)\n",
    "    def __str__(self):\n",
    "        return str(self.__liste.tete)    "
   ]
  },
  {
   "cell_type": "markdown",
   "metadata": {},
   "source": [
    "Avez-vous une idée de comment on pourrait obtenir une «file double» (aussi efficace aux deux extrémités) avec une liste chaînée?"
   ]
  },
  {
   "cell_type": "markdown",
   "metadata": {
    "jupyter": {
     "source_hidden": true
    }
   },
   "source": [
    "En utilisant une liste doublement chaînée: la suppression en queue serait simple car il serait possible de «remonter» à la cellule précédente..."
   ]
  },
  {
   "cell_type": "markdown",
   "metadata": {
    "toc-hr-collapsed": true,
    "toc-nb-collapsed": true
   },
   "source": [
    "### avec un «vrai» tableau"
   ]
  },
  {
   "cell_type": "markdown",
   "metadata": {},
   "source": [
    "C'est nécessaire pour certains langages et la stratégie est intéressante.\n",
    "\n",
    "Dans les grandes ligne, on utilise deux pointeurs `entree`, `sortie` sur des positions du tableau (de taille fixe). Si on suppose que la sortie est à «gauche» et l'entrée à «droite»:\n",
    "- `enfiler(valeur)`: on place valeur dans le tableau à la position `entree` et on avance `entree` d'un cran si il y a de la place sinon on le fait redémarrer en début de tableau (voir cas **4.**),\n",
    "- `defiler()`: on récupère la valeur à la position `sortie` puis on décale `sortie` d'un cran vers la droite. Même stratégie si on arrive en bout de tableau."
   ]
  },
  {
   "attachments": {
    "9763aa2e-32bd-40ad-93e6-475896ccb86f.png": {
     "image/png": "[encoded data removed]"
    }
   },
   "cell_type": "markdown",
   "metadata": {},
   "source": [
    "![file_tableau.png](attachment:9763aa2e-32bd-40ad-93e6-475896ccb86f.png)"
   ]
  },
  {
   "cell_type": "markdown",
   "metadata": {},
   "source": [
    "Comment s'aperçoit-on que la file est pleine?"
   ]
  },
  {
   "cell_type": "markdown",
   "metadata": {
    "jupyter": {
     "source_hidden": true
    }
   },
   "source": [
    "Lorsque, au moment d'enfiler une valeur, `entree + 1` est égal à `sortie`, la valeur est bien enfilée mais la file doit être marquée pleine. En effet si `entree` et `sortie` coincide, la file peut tout aussi bien être pleine que vide!"
   ]
  },
  {
   "cell_type": "markdown",
   "metadata": {},
   "source": [
    "À vous de jouer!"
   ]
  },
  {
   "cell_type": "code",
   "execution_count": null,
   "metadata": {},
   "outputs": [],
   "source": [
    "class File:\n",
    "    def __init__(self, taille=2**10):\n",
    "        self.__tableau = [None] * taille\n",
    "        self.__entree = 0\n",
    "        self.__sortie = 0\n",
    "        self.__pleine = False\n",
    "    def est_vide(self):\n",
    "        pass\n",
    "    def enfiler(self, valeur):\n",
    "        if ___:\n",
    "            raise IndexError(\"File pleine!\")\n",
    "        pass\n",
    "    def defiler(self):\n",
    "        if ___:\n",
    "            raise IndexError(\"File vide!\")\n",
    "        pass\n",
    "    def __len__(self):\n",
    "        pass\n",
    "    def __str__(self):\n",
    "        return str(self.__tableau)"
   ]
  },
  {
   "cell_type": "markdown",
   "metadata": {},
   "source": [
    "Pour tester"
   ]
  },
  {
   "cell_type": "code",
   "execution_count": null,
   "metadata": {},
   "outputs": [],
   "source": [
    "f = File(4)\n",
    "f.enfiler(1)\n",
    "f.enfiler(2)\n",
    "print(f)\n",
    "assert f.defiler() == 1\n",
    "f.enfiler(3)\n",
    "f.enfiler(4)\n",
    "f.enfiler(5)\n",
    "assert len(f) == 4\n",
    "print(f)\n",
    "assert f.defiler() == 2 and f.defiler() == 3\n",
    "print(f)\n",
    "assert len(f) == 2\n",
    "# bien sûr il faudrait améliorer l'affichage..."
   ]
  },
  {
   "cell_type": "markdown",
   "metadata": {},
   "source": [
    "**Solution**"
   ]
  },
  {
   "cell_type": "code",
   "execution_count": null,
   "metadata": {
    "jupyter": {
     "source_hidden": true
    }
   },
   "outputs": [],
   "source": [
    "class File:\n",
    "    def __init__(self, taille=2**10):\n",
    "        self.__tableau = [None] * taille\n",
    "        self.__entree = 0\n",
    "        self.__sortie = 0\n",
    "        self.__pleine = False\n",
    "    def est_vide(self):\n",
    "        return self.__entree == self.__sortie\n",
    "    def enfiler(self, valeur):\n",
    "        if self.__pleine:\n",
    "            raise IndexError(\"File pleine!\")\n",
    "        if (self.__entree + 1) % len(self.__tableau) == self.__sortie:\n",
    "            self.__pleine = True\n",
    "        self.__tableau[self.__entree] = valeur\n",
    "        self.__entree = (self.__entree + 1) % len(self.__tableau)\n",
    "    def defiler(self):\n",
    "        if not self.__pleine and self.__entree == self.__sortie:\n",
    "            raise IndexError(\"File vide!\")\n",
    "        if self.__pleine:\n",
    "            self.__pleine = False\n",
    "        ret = self.__tableau[self.__sortie] \n",
    "        self.__sortie = (self.__sortie + 1) % len(self.__tableau)\n",
    "        return ret\n",
    "    def __len__(self):\n",
    "        if self.__entree > self.__sortie:\n",
    "            return self.__entree - self.__sortie\n",
    "        else:\n",
    "            return self.__entree + (len(self.__tableau) - self.__sortie)\n",
    "    def __str__(self):\n",
    "        return str(self.__tableau)"
   ]
  },
  {
   "cell_type": "markdown",
   "metadata": {},
   "source": [
    "**Note**: observez que `entree` et `sortie` sont conventionnelles et qu'il ne serait pas difficile d'échanger leurs rôles pour obtenir une file «double» (aussi efficace aux deux extremités)."
   ]
  },
  {
   "cell_type": "markdown",
   "metadata": {},
   "source": [
    "## Applications - Exercices"
   ]
  },
  {
   "cell_type": "markdown",
   "metadata": {
    "toc-hr-collapsed": true,
    "toc-nb-collapsed": true
   },
   "source": [
    "### 1 - Implémenter une file avec deux piles"
   ]
  },
  {
   "cell_type": "markdown",
   "metadata": {},
   "source": [
    "Tout est dans le titre. On ne recherche pas l'efficacité.\n",
    "\n",
    "Utiliser de simples listes - en vous limitant à `append`, `pop` et éventuellement `...[-1]` - pour vos piles.\n",
    "\n",
    "*aide*: L'idée est de faire transiter les éléments de la pile pour l'entrée vers la pile pour sortie **aux moments opportuns** - dessiner! "
   ]
  },
  {
   "cell_type": "code",
   "execution_count": null,
   "metadata": {},
   "outputs": [],
   "source": [
    "# VOTRE CODE ICI\n",
    "class File:\n",
    "    pass"
   ]
  },
  {
   "cell_type": "code",
   "execution_count": 14,
   "metadata": {},
   "outputs": [],
   "source": [
    "f = File()\n",
    "for i in range(5):\n",
    "    f.enfiler(i)\n",
    "v1 = f.defiler(); v2 = f.defiler()\n",
    "f.enfiler(10)\n",
    "assert v1 == 0 and v2 == 1 and len(f) == 4"
   ]
  },
  {
   "cell_type": "markdown",
   "metadata": {},
   "source": [
    "**Solution**"
   ]
  },
  {
   "cell_type": "code",
   "execution_count": 13,
   "metadata": {
    "jupyter": {
     "source_hidden": true
    }
   },
   "outputs": [],
   "source": [
    "class File:\n",
    "    def __init__(self):\n",
    "        self.__entree = []  # pile d'entrée\n",
    "        self.__sortie = []  # pile de sortie\n",
    "    \n",
    "    def enfiler(self, valeur):\n",
    "        self.__entree.append(valeur)\n",
    "    \n",
    "    def defiler(self):\n",
    "        if len(self) == 0:\n",
    "            raise IndexError(\"File vide!\")\n",
    "        \n",
    "        # si sortie n'est pas vide le premier entrée est au sommet\n",
    "        if len(self.__sortie):\n",
    "            return self.__sortie.pop()\n",
    "        \n",
    "        Ne = len(self.__entree)\n",
    "        # si entree n'a qu'un élément, on peut le sortir directement\n",
    "        if Ne == 1:\n",
    "            return self.__sortie.pop()\n",
    "\n",
    "        # la sortie est vide et l'entrée contient deux éléments ou plus\n",
    "        # copions entree dans sortie (sauf le dernier élément)\n",
    "        for _ in range(Ne-1):\n",
    "            self.__sortie.append(self.__entree.pop())\n",
    "        \n",
    "        # le dernier est le premier entrée donc c'est lui qui sort:\n",
    "        return self.__entree.pop()\n",
    "    \n",
    "    def __len__(self):\n",
    "        return len(self.__entree) + len(self.__sortie)"
   ]
  },
  {
   "cell_type": "markdown",
   "metadata": {
    "toc-hr-collapsed": true,
    "toc-nb-collapsed": true
   },
   "source": [
    "### 2 - Gestion des événements"
   ]
  },
  {
   "cell_type": "markdown",
   "metadata": {},
   "source": [
    "Lorsque l'utilisateur interagit avec l'ordinateur (clavier, souris, ...), il produit des événements qui déclenchent ce qu'on appelle couramment des **interruptions**.\n",
    "\n",
    "Lorqu'une *interruption* survient, le *système d'exploitation* reprend alors «la main» - c'est-à-dire le contrôle du processeur - pour la gérer.\n",
    "\n",
    "Notamment, il «prévient» tous les programmes qui se sont déclarés «intéressés» par tel ou tel type d'événement."
   ]
  },
  {
   "cell_type": "markdown",
   "metadata": {},
   "source": [
    "Mais il y a un hic: \n",
    "\n",
    "> ce changement de contexte *peut avoir lieu plusieurs fois* avant qu'un certain programme puisse être à nouveau exécuté. \n",
    "\n",
    "Comment dès lors être sûr qu'un tel programme recevra correctement la notification des événements survenus pendant son «sommeil»?"
   ]
  },
  {
   "cell_type": "markdown",
   "metadata": {
    "jupyter": {
     "source_hidden": true
    }
   },
   "source": [
    "En s'assurant que le système d'exploitation «enfile» l'événement dans une file propre au programme."
   ]
  },
  {
   "cell_type": "markdown",
   "metadata": {},
   "source": [
    "Pour simuler cette situation, nous utiliserons le module `threading` de Python. Vous pouvez assimilez un **thread** à une sorte de programme autonome.\n",
    "\n",
    "Pour «définir» un **thread**, on peut réaliser une classe qui **hérite** de la classe `Thread`. \n",
    "\n",
    "Il suffit alors de mettre le code principal du programme dans la méthode `run` de cette classe.\n",
    "\n",
    "Ensuite, on construit une instance et on «lance» le thread en appelant sa méthode `start()`."
   ]
  },
  {
   "cell_type": "markdown",
   "metadata": {},
   "source": [
    "Voici un exemple:"
   ]
  },
  {
   "cell_type": "code",
   "execution_count": null,
   "metadata": {},
   "outputs": [],
   "source": [
    "# Exécuter moi plusieurs fois et bien observer l'affichage. \n",
    "from threading import Thread\n",
    "from time import sleep\n",
    "from random import random\n",
    "\n",
    "class Test(Thread):\n",
    "    def __init__(self, num):\n",
    "        super().__init__() # appel de l'init de la classe mère Thread\n",
    "        self.num = num\n",
    "    def run(self):\n",
    "        # code principal du «thread»\n",
    "        i = 3\n",
    "        while i > 0:\n",
    "            sleep(random()) # pour ralentir un peu: random() -> float de ]0;1[\n",
    "            print(f\"je suis le thread n°{self.num}\")\n",
    "            i -= 1\n",
    "\n",
    "t1, t2 = Test(1), Test(2)\n",
    "t1.start()\n",
    "t2.start()"
   ]
  },
  {
   "cell_type": "markdown",
   "metadata": {},
   "source": [
    "Nous allons produire deux sortes de *thread*: \n",
    "- un pour simuler l'os instance de `Superviseur`,\n",
    "- l'autre pour simuler un programme comme instance de `Programme`."
   ]
  },
  {
   "cell_type": "markdown",
   "metadata": {},
   "source": [
    "Voici le code de Superviseur:"
   ]
  },
  {
   "cell_type": "code",
   "execution_count": null,
   "metadata": {},
   "outputs": [],
   "source": [
    "from threading import Thread\n",
    "from random import randint, choice\n",
    "from time import sleep\n",
    "from collections import deque # ou from liste import Liste puis adapter\n",
    "\n",
    "class Superviseur(Thread):\n",
    "    EVENTS = [\"souris\", \"clavier\", \"autre\"]\n",
    "    def __init__(self):\n",
    "        super().__init__() # appel du «constructeur» de la classe mère\n",
    "        self._mems = []\n",
    "        self.max = 10 # 10 événements aléatoires avant extinction.\n",
    "    def register(self, mem):\n",
    "        \"\"\"Permet à un programme d'indiquer qu'il souhaite recevoir les événements\n",
    "        mem est une structure de donnée adaptée au problème...\n",
    "        \"\"\"\n",
    "        self._mems.append(mem)\n",
    "    def run(self):\n",
    "        while self.max > 0:\n",
    "            sleep(randint(1, 10)/10) # ralentir\n",
    "            event = choice(Superviseur.EVENTS)\n",
    "            self.max -= 1\n",
    "            print(f\"superviseur: {event}\")\n",
    "            for mem in self._mems:\n",
    "                # avertir le programme ayant fourni «mem» de l'événement\n",
    "                mem.append(event)"
   ]
  },
  {
   "cell_type": "markdown",
   "metadata": {},
   "source": [
    "À vous de jouer!"
   ]
  },
  {
   "cell_type": "code",
   "execution_count": null,
   "metadata": {},
   "outputs": [],
   "source": [
    "class Programme(Thread):\n",
    "    def __init__(self, superviseur):\n",
    "        super().__init__()\n",
    "        self.evts = ___\n",
    "        self.timeout = 5\n",
    "        superviseur.register(___)\n",
    "    def run(self):\n",
    "        sleep(1)\n",
    "        while self.timeout > 0:\n",
    "            sleep(randint(1, 10)/8)\n",
    "            if len(self.file_evts) > 0:\n",
    "                # récupérer l'événement\n",
    "                evt = ___\n",
    "                print(f\"prog: {evt}\")\n",
    "            else:\n",
    "                self.timeout -= 1"
   ]
  },
  {
   "cell_type": "markdown",
   "metadata": {},
   "source": [
    "Vérifions que tout se passe bien: le programme doit (1) recevoir les événements et (2) dans l'ordre où ils ont été émis par le superviseur (bien que l'exécution du programme et du superviseur puisse avoir lieu en des temps différents)"
   ]
  },
  {
   "cell_type": "code",
   "execution_count": null,
   "metadata": {},
   "outputs": [],
   "source": [
    "s = Superviseur()\n",
    "prog = Programme(s)\n",
    "s.start()\n",
    "prog.start()"
   ]
  },
  {
   "cell_type": "markdown",
   "metadata": {},
   "source": [
    "**Solution**"
   ]
  },
  {
   "cell_type": "code",
   "execution_count": null,
   "metadata": {
    "jupyter": {
     "source_hidden": true
    }
   },
   "outputs": [],
   "source": [
    "class Programme(Thread):\n",
    "    def __init__(self, superviseur):\n",
    "        super().__init__()\n",
    "        self.evts = deque()\n",
    "        self.timeout = 5\n",
    "        superviseur.register(self.evts)\n",
    "    def run(self):\n",
    "        sleep(1)\n",
    "        while self.timeout > 0:\n",
    "            sleep(randint(1, 10)/8)\n",
    "            if len(self.evts) > 0:\n",
    "                # récupérer l'événement\n",
    "                evt = self.evts.popleft()\n",
    "                print(f\"prog: {evt}\")\n",
    "            else:\n",
    "                self.timeout -= 1"
   ]
  }
 ],
 "metadata": {
  "kernelspec": {
   "display_name": "Python 3",
   "language": "python",
   "name": "python3"
  },
  "language_info": {
   "codemirror_mode": {
    "name": "ipython",
    "version": 3
   },
   "file_extension": ".py",
   "mimetype": "text/x-python",
   "name": "python",
   "nbconvert_exporter": "python",
   "pygments_lexer": "ipython3",
   "version": "3.7.3"
  }
 },
 "nbformat": 4,
 "nbformat_minor": 4
}
