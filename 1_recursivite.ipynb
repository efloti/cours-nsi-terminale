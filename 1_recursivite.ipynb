{
 "cells": [
  {
   "cell_type": "markdown",
   "metadata": {
    "slideshow": {
     "slide_type": "slide"
    }
   },
   "source": [
    "# Récursivité"
   ]
  },
  {
   "cell_type": "markdown",
   "metadata": {
    "slideshow": {
     "slide_type": "slide"
    }
   },
   "source": [
    "## Introduction"
   ]
  },
  {
   "cell_type": "markdown",
   "metadata": {
    "slideshow": {
     "slide_type": "skip"
    }
   },
   "source": [
    "**Objectifs**:\n",
    "- Comprendre que des problèmes complexes qui peuvent être difficiles à résoudre avec les «techniques habituelles» peuvent avoir une solution récursive simple,\n",
    "- Apprendre à formuler des programmes récursivement,\n",
    "- Comprendre et appliquer les trois lois de la récursivité,\n",
    "- Comprendre la récursivité comme une forme d'itération,\n",
    "- Implémenter une solution récursive à un problème,\n",
    "- Comprendre comment la récursion fonctionne à bas niveau."
   ]
  },
  {
   "cell_type": "markdown",
   "metadata": {
    "slideshow": {
     "slide_type": "subslide"
    }
   },
   "source": [
    "La récursivité est une *méthode de résolution de problème*. Elle consiste à **découper le problème, puis les sous-problèmes obtenus ... jusqu'à obtenir des sous-problèmes si petits qu'ils puissent être résolus de façon directe**. "
   ]
  },
  {
   "cell_type": "markdown",
   "metadata": {
    "slideshow": {
     "slide_type": "fragment"
    }
   },
   "source": [
    "Ordinairement, la récursivité nécessite qu'une fonction s'appelle **elle-même**."
   ]
  },
  {
   "cell_type": "markdown",
   "metadata": {
    "slideshow": {
     "slide_type": "slide"
    }
   },
   "source": [
    "## Exemple 1 - somme d'une liste de nombres"
   ]
  },
  {
   "cell_type": "markdown",
   "metadata": {
    "slideshow": {
     "slide_type": "subslide"
    }
   },
   "source": [
    "Pour illustrer le propos, considérons le problème classique qui consiste à *calculer la somme d'une liste de nombres*. \n",
    "\n",
    "Voici sa solution «classique»:"
   ]
  },
  {
   "cell_type": "code",
   "execution_count": null,
   "metadata": {
    "slideshow": {
     "slide_type": "fragment"
    }
   },
   "outputs": [],
   "source": [
    "def sommer(nbs):\n",
    "    somme = 0 # accu\n",
    "    for nb in nbs:\n",
    "        somme = somme + nb # ou somme += nb\n",
    "    return somme\n",
    "\n",
    "assert sommer([5, 4, 7]) == 16"
   ]
  },
  {
   "cell_type": "markdown",
   "metadata": {
    "slideshow": {
     "slide_type": "subslide"
    }
   },
   "source": [
    "La somme se produit alors comme suit: $$\n",
    "(\\underbrace{\n",
    "    (\\underbrace{\n",
    "        (\\underbrace{(0+5)}_{\\text{it. 1}\n",
    "         } +4)\n",
    "    }_{\\text{it. 2}}+7)\n",
    "}_{\\text{it. 3}})\n",
    "$$"
   ]
  },
  {
   "cell_type": "markdown",
   "metadata": {
    "slideshow": {
     "slide_type": "fragment"
    }
   },
   "source": [
    "Mais supposez un instant que nous ne disposions ni de boucle `while`, ni de boucle `for`."
   ]
  },
  {
   "cell_type": "markdown",
   "metadata": {
    "slideshow": {
     "slide_type": "subslide"
    }
   },
   "source": [
    "Comme mathématiquement: \n",
    "\n",
    "$$(((5) + 4)+7)=5+4+7=(5+(4+(7)))$$"
   ]
  },
  {
   "cell_type": "markdown",
   "metadata": {
    "slideshow": {
     "slide_type": "fragment"
    }
   },
   "source": [
    "nous pouvons utiliser la dernière expression pour découper simplement le problème en deux parties:"
   ]
  },
  {
   "cell_type": "markdown",
   "metadata": {
    "slideshow": {
     "slide_type": "fragment"
    }
   },
   "source": [
    "1. Récupérer le *premier* nombre de la liste: `5`,"
   ]
  },
  {
   "cell_type": "markdown",
   "metadata": {
    "slideshow": {
     "slide_type": "fragment"
    }
   },
   "source": [
    "2. calculer la somme des nombres *restants*: `sommer([4, 7])`,"
   ]
  },
  {
   "cell_type": "markdown",
   "metadata": {
    "slideshow": {
     "slide_type": "fragment"
    }
   },
   "source": [
    "3. ajouter les valeurs obtenues aux deux premières étapes: `5 + sommer([4, 7])`."
   ]
  },
  {
   "cell_type": "markdown",
   "metadata": {
    "slideshow": {
     "slide_type": "fragment"
    }
   },
   "source": [
    "Les points 1. et 3. sont élémentaires et le **point 2.** est un problème **similaire** au problème initial **mais plus petit**."
   ]
  },
  {
   "cell_type": "markdown",
   "metadata": {
    "slideshow": {
     "slide_type": "subslide"
    }
   },
   "source": [
    "On peut alors réappliquer **le même** découpage à ce sous-problème ... jusqu'à obtenir un sous-problème **si petit** qu'on puisse le *résoudre directement*: \n",
    "> si la liste à sommer ne contient qu'un nombre, sa somme est simplement ce nombre."
   ]
  },
  {
   "cell_type": "markdown",
   "metadata": {
    "slideshow": {
     "slide_type": "subslide"
    }
   },
   "source": [
    "Pour notre exemple cela donne: \n",
    "\n",
    "```\n",
    "sommer([5, 4, 7]) = 5 + sommer([4, 7])\n",
    "                        sommer([4, 7]) = 4 + sommer([7])\n",
    "                                             sommer([7]) = 7\n",
    "                                       = 4 +     7\n",
    "                  = 5 +       11\n",
    "= 16\n",
    "```"
   ]
  },
  {
   "cell_type": "markdown",
   "metadata": {
    "slideshow": {
     "slide_type": "subslide"
    }
   },
   "source": [
    "ou en «applatissant»:\n",
    "```\n",
    "sommer([5, 4, 7]) = 5 + sommer([4, 7])\n",
    "                  = 5 + (4 + sommer([7]))\n",
    "                  = 5 + (4 + (7))\n",
    "                  = 5 + (4 + 7)\n",
    "                  = 5 + 11\n",
    "                  = 16\n",
    "```"
   ]
  },
  {
   "cell_type": "markdown",
   "metadata": {
    "slideshow": {
     "slide_type": "subslide"
    }
   },
   "source": [
    "En généralisant, cela donne:\n",
    "\n",
    "```           \n",
    "sommer(nbs) = \n",
    "    nbs[0]                      si taille nbs vaut 1\n",
    "    nbs[0] + sommer(nbs[1:])    sinon\n",
    "```"
   ]
  },
  {
   "cell_type": "markdown",
   "metadata": {
    "slideshow": {
     "slide_type": "fragment"
    }
   },
   "source": [
    "ou en paraphrasant l'étape «récursive» (la deuxième):\n",
    "> Pour sommer des nombres, ajouter le premier à la *somme* de ceux qui restent."
   ]
  },
  {
   "cell_type": "markdown",
   "metadata": {
    "slideshow": {
     "slide_type": "fragment"
    }
   },
   "source": [
    "Python (comme la plupart des langages de programmation) autorise qu'une fonction *s'appelle elle-même*. Nous expliquerons plus tard comment cela est possible."
   ]
  },
  {
   "cell_type": "markdown",
   "metadata": {
    "slideshow": {
     "slide_type": "subslide"
    }
   },
   "source": [
    "Voici donc une **solution récursive** au problème de la somme:"
   ]
  },
  {
   "cell_type": "code",
   "execution_count": null,
   "metadata": {
    "slideshow": {
     "slide_type": "fragment"
    }
   },
   "outputs": [],
   "source": [
    "def sommer(nbs):\n",
    "    # cas où le problème est suffisemment petit\n",
    "    if len(nbs) == 1:\n",
    "        return nbs[0]\n",
    "    \n",
    "    # si le problème est trop gros\n",
    "    else:\n",
    "        # découpage\n",
    "        premier, *reste = nbs\n",
    "        # résolution du sous-pb en appelant **cette** fonction\n",
    "        somme_reste = sommer(reste)\n",
    "        # combinaison\n",
    "        return premier + somme_reste\n",
    "\n",
    "assert sommer([5, 4, 7]) == 16"
   ]
  },
  {
   "cell_type": "markdown",
   "metadata": {
    "slideshow": {
     "slide_type": "subslide"
    }
   },
   "source": [
    "En utilisant la **composition** et les **tranches** \\[*slices*\\], on peut exprimer cela de façon plus concise:"
   ]
  },
  {
   "cell_type": "code",
   "execution_count": null,
   "metadata": {
    "slideshow": {
     "slide_type": "fragment"
    }
   },
   "outputs": [],
   "source": [
    "def sommer(nbs):\n",
    "    if len(nbs) == 1: return nbs[0] # cas de base\n",
    "    return nbs[0] + sommer(nbs[1:]) # appel récursif\n",
    "\n",
    "assert sommer([5, 4, 7]) == 16"
   ]
  },
  {
   "cell_type": "markdown",
   "metadata": {
    "slideshow": {
     "slide_type": "fragment"
    }
   },
   "source": [
    "voir dans [Python Tutor](http://pythontutor.com/visualize.html#code=def%20sommer%28nbs%29%3A%0A%20%20%20%20if%20len%28nbs%29%20%3D%3D%201%3A%20return%20nbs%5B0%5D%0A%20%20%20%20return%20nbs%5B0%5D%20%2B%20sommer%28nbs%5B1%3A%5D%29%0A%0Aprint%28sommer%28%5B5,%204,%207%5D%29%29&cumulative=false&curInstr=0&heapPrimitives=false&mode=display&origin=opt-frontend.js&py=3&rawInputLstJSON=%5B%5D&textReferences=false)"
   ]
  },
  {
   "cell_type": "markdown",
   "metadata": {
    "slideshow": {
     "slide_type": "subslide"
    }
   },
   "source": [
    "Encore plus court en utilisant l'opérateur ternaire `expr1 if cond else expr2`"
   ]
  },
  {
   "cell_type": "code",
   "execution_count": null,
   "metadata": {
    "slideshow": {
     "slide_type": "fragment"
    }
   },
   "outputs": [],
   "source": [
    "def sommer(nbs):\n",
    "    return nbs[0] + sommer(nbs[1:]) if len(nbs) > 1 else nbs[0]\n",
    "\n",
    "assert sommer([5, 4, 7]) == 16"
   ]
  },
  {
   "cell_type": "markdown",
   "metadata": {
    "slideshow": {
     "slide_type": "fragment"
    }
   },
   "source": [
    "Voici les **points clés** de ce code:"
   ]
  },
  {
   "cell_type": "markdown",
   "metadata": {
    "slideshow": {
     "slide_type": "fragment"
    }
   },
   "source": [
    "1. On commence par vérifier si on est dans le **cas de base**: celui d'un problème suffisemment simple pour être résolu directement. C'est notre garde fou...!"
   ]
  },
  {
   "cell_type": "markdown",
   "metadata": {
    "slideshow": {
     "slide_type": "fragment"
    }
   },
   "source": [
    "2. **Récursion**: Si on est pas dans le cas de base, notre fonction *s'appelle elle-même* - on appelle cela un **appel récursif** - avec un argument qui exprime un problème plus simple - `[4, 7]` - par rapport à l'argument initial - `[5, 4, 7]`."
   ]
  },
  {
   "cell_type": "markdown",
   "metadata": {
    "slideshow": {
     "slide_type": "subslide"
    }
   },
   "source": [
    "### Illustrations"
   ]
  },
  {
   "cell_type": "markdown",
   "metadata": {
    "slideshow": {
     "slide_type": "fragment"
    }
   },
   "source": [
    "Les numéros entourés précisent l'ordre des événements:"
   ]
  },
  {
   "attachments": {
    "c8bcee87-5b73-46b5-9641-f79e4cdd1908.png": {
     "image/png": "[encoded data removed]"
    }
   },
   "cell_type": "markdown",
   "metadata": {
    "slideshow": {
     "slide_type": "fragment"
    }
   },
   "source": [
    "<center><img src=\"attachment:c8bcee87-5b73-46b5-9641-f79e4cdd1908.png\"/></center>"
   ]
  },
  {
   "cell_type": "markdown",
   "metadata": {
    "slideshow": {
     "slide_type": "subslide"
    }
   },
   "source": [
    "En voici une autre en «poupées russes»:"
   ]
  },
  {
   "attachments": {
    "4a19a908-1a18-4158-a155-1c3b252c9ce0.png": {
     "image/png": "[encoded data removed]"
    }
   },
   "cell_type": "markdown",
   "metadata": {
    "slideshow": {
     "slide_type": "fragment"
    }
   },
   "source": [
    "<center><img src=\"attachment:4a19a908-1a18-4158-a155-1c3b252c9ce0.png\"/></center>"
   ]
  },
  {
   "cell_type": "markdown",
   "metadata": {
    "slideshow": {
     "slide_type": "subslide"
    }
   },
   "source": [
    "### Visualiser les appels et retours"
   ]
  },
  {
   "cell_type": "markdown",
   "metadata": {
    "slideshow": {
     "slide_type": "fragment"
    }
   },
   "source": [
    "Pour visualiser cela depuis le code, on peut utiliser des `print`:"
   ]
  },
  {
   "cell_type": "code",
   "execution_count": null,
   "metadata": {
    "slideshow": {
     "slide_type": "fragment"
    }
   },
   "outputs": [],
   "source": [
    "def sommer_voir(nbs):\n",
    "    print(f'appel de sommer({nbs})')\n",
    "    \n",
    "    if len(nbs) == 1: \n",
    "        print(f'retour de sommer({nbs}): -> {nbs[0]}')\n",
    "        return nbs[0]\n",
    "    \n",
    "    reste = sommer_voir(nbs[1:])\n",
    "    print(f'retour de sommer({nbs}): {nbs[0]} + {reste} -> {nbs[0] + reste}')\n",
    "    return nbs[0] + reste\n",
    "\n",
    "sommer_voir([5, 4, 7]) == 16"
   ]
  },
  {
   "cell_type": "markdown",
   "metadata": {
    "slideshow": {
     "slide_type": "subslide"
    }
   },
   "source": [
    "On peut même mieux voir l'imbrication des appels en décalant le texte affiché en fonction de l'ordre d'appel:"
   ]
  },
  {
   "cell_type": "code",
   "execution_count": null,
   "metadata": {
    "slideshow": {
     "slide_type": "fragment"
    }
   },
   "outputs": [],
   "source": [
    "def sommer_voir(nbs, n=0):\n",
    "    dec = '  ' * n # niveau de décalage\n",
    "    print(f'{dec}appel de sommer({nbs})')\n",
    "    \n",
    "    if len(nbs) == 1: \n",
    "        print(f'{dec}retour de sommer({nbs}): -> {nbs[0]}')\n",
    "        return nbs[0]\n",
    "    \n",
    "    reste = sommer_voir(nbs[1:], n+1)\n",
    "    print(f'{dec}retour de sommer({nbs}): {nbs[0]} + {reste} -> {nbs[0] + reste}')\n",
    "    return nbs[0] + reste\n",
    "\n",
    "sommer_voir([4, 7, 36, 12, 28])"
   ]
  },
  {
   "cell_type": "markdown",
   "metadata": {
    "slideshow": {
     "slide_type": "subslide"
    }
   },
   "source": [
    "Un **algorithme récursif** doit respecter les trois lois qui suivent:"
   ]
  },
  {
   "cell_type": "markdown",
   "metadata": {
    "slideshow": {
     "slide_type": "fragment"
    }
   },
   "source": [
    "1. Il doit posséder un (ou plusieurs) **cas de base(s)**: problème(s) si simple(s) qu'on peut le(s) résoudre directement,"
   ]
  },
  {
   "cell_type": "markdown",
   "metadata": {
    "slideshow": {
     "slide_type": "fragment"
    }
   },
   "source": [
    "2. Il doit modifier son état de façon à **progresser** vers l'un des cas de bases: **partage** du problème en sous-problèmes,"
   ]
  },
  {
   "cell_type": "markdown",
   "metadata": {
    "slideshow": {
     "slide_type": "fragment"
    }
   },
   "source": [
    "3. Il doit s'appeler lui-même, on dit **récursivement**."
   ]
  },
  {
   "cell_type": "markdown",
   "metadata": {
    "slideshow": {
     "slide_type": "subslide"
    }
   },
   "source": [
    "Pour notre exemple:"
   ]
  },
  {
   "cell_type": "markdown",
   "metadata": {
    "slideshow": {
     "slide_type": "fragment"
    }
   },
   "source": [
    "1. **cas de base**: liste de taille 1, le résultat est son unique élément,"
   ]
  },
  {
   "cell_type": "markdown",
   "metadata": {
    "slideshow": {
     "slide_type": "fragment"
    }
   },
   "source": [
    "2. **partage**: la liste initiale est scindée en:\n",
    "    - son *premier élément*,\n",
    "    - les éléments *restants*: ils sont moins nombreux qu'initialement et on se rapproche donc du cas de base (*progression*)."
   ]
  },
  {
   "cell_type": "markdown",
   "metadata": {
    "slideshow": {
     "slide_type": "fragment"
    }
   },
   "source": [
    "3. **s'appelle lui-même**: on appelle récursivement la fonction sur les éléments *restants*."
   ]
  },
  {
   "cell_type": "markdown",
   "metadata": {
    "slideshow": {
     "slide_type": "subslide"
    }
   },
   "source": [
    "### Exercices"
   ]
  },
  {
   "cell_type": "markdown",
   "metadata": {
    "slideshow": {
     "slide_type": "skip"
    }
   },
   "source": [
    "#### Exercice 1"
   ]
  },
  {
   "cell_type": "markdown",
   "metadata": {
    "slideshow": {
     "slide_type": "skip"
    }
   },
   "source": [
    "On définit la **factorielle d'un entier positif ou nul** $n$  comme le produit de tous les entiers de $1$ à $n$ (inclus). En mathématique, elle se note $n!$ (lire «factorielle $n$»).\n",
    "\n",
    "Par exemple: $4!=1\\times 2\\times 3\\times 4=24$.\n",
    "\n",
    "On peut aussi définir la factorielle d'un entier de façon **récursive**: \n",
    "\n",
    "$$n!=\\left\\{\\begin{array}{l}\n",
    "1\\text{ si } n\\in\\{0;1\\}\\cr\n",
    "n\\times (n-1)! \\text{ sinon}\n",
    "\\end{array}\\right.$$\n",
    "\n",
    "Par exemple: $$\\begin{eqnarray}\n",
    "4!&=&4\\times 3!\\cr\n",
    "&=& 4\\times (3\\times 2!)\\cr\n",
    "&=& 4\\times (3\\times (2\\times 1!))\\cr\n",
    "&=& 4\\times (3\\times (2\\times 1))\\cr\n",
    "&=& 24\\end{eqnarray}$$\n",
    "\n",
    "Définir une fonction *récursive* `fact` qui prend un entier positif en argument et renvoie sa factorielle."
   ]
  },
  {
   "cell_type": "code",
   "execution_count": null,
   "metadata": {
    "slideshow": {
     "slide_type": "skip"
    }
   },
   "outputs": [],
   "source": [
    "def fact(n):\n",
    "    pass"
   ]
  },
  {
   "cell_type": "markdown",
   "metadata": {
    "slideshow": {
     "slide_type": "skip"
    }
   },
   "source": [
    "**Solution**"
   ]
  },
  {
   "cell_type": "code",
   "execution_count": null,
   "metadata": {
    "jupyter": {
     "source_hidden": true
    },
    "slideshow": {
     "slide_type": "skip"
    }
   },
   "outputs": [],
   "source": [
    "def fact(n):\n",
    "    if n > 1: return n * fact(n - 1)\n",
    "    return 1\n",
    "\n",
    "fact(4)"
   ]
  },
  {
   "cell_type": "markdown",
   "metadata": {
    "slideshow": {
     "slide_type": "skip"
    }
   },
   "source": [
    "***"
   ]
  },
  {
   "cell_type": "markdown",
   "metadata": {
    "slideshow": {
     "slide_type": "skip"
    }
   },
   "source": [
    "#### Exercice 2\n",
    "\n",
    "Définir de façon récursive `puissance(x, n)` qui calcule $x^n$ (comment passe-t-on de $x^{n-1}$ à $x^n$)"
   ]
  },
  {
   "cell_type": "code",
   "execution_count": null,
   "metadata": {
    "slideshow": {
     "slide_type": "skip"
    }
   },
   "outputs": [],
   "source": [
    "def puissance(x, n):\n",
    "    pass"
   ]
  },
  {
   "cell_type": "markdown",
   "metadata": {
    "slideshow": {
     "slide_type": "skip"
    }
   },
   "source": [
    "**Solution**"
   ]
  },
  {
   "cell_type": "code",
   "execution_count": null,
   "metadata": {
    "jupyter": {
     "source_hidden": true
    },
    "slideshow": {
     "slide_type": "skip"
    }
   },
   "outputs": [],
   "source": [
    "def puissance(x, n):\n",
    "    if n > 0: return x * puissance(x, n-1)\n",
    "    return 1 # x^0=1 quel que soit x\n",
    "\n",
    "assert puissance(2, 10) == 1024"
   ]
  },
  {
   "cell_type": "markdown",
   "metadata": {
    "slideshow": {
     "slide_type": "skip"
    }
   },
   "source": [
    "***"
   ]
  },
  {
   "cell_type": "markdown",
   "metadata": {
    "slideshow": {
     "slide_type": "skip"
    }
   },
   "source": [
    "#### Exercice 3"
   ]
  },
  {
   "cell_type": "markdown",
   "metadata": {
    "slideshow": {
     "slide_type": "skip"
    }
   },
   "source": [
    "Définir de façon récursive `maximum(nbs)` qui renvoie la plus grande valeur de la liste `nbs`."
   ]
  },
  {
   "cell_type": "code",
   "execution_count": null,
   "metadata": {
    "slideshow": {
     "slide_type": "skip"
    }
   },
   "outputs": [],
   "source": [
    "def maximum(nbs):\n",
    "    pass"
   ]
  },
  {
   "cell_type": "markdown",
   "metadata": {
    "slideshow": {
     "slide_type": "skip"
    }
   },
   "source": [
    "**Solution**"
   ]
  },
  {
   "cell_type": "code",
   "execution_count": null,
   "metadata": {
    "jupyter": {
     "source_hidden": true
    },
    "slideshow": {
     "slide_type": "skip"
    }
   },
   "outputs": [],
   "source": [
    "def maximum(nbs):\n",
    "    if len(nbs) == 1: return nbs[0]\n",
    "    prem, *reste = nbs\n",
    "    m = maximum(reste)\n",
    "    return m if m > prem else prem\n",
    "\n",
    "assert maximum([2, 5, -1, 12, 3]) == 12"
   ]
  },
  {
   "cell_type": "markdown",
   "metadata": {
    "slideshow": {
     "slide_type": "skip"
    }
   },
   "source": [
    "***"
   ]
  },
  {
   "cell_type": "markdown",
   "metadata": {
    "slideshow": {
     "slide_type": "skip"
    }
   },
   "source": [
    "#### Exercice 4"
   ]
  },
  {
   "cell_type": "markdown",
   "metadata": {
    "slideshow": {
     "slide_type": "skip"
    }
   },
   "source": [
    "1. Définir de façon récursive `base2(n)` qui renvoie l'écriture en base 2 de l'entier positif $n$ (sous la forme d'une chaîne de caractères)."
   ]
  },
  {
   "cell_type": "code",
   "execution_count": null,
   "metadata": {
    "slideshow": {
     "slide_type": "skip"
    }
   },
   "outputs": [],
   "source": [
    "def base2(n):\n",
    "    pass"
   ]
  },
  {
   "cell_type": "markdown",
   "metadata": {
    "slideshow": {
     "slide_type": "skip"
    }
   },
   "source": [
    "**Solution**"
   ]
  },
  {
   "cell_type": "code",
   "execution_count": null,
   "metadata": {
    "jupyter": {
     "source_hidden": true
    },
    "slideshow": {
     "slide_type": "skip"
    }
   },
   "outputs": [],
   "source": [
    "def base2(n):\n",
    "    if n in [0, 1]: return str(n)\n",
    "    q, r = n // 2, n % 2\n",
    "    return base2(q) + str(r)\n",
    "\n",
    "assert base2(13) == '1101' # 1huit+1quatre+0deux+1un"
   ]
  },
  {
   "cell_type": "markdown",
   "metadata": {
    "slideshow": {
     "slide_type": "skip"
    }
   },
   "source": [
    "2. De même, définir récursivement `base16(n)`"
   ]
  },
  {
   "cell_type": "code",
   "execution_count": null,
   "metadata": {
    "slideshow": {
     "slide_type": "skip"
    }
   },
   "outputs": [],
   "source": [
    "def base16(n):\n",
    "    pass"
   ]
  },
  {
   "cell_type": "markdown",
   "metadata": {
    "slideshow": {
     "slide_type": "skip"
    }
   },
   "source": [
    "**Solution**"
   ]
  },
  {
   "cell_type": "code",
   "execution_count": null,
   "metadata": {
    "jupyter": {
     "source_hidden": true
    },
    "slideshow": {
     "slide_type": "skip"
    }
   },
   "outputs": [],
   "source": [
    "def base16(n):\n",
    "    if n in list(range(10)): return str(n)\n",
    "    d = {10: \"A\", 11: \"B\", 12: \"C\", 13: \"D\", 14: \"E\", 15: \"F\"}\n",
    "    if n in d: return d[n]\n",
    "    q, r = n // 16, n % 16\n",
    "    return base16(q) + base16(r)\n",
    "\n",
    "assert base16(43) == '2B' # 2 seize + B un"
   ]
  },
  {
   "cell_type": "markdown",
   "metadata": {
    "slideshow": {
     "slide_type": "skip"
    }
   },
   "source": [
    "***"
   ]
  },
  {
   "cell_type": "markdown",
   "metadata": {
    "slideshow": {
     "slide_type": "skip"
    }
   },
   "source": [
    "#### Exercice 5\n",
    "\n",
    "En tenant compte de l'observation suivante:\n",
    "> si $q$ et $r$ sont respectivement le quotient et le reste de la division euclidienne de $n$ par $2$, alors $n=2q+r$ et: \n",
    ">\n",
    ">$$x^n=x^{2q+r}=x^{2q}x^r=(x^{q})^{2}x^r$$\n",
    "\n",
    "redéfinir de façon récursive la fonction `puissance(x, n)` de l'exercice 2."
   ]
  },
  {
   "cell_type": "code",
   "execution_count": null,
   "metadata": {
    "slideshow": {
     "slide_type": "skip"
    }
   },
   "outputs": [],
   "source": [
    "def puissance_bis(x, n):\n",
    "    pass\n",
    "\n",
    "assert puissance_bis(2, 10) == 1024\n",
    "assert puissance_bis(5, 3) == 125"
   ]
  },
  {
   "cell_type": "markdown",
   "metadata": {
    "slideshow": {
     "slide_type": "skip"
    }
   },
   "source": [
    "**Solution**"
   ]
  },
  {
   "cell_type": "code",
   "execution_count": null,
   "metadata": {
    "jupyter": {
     "source_hidden": true
    },
    "slideshow": {
     "slide_type": "skip"
    }
   },
   "outputs": [],
   "source": [
    "def puissance_bis(x, n):\n",
    "    if n == 0: return 1\n",
    "    q, r = n // 2, n % 2\n",
    "    tmp = puissance_bis(x, q)\n",
    "    return tmp * tmp * (1 if r == 0 else x)\n",
    "\n",
    "assert puissance_bis(2, 10) == 1024\n",
    "assert puissance_bis(5, 3) == 125"
   ]
  },
  {
   "cell_type": "markdown",
   "metadata": {
    "slideshow": {
     "slide_type": "skip"
    }
   },
   "source": [
    "Exécuter alors les cellules qui suivent:\n",
    "\n",
    "*Note*: `%timeit` est une directive spéciale des notebooks qui permet de mesurer le temps moyen mis par une fonction pour s'exécuter."
   ]
  },
  {
   "cell_type": "code",
   "execution_count": null,
   "metadata": {
    "slideshow": {
     "slide_type": "skip"
    }
   },
   "outputs": [],
   "source": [
    "%timeit puissance_bis(2, 1024)"
   ]
  },
  {
   "cell_type": "code",
   "execution_count": null,
   "metadata": {
    "slideshow": {
     "slide_type": "skip"
    }
   },
   "outputs": [],
   "source": [
    "%timeit puissance(2, 1024)"
   ]
  },
  {
   "cell_type": "code",
   "execution_count": null,
   "metadata": {
    "slideshow": {
     "slide_type": "skip"
    }
   },
   "outputs": [],
   "source": [
    "%timeit 23 ** 50"
   ]
  },
  {
   "cell_type": "markdown",
   "metadata": {
    "slideshow": {
     "slide_type": "skip"
    }
   },
   "source": [
    "Comment expliquer les différences observées?"
   ]
  },
  {
   "cell_type": "markdown",
   "metadata": {
    "slideshow": {
     "slide_type": "skip"
    }
   },
   "source": [
    "***"
   ]
  },
  {
   "cell_type": "markdown",
   "metadata": {
    "slideshow": {
     "slide_type": "slide"
    }
   },
   "source": [
    "## Exemple 2: Recherche d'un élément dans une liste"
   ]
  },
  {
   "cell_type": "markdown",
   "metadata": {
    "slideshow": {
     "slide_type": "subslide"
    }
   },
   "source": [
    "*Problème*: Trouver si un nombre appartient ou non à une liste. \n",
    "\n",
    "On renvoie `True` si c'est le cas `False` autrement."
   ]
  },
  {
   "cell_type": "markdown",
   "metadata": {
    "slideshow": {
     "slide_type": "fragment"
    }
   },
   "source": [
    "**Cas de base**: la liste ne contient qu'un nombre, il suffit alors de le comparer avec celui qu'on cherche."
   ]
  },
  {
   "cell_type": "markdown",
   "metadata": {
    "slideshow": {
     "slide_type": "fragment"
    }
   },
   "source": [
    "**Partage**: la liste initiale $L$ est découpée en deux listes $L_g$ et $L_d$ de tailles égales ou presque. Si $n$ est le nombre d'éléments de la liste et $m$ est le résultat de la division entière de $n$ par $2$:\n",
    "- $L_g=T[1\\dots m]$ (en python cela donne `Lg = L[:m]`)\n",
    "- $L_d=T[(m+1)\\dots n]$ (en python `Ld = L[m:]`)"
   ]
  },
  {
   "cell_type": "markdown",
   "metadata": {
    "slideshow": {
     "slide_type": "fragment"
    }
   },
   "source": [
    "**Récursion**: On appelle récursivement la fonction sur $T_g$ puis sur $T_d$; si l'un de ces appels récursifs renvoie `True`, on renvoie `True`; sinon on renvoie `False`. "
   ]
  },
  {
   "cell_type": "code",
   "execution_count": null,
   "metadata": {
    "slideshow": {
     "slide_type": "subslide"
    }
   },
   "outputs": [],
   "source": [
    "def recherche(nb, nbs):\n",
    "    # cas de base\n",
    "    if len(nbs) == 1: \n",
    "        return nb == nbs[0]\n",
    "    \n",
    "    # découpage\n",
    "    m = len(nbs)//2\n",
    "    nbs_g, nbs_d = nbs[:m], nbs[m:]\n",
    "    # résolution récursive\n",
    "    a_gauche = recherche(nb, nbs_g)\n",
    "    a_droite = recherche(nb, nbs_d)\n",
    "    # combinaison\n",
    "    res = a_gauche or a_droite\n",
    "    return res\n",
    "\n",
    "recherche(23, [0, 5, 15, 20, 25])"
   ]
  },
  {
   "cell_type": "markdown",
   "metadata": {
    "slideshow": {
     "slide_type": "subslide"
    }
   },
   "source": [
    "ou de façon plus concise:"
   ]
  },
  {
   "cell_type": "code",
   "execution_count": null,
   "metadata": {
    "slideshow": {
     "slide_type": "fragment"
    }
   },
   "outputs": [],
   "source": [
    "def recherche(nb, nbs):\n",
    "    if len(nbs) == 1: return nb == nbs[0] # cas de base\n",
    "    m = len(nbs)//2 # découpage\n",
    "    return recherche(nb, nbs[:m]) or recherche(nb, nbs[m:])\n",
    "  \n",
    "recherche(5, [3, 1, 7, 5, 10])"
   ]
  },
  {
   "cell_type": "markdown",
   "metadata": {
    "slideshow": {
     "slide_type": "fragment"
    }
   },
   "source": [
    "Voir dans [Python Tutor](http://pythontutor.com/visualize.html#code=def%20recherche%28nb,%20nbs%29%3A%0A%20%20%20%20if%20len%28nbs%29%20%3D%3D%201%3A%20return%20nb%20%3D%3D%20nbs%5B0%5D%0A%20%20%20%20m%20%3D%20len%28nbs%29%20//%202%0A%20%20%20%20return%20recherche%28nb,%20nbs%5B%3Am%5D%29%20or%20recherche%28nb,%20nbs%5Bm%3A%5D%29%0A%20%20%0Arecherche%285,%20%5B3,%201,%207,%205,%2010%5D%29&cumulative=false&curInstr=0&heapPrimitives=false&mode=display&origin=opt-frontend.js&py=3&rawInputLstJSON=%5B%5D&textReferences=false)"
   ]
  },
  {
   "cell_type": "markdown",
   "metadata": {
    "slideshow": {
     "slide_type": "subslide"
    }
   },
   "source": [
    "### Illustration: arbre des appels"
   ]
  },
  {
   "cell_type": "markdown",
   "metadata": {
    "slideshow": {
     "slide_type": "fragment"
    }
   },
   "source": [
    "On peut tracer un arbre qui précise les différents **appels** (flèches noires) et **retours** (flèches rouges); les petits numéros indiquent l'ordre de ces événements:"
   ]
  },
  {
   "attachments": {
    "40f6cf78-df08-44cf-97c8-8367dee6425b.png": {
     "image/png": "[encoded data removed]"
    }
   },
   "cell_type": "markdown",
   "metadata": {
    "slideshow": {
     "slide_type": "fragment"
    }
   },
   "source": [
    "<center><img src=\"attachment:40f6cf78-df08-44cf-97c8-8367dee6425b.png\"/></center>"
   ]
  },
  {
   "cell_type": "markdown",
   "metadata": {
    "slideshow": {
     "slide_type": "subslide"
    }
   },
   "source": [
    "### Note: opérateurs «court-circuits» `and` et `or`"
   ]
  },
  {
   "cell_type": "markdown",
   "metadata": {
    "slideshow": {
     "slide_type": "fragment"
    }
   },
   "source": [
    "L'appel entouré en pointillé n'a en fait pas lieu. Cela vient du comportement «court-circuit» ou «fainéant» des opérateurs logiques `and` et `or`. "
   ]
  },
  {
   "cell_type": "markdown",
   "metadata": {
    "slideshow": {
     "slide_type": "fragment"
    }
   },
   "source": [
    "En effet, **dans** `recherche(5, [5, 10])`, lors de l'évaluation de:\n",
    "    \n",
    "    recherche(5, [5]) or recherche(5, [10])\n",
    "                 \n",
    "                 «de la forme»\n",
    "                \n",
    "                expr1 or expr2"
   ]
  },
  {
   "cell_type": "markdown",
   "metadata": {
    "slideshow": {
     "slide_type": "fragment"
    }
   },
   "source": [
    "si `expr1` vaut `True`, l'expression `expr1 or expr2` vaudra `True` ***quel que soit*** la valeur de `expr2`. Pour cette raison `expr2` n'est *pas évaluée dans ce cas* (comportement «fainéant»)."
   ]
  },
  {
   "cell_type": "markdown",
   "metadata": {
    "slideshow": {
     "slide_type": "subslide"
    }
   },
   "source": [
    "Comme ici, `recherche(5, [5])` vaut évidemment `True`,  `recherche(5, [10])` n'est **pas évaluée**. Vérifier par vous-même:"
   ]
  },
  {
   "cell_type": "code",
   "execution_count": null,
   "metadata": {
    "slideshow": {
     "slide_type": "fragment"
    }
   },
   "outputs": [],
   "source": [
    "def test():\n",
    "    print(\"--> appel de test\")\n",
    "    return True\n",
    "\n",
    "False or test() # exécuter puis remplacer `False` par `True`"
   ]
  },
  {
   "cell_type": "markdown",
   "metadata": {
    "slideshow": {
     "slide_type": "fragment"
    }
   },
   "source": [
    "De même, dans `expr1 and expr2`, si `expr1` vaut `False`, alors `expr2` n'est pas évaluée et le résultat est `False`."
   ]
  },
  {
   "cell_type": "markdown",
   "metadata": {
    "slideshow": {
     "slide_type": "subslide"
    }
   },
   "source": [
    "### Visualiser les appels et retours"
   ]
  },
  {
   "cell_type": "code",
   "execution_count": null,
   "metadata": {
    "slideshow": {
     "slide_type": "fragment"
    }
   },
   "outputs": [],
   "source": [
    "def rech_dicho_voir(nb, nbs, n=0):\n",
    "    dec = \"  \" * n\n",
    "    print(f\"{dec}appel rech_dicho({nb}, {nbs})\")\n",
    "    # cas de base\n",
    "    if len(nbs) == 1:\n",
    "        print(f\"{dec}retour rech_dicho({nb}, {nbs}): -> {nb == nbs[0]}\")\n",
    "        return nb == nbs[0]\n",
    "    \n",
    "    # découpage\n",
    "    m = len(nbs)//2\n",
    "    g = rech_dicho_voir(nb, nbs[:m], n+1)\n",
    "    res = g or rech_dicho_voir(nb, nbs[m:], n+1)\n",
    "    print(f\"{dec}retour rech_dicho({nb}, {nbs}): -> {res}\")\n",
    "    return res\n",
    "\n",
    "rech_dicho_voir(5, [3, 1, 7, 5, 10])"
   ]
  }
 ],
 "metadata": {
  "celltoolbar": "Diaporama",
  "kernelspec": {
   "display_name": "Python 3",
   "language": "python",
   "name": "python3"
  },
  "language_info": {
   "codemirror_mode": {
    "name": "ipython",
    "version": 3
   },
   "file_extension": ".py",
   "mimetype": "text/x-python",
   "name": "python",
   "nbconvert_exporter": "python",
   "pygments_lexer": "ipython3",
   "version": "3.7.3"
  },
  "toc-autonumbering": false
 },
 "nbformat": 4,
 "nbformat_minor": 4
}
