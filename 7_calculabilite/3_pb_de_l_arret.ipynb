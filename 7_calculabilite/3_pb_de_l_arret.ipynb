{
 "cells": [
  {
   "cell_type": "markdown",
   "metadata": {},
   "source": [
    "# Machine de Turing Universelle et problème de l'arrêt"
   ]
  },
  {
   "cell_type": "markdown",
   "metadata": {},
   "source": [
    "## Machines de Turing Universelles (UTM)"
   ]
  },
  {
   "cell_type": "markdown",
   "metadata": {},
   "source": [
    "À force de «jouer» avec ces machines abstraites, Alan Turing s'est demandé s'il pouvait «construire» (mathématiquement!) une machine («de Turing») $U$ qui:\n",
    "- reçevrait en entrée (sur son ruban):\n",
    "    - une description d'une *machine* de Turing $T$ notée $d_T$,\n",
    "    - une donnée $d$ pour celle-ci.\n",
    "- et qui produirait comme résultat sur son ruban ... celui que **produirait** la machine $T$ agissant sur l'entrée $d$."
   ]
  },
  {
   "cell_type": "markdown",
   "metadata": {},
   "source": [
    "Bref, une machine capable de **simuler** n'importe quelle autre machine travaillant sur son entrée; on appelle cela une **machine de Turing Universelle (UTM)**."
   ]
  },
  {
   "cell_type": "markdown",
   "metadata": {},
   "source": [
    "$$\\begin{eqnarray}{\\bf UTM}: (\\text{description d'une machine }T, \\text{donnée }d) &\\longmapsto& \\text{résultat de }T \\text{ appliqué à «donnée»}\\cr (d_T, d)&\\longmapsto& T d\\end{eqnarray}$$"
   ]
  },
  {
   "cell_type": "markdown",
   "metadata": {},
   "source": [
    "Bien évidemment, il est parvenu à «construire» de telles machines et cela ne devrait pas trop vous surprendre ... "
   ]
  },
  {
   "cell_type": "markdown",
   "metadata": {},
   "source": [
    "... puisque nous avons précisément fait cela avec Python!(simulateur) - mais souvenez-vous que l'ordinateur n'existait pas encore à l'époque (environ 1936)."
   ]
  },
  {
   "cell_type": "markdown",
   "metadata": {},
   "source": [
    "*Notes*: pour les septiques qui se disent qu'il y a «anguille sous roche» ou «affabulation de penseurs perdus dans je ne sais quel cosmos»:\n",
    "1. Votre ordinateur et Python ne savent pas calculer plus de choses qu'une machine de Turing, or il nous ont permis de construire une UTM...,\n",
    "2. Lorsque vous vous évertuez à comprendre les machines de Turing, vous êtes *vous-même* une sorte d'UTM...\n",
    "3. Si vous souhaitez comprendre comment Turing s'y est prit - c'est merveilleux et ce n'est pas pour rien que le prix ultime en informatique s'appelle le *prix Turing* - je ne peux que vous conseiller de lire:\n",
    "   > «**Leçons Sur l'Informatique** de *Richard Feynman* (prix Nobel de ... physique): *leçon 3 - la théorie du calcul informatique*» (je peux vous le prêter)."
   ]
  },
  {
   "cell_type": "markdown",
   "metadata": {},
   "source": [
    "## Le problème de l'arrêt (*the halting problem*)"
   ]
  },
  {
   "cell_type": "markdown",
   "metadata": {},
   "source": [
    "Fort de ses machines universelles, Turing s'est demandé s'il était possible de construire:\n",
    "\n",
    "> une machine $A$ capable de «calculer» si une autre machine $T$ appliquée à une donnée $d$ **terminerait** (plutôt que d'entrer dans une boucle infinie)"
   ]
  },
  {
   "cell_type": "markdown",
   "metadata": {},
   "source": [
    "Il arriva à la conclusion que ce problème de «décision» n'est **pas calculable**; autrement dit qu'une telle machine *ne peut pas exister*."
   ]
  },
  {
   "cell_type": "markdown",
   "metadata": {},
   "source": [
    "**Problème de décision**: problème pour lequel le résultat est simplement «oui» ou «non»; *exemple*: «$n$ (entier) est-il pair?» (est calculable); «la machine $T$ appliquée à la donnée $d$ terminera-t-elle?» (incalculable)."
   ]
  },
  {
   "cell_type": "markdown",
   "metadata": {},
   "source": [
    "Pour parvenir à ce résultat, il utilise un **raisonnement par l'absurde**: \n",
    "\n",
    "> On appelle ainsi un raisonnement où on part d'une certaine hypothèse $\\color{red}{H}$ (donc considérée comme Vraie) et où l'exploitation de cette hypothèse en conjonction avec d'autres «théorèmes» (résultats déjà démontrés) $T_1$, $T_2$, ... etc. aboutit à une **aporie** ou **contradiction** ou **impossibilité**.\n",
    "\n",
    "$$\\color{red}{H}, T_1, T_2, \\dots \\implies\\cdots\\implies \\text{«impossibilité»}$$"
   ]
  },
  {
   "cell_type": "markdown",
   "metadata": {},
   "source": [
    "La **conclusion logique** (puisque $T_1, T_2,\\dots$ sont vrais car démontrés) dans une telle situation est que:\n",
    "\n",
    "> l'hypothèse faite au départ $\\color{red}{H}$ est **Fausse**."
   ]
  },
  {
   "cell_type": "markdown",
   "metadata": {},
   "source": [
    "#### Exemple classique de raisonnement par l'absurde"
   ]
  },
  {
   "cell_type": "markdown",
   "metadata": {},
   "source": [
    "Exemple célèbre (5e siècle avant JC): \n",
    "\n",
    "> «*$\\sqrt{2}$ est rationnel i.e on peut l'écrire $\\dfrac{p}{q}$ avec $p$ et $q$ entiers*» est FAUX. \n",
    "\n",
    "Montrons que c'est **faux** par l'absurde; *supposons* que ce soit vrai c'est-à-dire qu'on a l'égalité:\n",
    "\n",
    "$$\\sqrt{2}=\\dfrac{p}{q}\\quad (\\color{red}{H}) \\iff 2 =\\dfrac{p^2}{q^2} \\iff p^2=2q^2\\quad (*)$$"
   ]
  },
  {
   "cell_type": "markdown",
   "metadata": {},
   "source": [
    "$T_1$: *Toute fraction d'entiers peut être rendue irréductible*. \n",
    "\n",
    "On peut donc supposer que $\\dfrac{p}{q}$ a déjà été réduites et qu'elle est donc *irréductible*: *$p$ et $q$ n'ont aucun diviseurs communs*."
   ]
  },
  {
   "cell_type": "markdown",
   "metadata": {},
   "source": [
    "$T_2$: pour $x$ entier: «$x^2$ pair ssi $x$ pair»."
   ]
  },
  {
   "cell_type": "markdown",
   "metadata": {},
   "source": [
    "L'égalité $(*)$ montre que $p^2$ est pair (c'est un multiple de $2$) et donc $p$ aussi ($T_2$); mais alors $p=2p'$ et donc:\n",
    "\n",
    "$$(*)\\quad p^2=2q^2 \\iff (2p')^2=2q^2 \\iff 4p'^2=2q^2 \\iff 2p'^2=q^2$$\n",
    "\n",
    "Donc $q$ est pair aussi... STOP: c'est impossible (absurde)! ... puisque $p$ et $q$ seraient tous deux divisibles par $2$ or ils n'avaient aucun diviseurs communs."
   ]
  },
  {
   "cell_type": "markdown",
   "metadata": {},
   "source": [
    "#### Retour au raisonnement de Turing sur l'incalculabilité de l'arrêt."
   ]
  },
  {
   "cell_type": "markdown",
   "metadata": {},
   "source": [
    "$\\color{red}{H}$: Turing suppose **qu'il existe** une machine $A$ (pour arrêt) qui, étant donnés:\n",
    "- (la description) d'une machine $T$ et une donnée $d$ \n",
    "- calcule si $T$ appliquée à $d$ \n",
    "    - s'arrête auquel cas elle répond «oui» (ou 1),\n",
    "    - «boucle à l'infini» auquel cas elle répond «non» (ou 0)"
   ]
  },
  {
   "cell_type": "markdown",
   "metadata": {},
   "source": [
    "Turing va alors exhiber un **paradoxe**. Pour cela, il construit une machine $P$ (pour «paradoxe) qui prend en entrée (la description) d'une machine $T$ et une donnée $d$; elle réalise le calcul suivant:\n",
    "\n",
    "        Si la machine A appliquée à la description de T et d répond oui (arrêt):\n",
    "            je rentre dans une boucle infinie\n",
    "        Sinon:\n",
    "            je me met sur mon état final (donc je m'arrête)"
   ]
  },
  {
   "cell_type": "markdown",
   "metadata": {},
   "source": [
    "*Note1*: pour la boucle infinie, il suffit d'entrer dans un état où la machine réécrit ce qu'elle lit quoi qu'elle lise et se déplace vers la droite tout en restant dans le même état."
   ]
  },
  {
   "cell_type": "markdown",
   "metadata": {},
   "source": [
    "*Note2*: Vous pouvez vous demander si une telle machine est réalisable mais le raisonnement de Turing qui prouve l'existence d'UTM montre qu'une telle machine est très simple à réaliser à partir d'une UTM. D'ailleurs, on peut facilement l'exprimer en Python:\n",
    "\n",
    "```python\n",
    "def paradoxe(d_T, d):\n",
    "    if arret(d_T, d): # on suppose que la fonction arret existe (c'est l'hypothèse)\n",
    "        while True:\n",
    "            pass\n",
    "    else:\n",
    "        return\n",
    "```"
   ]
  },
  {
   "cell_type": "markdown",
   "metadata": {},
   "source": [
    "Revenons à nos moutons. $P$ est une machine ... donc on peut lui fournir sa propre description $d_{P}$ comme premier paramètre et aussi comme second paramètre car **la description d'une machine est une donnée comme une autre**...!."
   ]
  },
  {
   "cell_type": "markdown",
   "metadata": {},
   "source": [
    "Que se passe-t-il alors? Il n'y a que deux cas possibles:\n",
    "\n",
    "Si $P$ s'*arrête*:\n",
    "\n",
    "> cela signifie que $A$ appliquée à $d_P$, $d_P$ répond «non» ... mais cela veut dire que si on applique $P$ à sa propre description et à celle-ci comme donnée, elle ne s'arrête pas... c'est contradictoire avec l'hypothèse de départ et donc impossible!\n",
    "\n",
    "Si $P$ ne s'*arrête pas*:\n",
    "\n",
    "> cela signifie que $A$ appliquée à $d_P$, $d_P$ répond «oui» ... mais cela veut dire que si on applique $P$ à sa propre description et à celle-ci comme donnée, elle s'arrête... encore en contradiction avec l'hypothèse de départ!"
   ]
  },
  {
   "cell_type": "markdown",
   "metadata": {},
   "source": [
    "Voilà notre absurdité: dans le cas de figure considéré «$P$ s'arrête si et seulement si $P$ ne s'arrête pas!»"
   ]
  },
  {
   "cell_type": "markdown",
   "metadata": {},
   "source": [
    "Nous sommes donc obliger de conclure que $\\color{red}{H}$ est donc *fausse* c'est-à-dire que:\n",
    "\n",
    "> Il ne peut exister de machine de Turing (de programme) qui, prenant en entrée la description d'une machine de Turing et une donnée, nous dise si oui ou non cette dernière va s'arrêter en traitant cette donnée.  "
   ]
  },
  {
   "cell_type": "markdown",
   "metadata": {},
   "source": [
    "Ça doit un peu plâner sous la carafe ... rassurez-vous c'est parfaitement normal ... alors voyez si [cette sympathique petite vidéo vous aide à comprendre le «truc»](https://www.youtube.com/watch?v=92WHN-pAFCs)."
   ]
  },
  {
   "cell_type": "markdown",
   "metadata": {},
   "source": [
    "*Note*: Le procédé technique utilisé par Turing est connu en mathématique sous le nom de **«diagonalisation»**, il permet de montrer de nombreuses choses par l'absurde; par exemple:\n",
    "- qu'il y a «beaucoup plus» de réels que d'entiers et donc que tous les infinis «ne se valent pas» (l'infini des entiers est dit dénombrable tandis que celui des réels est dit avoir la puissance du continu et $\\infty_{\\mathbb{N}} < \\infty_{\\mathbb{R}}$). Voir par exemple cette vidéo géniale [l'hôtel de Hilbert]( https://www.youtube.com/watch?v=N_cDA6tF-40&list=PLlrxd3f47yy2mvLivlFU1a9ukoG8-Dkvs&index=18). C'est en se servant de ces idées que Turing montre, par exemple, que certains nombres réels sont incalculables: en montrant que ses machines sont en nombre $\\infty_{\\mathbb{N}}$...\n",
    "- qu'il ne peut exister d'ensemble contenant tous les ensembles... connu sous le nom de *paradoxe de Russel* (établi en 1901): autrement, on pourrait considérer l'ensemble $P$ de tous les ensembles qui ne se contiennent pas eux-même, il ferait partie de l'ensemble de tous les ensembles (par définition). Mais de deux choses l'une: ou $P$ appartient à lui-même, ou non... et là les problèmes commencent (voir [par ici](https://www.youtube.com/watch?v=xqSKawORrPo&list=PLtzmb84AoqRRgqV5DfE_ykuGQK-vCJ_0t&index=16)).\n",
    "- et bien d'autres choses..."
   ]
  }
 ],
 "metadata": {
  "kernelspec": {
   "display_name": "Python 3",
   "language": "python",
   "name": "python3"
  },
  "language_info": {
   "codemirror_mode": {
    "name": "ipython",
    "version": 3
   },
   "file_extension": ".py",
   "mimetype": "text/x-python",
   "name": "python",
   "nbconvert_exporter": "python",
   "pygments_lexer": "ipython3",
   "version": "3.7.3"
  }
 },
 "nbformat": 4,
 "nbformat_minor": 4
}
