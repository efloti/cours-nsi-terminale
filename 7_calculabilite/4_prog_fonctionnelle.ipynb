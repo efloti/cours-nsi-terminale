{
 "cells": [
  {
   "cell_type": "markdown",
   "metadata": {},
   "source": [
    "# Initiation à la programmation fonctionnelle avec Python"
   ]
  },
  {
   "cell_type": "markdown",
   "metadata": {
    "toc-hr-collapsed": true,
    "toc-nb-collapsed": true
   },
   "source": [
    "## Introduction"
   ]
  },
  {
   "cell_type": "markdown",
   "metadata": {},
   "source": [
    "Ce **paradigme** de programmation s'inspire fortement du *lambda calcul*. En voici quelques grands principes:\n",
    "\n",
    "- les fonctions qu'on y considère sont **pures** (ce n'est pas le cas de toutes les fonctions qu'on peut définir avec Python).\n",
    "\n",
    "  Cela veut dire que *si on applique plusieurs fois la même fonction avec les mêmes arguments, le résultat est toujours le même*: il ne dépend pas du contexte de l'appel ni de l'état du programme à un instant donné, seulement des arguments transmis à la fonction.\n",
    "  \n",
    "  Par exemple, si $f$ est une *fonction pure* qui renvoie un nombre, alors l'égalité $f(x)+f(x) = 2f(x)$ est toujours vraie (transparence référentielle).\n",
    "\n",
    "- il n'y a **pas de différences fondamentales entre «données» et fonctions**: \n",
    "\n",
    "  > *une fonction est une valeur comme une autre...*\n",
    "\n",
    "  En particulier:\n",
    "    - une fonction peut s'*appliquer* à une autre fonction c'est-à-dire recevoir une fonction en argument,\n",
    "    - une fonction peut renvoyer (*produire*) une autre fonction."
   ]
  },
  {
   "cell_type": "markdown",
   "metadata": {},
   "source": [
    "Illustrons ces deux derniers points avec l'expression-fonction `lambda params: expression` fournie par Python. \n",
    "\n",
    "**Mise en garde**: Notez que même si elle ressemble aux fonctions du lambda-calcul, il reste encore possible de faire des effets de bords avec ces expressions... méfiance donc!"
   ]
  },
  {
   "cell_type": "code",
   "execution_count": null,
   "metadata": {},
   "outputs": [],
   "source": [
    "a = [1, 2, 3]\n",
    "print((lambda x: a.append(x)) (5)) # à éviter!!! Cette fonction modifie son environnement («saleté» de données muables)\n",
    "print(a)"
   ]
  },
  {
   "cell_type": "markdown",
   "metadata": {
    "toc-hr-collapsed": true,
    "toc-nb-collapsed": true
   },
   "source": [
    "### Une fonction peut s'appliquer à une autre fonction"
   ]
  },
  {
   "cell_type": "code",
   "execution_count": null,
   "metadata": {},
   "outputs": [],
   "source": [
    "# le module operator redéfinit tous les «opérateurs» de Python en terme de fonctions\n",
    "# mod -> %, pow -> **, ...\n",
    "from operator import mod\n",
    "\n",
    "# Une fonction peut s'appliquer à une autre fonction\n",
    "(lambda x: x(5))(lambda x: mod(x, 2))"
   ]
  },
  {
   "cell_type": "markdown",
   "metadata": {},
   "source": [
    "#### Exercice 1"
   ]
  },
  {
   "cell_type": "markdown",
   "metadata": {},
   "source": [
    "1. Expliquer en détail le résultat observé, c'est du lambda calcul!"
   ]
  },
  {
   "cell_type": "raw",
   "metadata": {
    "jupyter": {
     "source_hidden": true
    }
   },
   "source": [
    "(lambda x: x(5))(lambda x: x % 2) = (lambda x: x(5)) (lambda u: u % 2) # changement de nom pour éviter de s'embrouiller\n",
    "                                  = (lambda u: u % 2)(5) \n",
    "                                  = 5 % 2 \n",
    "                                  = 1"
   ]
  },
  {
   "cell_type": "markdown",
   "metadata": {},
   "source": [
    "2. En vous inspirant de l'exemple donné, définir «en place» une fonction qui attend une fonction `f` et l'applique 2 fois au nombre 10; et, **l'appliquer directement** à la fonction carré. \n",
    "\n",
    "   Réfléchir au résultat avant de l'exécuter."
   ]
  },
  {
   "cell_type": "code",
   "execution_count": null,
   "metadata": {},
   "outputs": [],
   "source": [
    "(lambda ______) (lambda ______)"
   ]
  },
  {
   "cell_type": "code",
   "execution_count": null,
   "metadata": {
    "jupyter": {
     "source_hidden": true
    }
   },
   "outputs": [],
   "source": [
    "(lambda f: f(f(10)))(lambda x: pow(x, 2))"
   ]
  },
  {
   "cell_type": "markdown",
   "metadata": {
    "jupyter": {
     "source_hidden": true
    }
   },
   "source": [
    "$(\\lambda f. f(f(10)))(\\lambda x. x^2)=(\\lambda x. x^2)((\\lambda x. x^2)\\,10)=(\\lambda x: x^2)(100)=10\\,000$"
   ]
  },
  {
   "cell_type": "markdown",
   "metadata": {
    "toc-hr-collapsed": true,
    "toc-nb-collapsed": true
   },
   "source": [
    "### Une fonction peut renvoyer une autre fonction"
   ]
  },
  {
   "cell_type": "code",
   "execution_count": null,
   "metadata": {},
   "outputs": [],
   "source": [
    "from operator import truediv # opérateur /\n",
    "# une fonction qui renvoie une fonction\n",
    "simple = lambda a: lambda b: truediv(a, b)\n",
    "x = simple(2)\n",
    "print(type(x))"
   ]
  },
  {
   "cell_type": "markdown",
   "metadata": {},
   "source": [
    "Essayer de deviner le résultat avant d'exécuter!"
   ]
  },
  {
   "cell_type": "code",
   "execution_count": null,
   "metadata": {},
   "outputs": [],
   "source": [
    "x(10)"
   ]
  },
  {
   "cell_type": "markdown",
   "metadata": {},
   "source": [
    "#### Exercice 2"
   ]
  },
  {
   "cell_type": "markdown",
   "metadata": {},
   "source": [
    "1. Justifier le résultat précédent «à la main»."
   ]
  },
  {
   "cell_type": "raw",
   "metadata": {
    "jupyter": {
     "source_hidden": true
    }
   },
   "source": [
    "x(10) = simple(2)(10) = (lambda a: lambda b: truediv(a, b))(2)(10) \n",
    "                      = (lambda b: truediv(2, b))(10) \n",
    "                      = truediv(2, 10) = 2/10 = 0.2"
   ]
  },
  {
   "cell_type": "markdown",
   "metadata": {},
   "source": [
    "2. Définir une fonction qui attend un entier $a$ et qui renvoie *une fonction* qui attend un nombre $b$ et produit $b^a$. \n",
    "\n",
    "   Appliquer là à 10 puis le résultat à 2."
   ]
  },
  {
   "cell_type": "code",
   "execution_count": null,
   "metadata": {},
   "outputs": [],
   "source": [
    "from operator import pow  # pow(x, y) = x ** y\n",
    "exo2 = _______\n",
    "retour_exo2 = ______\n",
    "retour_exo2(2)"
   ]
  },
  {
   "cell_type": "code",
   "execution_count": null,
   "metadata": {
    "jupyter": {
     "source_hidden": true
    }
   },
   "outputs": [],
   "source": [
    "from operator import pow  # pow(x, y) = x ** y\n",
    "exo2 = lambda a: lambda b: b ** a\n",
    "retour_exo2 = exo2(10)\n",
    "retour_exo2(2)"
   ]
  },
  {
   "cell_type": "markdown",
   "metadata": {
    "toc-hr-collapsed": true,
    "toc-nb-collapsed": true
   },
   "source": [
    "### fonction qui attend une fonction et en renvoie une autre"
   ]
  },
  {
   "cell_type": "code",
   "execution_count": null,
   "metadata": {},
   "outputs": [],
   "source": [
    "# une fonction qui attend une fonction et renvoie une fonction \n",
    "reflechir = lambda x: lambda y: x(x(y))\n",
    "x = reflechir(lambda x: 2**x)\n",
    "print(type(x))"
   ]
  },
  {
   "cell_type": "markdown",
   "metadata": {},
   "source": [
    "#### Exercice 3"
   ]
  },
  {
   "cell_type": "markdown",
   "metadata": {},
   "source": [
    "1. Que va donner le calcul qui suit?"
   ]
  },
  {
   "cell_type": "code",
   "execution_count": null,
   "metadata": {},
   "outputs": [],
   "source": [
    "print(x(3))"
   ]
  },
  {
   "cell_type": "markdown",
   "metadata": {},
   "source": [
    "2. le prouver «à la main»."
   ]
  },
  {
   "cell_type": "markdown",
   "metadata": {
    "jupyter": {
     "source_hidden": true
    }
   },
   "source": [
    " 256 car `(lambda x: 2**x)((lambda x: 2**x)(3)) = (lambda x: 2**x)(2**3) = 2**(2**3) = 2**8 = 256`."
   ]
  },
  {
   "cell_type": "markdown",
   "metadata": {},
   "source": [
    "3. Réfléchir à ce que va donner cet autre exemple:"
   ]
  },
  {
   "cell_type": "code",
   "execution_count": null,
   "metadata": {},
   "outputs": [],
   "source": [
    "m = lambda f, k: lambda x: k*f(x)\n",
    "cinq_x_cube = m(lambda x: x**3, 5)\n",
    "cinq_x_cube(2)"
   ]
  },
  {
   "cell_type": "markdown",
   "metadata": {},
   "source": [
    "4. Définir une fonction qui attend deux fonctions $f_1$ et $f_2$ en arguments et **renvoie la fonction** somme des deux données $f_1+f_2$, c'est à dire la fonction qui à chaque valeur de $x$ fait correspondre $f_1(x)+f_2(x)$ "
   ]
  },
  {
   "cell_type": "code",
   "execution_count": null,
   "metadata": {},
   "outputs": [],
   "source": [
    "add_f = lambda ____"
   ]
  },
  {
   "cell_type": "code",
   "execution_count": 156,
   "metadata": {
    "jupyter": {
     "source_hidden": true
    }
   },
   "outputs": [],
   "source": [
    "add_f = lambda f1, f2: lambda x: f1(x) + f2(x)"
   ]
  },
  {
   "cell_type": "code",
   "execution_count": 157,
   "metadata": {},
   "outputs": [],
   "source": [
    "f = add_f(lambda x: x**2, lambda x: x-1)\n",
    "assert f(5) == 29"
   ]
  },
  {
   "cell_type": "markdown",
   "metadata": {},
   "source": [
    "_________"
   ]
  },
  {
   "cell_type": "markdown",
   "metadata": {
    "toc-hr-collapsed": true,
    "toc-nb-collapsed": true
   },
   "source": [
    "### Recommandations..."
   ]
  },
  {
   "cell_type": "markdown",
   "metadata": {},
   "source": [
    "Python n'est pas un langage fonctionnel pure (comme Haskell par exemple) mais il offre beaucoup d'outils pour «faire comme si»."
   ]
  },
  {
   "cell_type": "markdown",
   "metadata": {},
   "source": [
    "En particulier (et notamment pour s'assurer qu'une fonction est **pure**), il est *recommandé* de:\n",
    "- **se méfier de l'affectation**: L'utiliser principalement de façon déclarative (associer un nom à ):\n",
    "```python\n",
    "# le nom «a» n'a pas été encore déclarée dans la même portée (global, module ou dans un def)\n",
    "a = 5 # déclaration: OK\n",
    "# ... dans la même «portée»\n",
    "a = 3 # DANGER: modification de l'association nom-valeur\n",
    "a += 1 # DANGER: c'est encore une affectation\n",
    "```\n",
    "\n",
    "- **se méfier des boucles** (car il y a au moins une affectation de la variable de boucle): *préférer la récursivité*.\n",
    "\n",
    "- **privilégier les types immuables**: tous les types «simples» (int, float, bool,...) le sont; si vous utilisez un type muable (list, dictionnaire, objet, ...), n'utiliser que les opérations qui le traite *comme s'il était immuable* ou mieux utiliser des **itérateurs** quand c'est possible.(cf. plus loin)\n",
    "  \n",
    "  Par exemple, si vous utilisez des listes, pour ajouter un élément à la fin, vous devez produire une nouvelle liste: `l+[elt]` et non `l.append(elt)`."
   ]
  },
  {
   "cell_type": "markdown",
   "metadata": {},
   "source": [
    "#### Le problème du type `list`"
   ]
  },
  {
   "cell_type": "markdown",
   "metadata": {},
   "source": [
    "La notion de liste est incontournable en (PF) programmation fonctionnelle, d'ailleurs *LISP*, premier langage fonctionnel, signifie *LISt Processing*. \n",
    "\n",
    "Malheureusement, les listes de Python sont très éloignées de celles qu'on utilise en PF: muables, consommation mémoire...\n",
    "\n",
    "Python offre toutefois une notion similaire aux listes utilisées en PF, celle d'**itérateur**.\n",
    "\n",
    "Comme c'est une notion avancée de Python, *nous commençons en utilisant des listes*... puis nous découvrirons la notion d'itérateur un peu après."
   ]
  },
  {
   "cell_type": "markdown",
   "metadata": {
    "toc-hr-collapsed": true,
    "toc-nb-collapsed": true
   },
   "source": [
    "### Outils pour la programmation fonctionnelle en Python"
   ]
  },
  {
   "cell_type": "markdown",
   "metadata": {},
   "source": [
    "Outre les fonctions prédéfinies `map`, `filter`,  `all`, `any`, `zip`, on utilise aussi *intensivement*:\n",
    "- les «construction en compréhensions»,\n",
    "- les fonctions «anonymes» `lambda params: expression` ainsi que,\n",
    "- les modules standards introduit ci-après."
   ]
  },
  {
   "cell_type": "markdown",
   "metadata": {},
   "source": [
    "[Modules standards](https://docs.python.org/fr/3/library/functional.html) dédiées à la PF:"
   ]
  },
  {
   "cell_type": "markdown",
   "metadata": {},
   "source": [
    "- `operator`: Fourni chaque opérateur (`+`, `*`, ...) de Python sous la forme d'une fonction.\n",
    "    \n",
    "   Par exemple, après `from operator import add `, `add(x, y)` produit le même résultat que `x+y`.\n",
    "   \n",
    "   Voici quelque associations `- -> sub`, `* -> mul`, `** -> pow`, `/-> truediv`, `// -> floordiv`, `% -> mod`, etc.\n",
    "   \n",
    "   Voir ce [tableau récapitulatif](https://docs.python.org/fr/3/library/operator.html#mapping-operators-to-functions) pour plus de détail."
   ]
  },
  {
   "cell_type": "markdown",
   "metadata": {},
   "source": [
    "- `functools`: Comme son nom l'indique, il définit quelques utilitaires pour la programmation fonctionnelle. \n",
    "\n",
    "  Nous utiliserons un peu plus loin les fonctions `reduce` et `partial` ainsi que le «décorateur» `lru_cache`."
   ]
  },
  {
   "cell_type": "markdown",
   "metadata": {},
   "source": [
    "- `itertools`: définit des **générateurs** couramment utilisés dans le style fonctionnel. Nous abordons la notion de **générateur** et d'**itérateur** dans une partie dédiée."
   ]
  },
  {
   "cell_type": "markdown",
   "metadata": {},
   "source": [
    "Terminons ce tour rapide par quelques imports:"
   ]
  },
  {
   "cell_type": "code",
   "execution_count": null,
   "metadata": {},
   "outputs": [],
   "source": [
    "from operator import add, sub, mul, pow, truediv, floordiv, mod\n",
    "from functools import reduce, partial\n",
    "from itertools import "
   ]
  },
  {
   "cell_type": "markdown",
   "metadata": {
    "toc-hr-collapsed": true,
    "toc-nb-collapsed": true
   },
   "source": [
    "## Les classiques `map`, `filter` et `reduce`"
   ]
  },
  {
   "cell_type": "markdown",
   "metadata": {},
   "source": [
    "Les deux premières sont des «*builtins*» (rien à importer), la dernière fait partie du module [`functools`](https://docs.python.org/fr/3/library/functools.html#functools.reduce) donc `from functools import reduce`..."
   ]
  },
  {
   "cell_type": "markdown",
   "metadata": {},
   "source": [
    "### `map`"
   ]
  },
  {
   "cell_type": "markdown",
   "metadata": {},
   "source": [
    "`map` attend une fonction `f` et une «séquence» `s` et, **produit la «séquence»** des «images» de `f` appliquée à chaque élément de `s`. Par exemple:\n",
    "\n",
    "    map(lambda x: x**2, [1,2,3]) --> 1, 4, 9\n",
    "    map(sum, [[1,2], [3,4]]) --> 3, 7\n",
    "    \n",
    "en bref:\n",
    "\n",
    "                               map\n",
    "        f, s=<s1,s2,...>      ---->        s'=<f(s1),f(s2),...>"
   ]
  },
  {
   "cell_type": "markdown",
   "metadata": {},
   "source": [
    "#### Exercice 4"
   ]
  },
  {
   "cell_type": "markdown",
   "metadata": {},
   "source": [
    "On considère que «séquence» signifie `list`\n",
    "1. Donner une définition récursive de la fonction `map`. Nommez-la `map_rec`."
   ]
  },
  {
   "cell_type": "code",
   "execution_count": null,
   "metadata": {},
   "outputs": [],
   "source": [
    "def map_rec(f, s):\n",
    "    ____"
   ]
  },
  {
   "cell_type": "code",
   "execution_count": null,
   "metadata": {
    "jupyter": {
     "source_hidden": true
    }
   },
   "outputs": [],
   "source": [
    "def map_rec(f, s):\n",
    "    if len(s) == 0:\n",
    "        return []\n",
    "    x, *reste = s # le nom x est associé au premier élément, le nom reste à la liste l[1:]\n",
    "    return [f(x)] + map_rec(f, reste)"
   ]
  },
  {
   "cell_type": "markdown",
   "metadata": {
    "jupyter": {
     "source_hidden": true
    }
   },
   "source": [
    "En dépliant la récursivité, on obtient:\n",
    "\n",
    "    map(f, [1, 2, 3]) = [f(1)] + map(f, [2,3])\n",
    "                      = [f(1)] + ([f(2)] + map(f, [3]))\n",
    "                      = [f(1)] + ([f(2)] + ([f(3)] + map(f, []))) # cas de base\n",
    "                      = [f(1)] + ([f(2)] + ([f(3)] + []))\n",
    "                      = ... = [f(1), f(2), f(3)]."
   ]
  },
  {
   "cell_type": "code",
   "execution_count": null,
   "metadata": {},
   "outputs": [],
   "source": [
    "l1, l2 = [1, 2, 3], [[1, 2],[2, 3]]\n",
    "assert map_rec(lambda x: x**2, l1) == [1, 4, 9]\n",
    "assert map_rec(sum, l2) == [3, 5]\n",
    "assert l1 == [1, 2, 3] and l2 == [[1, 2],[2, 3]] # pourquoi cette vérification?"
   ]
  },
  {
   "cell_type": "markdown",
   "metadata": {},
   "source": [
    "2. Redéfinir `map` en utilisant l'écriture en compréhension des listes (une ligne). Nommez-la `map_comp`."
   ]
  },
  {
   "cell_type": "code",
   "execution_count": null,
   "metadata": {},
   "outputs": [],
   "source": [
    "def map_comp(f, s):\n",
    "    ____"
   ]
  },
  {
   "cell_type": "code",
   "execution_count": null,
   "metadata": {
    "jupyter": {
     "source_hidden": true
    }
   },
   "outputs": [],
   "source": [
    "def map_comp(f, s):\n",
    "    return [f(x) for x in s]"
   ]
  },
  {
   "cell_type": "code",
   "execution_count": null,
   "metadata": {},
   "outputs": [],
   "source": [
    "l1, l2 = [1, 2, 3], [[1, 2],[2, 3]]\n",
    "assert map_comp(lambda x: x**2, l1) == [1, 4, 9]\n",
    "assert map_comp(sum, l2) == [3, 5]\n",
    "assert l1 == [1, 2, 3] and l2 == [[1, 2],[2, 3]] # pourquoi cette vérification?"
   ]
  },
  {
   "cell_type": "markdown",
   "metadata": {},
   "source": [
    "3. Exprimer en une ligne le calcul `map(lambda x: x**2, [1, 2, 3])` uniquement à l'aide de `lambda`."
   ]
  },
  {
   "cell_type": "code",
   "execution_count": null,
   "metadata": {},
   "outputs": [],
   "source": []
  },
  {
   "cell_type": "code",
   "execution_count": null,
   "metadata": {
    "jupyter": {
     "source_hidden": true
    }
   },
   "outputs": [],
   "source": [
    "(lambda f, s: [f(x) for x in s]) (lambda x: x**2, [1, 2, 3])\n",
    "# ou (version curryfiée... voir plus loin) avec un choix de symbole «abstrait»\n",
    "(lambda a: lambda b: [a(c) for c in b]) (lambda a: a**2) ([1, 2, 3])"
   ]
  },
  {
   "cell_type": "markdown",
   "metadata": {},
   "source": [
    "_________"
   ]
  },
  {
   "cell_type": "markdown",
   "metadata": {},
   "source": [
    "Notez enfin que la fonction prédéfinie `map` est plus générale: elle ne renvoie pas une liste mais un **itérateur** (un peu comme `range`). \n",
    "\n",
    "De plus, si on lui donne **plus d'une séquence**, la fonction donnée en 1er argument est supposée avoir *autant d'arguments qu'il y a de séquences* et, par exemple (pour deux séquences):\n",
    "\n",
    "    map(f, s1, s2) --> <f(s1_1, s2_1), f(s1_2, s2_2), ... >\n",
    "    \n",
    "        exemple: map(lambda a,b: a + b, [1, 2], [3, 4]) --> [4, 6]"
   ]
  },
  {
   "cell_type": "markdown",
   "metadata": {},
   "source": [
    "#### Exercice 5"
   ]
  },
  {
   "cell_type": "markdown",
   "metadata": {},
   "source": [
    "1. `zip` est une autre fonction très utile en PF. \n",
    "\n",
    "   Basiquement, elle prend deux séquences `s1`, `s2` et renvoie la séquence formée des couples `(a, b)` avec `a` dans `s1` et `b` dans `s2`. \n",
    "   \n",
    "   «zip»: pensez à une fermeture éclair... Par exemple:\n",
    "\n",
    "        zip([1, 2, 3], [4, 5, 6]) --> [(1, 4), (2, 5), (3, 6)]\n",
    "        \n",
    "   Utiliser `zip` pour définir - en une ligne - `map2(f, s1, s2)` ayant le même comportement que `map` lorsqu'elle reçoit deux séquences."
   ]
  },
  {
   "cell_type": "code",
   "execution_count": null,
   "metadata": {},
   "outputs": [],
   "source": []
  },
  {
   "cell_type": "code",
   "execution_count": null,
   "metadata": {
    "jupyter": {
     "source_hidden": true
    }
   },
   "outputs": [],
   "source": [
    "def map2(f, s1, s2):\n",
    "    return [f(x, y) for x, y in zip(s1, s2)]\n",
    "\n",
    "# on avait dit une ligne...\n",
    "map2 = lambda f, s1, s2: [f(x, y) for x, y in zip(s1, s2)]"
   ]
  },
  {
   "cell_type": "code",
   "execution_count": null,
   "metadata": {},
   "outputs": [],
   "source": [
    "assert map2(lambda a,b: a + b, [1, 2], [3, 4]) == [4, 6]"
   ]
  },
  {
   "cell_type": "markdown",
   "metadata": {},
   "source": [
    "2. Définir récursivement une fonction analogue à `zip` qui prend 2 listes supposées de même taille en argument. Nommer la `zip2_rec`."
   ]
  },
  {
   "cell_type": "code",
   "execution_count": null,
   "metadata": {},
   "outputs": [],
   "source": [
    "def zip2_rec(___):\n",
    "    ____"
   ]
  },
  {
   "cell_type": "code",
   "execution_count": null,
   "metadata": {
    "jupyter": {
     "source_hidden": true
    }
   },
   "outputs": [],
   "source": [
    "def zip2_rec(s1, s2):\n",
    "    assert len(s1) == len(s2)\n",
    "    if len(s1) == 0:\n",
    "        return []\n",
    "    x1, *r1 = s1\n",
    "    x2, *r2 = s2\n",
    "    return [(x1, x2)] + zip2_rec(r1, r2) "
   ]
  },
  {
   "cell_type": "code",
   "execution_count": null,
   "metadata": {},
   "outputs": [],
   "source": [
    "assert zip2_rec([1,2], [3, 4]) == [(1,3), (2,4)]"
   ]
  },
  {
   "cell_type": "markdown",
   "metadata": {},
   "source": [
    "____"
   ]
  },
  {
   "cell_type": "markdown",
   "metadata": {},
   "source": [
    "### `filter`"
   ]
  },
  {
   "cell_type": "markdown",
   "metadata": {},
   "source": [
    "`filter` attend un *prédicat* `p` et une séquence `s`.\n",
    "\n",
    "> **prédicat**: fonction pure qui renvoie `True` ou `False`.\n",
    "\n",
    "Elle **produit alors une séquence** dont les éléments sont ceux de `s` pour lesquels `p` renvoie `True`.\n",
    "\n"
   ]
  },
  {
   "cell_type": "markdown",
   "metadata": {},
   "source": [
    "*Exemples*:\n",
    "\n",
    "    filter(lambda x: x % 2 == 0, [1, 2, 3, 4]) --> [2, 4]\n",
    "    filter(lambda x: abs(x) <= 1, [2, -0.3, 1.01, 0.85, -1.01, -1]) --> [-0.3, 0.85, -1] "
   ]
  },
  {
   "cell_type": "markdown",
   "metadata": {},
   "source": [
    "En programmation impérative, on pourrait la définir comme suit:"
   ]
  },
  {
   "cell_type": "code",
   "execution_count": null,
   "metadata": {},
   "outputs": [],
   "source": [
    "def filter_imp(p, l):\n",
    "    acc = []\n",
    "    for valeur in l:\n",
    "        if p(valeur):\n",
    "            acc.appenc(valeur)\n",
    "    return acc"
   ]
  },
  {
   "cell_type": "markdown",
   "metadata": {},
   "source": [
    "#### Exercice 6"
   ]
  },
  {
   "cell_type": "markdown",
   "metadata": {},
   "source": [
    "1. La définir récursivement. Nommer la `filter_rec`. *Conseil*: penser à l'opérateur ternaire `e1 if cond else e2`."
   ]
  },
  {
   "cell_type": "code",
   "execution_count": null,
   "metadata": {},
   "outputs": [],
   "source": [
    "def filter_rec(p, l):\n",
    "    pass"
   ]
  },
  {
   "cell_type": "code",
   "execution_count": null,
   "metadata": {
    "jupyter": {
     "source_hidden": true
    }
   },
   "outputs": [],
   "source": [
    "def filter_rec(p, l):\n",
    "    if len(l) == 0:\n",
    "        return []\n",
    "    x, *reste = l # x: première valeur de l; reste: liste l privée de sa première valeur\n",
    "    return ([x] if p(x) else []) + filter_rec(p, reste) # "
   ]
  },
  {
   "cell_type": "code",
   "execution_count": null,
   "metadata": {},
   "outputs": [],
   "source": [
    "assert filter_rec(lambda x: x % 2 == 0, [1, 2, 3, 4]) == [2, 4]\n",
    "assert filter_rec(lambda x: abs(x) <= 1, [2, -0.3, 1.01, 0.85, -1.01, -1]) == [-0.3, 0.85, -1] "
   ]
  },
  {
   "cell_type": "markdown",
   "metadata": {},
   "source": [
    "2. La redéfinir en une ligne à l'aide de l'écriture en compréhension. Nommer là `filter_comp`."
   ]
  },
  {
   "cell_type": "code",
   "execution_count": null,
   "metadata": {},
   "outputs": [],
   "source": [
    "filter_comp = ___"
   ]
  },
  {
   "cell_type": "code",
   "execution_count": null,
   "metadata": {
    "jupyter": {
     "source_hidden": true
    }
   },
   "outputs": [],
   "source": [
    "filter_comp = [x for x in s if p(x)]\n",
    "\n",
    "def filter_comp(p, s):\n",
    "    return [x for x in s if p(x)]"
   ]
  },
  {
   "cell_type": "code",
   "execution_count": null,
   "metadata": {},
   "outputs": [],
   "source": [
    "assert filter_comp(lambda x: x % 2 == 0, [1, 2, 3, 4]) == [2, 4]\n",
    "assert filter_comp(lambda x: abs(x) <= 1, [2, -0.3, 1.01, 0.85, -1.01, -1]) == [-0.3, 0.85, -1] "
   ]
  },
  {
   "cell_type": "markdown",
   "metadata": {},
   "source": [
    "3. Compléter la partie manquante (c'est un jeu de symbole):"
   ]
  },
  {
   "cell_type": "code",
   "execution_count": null,
   "metadata": {},
   "outputs": [],
   "source": [
    "filter_lambda = lambda a, b: _____"
   ]
  },
  {
   "cell_type": "code",
   "execution_count": null,
   "metadata": {
    "jupyter": {
     "source_hidden": true
    }
   },
   "outputs": [],
   "source": [
    "filter_lambda = lambda a, b: [c for c in b if a(c)]"
   ]
  },
  {
   "cell_type": "code",
   "execution_count": null,
   "metadata": {},
   "outputs": [],
   "source": [
    "assert filter_lambda(lambda x: x % 2 == 0, [1, 2, 3, 4]) == [2, 4]\n",
    "assert filter_lambda(lambda x: abs(x) <= 1, [2, -0.3, 1.01, 0.85, -1.01, -1]) == [-0.3, 0.85, -1] "
   ]
  },
  {
   "cell_type": "markdown",
   "metadata": {},
   "source": [
    "_______"
   ]
  },
  {
   "cell_type": "markdown",
   "metadata": {},
   "source": [
    "En fait, comme *map*, la *builtin* `filter` est plus générale: elle prend un «itérable» et renvoie un *itérateur*."
   ]
  },
  {
   "cell_type": "markdown",
   "metadata": {},
   "source": [
    "Observez que la composition de `map` et `filter` est très simple à exprimer avec la syntaxe en compréhension:"
   ]
  },
  {
   "cell_type": "markdown",
   "metadata": {},
   "source": [
    "> `map(f, filter(p, l))` produit `[f(x) for x in filter(p,l)]` ce qui revient à `[f(x) for x in l if p(x)]`"
   ]
  },
  {
   "cell_type": "markdown",
   "metadata": {},
   "source": [
    "#### Exercice 7"
   ]
  },
  {
   "cell_type": "markdown",
   "metadata": {},
   "source": [
    "Donner une écriture «logique» (pas du code) en compréhesion de `filter(p, map(f, l))`. Puis, rendez là efficace le cas échéant..."
   ]
  },
  {
   "cell_type": "raw",
   "metadata": {},
   "source": [
    "[___]"
   ]
  },
  {
   "cell_type": "raw",
   "metadata": {
    "jupyter": {
     "source_hidden": true
    }
   },
   "source": [
    "[f(x) for x in l if p(f(x))] # pas efficace car f est appelée 2 fois...\n",
    "\n",
    "[y for y in [f(x) for x in l] if p(y)] # yes!"
   ]
  },
  {
   "cell_type": "markdown",
   "metadata": {},
   "source": [
    "### `reduce`"
   ]
  },
  {
   "cell_type": "markdown",
   "metadata": {},
   "source": [
    "Celle-ci est un peu différente: on souhaite «combiner» tous les éléments d'une séquence pour **produire une «valeur» unique** (réduite)."
   ]
  },
  {
   "cell_type": "markdown",
   "metadata": {},
   "source": [
    "Évidemment, «combiner» va être précisé en lui fournissant une ... fonction!"
   ]
  },
  {
   "cell_type": "markdown",
   "metadata": {},
   "source": [
    "Ainsi `reduce` attend une «opération» `op` - *fonction qui prend deux valeurs et en renvoie une* et une séquence `s` non vide. \n",
    "\n",
    "Elle va alors combiner les éléments deux à deux avec `op` de proche en proche jusqu'à ce qu'il n'y ait plus qu'une valeur.\n",
    "\n",
    "Par exemple:\n",
    "\n",
    "    reduce(lambda a, b: a + b, [1, 2, 3, 4]) --> produit 10 = (1 + (2 + (3 + (4))))\n",
    "    reduce(lambda a, b: a * b, [1, 2, 3, 4]) --> produit 4! = 24 = (1 * (2 * (3 * (4))))"
   ]
  },
  {
   "cell_type": "markdown",
   "metadata": {},
   "source": [
    "De façon plus générale:\n",
    "\n",
    "                                       reduce\n",
    "         op, s=<s1, s2, ...,sn>        ----->         op(s1, op(s2, ...(sn)...)))\n"
   ]
  },
  {
   "cell_type": "markdown",
   "metadata": {},
   "source": [
    "On peut la définir *impérativement* comme suit:"
   ]
  },
  {
   "cell_type": "code",
   "execution_count": null,
   "metadata": {},
   "outputs": [],
   "source": [
    "def reduce_imp(op, s):\n",
    "    assert len(s) >= 1\n",
    "    if len(s) == 1:\n",
    "        return s[0]\n",
    "    a, b, *autres = s # séparons les deux premiers éléments des autres\n",
    "    # initialisons l'«accumulateur» en les combinant:\n",
    "    acc = op(a, b)\n",
    "    # mettre à jour l'accumulateur en combinant de proche en proche\n",
    "    for x in autres:\n",
    "        acc = op(acc, x)\n",
    "    return acc"
   ]
  },
  {
   "cell_type": "markdown",
   "metadata": {},
   "source": [
    "#### Exercice 8\n",
    "\n",
    "1. Définir `reduce` récursivement. Nommez-la `reduce_rec`."
   ]
  },
  {
   "cell_type": "code",
   "execution_count": null,
   "metadata": {},
   "outputs": [],
   "source": [
    "def reduce_rec(op, s):\n",
    "    ____"
   ]
  },
  {
   "cell_type": "code",
   "execution_count": null,
   "metadata": {
    "jupyter": {
     "source_hidden": true
    }
   },
   "outputs": [],
   "source": [
    "def reduce_rec(op, s):\n",
    "    assert len(s) >= 1\n",
    "    if len(s) == 1:\n",
    "        return s[0]\n",
    "    a, *autres = s\n",
    "    return op(a, reduce_rec(op, autres))"
   ]
  },
  {
   "cell_type": "code",
   "execution_count": null,
   "metadata": {},
   "outputs": [],
   "source": [
    "assert reduce_rec(lambda a, b: a + b, [1, 2, 3, 4]) == 10 \n",
    "assert reduce_rec(lambda a, b: a * b, [1, 2, 3, 4]) == 24 "
   ]
  },
  {
   "cell_type": "markdown",
   "metadata": {},
   "source": [
    "2. En réalité, `reduce` prend un troisième argument optionnel (nommé *initializer*). Il sert de valeur par défaut quand la séquence est vide. Par exemple:\n",
    "\n",
    "       reduce(lambda a, b: a + b, [1, 2, 3, 4], 10) --> produit 20 = (10+(1+(2+(3+(4)))))\n",
    "       reduce(lambda a, b: a * b, [1, 2, 3, 4], -1) --> produit -4! = -24 (-1*(1*(2*(3*(4)))))  \n",
    "\n",
    "  **Généraliser** votre définition de `reduce_rec` pour tenir compte de ce troisième argument `initializer` (mis à `None` par défaut). \n",
    "  \n",
    "  Notez que lorsque `initializer` n'est pas précisé, son comportement doit être le même que précédemment (généraliser...)."
   ]
  },
  {
   "cell_type": "code",
   "execution_count": null,
   "metadata": {},
   "outputs": [],
   "source": [
    "def reduce_rec(op, s, initializer=None):\n",
    "    ______"
   ]
  },
  {
   "cell_type": "code",
   "execution_count": null,
   "metadata": {
    "jupyter": {
     "source_hidden": true
    }
   },
   "outputs": [],
   "source": [
    "def reduce_rec(op, s, initializer=None):\n",
    "    if len(s) == 0:\n",
    "        return initializer\n",
    "    x, *autres = s\n",
    "    initializer = op(initializer, x) if initializer is not None else x \n",
    "    return reduce_rec(op, autres, initializer=initializer)"
   ]
  },
  {
   "cell_type": "code",
   "execution_count": null,
   "metadata": {},
   "outputs": [],
   "source": [
    "assert reduce_rec(lambda a, b: a + b, [1, 2, 3, 4]) == 10 \n",
    "assert reduce_rec(lambda a, b: a * b, [1, 2, 3, 4]) == 24 \n",
    "assert reduce_rec(lambda a, b: a + b, [1, 2, 3, 4], 10) == 20 \n",
    "assert reduce_rec(lambda a, b: a * b, [1, 2, 3, 4], -1) == -24 "
   ]
  },
  {
   "cell_type": "markdown",
   "metadata": {},
   "source": [
    "#### Exercice 9"
   ]
  },
  {
   "cell_type": "markdown",
   "metadata": {},
   "source": [
    "Souvenez-vous lorsque nous comparions *style impératif* et *style fonctionnel* en JavaScript:\n",
    "\n",
    "```javascript\n",
    "// style impératif\n",
    "const numList = [1, 2, 3, 4, 5, 6, 7, 8, 9, 10];\n",
    "let result = 0;\n",
    "for (let i = 0; i < numList.length; i++) {\n",
    "  if (numList[i] % 2 === 0) {\n",
    "    result += numList[i] * 10;\n",
    "  }\n",
    "} // result --> 20 + 40 + ... + 100 = 300\n",
    "\n",
    "// style fonctionnel\n",
    "const result = [1, 2, 3, 4, 5, 6, 7, 8, 9, 10]\n",
    "               .filter(n => n % 2 === 0) // filtre les «pairs»\n",
    "               .map(a => a * 10)         // leur applique *10\n",
    "               .reduce((a, b) => a + b); // fait leur somme.\n",
    "      // result --> 20 + 40 + ... + 100 = 300\n",
    "```"
   ]
  },
  {
   "cell_type": "markdown",
   "metadata": {},
   "source": [
    "À présent vous devriez être en mesure de comprendre la partie «style fonctionnel» de ce calcul même si ici, `map`, `filter` et `reduce` sont des méthodes non des fonctions comme en Python.\n",
    "\n",
    "1. Transcrire ce calcul dans le «style fonctionnel» de Python."
   ]
  },
  {
   "cell_type": "code",
   "execution_count": null,
   "metadata": {},
   "outputs": [],
   "source": [
    "from functools import reduce\n",
    "\n",
    "___"
   ]
  },
  {
   "cell_type": "code",
   "execution_count": null,
   "metadata": {
    "jupyter": {
     "source_hidden": true
    }
   },
   "outputs": [],
   "source": [
    "from operator import add # voir https://docs.python.org/fr/3/library/operator.html#mapping-operators-to-functions\n",
    "from functools import reduce\n",
    "\n",
    "reduce(add,   # ou lambda a, b: a + b,\n",
    "       map(lambda x: x * 10,\n",
    "           filter(lambda n: n % 2 == 0,\n",
    "                  range(1, 11)\n",
    "                 )\n",
    "          )\n",
    "      )"
   ]
  },
  {
   "cell_type": "markdown",
   "metadata": {},
   "source": [
    "2. Le transcrire à nouveau en utilisant `reduce` et l'écriture en compréhension (une ligne!)."
   ]
  },
  {
   "cell_type": "code",
   "execution_count": null,
   "metadata": {},
   "outputs": [],
   "source": []
  },
  {
   "cell_type": "code",
   "execution_count": null,
   "metadata": {
    "jupyter": {
     "source_hidden": true
    }
   },
   "outputs": [],
   "source": [
    "reduce(add, [x*10 for x in range(1,11) if x % 2 == 0])"
   ]
  },
  {
   "cell_type": "markdown",
   "metadata": {
    "toc-hr-collapsed": true,
    "toc-nb-collapsed": true
   },
   "source": [
    "##  Notion de générateur/itérateur"
   ]
  },
  {
   "cell_type": "markdown",
   "metadata": {},
   "source": [
    "La notion de liste en programmation fonctionnelle n'est pas la même que le type `list` de Python; La notion de Python qui s'en rapproche le plus est la notion d'**itérateur**."
   ]
  },
  {
   "cell_type": "markdown",
   "metadata": {},
   "source": [
    "Par exemple, les fonctions prédéfinies `map` et `filter` s'appliquent à un itérateur (non une liste) et renvoie un **itérateur**. De même, `range(...)` produit un itérateur..."
   ]
  },
  {
   "cell_type": "markdown",
   "metadata": {},
   "source": [
    "Néanmoins, partout ou Python attend un **itérateur** (ou un *iterable*), on peut utiliser une liste, une chaîne, un tuple, un dictionnaire, un ensemble et encore bien d'autres choses! \n",
    "\n",
    "> Comment cela fonctionne-t-il?"
   ]
  },
  {
   "cell_type": "markdown",
   "metadata": {},
   "source": [
    "Et bien python utilise en interne la fonction prédéfinie `iter`: elle prend un objet et renvoie l'**itérateur par défaut** pour cet objet (si l'objet en défini un...)"
   ]
  },
  {
   "cell_type": "code",
   "execution_count": null,
   "metadata": {},
   "outputs": [],
   "source": [
    "it = iter([4, 5, 6])\n",
    "\n",
    "for x in it: # «for x in [4, 5, 6]» est transformé par Python en «for x in iter([4, 5, 6])» \n",
    "    print(x)"
   ]
  },
  {
   "cell_type": "markdown",
   "metadata": {},
   "source": [
    "*Note*: Un objet peut même définir d'autres itérateurs «standards» qu'on peut obtenir avec les *builtin* `reversed` et `enumerate`. C'est le cas des listes et  des chaînes notamment."
   ]
  },
  {
   "cell_type": "markdown",
   "metadata": {
    "toc-hr-collapsed": true,
    "toc-nb-collapsed": true
   },
   "source": [
    "### Qu'est-ce qu'un itérateur?"
   ]
  },
  {
   "cell_type": "markdown",
   "metadata": {},
   "source": [
    "Essentiellement, un **itérateur** est un objet qui dispose des deux méthodes *spéciales*:\n",
    "- `__iter__(self)` qui renvoie l'objet lui-même (nécessaire pour pouvoir l'utiliser directement dans une boucle `for`...),\n",
    "- `__next__(self)` renvoie la valeur *suivante* d'itération et s'il n'y en plus, lève une erreur `StopIteration`."
   ]
  },
  {
   "cell_type": "markdown",
   "metadata": {},
   "source": [
    "Voici un exemple simple:"
   ]
  },
  {
   "cell_type": "code",
   "execution_count": null,
   "metadata": {},
   "outputs": [],
   "source": [
    "class Decompte:\n",
    "    def __init__(self, n):\n",
    "        self.n = n\n",
    "    \n",
    "    def __iter__(self): \n",
    "        return self # car les instances de cette classe **sont** des «iterateurs»\n",
    "    \n",
    "    def __next__(self):\n",
    "        # renvoie la «prochaîne valeur» ou lève l'erreur `StopIteration` s'il n'y en a plus.\n",
    "        v = self.n\n",
    "        if v < 0:\n",
    "            raise StopIteration\n",
    "        self.n -= 1\n",
    "        return v\n",
    "\n",
    "for x in Decompte(5): # identique à «for x in iter(Decompte(5))»\n",
    "    print(x, end=\" \")"
   ]
  },
  {
   "cell_type": "markdown",
   "metadata": {},
   "source": [
    "La fonction prédéfinie `next` appelle tout simplement la fonction spéciale de nom similaire de l'objet itérateur:"
   ]
  },
  {
   "cell_type": "code",
   "execution_count": null,
   "metadata": {},
   "outputs": [],
   "source": [
    "tmp_it = Decompte(5)"
   ]
  },
  {
   "cell_type": "code",
   "execution_count": null,
   "metadata": {},
   "outputs": [],
   "source": [
    "# exécuter moi plusieurs fois...\n",
    "next(tmp_it)"
   ]
  },
  {
   "cell_type": "markdown",
   "metadata": {},
   "source": [
    "Une fois l'itérateur consommé, il n'y a plus qu'à le mettre à la poubelle ... (ce qui est fait automatiquement en pratique)"
   ]
  },
  {
   "cell_type": "code",
   "execution_count": null,
   "metadata": {},
   "outputs": [],
   "source": [
    "del tmp_it"
   ]
  },
  {
   "cell_type": "markdown",
   "metadata": {},
   "source": [
    "Notez qu'une liste n'est pas un itérateur mais un «**itérable**».\n",
    "\n",
    "> Un **iterable** est un objet qui définit la méthode spéciale `__iter__`; celle-ci doit retournée un **itérateur**. \n",
    "> \n",
    "> Remarquez qu'un itérateur est un itérable mais le contraire est faux...\n",
    "\n",
    "Ainsi, `next(liste)` n'a pas de sens; en revanche, un itérable (et donc une liste) possède une méthode `__iter__` qui permet de récupérer l'itérateur «par défaut» sur cet itérable..."
   ]
  },
  {
   "cell_type": "code",
   "execution_count": null,
   "metadata": {},
   "outputs": [],
   "source": [
    "#Une liste n'est pas un itérateur: next([1, 2, 3]) -> erreur Mais:\n",
    "next(iter([1, 2, 3])) # ok"
   ]
  },
  {
   "cell_type": "markdown",
   "metadata": {},
   "source": [
    "Bon ... écrire une classe pour définir un itérateur est un peu lourd (mais très souple). \n",
    "\n",
    "Pour pouvoir créer plus facilement des itérateurs, Python permet l'utilisation de fonction «spéciale» appelée **générateur**."
   ]
  },
  {
   "cell_type": "markdown",
   "metadata": {
    "toc-hr-collapsed": true,
    "toc-nb-collapsed": true
   },
   "source": [
    "### Simplifier l'écriture des itérateurs: les générateurs"
   ]
  },
  {
   "cell_type": "markdown",
   "metadata": {},
   "source": [
    "On appelle **générateur** une sorte de fonction particulière reconnaissable à l'utilisation du mot clé `yield`. Ces fonctions, «générateurs» donc, lorsqu'on les **appelle** ont la particularité de renvoyer ... un **itérateur**.\n",
    "\n",
    "> une fonction de type **générateur** se caractérise par l'usage du mot clé `yield` et sert à produire un **itérateur**."
   ]
  },
  {
   "cell_type": "markdown",
   "metadata": {},
   "source": [
    "Voici un exemple très simple de «générateur»:"
   ]
  },
  {
   "cell_type": "code",
   "execution_count": null,
   "metadata": {},
   "outputs": [],
   "source": [
    "def simple_gen():\n",
    "    yield 1\n",
    "    yield 10\n",
    "    yield 20"
   ]
  },
  {
   "cell_type": "markdown",
   "metadata": {},
   "source": [
    "**ATTENTION**: Ce n'est pas une fonction ordinaire mais *le moyen de produire un itérateur* (que j'ai appelé «séquence» précédemment); c'est le mot clé `yield` («produire») qui provoque ce comportement."
   ]
  },
  {
   "cell_type": "markdown",
   "metadata": {},
   "source": [
    "Pour récupérer l'itérateur produit par ce générateur, on l'appelle comme une fonction ordinaire:"
   ]
  },
  {
   "cell_type": "code",
   "execution_count": null,
   "metadata": {},
   "outputs": [],
   "source": [
    "it_exemple = simple_gen()\n",
    "assert iter(it_exemple) == it_exemple # iter le renvoie lui-même puisque ... c'est un itérateur!"
   ]
  },
  {
   "cell_type": "markdown",
   "metadata": {},
   "source": [
    "L'idée clef derrière un générateur est:\n",
    "> produire une valeur *tout en mémorisant la position du `yield` qui l'a produit* puis stopper l'exécution. \n",
    "\n",
    "Pourquoi? De manière à pouvoir reprendre l'exécution *à partir de ce point* et non au tout début de la fonction comme c'est le cas normalement: c'est assez déroutant au début..."
   ]
  },
  {
   "cell_type": "code",
   "execution_count": null,
   "metadata": {},
   "outputs": [],
   "source": [
    "next(it_exemple)"
   ]
  },
  {
   "cell_type": "markdown",
   "metadata": {},
   "source": [
    "La fonction prédéfinie `next` sert précisément à «(re)démarrer» le générateur *par rapport au dernier point d'exécution*; elle renvoie la valeur produit par le générateur *à partir de ce point*.\n",
    "\n",
    "Lorsqu'il n'y a plus de valeur, une exception `StopIteration` est levée (automatiquement) qui indique cet état d'«épuisement» de l'itérateur (c'est en exploitant cette exception qu'une boucle `for` «sait» qu'elle doit se terminer)."
   ]
  },
  {
   "cell_type": "markdown",
   "metadata": {},
   "source": [
    "[Voir ce comportement pas à pas avec Python Tutor](http://pythontutor.com/visualize.html#code=def%20simple_gen%28%29%3A%0A%20%20%20%20yield%201%0A%20%20%20%20yield%2010%0A%20%20%20%20yield%2020%0A%0Agen%20%3D%20simple_gen%28%29%0Anext%28gen%29%0Anext%28gen%29%0Anext%28gen%29%0A%23%20oups%0Anext%28gen%29&cumulative=false&curInstr=0&heapPrimitives=false&mode=display&origin=opt-frontend.js&py=3&rawInputLstJSON=%5B%5D&textReferences=false)"
   ]
  },
  {
   "cell_type": "markdown",
   "metadata": {},
   "source": [
    "On peut l'utiliser dans une boucle `for` et dans bien d'autres endroits:"
   ]
  },
  {
   "cell_type": "code",
   "execution_count": null,
   "metadata": {},
   "outputs": [],
   "source": [
    "for x in simple_gen(): # Les parenthèses sont nécessaire pour obtenir notre itérateur\n",
    "    print(x, end=\" \")\n",
    "\n",
    "[x+1 for x in simple_gen()]"
   ]
  },
  {
   "cell_type": "markdown",
   "metadata": {},
   "source": [
    "Une fois l'itérateur consommé, vous ne pouvez plus rien en faire... mais rien ne vous empêche d'utiliser son générateur pour «regénérer» un nouvel itérateur «tout neuf»."
   ]
  },
  {
   "cell_type": "markdown",
   "metadata": {},
   "source": [
    "Voilà comment on peut créer des itérateurs «décompte» très simplement (sans utiliser une classe):"
   ]
  },
  {
   "cell_type": "code",
   "execution_count": null,
   "metadata": {},
   "outputs": [],
   "source": [
    "def decompte(n):\n",
    "    while n > -1:\n",
    "        yield n\n",
    "        n -= 1\n",
    "\n",
    "for x in decompte(5):\n",
    "    print(x, end=\" \")"
   ]
  },
  {
   "cell_type": "markdown",
   "metadata": {},
   "source": [
    "#### Exercice 10"
   ]
  },
  {
   "cell_type": "markdown",
   "metadata": {},
   "source": [
    "1. Écrire un générateur `mon_range` qui fait la même chose que `range` pour un argument:"
   ]
  },
  {
   "cell_type": "code",
   "execution_count": null,
   "metadata": {},
   "outputs": [],
   "source": [
    "def mon_range(n):\n",
    "    ___\n",
    "\n",
    "for i in mon_range(10):\n",
    "    print(i)"
   ]
  },
  {
   "cell_type": "code",
   "execution_count": null,
   "metadata": {
    "jupyter": {
     "source_hidden": true
    }
   },
   "outputs": [],
   "source": [
    "def mon_range(n):\n",
    "    i = 0\n",
    "    while i < n:\n",
    "        yield i\n",
    "        i += 1\n",
    "\n",
    "for i in mon_range(10):\n",
    "    print(i)"
   ]
  },
  {
   "cell_type": "markdown",
   "metadata": {
    "jupyter": {
     "source_hidden": true
    }
   },
   "source": [
    "[Voir avec Python Tutor](http://pythontutor.com/visualize.html#code=def%20mon_range%28n%29%3A%0A%20%20%20%20i%20%3D%200%0A%20%20%20%20while%20i%20%3C%20n%3A%0A%20%20%20%20%20%20%20%20yield%20i%0A%20%20%20%20%20%20%20%20i%20%2B%3D%201%0A%0Afor%20i%20in%20mon_range%284%29%3A%0A%20%20%20%20print%28i%29&cumulative=false&curInstr=0&heapPrimitives=false&mode=display&origin=opt-frontend.js&py=3&rawInputLstJSON=%5B%5D&textReferences=false)"
   ]
  },
  {
   "cell_type": "markdown",
   "metadata": {},
   "source": [
    "2. Écrire un générateur `de_a(i, j)` qui permet d'obtenir i, i+1, ..., j si j >= i et rien autrement."
   ]
  },
  {
   "cell_type": "code",
   "execution_count": null,
   "metadata": {},
   "outputs": [],
   "source": [
    "def de_a(i, j):\n",
    "    pass\n",
    "\n",
    "for i in de_a_rec(5, 12):\n",
    "    print(i)"
   ]
  },
  {
   "cell_type": "code",
   "execution_count": null,
   "metadata": {
    "jupyter": {
     "source_hidden": true
    }
   },
   "outputs": [],
   "source": [
    "def de_a(i, j):\n",
    "    k = i\n",
    "    if j < i:\n",
    "        return #fin\n",
    "    while k <= j:\n",
    "        yield k\n",
    "        k += 1\n",
    "\n",
    "for i in de_a_rec(5, 12):\n",
    "    print(i)"
   ]
  },
  {
   "cell_type": "markdown",
   "metadata": {},
   "source": [
    "3. Améliorer `de_a` de façon que `for i in de_a(10,1)` produise un décompte 10, 9, ..., 1 (plutôt que de ne rien produire du tout). «Amusez-vous» éventuellement à essayer d'ajouter un argument optionnel «pas» qui fait ce qu'on pense... "
   ]
  },
  {
   "cell_type": "markdown",
   "metadata": {},
   "source": [
    "_____"
   ]
  },
  {
   "cell_type": "markdown",
   "metadata": {
    "toc-hr-collapsed": true,
    "toc-nb-collapsed": true
   },
   "source": [
    "### Les itérateurs sont fainéants!"
   ]
  },
  {
   "cell_type": "markdown",
   "metadata": {},
   "source": [
    "Il est important de comprendre que les valeurs d'un itérateurs **ne sont produites qu'à la demande**: il n'y pas de mémorisation de leur liste quelques part...; on parle parfois de **comportement paresseux** \\[*lazy behavior*\\]\n",
    "\n",
    "En bref:\n",
    "> **la logique de production des valeurs plutôt que ces valeurs elles-mêmes**.\n",
    "\n",
    "Pour mieux le percevoir, imaginez que j'ai besoin d'une «source infini» de $1$ et de $-1$ en alternance; aucun problème d'avoir un générateur «infini»:"
   ]
  },
  {
   "cell_type": "code",
   "execution_count": null,
   "metadata": {},
   "outputs": [],
   "source": [
    "def source():\n",
    "    i = 1\n",
    "    while True:\n",
    "        yield i\n",
    "        i = -i\n",
    "\n",
    "for nb in source():\n",
    "    print(nb)\n",
    "    if input(\"Stop?\") == \"q\":\n",
    "        break"
   ]
  },
  {
   "cell_type": "markdown",
   "metadata": {},
   "source": [
    "Si l'utilisateur ne met pas fin à la chose alors elle ne s'arrêtera pas... Et pourtant, on n'a pas mémorisé une liste infinie de 1 et de -1 en mémoire (heureusement! autrement c'est le crash assuré...)."
   ]
  },
  {
   "cell_type": "markdown",
   "metadata": {},
   "source": [
    "Autre exemple:"
   ]
  },
  {
   "cell_type": "code",
   "execution_count": null,
   "metadata": {},
   "outputs": [],
   "source": [
    "def espion_fois2(a):\n",
    "    print(\"on m'appelle\")\n",
    "    return a * 2\n",
    "\n",
    "res = map(espion_fois2, [1, 2, 3])"
   ]
  },
  {
   "cell_type": "markdown",
   "metadata": {},
   "source": [
    "#### Exercice 11"
   ]
  },
  {
   "cell_type": "markdown",
   "metadata": {},
   "source": [
    "Qu'observez-vous? Que conclure!"
   ]
  },
  {
   "cell_type": "markdown",
   "metadata": {
    "jupyter": {
     "source_hidden": true
    }
   },
   "source": [
    "l'appel de la fonction `espion_fois2` est **différé** (comportement fainéant) ... ce n'est que lorsqu'on utilise l'itérateur que la fonction est appelée: "
   ]
  },
  {
   "cell_type": "code",
   "execution_count": null,
   "metadata": {},
   "outputs": [],
   "source": [
    "for x in res: # exécuter moi une première fois ... puis une seconde (comprenez-vous?)\n",
    "    print(x)"
   ]
  },
  {
   "cell_type": "markdown",
   "metadata": {},
   "source": [
    "____"
   ]
  },
  {
   "cell_type": "markdown",
   "metadata": {},
   "source": [
    "#### Exercice 12"
   ]
  },
  {
   "cell_type": "markdown",
   "metadata": {},
   "source": [
    "Les fonction `map` et `filter` sont en fait des sortes de **générateurs**: ils prennent un itérable en entrée (et non une liste) et produisent un itérateur en sortie."
   ]
  },
  {
   "cell_type": "markdown",
   "metadata": {},
   "source": [
    "Re-définir `map` det `filter` de façon à en faire des générateurs"
   ]
  },
  {
   "cell_type": "code",
   "execution_count": null,
   "metadata": {},
   "outputs": [],
   "source": [
    "def mon_map(f, iterable):\n",
    "    ___"
   ]
  },
  {
   "cell_type": "code",
   "execution_count": null,
   "metadata": {
    "jupyter": {
     "source_hidden": true
    }
   },
   "outputs": [],
   "source": [
    "def mon_map(f, iterable):\n",
    "    iterateur = iter(iterable) # soyons prudent... même si ...\n",
    "    for x in iterateur:        # dans «for .. iterable»,\n",
    "        yield f(x)             # «iterable» est remplacé par iter(iterable)\n",
    "                               # on peut donc se passer de la première ligne"
   ]
  },
  {
   "cell_type": "code",
   "execution_count": null,
   "metadata": {},
   "outputs": [],
   "source": [
    "from types import GeneratorType\n",
    "tmp = mon_map(lambda x: x**2, range(5))\n",
    "assert list(tmp) == [0, 1, 4, 9, 16]\n",
    "assert isinstance(tmp, GeneratorType)"
   ]
  },
  {
   "cell_type": "code",
   "execution_count": null,
   "metadata": {},
   "outputs": [],
   "source": [
    "def mon_filter(p, iterable):\n",
    "    ___"
   ]
  },
  {
   "cell_type": "code",
   "execution_count": null,
   "metadata": {
    "jupyter": {
     "source_hidden": true
    }
   },
   "outputs": [],
   "source": [
    "def mon_filter(p, iterable):\n",
    "    for x in iterable:\n",
    "        if p(x): yield x"
   ]
  },
  {
   "cell_type": "code",
   "execution_count": null,
   "metadata": {},
   "outputs": [],
   "source": [
    "from types import GeneratorType\n",
    "tmp = mon_filter(lambda x: x%2==0, mon_map(lambda x: x**2, range(5)))\n",
    "assert list(tmp) == [0, 4, 16]\n",
    "assert isinstance(tmp, GeneratorType)"
   ]
  },
  {
   "cell_type": "markdown",
   "metadata": {},
   "source": [
    "___"
   ]
  },
  {
   "cell_type": "markdown",
   "metadata": {
    "toc-hr-collapsed": true,
    "toc-nb-collapsed": true
   },
   "source": [
    "### générateur en compréhension"
   ]
  },
  {
   "cell_type": "markdown",
   "metadata": {},
   "source": [
    "Et oui, les générateurs ont eux-même «leur syntaxe en compréhension» - similaire à la syntaxe en compréhension des listes mais **délimitée par des parenthèses**. \n",
    "\n",
    "Cela simplifie drastiquement le code:"
   ]
  },
  {
   "cell_type": "code",
   "execution_count": null,
   "metadata": {},
   "outputs": [],
   "source": [
    "def mon_map(f, iterable):\n",
    "    return (f(x) for x in iterable) # les délimiteurs sont des parenthèses pour les générateurs\n",
    "\n",
    "for x in mon_map(lambda x: x**2, range(3)): # essayer avec une liste ou même une chaîne\n",
    "    print(x, end=\" \")\n",
    "\n",
    "print(type(mon_map(lambda x: x**2, range(3))))"
   ]
  },
  {
   "cell_type": "markdown",
   "metadata": {},
   "source": [
    "Et pour `filter`:"
   ]
  },
  {
   "cell_type": "code",
   "execution_count": null,
   "metadata": {},
   "outputs": [],
   "source": [
    "def mon_filter(pred, gen):\n",
    "    return (x for x in gen if pred(x))\n",
    "\n",
    "for x in mon_filter(lambda x: x % 2, range(10)):\n",
    "    print(x)"
   ]
  },
  {
   "cell_type": "markdown",
   "metadata": {},
   "source": [
    "**Dernier point**: lorsqu'une fonction n'attend qu'un paramètre qui doit-être **un itérable**, Python nous autorise à omettre les parenthèses autour d'une «expression génératrice» pour alléger:"
   ]
  },
  {
   "cell_type": "code",
   "execution_count": null,
   "metadata": {},
   "outputs": [],
   "source": [
    "sum( (x**2 for x in range(3)) ) # logique\n",
    "\n",
    "# mais Python autorise (lorsqu'il n'y a qu'un argument!!)\n",
    "sum(x**2 for x in range(3))\n",
    "\n",
    "# Ceci est une erreur de syntaxe (voir le message après avoir décommentée)\n",
    "\n",
    "# map(lambda x: x+1, x**2 for x in range(3))"
   ]
  },
  {
   "cell_type": "markdown",
   "metadata": {
    "toc-hr-collapsed": true,
    "toc-nb-collapsed": true
   },
   "source": [
    "## Fonction partielle: curryfication"
   ]
  },
  {
   "cell_type": "markdown",
   "metadata": {
    "toc-hr-collapsed": true,
    "toc-nb-collapsed": true
   },
   "source": [
    "### Notion de fonction curryfiée"
   ]
  },
  {
   "cell_type": "markdown",
   "metadata": {},
   "source": [
    "En $\\lambda$-calcul, nous avons fait l'identification: $\\lambda xy.{\\bf Truc}\\equiv\\lambda x.(\\lambda y.{\\bf Truc})$ en indiquant vaguement que «ça ne changeait rien»."
   ]
  },
  {
   "cell_type": "markdown",
   "metadata": {},
   "source": [
    "Pourtant, à y regarder de plus près, cela revient à:\n",
    "\n",
    "> **identifier** une fonction qui prend *deux arguments* **à** ...\n",
    "> \n",
    "> ... une fonction qui *prend un seul argument* et *produit* une autre *fonction*... \n",
    "\n",
    "Cette identification n'est pas anodine ... raison pour laquelle nous avions ajouté la *convention* que (par exemple), par réduction:\n",
    "\n",
    "$$(\\lambda xy.xyx)\\, z = \\lambda y.zyz$$"
   ]
  },
  {
   "cell_type": "markdown",
   "metadata": {},
   "source": [
    "Autrement dit, qu'on pouvait **appliquer partiellement** notre fonction (à deux arguments) pour en produire une nouvelle qui n'en prend plus qu'un... (un de moins)"
   ]
  },
  {
   "cell_type": "markdown",
   "metadata": {},
   "source": [
    "> On dit qu'une fonction est **curryfiée** si:\n",
    "> - elle ne prend qu'un argument,\n",
    "> - et, *si elle renvoie une fonction*, celle-ci ne prend encore qu'un argument,\n",
    ">    - (et ainsi de suite....)."
   ]
  },
  {
   "cell_type": "markdown",
   "metadata": {},
   "source": [
    "*Note*: cela vient du nom du mathématicien *Haskell-Curry*; son nom est aussi celui d'un langage de programmation fonctionnel très populaire - *haskell*."
   ]
  },
  {
   "cell_type": "markdown",
   "metadata": {},
   "source": [
    "*Exemple*: Pensez à la fonction «Addition», elle prend deux arguments... Le prof dit:\n",
    "1. appliquer là à «3 et 2»; votre réponse est alors 5 je présume... $(\\lambda xy.x+y) \\,3\\, 2 = 3 + 2 = 5$.\n",
    "\n",
    "2. mais il pourrait aussi vous dire les choses en «deux temps»:\n",
    "    - «je donne 3» ... du temps s'écoule ... alors vous mémorisez une nouvelle fonction: \n",
    "        - «ajouter 3» (elle ne prend plus qu'un argument): $(\\lambda xy.x+y) \\,3 = \\lambda y.3+y$\n",
    "    - ... finalement ... «je donne 2»; alors vous faites «ajouter 3» appliquée à 2 et vous répondez 5. $(\\lambda y.3+y)\\,2=3+2=5$.\n",
    "\n"
   ]
  },
  {
   "cell_type": "markdown",
   "metadata": {},
   "source": [
    "Dans le deuxième cas, vous utilisez «intuitivement» la version *curryfiée* de l'addition $\\lambda x.(\\lambda y. x+y)$.\n",
    "____"
   ]
  },
  {
   "cell_type": "markdown",
   "metadata": {},
   "source": [
    "En lambda-calcul $\\lambda xy.{\\bf Truc}$ n'est qu'une **abréviation d'écriture**, les fonctions sont **toujours curryfiées**! \n",
    "\n",
    "On peut donc appliquer partiellement les fonctions *contrairement à Python* à moins de redéfinir une autre fonction:"
   ]
  },
  {
   "cell_type": "code",
   "execution_count": null,
   "metadata": {},
   "outputs": [],
   "source": [
    "def add(a, b): # add «normal»: non curryfiée\n",
    "    return a + b\n",
    "\n",
    "# le prof dit 3 ...\n",
    "ajouter_3 = lambda b: add(3, b)\n",
    "\n",
    "# du temps s'écoule...\n",
    "\n",
    "# le prof dit 2\n",
    "ajouter_3(2) #BRAVO!"
   ]
  },
  {
   "cell_type": "markdown",
   "metadata": {},
   "source": [
    "Si la fonction `add` était curryfiée, cela pourrait s'écrire:"
   ]
  },
  {
   "cell_type": "code",
   "execution_count": null,
   "metadata": {},
   "outputs": [],
   "source": [
    "add = lambda a: lambda b: a+b # add curryfiée\n",
    "\n",
    "# le prof dit 3 ...\n",
    "ajouter_3 = add(3)\n",
    "\n",
    "# du temps s'écoule...\n",
    "\n",
    "# le prof dit 2\n",
    "ajouter_3(2) #BRAVO!"
   ]
  },
  {
   "cell_type": "markdown",
   "metadata": {},
   "source": [
    "**Le point important**: \n",
    "\n",
    "> la *curryfication* permet de *spécialiser directement* une fonction à partir d'une *fonction plus générale*."
   ]
  },
  {
   "cell_type": "markdown",
   "metadata": {},
   "source": [
    "#### Exercice 13"
   ]
  },
  {
   "cell_type": "markdown",
   "metadata": {},
   "source": [
    "1. Comment **s'utilise** la fonction `add` *curryfiée* si le prof donne les deux nombres immédiatement; par exemple «15 et 7»!"
   ]
  },
  {
   "cell_type": "code",
   "execution_count": null,
   "metadata": {
    "jupyter": {
     "source_hidden": true
    }
   },
   "outputs": [],
   "source": [
    "add(17)(7)"
   ]
  },
  {
   "cell_type": "markdown",
   "metadata": {},
   "source": [
    "2. Refaire avec l'opérateur `**` ce qui a été fait précédemment pour `+`. Attention le prof donne l'*exposant* en premier!"
   ]
  },
  {
   "cell_type": "code",
   "execution_count": null,
   "metadata": {},
   "outputs": [],
   "source": [
    "puiss = ____ \n",
    "\n",
    "# le prof dit l'exposant est 10 ...\n",
    "____\n",
    "\n",
    "# du temps s'écoule...\n",
    "\n",
    "# le prof dit pour 2\n",
    "____ #BRAVO???"
   ]
  },
  {
   "cell_type": "code",
   "execution_count": null,
   "metadata": {
    "jupyter": {
     "source_hidden": true
    }
   },
   "outputs": [],
   "source": [
    "puiss = lambda n: lambda x: x ** n\n",
    "\n",
    "# le prof dit l'exposant est 10 ...\n",
    "puiss_10_de = puiss(10)\n",
    "\n",
    "# du temps s'écoule...\n",
    "\n",
    "# le prof dit pour 2\n",
    "puiss_10_de(2) #BRAVO!"
   ]
  },
  {
   "cell_type": "markdown",
   "metadata": {},
   "source": [
    "_________"
   ]
  },
  {
   "cell_type": "markdown",
   "metadata": {},
   "source": [
    "Évidemment, ces exemples sont simplistes et peu intéressants mais leur but est de vous faire comprendre les principes."
   ]
  },
  {
   "cell_type": "markdown",
   "metadata": {},
   "source": [
    "Alors imaginons que `map`, `reduce` et `**` soit curryfiées (évidemment il faut le faire nous-même...)"
   ]
  },
  {
   "cell_type": "code",
   "execution_count": null,
   "metadata": {},
   "outputs": [],
   "source": [
    "from operator import add, sub\n",
    "from functools import reduce\n",
    "\n",
    "#Les notations de droites seront expliquées en classe (sinon voir note ci-dessous)\n",
    "\n",
    "map_c = lambda f: lambda s: map(f, s)                    # (a -> b) -> <a> -> <b>\n",
    "puiss = lambda n: lambda x: x**n                         # int -> num -> num\n",
    "reduce_c = lambda op: lambda s: reduce(op, s)            # (a, a -> a) -> <a> -> a"
   ]
  },
  {
   "cell_type": "markdown",
   "metadata": {},
   "source": [
    "*Note*:"
   ]
  },
  {
   "cell_type": "markdown",
   "metadata": {
    "jupyter": {
     "source_hidden": true
    }
   },
   "source": [
    "Ses notations permettent de préciser le **type** de la fonction définie: on parle parfois de sa «signature».\n",
    "\n",
    "Les lettres `a`, `b`, etc désigne un **type** arbitraire (non une valeur), `num` un type numérique;\n",
    "\n",
    "Pour alléger je dis «prend **un** `a`» pour «prend une valeur de **type** `a`». Voici comment on pourrait lire les notations «fléchées»:\n",
    "\n",
    "`(a -> b) -> <a> -> <b>` se lit «une fonction qui:\n",
    "- attend une fonction qui prend un «`a`» et renvoie un «`b`» **puis ...**(plus tard) \n",
    "- une séquence de «`a`» (notée `<a>`), et finalement\n",
    "- renvoie une séquence de «`b`» (notée `<b>`).»\n",
    "\n",
    "`(a, a -> a) -> <a> -> <a>` se lit «une fonction qui:\n",
    "- attend une fonction qui prend deux arguments de type «`a`» et renvoie un «`a`» **puis ...**(plus tard)\n",
    "- une séquence de «`a`» (notée `<a>`), et finalement\n",
    "- renvoie un «`a`»."
   ]
  },
  {
   "cell_type": "markdown",
   "metadata": {},
   "source": [
    "Construisons alors de nouvelles fonctions:"
   ]
  },
  {
   "cell_type": "code",
   "execution_count": null,
   "metadata": {},
   "outputs": [],
   "source": [
    "somme = reduce_c(add)\n",
    "print(somme(range(5)))"
   ]
  },
  {
   "cell_type": "code",
   "execution_count": null,
   "metadata": {},
   "outputs": [],
   "source": [
    "carres = map_c(puiss(2))\n",
    "print(list(carres(range(5))))"
   ]
  },
  {
   "cell_type": "markdown",
   "metadata": {},
   "source": [
    "#### Exercice 14"
   ]
  },
  {
   "cell_type": "markdown",
   "metadata": {},
   "source": [
    "Définir l'opération «somme des racines de»: *aide*: $\\sqrt{x}=x^{1/2}$"
   ]
  },
  {
   "cell_type": "code",
   "execution_count": null,
   "metadata": {},
   "outputs": [],
   "source": [
    "racines = ___\n",
    "somme_des_racines_de = lambda x: ____"
   ]
  },
  {
   "cell_type": "code",
   "execution_count": null,
   "metadata": {
    "jupyter": {
     "source_hidden": true
    }
   },
   "outputs": [],
   "source": [
    "racines = map_c(puiss(1/2))\n",
    "somme_des_racines_de = lambda x: somme (racines (x))"
   ]
  },
  {
   "cell_type": "code",
   "execution_count": null,
   "metadata": {},
   "outputs": [],
   "source": [
    "assert somme_des_racines_de ([9, 16, 100]) == 3 + 4 + 10"
   ]
  },
  {
   "cell_type": "markdown",
   "metadata": {},
   "source": [
    "________"
   ]
  },
  {
   "cell_type": "markdown",
   "metadata": {},
   "source": [
    "À présent, curryfions `map` pour une fonction et un couple de séquences:"
   ]
  },
  {
   "cell_type": "code",
   "execution_count": null,
   "metadata": {},
   "outputs": [],
   "source": [
    "map2_c = lambda f: lambda cs: map(f, cs[0], cs[1])       # (a, b -> c) -> (<a>, <b>) -> <c>"
   ]
  },
  {
   "cell_type": "markdown",
   "metadata": {},
   "source": [
    "*Note:*"
   ]
  },
  {
   "cell_type": "markdown",
   "metadata": {
    "jupyter": {
     "source_hidden": true
    }
   },
   "source": [
    "`map2_c` est donc une fonction qui\n",
    "- attend une fonction qui prend un `a` et un `b` et qui produit un `c`, **puis ...**(plus tard)\n",
    "- un couple de séquences de `a` et de `b`, et finalement\n",
    "- renvoie une séquences de `c`."
   ]
  },
  {
   "cell_type": "markdown",
   "metadata": {},
   "source": [
    "Cela nous permet de définir facilement «les différences de» (2 séquences)"
   ]
  },
  {
   "cell_type": "code",
   "execution_count": null,
   "metadata": {},
   "outputs": [],
   "source": [
    "diffs = map2_c(sub)\n",
    "print(list( diffs( ([1, 2, 3], [3, 2, 1]) ) ))"
   ]
  },
  {
   "cell_type": "markdown",
   "metadata": {},
   "source": [
    "#### Exercice 15\n",
    "\n",
    "On rappelle que le **produit scalaire** de deux séquences `<x>`, `<y>` est `x1*y1 + x2*y2 + x3*y3 + ...`\n",
    "\n",
    "1. Définir l'opération «produit scalaire de»"
   ]
  },
  {
   "cell_type": "code",
   "execution_count": null,
   "metadata": {},
   "outputs": [],
   "source": [
    "from operator import mul # mul(a, b) = a * b\n",
    "\n",
    "# produits2 = ____ # (<a>, <b>) -> <c>\n",
    "produit_scalaire = lambda x, y: ____( ____ ( (x, y) ) )"
   ]
  },
  {
   "cell_type": "code",
   "execution_count": null,
   "metadata": {
    "jupyter": {
     "source_hidden": true
    }
   },
   "outputs": [],
   "source": [
    "from operator import mul # mul(a, b) = a * b\n",
    "\n",
    "produits2 = map2_c(mul)\n",
    "produit_scalaire = lambda x, y: somme( map2_c(mul) ((x, y)) )"
   ]
  },
  {
   "cell_type": "code",
   "execution_count": null,
   "metadata": {},
   "outputs": [],
   "source": [
    "assert produit_scalaire((1, 1), (-1, 1)) == 0"
   ]
  },
  {
   "cell_type": "markdown",
   "metadata": {},
   "source": [
    "2. La **norme** d'une séquence `<x>` est «racine de» `x1**2 + x2**2 + x3**2 + ...`\n",
    "   \n",
    "   En utilisant la fonction `dupliquer` donner ci-après (et la fonction «produit scalaire»), définir la fonction `norme`\n",
    "   \n",
    "   *Note*: vous aurez besoin de l'opérateur `*seq`. Il sert à *déballer* une séquence au moment de l'appel d'une fonction. Voici un simple exemple pour comprendre le principe:\n",
    "   \n",
    "   ```python\n",
    "   couple = (1, 2)\n",
    "   snd = lambda a, b: b\n",
    "   snd(couple) #--> ERREUR: snd attend 2 arguments or il n'en reçoit qu'1; mais:\n",
    "   snd(*couple) # --> FONCTIONNE et renvoie 2 car Python transforme Snd(*(1, 2)) en Snd(1, 2).\n",
    "   ```"
   ]
  },
  {
   "cell_type": "code",
   "execution_count": null,
   "metadata": {},
   "outputs": [],
   "source": [
    "dupliquer = lambda x: (x, x)\n",
    "\n",
    "norme = lambda x: ___ (___ ( *dupliquer(x) ) )"
   ]
  },
  {
   "cell_type": "code",
   "execution_count": null,
   "metadata": {
    "jupyter": {
     "source_hidden": true
    }
   },
   "outputs": [],
   "source": [
    "dupliquer = lambda x: (x, x)\n",
    "\n",
    "norme = lambda x: puiss(1/2) (produit_scalaire ( *dupliquer(x) ) )"
   ]
  },
  {
   "cell_type": "code",
   "execution_count": null,
   "metadata": {},
   "outputs": [],
   "source": [
    "assert norme( (1, 1) ) == puiss(1/2)(2)"
   ]
  },
  {
   "cell_type": "markdown",
   "metadata": {
    "toc-hr-collapsed": true,
    "toc-nb-collapsed": true
   },
   "source": [
    "### Enchaînement ou composition: exemple de la distance euclidenne"
   ]
  },
  {
   "cell_type": "markdown",
   "metadata": {},
   "source": [
    "Rappelons que la distance euclidienne entre deux points 3D $A(x_A, y_A, z_A)$ et $B(x_B, y_B, z_B)$ est:\n",
    "\n",
    "$$AB = \\sqrt{(x_B-x_A)^2+(y_B-y_A)^2+(z_B-z_A)^2}$$"
   ]
  },
  {
   "cell_type": "markdown",
   "metadata": {},
   "source": [
    "On peut la paraphraser comme étant: \n",
    "> «la **racine** de la **somme** des **carrés** des **différences**» (des coordonnées des points)."
   ]
  },
  {
   "cell_type": "markdown",
   "metadata": {},
   "source": [
    "Par exemple, si $A(1;0;0)$ et $B(0;0;1)$ alors \n",
    "\n",
    "$$AB =\\sqrt{(0-1)^2+(0-0)^2+(1-0)^2}=\\sqrt{(-1)^2+0^2+1^2}=\\sqrt{1+0+1}=\\sqrt{2}\\approx 1.41421$$ "
   ]
  },
  {
   "cell_type": "markdown",
   "metadata": {},
   "source": [
    "On pourrait la définir comme suit:"
   ]
  },
  {
   "cell_type": "code",
   "execution_count": null,
   "metadata": {},
   "outputs": [],
   "source": [
    "distance_euclidienne = lambda A, B : puiss(1/2) (somme (carres (diffs ( (A, B) ) ) ) )\n",
    "\n",
    "distance_euclidienne ( (1, 0, 0), (0, 0, 1) )"
   ]
  },
  {
   "cell_type": "markdown",
   "metadata": {},
   "source": [
    "Mais il reste un `lambda`. Comment pourrait-on faire pour s'en débarrasser???"
   ]
  },
  {
   "cell_type": "markdown",
   "metadata": {},
   "source": [
    "Observez que l'ordre des calculs est l'inverse de celui dans lequel on «énonce» les opérations ...:\n",
    "\n",
    "                            A, B --> diffs --> carres --> somme --> racine        \n",
    "                            \n",
    "                                             s'énonce\n",
    "                                                    \n",
    "              racine (appliqué à) la somme (... aux) carrés (... aux) différences (...) A et B\n",
    "                         de                   des             des                   de"
   ]
  },
  {
   "cell_type": "markdown",
   "metadata": {},
   "source": [
    "La **première façon de faire** pourrait s'*abstraire* en `reduce(op?, <diffs, carres, somme, racine>))` ... Non? :-)\n",
    "\n",
    "> mais que prendre pour `op?`???\n",
    "\n",
    "Pour le comprendre, étudions le cas de deux fonctions (pensez par ex. à `f1 = somme` et `f2 = carre`):\n",
    "           \n",
    "            f1             f2                                            \n",
    "         x ---> y = f1(x) ---> z = f2(y) = f2(f1(x))   \n",
    "                 \n",
    "                 et nous voulons combiner\n",
    "             f1 et f2 en une seule fonction F:\n",
    "                 \n",
    "                    F = op?(f1,f2)\n",
    "               x     --->      z      donc ...  F(x) = f2(f1(x))"
   ]
  },
  {
   "cell_type": "markdown",
   "metadata": {},
   "source": [
    "En étudiant soigneusement le schéma ci-dessus, vous devriez comprendre pourquoi en lambda calcul, on poserait:\n",
    "\n",
    "$${\\bf op?}={\\bf Enchaîner2}\\equiv\\lambda f_1f_2.(\\lambda x.f_2(f_1x))$$ \n",
    "\n",
    "Vérification:\n",
    "\n",
    "$${\\bf Enchaîner2\\,} f_1\\, f_2 = \\lambda x.f_2(f_1(x)) \\equiv F $$"
   ]
  },
  {
   "cell_type": "markdown",
   "metadata": {},
   "source": [
    "Et pour «enchaîner» trois fonctions ... (ou plus), on pourrait faire:\n",
    "\n",
    "$${\\bf Enchaîner 2\\, } ({\\bf Enchaîner2\\,} f_1\\, f_2)\\, f_3=\\dots=\\lambda x.f_3(f_2(f_1 x))$$"
   ]
  },
  {
   "cell_type": "markdown",
   "metadata": {},
   "source": [
    "#### Exercice 16"
   ]
  },
  {
   "cell_type": "markdown",
   "metadata": {},
   "source": [
    "1. Vérifier le lambda-calcul précédent (attention au changement de nom...)."
   ]
  },
  {
   "cell_type": "markdown",
   "metadata": {
    "jupyter": {
     "source_hidden": true
    }
   },
   "source": [
    "$$\\begin{eqnarray}{\\bf Enchaîner 2\\, } ({\\bf Enchaîner2\\,} f_1\\, f_2)\\, f_3\n",
    "&=& {\\bf Enchaîner 2\\, } (\\lambda x.f_2(f_1 x ))\\, f_3\\cr\n",
    "&=& \\lambda x.f_3(\\,(\\,\\lambda t.f_2(f_1 t)\\,)\\,x)\\cr\n",
    "&=&\\lambda x.f_3(f_2(f_1 x))\\end{eqnarray}$$"
   ]
  },
  {
   "cell_type": "markdown",
   "metadata": {},
   "source": [
    "2. Que donnerait: $${\\bf Enchaîner 2\\,} ({\\bf Enchaîner 2\\, } ({\\bf Enchaîner2\\,} f_1\\, f_2)\\, f_3)\\, f_4$$"
   ]
  },
  {
   "cell_type": "markdown",
   "metadata": {
    "jupyter": {
     "source_hidden": true
    }
   },
   "source": [
    "$$\\lambda x. f_4(f_3(f_2(f_1\\,x)))$$"
   ]
  },
  {
   "cell_type": "markdown",
   "metadata": {},
   "source": [
    "3. Observer bien le calcul précédent ... cela ne vous rappelle rien? ... Comment pourrait-on définir «${\\bf Enchaîner}$» à l'aide de `reduce` (curryfiée) de façon à «enchaîner» *une séquence de fonctions*?"
   ]
  },
  {
   "cell_type": "markdown",
   "metadata": {
    "jupyter": {
     "source_hidden": true
    }
   },
   "source": [
    "$${\\bf Enchaîner}\\equiv {\\bf Reduce\\,Enchaîner2}$$"
   ]
  },
  {
   "cell_type": "markdown",
   "metadata": {},
   "source": [
    "4. Si vous n'avez pas trouver la question précédente, regarder la solution... puis compléter ce code de façon à re-définir `distance_euclidienne` par «enchaînement»: "
   ]
  },
  {
   "cell_type": "code",
   "execution_count": null,
   "metadata": {},
   "outputs": [],
   "source": [
    "enchainer2 = lambda _____ # bien suivre la formule «non curryfiée» donnée plus tôt\n",
    "enchainer = reduce_c(____)\n",
    "distance_euclidienne = enchainer([diffs, ___, ____, ____])\n",
    "\n",
    "distance_euclidienne( ((1, 0, 0), (0, 0, 1)) ) # rappel: 1.4142135623730951"
   ]
  },
  {
   "cell_type": "code",
   "execution_count": null,
   "metadata": {
    "jupyter": {
     "source_hidden": true
    }
   },
   "outputs": [],
   "source": [
    "enchainer2 = lambda f1, f2: lambda x: f2(f1(x))\n",
    "enchainer = reduce_c(enchainer2)\n",
    "distance_euclidienne = enchainer([diffs, carres, somme, puiss(1/2)])\n",
    "\n",
    "distance_euclidienne( ((1, 0, 0), (0, 0, 1)) ) # rappel: 1.4142135623730951"
   ]
  },
  {
   "cell_type": "markdown",
   "metadata": {},
   "source": [
    "____"
   ]
  },
  {
   "cell_type": "markdown",
   "metadata": {},
   "source": [
    "Avez-vous remarqué que dans ${\\bf Enchaîner2}\\equiv \\lambda f_1f_2.(\\lambda x.f_2(f_1 x)))$ les paramètres suivent l'ordre «naturel» des calculs (parenthèses intérieures en premier)."
   ]
  },
  {
   "cell_type": "markdown",
   "metadata": {},
   "source": [
    "Mais en mathématiques, on définit la **composition** de deux fonctions $f_1$ et $f_2$ - qu'on note $f_2 \\circ f_1$ de façon que:\n",
    "\n",
    "$$(f_2\\circ f_1)(x) = f_2(f_1(x))$$"
   ]
  },
  {
   "cell_type": "markdown",
   "metadata": {},
   "source": [
    "en lambda calcul, cela donne ${\\bf Comp2}\\equiv \\lambda f_2f_1. (\\lambda x.f_2(f_1 x))$; c'est «presque pareil» que «enchaîner» mais à l'envers: la dernière opération effective est annoncée en premier!"
   ]
  },
  {
   "cell_type": "markdown",
   "metadata": {},
   "source": [
    "#### Exercice 17"
   ]
  },
  {
   "cell_type": "code",
   "execution_count": null,
   "metadata": {},
   "outputs": [],
   "source": [
    "comp2 = lambda f_2, f_1: lambda x: f_2(f_1(x))"
   ]
  },
  {
   "cell_type": "markdown",
   "metadata": {},
   "source": [
    "Utiliser la fonction précédente pour définir «distance_euclidienne» comme\n",
    "\n",
    "        «la racine de la somme des carrés des différences de» \n",
    "\n",
    "et sans aucun lambda dans cette définition! "
   ]
  },
  {
   "cell_type": "code",
   "execution_count": null,
   "metadata": {},
   "outputs": [],
   "source": [
    "distance_euclidienne = ______"
   ]
  },
  {
   "cell_type": "code",
   "execution_count": null,
   "metadata": {
    "jupyter": {
     "source_hidden": true
    }
   },
   "outputs": [],
   "source": [
    "distance_euclidienne = reduce_c(comp2)([puiss(1/2), somme, carres, diffs])"
   ]
  },
  {
   "cell_type": "code",
   "execution_count": null,
   "metadata": {},
   "outputs": [],
   "source": [
    "assert distance_euclidienne( ((1, 0, 0), (0, 0, 1)) ) == puiss(1/2) (2)"
   ]
  },
  {
   "cell_type": "markdown",
   "metadata": {},
   "source": [
    "__________"
   ]
  },
  {
   "cell_type": "markdown",
   "metadata": {
    "toc-hr-collapsed": true,
    "toc-nb-collapsed": true
   },
   "source": [
    "### Curryfication"
   ]
  },
  {
   "cell_type": "markdown",
   "metadata": {},
   "source": [
    "Mais tant qu'on y est, peut-on faire une fonction qui en prend une autre et nous la renvoie curryfiée?\n",
    "\n",
    "Non seulement c'est possible mais c'est très facile en se limitant à des fonctions à deux variables:"
   ]
  },
  {
   "cell_type": "code",
   "execution_count": null,
   "metadata": {},
   "outputs": [],
   "source": [
    "curryfier = lambda f: lambda x: lambda y: f(x, y)\n",
    "\n",
    "# ou, on lit souvent ce genre de chose... ce qui embrouille c'est qu'on est obliger de nommer avec un def!\n",
    "def curryfier(f):\n",
    "    \n",
    "    def _curry(x): \n",
    "        \n",
    "        def __curry(y):\n",
    "            return f(x, y)\n",
    "        \n",
    "        return __curry\n",
    "    \n",
    "    return _curry"
   ]
  },
  {
   "cell_type": "code",
   "execution_count": null,
   "metadata": {},
   "outputs": [],
   "source": [
    "from operator import add, mul\n",
    "somme = curryfier(reduce)(add)\n",
    "# produit = ___\n",
    "\n",
    "somme(range(5))"
   ]
  },
  {
   "cell_type": "markdown",
   "metadata": {},
   "source": [
    "Marre des sommes et des produits; alors voici un autre exemple:"
   ]
  },
  {
   "cell_type": "code",
   "execution_count": null,
   "metadata": {},
   "outputs": [],
   "source": [
    "a_deviner = curryfier(reduce) (lambda x, y: x if x > y else y)"
   ]
  },
  {
   "cell_type": "code",
   "execution_count": null,
   "metadata": {},
   "outputs": [],
   "source": [
    "from random import randint\n",
    "xs = [randint(1, 100) for i in range(5)]\n",
    "print(list(xs))\n",
    "\n",
    "a_deviner(xs)"
   ]
  },
  {
   "cell_type": "markdown",
   "metadata": {},
   "source": [
    "#### Exercice\n",
    "\n",
    "1. bon, avez-vous devinez ce que fait `a_deviner`?"
   ]
  },
  {
   "cell_type": "markdown",
   "metadata": {},
   "source": [
    "2. Voyez-vous comment on pourrait définir une opération «décurryfier» à appliquer à une fonction curryfiée «à deux étages» comme $\\lambda x.\\lambda y.{\\bf Truc}$"
   ]
  },
  {
   "cell_type": "code",
   "execution_count": null,
   "metadata": {},
   "outputs": [],
   "source": [
    "decurryfier = _____"
   ]
  },
  {
   "cell_type": "code",
   "execution_count": null,
   "metadata": {
    "jupyter": {
     "source_hidden": true
    }
   },
   "outputs": [],
   "source": [
    "decurryfier = lambda f: lambda x, y: f(x)(y)"
   ]
  },
  {
   "cell_type": "markdown",
   "metadata": {},
   "source": [
    "3. Parfois les arguments d'une fonction (curryfiée ou pas) sont à l'envers par rapport à l'ordre souhaité.\n",
    "\n",
    "   Définir une fonction `inv2` qui transforme une fonction $x,y\\mapsto f(x, y)$ en la même fonction (à deux arguments) mais dont les arguments sont inversés..."
   ]
  },
  {
   "cell_type": "code",
   "execution_count": null,
   "metadata": {},
   "outputs": [],
   "source": [
    "from operator import pow, mod # pow(a, b) = a ** b; mod(a, b) = a % b\n",
    "\n",
    "inv2 = ______\n",
    "\n",
    "puissance_10 = curryfier(inv2(pow))(10)\n",
    "assert puissance_10(2) == 1024\n",
    "\n",
    "# définir de même la fonction «modulo_10»\n",
    "modulo_10 = _____\n",
    "assert modulo_10(125) == 5"
   ]
  },
  {
   "cell_type": "code",
   "execution_count": null,
   "metadata": {
    "jupyter": {
     "source_hidden": true
    }
   },
   "outputs": [],
   "source": [
    "from operator import pow, mod # pow(a, b) = a ** b; mod(a, b) = a % b\n",
    "\n",
    "inv2 = lambda f: lambda x, y: f(y, x)\n",
    "\n",
    "puissance_10 = curryfier(inv2(pow))(10)\n",
    "assert puissance_10(2) == 1024\n",
    "\n",
    "modulo_10 = curryfier(inv2(mod))(10)\n",
    "assert modulo_10(125) == 5"
   ]
  },
  {
   "cell_type": "markdown",
   "metadata": {},
   "source": [
    "_____"
   ]
  },
  {
   "cell_type": "markdown",
   "metadata": {},
   "source": [
    "Voici encore quelques exemples pour vous convaincre de la «puissance» de la curryfication:"
   ]
  },
  {
   "cell_type": "code",
   "execution_count": null,
   "metadata": {},
   "outputs": [],
   "source": [
    "puiss = curryfier(inv2(pow))\n",
    "carres, cubes, racines = [curryfier(map)(puiss(x)) for x in [2, 3, 1/2]] # une fonction est une valeur comme une autre...\n",
    "\n",
    "test = range(10)\n",
    "list(carres(test)), list(cubes(test)), list(racines(test))"
   ]
  },
  {
   "cell_type": "markdown",
   "metadata": {
    "toc-hr-collapsed": true,
    "toc-nb-collapsed": true
   },
   "source": [
    "### Alternative à la curryfication - `partial`"
   ]
  },
  {
   "cell_type": "markdown",
   "metadata": {},
   "source": [
    "La fonction `partial(f, x1, x2, ...)` du module `functools` permet d'appliquer «partiellement» une fonction:\n",
    "\n",
    "- `f` est une fonction «normale» et,\n",
    "- `x1` une valeur pour le premier paramètre de `f`, `x2` pour le second etc.; \n",
    "\n",
    "`partial` renvoie alors la fonction **partielle** `«les x restants» -> f(x1, x2, ..., «les x restants»)`."
   ]
  },
  {
   "cell_type": "code",
   "execution_count": null,
   "metadata": {},
   "outputs": [],
   "source": [
    "from functools import partial\n",
    "\n",
    "produit = partial(reduce, mul)\n",
    "somme = partial(reduce, add)\n",
    "mini = partial(reduce, lambda x, y: x if x < y else y)\n",
    "print(produit(range(1, 10)))"
   ]
  },
  {
   "cell_type": "markdown",
   "metadata": {},
   "source": [
    "Malheureusement, on ne peut pas modifier l'ordre des paramètres positionnels ... c'est par exemple plus difficile de définir «puissance 10» comme nous l'avons fait précédemment ... mais on peut tout de même «ruser»:"
   ]
  },
  {
   "cell_type": "code",
   "execution_count": null,
   "metadata": {},
   "outputs": [],
   "source": [
    "puissance_10 = partial(lambda x, y: pow(y, x), 10) # ou mieux inv2(pow)\n",
    "puissance_10(2)"
   ]
  },
  {
   "cell_type": "markdown",
   "metadata": {},
   "source": [
    "Imaginons que nous ayons besoin d'applatir une matrice `[[a, b], [c, d]] -> [a, b ,c, d]`:"
   ]
  },
  {
   "cell_type": "code",
   "execution_count": null,
   "metadata": {},
   "outputs": [],
   "source": [
    "from operator import concat # l1, l2 -> l1 + l2 (concatène deux listes et renvoie la nouvelle liste obtenue)\n",
    "applatir = partial(reduce, concat) # lambda x, y: x+y fonctionnerait aussi\n",
    "applatir([[1,2,3], [4,5,6]])"
   ]
  },
  {
   "cell_type": "markdown",
   "metadata": {},
   "source": [
    "On peut aussi utiliser `partial` avec un paramètre nommé: dans ce cas sa position n'a pas d'importance."
   ]
  },
  {
   "cell_type": "markdown",
   "metadata": {},
   "source": [
    "Par exemple, la fonction `int(v, base=10)` prend en fait deux arguments. Si nous souhaitons convertir une chaîne représentant un nombre binaire en l'entier correspondant:"
   ]
  },
  {
   "cell_type": "code",
   "execution_count": null,
   "metadata": {},
   "outputs": [],
   "source": [
    "bin_to_dec = partial(int, base=2)\n",
    "bin_to_dec(\"1001\")"
   ]
  },
  {
   "cell_type": "markdown",
   "metadata": {},
   "source": [
    "Un petit jeu pour se détendre ... "
   ]
  },
  {
   "cell_type": "code",
   "execution_count": null,
   "metadata": {},
   "outputs": [],
   "source": [
    "i = 0\n",
    "from random import randint\n",
    "while i < 3:\n",
    "    nb = randint(1, 20)\n",
    "    rep = input(f\"Quelle est l'écriture binaire de {nb} (base dix)?\")\n",
    "    if bin_to_dec(rep) == nb:\n",
    "        print(\"Bien!\")\n",
    "        i += 1\n",
    "    else:\n",
    "        print(\"Roolala!\")"
   ]
  },
  {
   "cell_type": "markdown",
   "metadata": {
    "toc-hr-collapsed": true,
    "toc-nb-collapsed": true
   },
   "source": [
    "## Notion de «décorateur» `@deco`"
   ]
  },
  {
   "cell_type": "markdown",
   "metadata": {},
   "source": [
    "Maintenant que vous êtes habitués à la possibilité pour une fonction d'en renvoyer une autre, nous sommes en mesure de comprendre\n",
    "la notion de «décorateur»."
   ]
  },
  {
   "cell_type": "markdown",
   "metadata": {},
   "source": [
    "C'est en fait un «sucre syntaxique»:\n",
    "    \n",
    "```python\n",
    "@truc\n",
    "def ma_fonction(...):\n",
    "    ...\n",
    "\n",
    "# est (à peu près) équivalent à\n",
    "def ma_fonction(...):\n",
    "    ...\n",
    "ma_fonction = truc(ma_fonction)\n",
    "```"
   ]
  },
  {
   "cell_type": "markdown",
   "metadata": {},
   "source": [
    "Autrement dit, votre décorateur «`truc`» est supposé être une fonction qui prend en argument une fonction et en renvoie une autre... Par exemple:"
   ]
  },
  {
   "cell_type": "code",
   "execution_count": null,
   "metadata": {},
   "outputs": [],
   "source": [
    "curryfier = lambda f: lambda x: lambda y: f(x, y)\n",
    "\n",
    "@curryfier\n",
    "def ajouter(x, y):\n",
    "    return x + y\n",
    "\n",
    "# eq à: ajouter = curryfier(ajouter)\n",
    "ajouter1 = ajouter(1)\n",
    "ajouter1(15)"
   ]
  },
  {
   "cell_type": "markdown",
   "metadata": {},
   "source": [
    "On peut appliquer plusieurs décorateurs à une définition `@a\\n@b\\ndef truc(...):...` revient à `truc = a(b(truc))` (attention à l'ordre)"
   ]
  },
  {
   "cell_type": "code",
   "execution_count": null,
   "metadata": {},
   "outputs": [],
   "source": [
    "inv = lambda f: lambda x, y: f(y, x)\n",
    "\n",
    "@curryfier\n",
    "@inv\n",
    "def my_pow(x, y):\n",
    "    return x ** y\n",
    "\n",
    "# eq à: my_pow = curryfier(inv(my_pow))\n",
    "\n",
    "puiss_10 = my_pow(10)\n",
    "puiss_10(2)"
   ]
  },
  {
   "cell_type": "markdown",
   "metadata": {},
   "source": [
    "On peut même créer des décorateurs «paramétrables»... L'idée est de: \n",
    "- crée une fonction qui, appliquée aux paramètres,\n",
    "    - renvoie une fonction qui, appliquée à une fonction (celle qu'on veut décorer), \n",
    "        - renvoie une fonction «décorée»!"
   ]
  },
  {
   "cell_type": "code",
   "execution_count": null,
   "metadata": {},
   "outputs": [],
   "source": [
    "def deco(param):\n",
    "    print(param)\n",
    "    def _deco(f):\n",
    "        def __deco(x):\n",
    "            print(\"avant appel de f\")\n",
    "            y = f(x)\n",
    "            print(f\"le résultat est {y}\")\n",
    "            print(\"après appel de f\")\n",
    "            # return y\n",
    "        return __deco\n",
    "    return _deco\n",
    "\n",
    "@deco(\"paramètres!\")\n",
    "def doubler(x):\n",
    "    return 2*x\n",
    "\n",
    "# eq. à doubler = deco(\"paramètres\")(doubler)\n",
    "\n",
    "doubler(3)"
   ]
  },
  {
   "cell_type": "markdown",
   "metadata": {},
   "source": [
    "Voyons un exemple plus intéressant appelé «**mémoïsation**». L'idée est de décorer une fonction de façon à lui associer un dictionnaire auquel elle seule à accès; Avant d'appeler la fonction, on regarde si une entrée correspondant au paramètre fourni se trouve dans le dictionnaire auquel cas on renvoie la valeur associée; autrement, on appelle la fonction et on mémorise son résultat dans le dictionnaire avant de le renvoyer:"
   ]
  },
  {
   "cell_type": "code",
   "execution_count": null,
   "metadata": {},
   "outputs": [],
   "source": [
    "def memoiser_simple(f):\n",
    "    # dictionnaire pour mémoriser les résultats de f\n",
    "    d = {}\n",
    "    def f_memo(x):\n",
    "        if x in d: # déjà calculé, inutile de recommencer\n",
    "            return d[x]\n",
    "        # autrement on calcule mais\n",
    "        y = f(x)\n",
    "        # on mémorise le résultat\n",
    "        d[x] = y\n",
    "        # ... avant de renvoyer la valeur!\n",
    "        return y\n",
    "    return f_memo\n",
    "\n",
    "@memoiser_simple\n",
    "def fibo(n):\n",
    "    if n == 0 or n == 1:\n",
    "        return n\n",
    "    return fibo(n-2) + fibo(n-1)\n",
    "\n",
    "fibo(50)"
   ]
  },
  {
   "cell_type": "markdown",
   "metadata": {},
   "source": [
    "La chose est tellement utile que Python définit un décorateur similaire sous le nom de `lru_cache` dans le module `functools` (note: dans sa version 3.9, on y trouve aussi le décorateur `cache`).\n",
    "\n",
    "`lru` abrège *last recently used* (les plus récemment utilisés). En effet la taille du cache est paramétrable et cela précise la façon dont le cache est géré. Le paramètre `maxsize` sert à préciser cette taille: mettre la valeur `None` pour un cache sans limite de taille."
   ]
  },
  {
   "cell_type": "code",
   "execution_count": null,
   "metadata": {},
   "outputs": [],
   "source": [
    "from functools import lru_cache\n",
    "\n",
    "@lru_cache(maxsize=None)\n",
    "def fibo(n):\n",
    "    if n == 0 or n == 1:\n",
    "        return n\n",
    "    return fibo(n-2) + fibo(n-1)\n",
    "\n",
    "fibo(50)"
   ]
  },
  {
   "cell_type": "markdown",
   "metadata": {},
   "source": [
    "Un dernier exemple bien pratique (mais qui serait «trop bavard» avec une fonction définie récursivement...):"
   ]
  },
  {
   "cell_type": "code",
   "execution_count": null,
   "metadata": {},
   "outputs": [],
   "source": [
    "def chrono(f):\n",
    "    from time import time\n",
    "    def f_decoree(*arguments): # *arguments sert à récupérer les paramètres dans un tableau\n",
    "        t_avant = time()\n",
    "        y = f(*arguments) # lors de l'appel, on déballe le tableau en suivant la même écriture...\n",
    "        t_apres = time()\n",
    "        print(f\"{(t_apres - t_avant) * 1000} millisecondes.\")       \n",
    "        return y\n",
    "    \n",
    "    return f_decoree"
   ]
  },
  {
   "cell_type": "code",
   "execution_count": null,
   "metadata": {},
   "outputs": [],
   "source": [
    "@chrono\n",
    "def ma_somme(iterable):\n",
    "    acc = 0\n",
    "    for x in iterable:\n",
    "        acc += x\n",
    "    return acc\n",
    "\n",
    "somme_pyth = chrono(sum)\n",
    "\n",
    "from operator import add\n",
    "from functools import partial\n",
    "\n",
    "somme_red = chrono(partial(reduce, add))\n",
    "\n",
    "\n",
    "# test:\n",
    "truc = [randint(1,100_000) for i in range(10_000)]\n",
    "\n",
    "ma_somme(truc)\n",
    "somme_pyth(truc)\n",
    "somme_red(truc)"
   ]
  }
 ],
 "metadata": {
  "kernelspec": {
   "display_name": "Python 3",
   "language": "python",
   "name": "python3"
  },
  "language_info": {
   "codemirror_mode": {
    "name": "ipython",
    "version": 3
   },
   "file_extension": ".py",
   "mimetype": "text/x-python",
   "name": "python",
   "nbconvert_exporter": "python",
   "pygments_lexer": "ipython3",
   "version": "3.7.3"
  },
  "toc-autonumbering": true
 },
 "nbformat": 4,
 "nbformat_minor": 4
}
