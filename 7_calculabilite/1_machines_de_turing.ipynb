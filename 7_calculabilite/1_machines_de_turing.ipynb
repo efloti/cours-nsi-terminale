{
 "cells": [
  {
   "cell_type": "markdown",
   "metadata": {},
   "source": [
    "# Découverte des machines de Turing"
   ]
  },
  {
   "cell_type": "markdown",
   "metadata": {},
   "source": [
    "Exécuter la cellule suivante, c'est utile si vous reprenez le notebook à un point donné; utiliser `from turing import *` pour repartir rapidement."
   ]
  },
  {
   "cell_type": "code",
   "execution_count": null,
   "metadata": {},
   "outputs": [],
   "source": [
    "import sys, os\n",
    "if not sys.path[0].endswith(\"code\"): # pour éviter de re-modifier sys.path\n",
    "    sys.path.insert(0, os.path.join(sys.path[0], \"code\"))"
   ]
  },
  {
   "cell_type": "markdown",
   "metadata": {},
   "source": [
    "## Alan Turing (1912-1954)"
   ]
  },
  {
   "cell_type": "markdown",
   "metadata": {},
   "source": [
    "<p style=\"text-align: center;\"><a href=\"https://fr.wikipedia.org/wiki/Alan_Turing\" ><img src=\"https://upload.wikimedia.org/wikipedia/commons/thumb/a/a1/Alan_Turing_Aged_16.jpg/330px-Alan_Turing_Aged_16.jpg\"/ width=\"100px\"></a></p>"
   ]
  },
  {
   "cell_type": "markdown",
   "metadata": {},
   "source": [
    "Une petite vidéo (5 min.) pour les présentations https://youtu.be/zHTBHiOy6eY"
   ]
  },
  {
   "cell_type": "markdown",
   "metadata": {},
   "source": [
    "## Les machines de Turing"
   ]
  },
  {
   "cell_type": "markdown",
   "metadata": {},
   "source": [
    "Elles sont avant tout une *expérience de pensée* et ont été inventées avant la construction des premiers ordinateurs (au sens moderne du mot) dans le but d'explorer la notion de **calculabilité**."
   ]
  },
  {
   "cell_type": "markdown",
   "metadata": {},
   "source": [
    "Ces machines «automatiques» disposent:\n",
    "- d'un «**ruban**» \\[ *tape* \\] infini (des deux côtés) divisé en «cases» \\[ *cell* \\]. Il représente une sorte de mémoire accessible en lecture et en écriture. Chaque case peut recevoir un **symbole** et un seul.\n",
    "- d'une «**tête de lecture/écriture**» qui, à chaque instant, pointe l'une des cases du ruban. Celle-ci peut se déplacer le long du ruban d'une case vers la gauche ou vers la droite à chaque étape.\n",
    "- et d'une sorte d'«**unité de contrôle**» qui regroupe un ensemble de **règles** *de transition* \\[ *transition rules* \\]."
   ]
  },
  {
   "attachments": {
    "d34a88f4-4483-4b31-a42e-6317d306e39c.png": {
     "image/png": "[encoded data removed]"
    }
   },
   "cell_type": "markdown",
   "metadata": {},
   "source": [
    "![turing_0.png](attachment:d34a88f4-4483-4b31-a42e-6317d306e39c.png)"
   ]
  },
  {
   "cell_type": "markdown",
   "metadata": {},
   "source": [
    "On utilise un symbole spécial appelé «blanc» (ici représenté par un point gras $\\bullet$) qui sert de symbole de remplissage d'une case *par défaut*."
   ]
  },
  {
   "cell_type": "markdown",
   "metadata": {},
   "source": [
    "À chaque instant, la machine est dans un certain «**état**» et pointe l'une des cases du ruban. Un état n'a pas de «structure interne», la seule chose dont on a besoin est de pouvoir dire si deux états sont identiques ou non... Nous les dénoterons par une lettre majuscule latine. Parmi les états possibles de la machine, on distingue un **état initial** et un **état final**."
   ]
  },
  {
   "cell_type": "markdown",
   "metadata": {},
   "source": [
    "Une *règle de transition* est de la forme:"
   ]
  },
  {
   "cell_type": "markdown",
   "metadata": {},
   "source": [
    "> Si la machine est dans l'**état** \\[ *state* \\] courant $A$ et si le **symbole** courant (sous la tête de lecture) est $a$ alors:\n",
    "> - *Écrire* un nouveau **symbole** $b$ (peut-être le même que celui qu'on vient de lire),\n",
    "> - *Mouvement $\\Delta$*: rester sur place ($\\downarrow$) ou déplacer la tête de lecture d'une case vers la *gauche* ($\\leftarrow$) ou d'une case *vers la droite* ($\\rightarrow$).\n",
    "> - *transition*: passer dans l'état $B$ (peut-être le même que précédemment).\n",
    "\n",
    "On peut abréger une *règle de transition* par: \n",
    "\n",
    "$$\\underbrace{A}_{\\text{état}}, \\underbrace{a}_{\\text{symbole}\\\\\\text{lu}}\\implies \\underbrace{b}_{\\text{symbole}\\\\\\text{écrit}}, \\underbrace{\\Delta}_{\\text{mouvement}\\in\\{\\leftarrow ,\\rightarrow, \\downarrow\\}}, \\underbrace{B}_{\\text{état}}$$"
   ]
  },
  {
   "cell_type": "markdown",
   "metadata": {},
   "source": [
    "La machine étant «déterministe», il doit exister une règle de transition pour chaque couple (état, symbole) possible (hormis l'état final)."
   ]
  },
  {
   "cell_type": "markdown",
   "metadata": {},
   "source": [
    "*Exemple*: Notre première machine de Turing possède deux états `D` (état initial) et `F` (état final) et l'alphabet (auquel on se limitera souvent)  $\\{0, 1\\}$. Sa «table de transitions» abrégée est:\n",
    "\n",
    "      |   0   |   1   |   ∙   \n",
    "    --------------------------\n",
    "    D | 0,→,D | 1,→,D | ∙,←,F"
   ]
  },
  {
   "cell_type": "markdown",
   "metadata": {},
   "source": [
    "Le couple (état, symbole lu) correspond à la donnée d'une ligne et d'une colonne; la case correspondante donne le triplet: symbole écrit, déplacement de la tête de lecture, nouvel état.\n",
    "\n",
    "Ainsi, on apprend que **si** la machine lit `1` dans l'état `D` **alors** elle écrit `1`, déplace sa tête de lecture d'une case vers la droite et entre (reste) dans l'état `D`."
   ]
  },
  {
   "cell_type": "markdown",
   "metadata": {},
   "source": [
    "On peut aussi représenté la machine à l'aide d'un diagramme «état-transition» comme celui-ci:"
   ]
  },
  {
   "attachments": {
    "797dafbe-c903-4523-836f-65c790066964.png": {
     "image/png": "[encoded data removed]"
    }
   },
   "cell_type": "markdown",
   "metadata": {},
   "source": [
    "![turing_exemple_simple.png](attachment:797dafbe-c903-4523-836f-65c790066964.png)"
   ]
  },
  {
   "cell_type": "markdown",
   "metadata": {},
   "source": [
    "L'état initial A est indiqué par une flèche sans point de départ; l'état final F n'a pas de transition de sortie. Sur les transitions 0D veut dire «j'ai lu 0 sans le modifier et je me suis déplacé à Droite»; G «j'ai lu un blanc sans le modifier et je me suis déplacé à Gauche». L'état suivant est pointé par la flèche de transition."
   ]
  },
  {
   "cell_type": "markdown",
   "metadata": {},
   "source": [
    "Si l'entrée de la machine contient le mot 110 et qu'initialement la tête de lecture est sur le 1 le plus à gauche, l'exécution de la machine aboutit à la suite de **configurations**:\n",
    "\n",
    "       ∙ | 1 | 1 | 0 | ∙  =>  ∙ | 1 | 1 | 0 | ∙  =>  ∙  | 1 | 1 | 0 | ∙   =>\n",
    "           ↑                          ↑                           ↑   \n",
    "           D                          D                           D\n",
    "       ∙ | 1 | 1 | 0 | ∙  =>  ∙ | 1 | 1 | 0 | ∙\n",
    "                       ↑                  ↑                                   \n",
    "                       D                  F  \n",
    "Il n'est pas difficile de se convaincre que cette machine finira toujours par «pointer» le bit de poids faible du mot binaire qu'elle pointe initialement."
   ]
  },
  {
   "cell_type": "markdown",
   "metadata": {},
   "source": [
    "#### Exercice 1"
   ]
  },
  {
   "cell_type": "markdown",
   "metadata": {},
   "source": [
    "Voici la table de transition d'une autre machine de Turing:\n",
    "\n",
    "      |   0   |   1   |   ∙   \n",
    "    --------------------------\n",
    "    D | 1,→,D | 0,→,D | ∙,←,R\n",
    "    R | 0,←,R | 1,←,R | ∙,→,F"
   ]
  },
  {
   "cell_type": "markdown",
   "metadata": {},
   "source": [
    "1. Si la machine est exécutée avec l'entrée `1011` en pointant initialement sur le bit de poids fort, quelle est sa sortie? On pourra tracer la suite de ces configurations comme dans l'exemple précédent.\n",
    "   Au final, que fait-elle?"
   ]
  },
  {
   "attachments": {
    "de9c93de-078e-4d38-a47e-9c29c2a93546.png": {
     "image/png": "[encoded data removed]"
    }
   },
   "cell_type": "markdown",
   "metadata": {
    "jupyter": {
     "source_hidden": true
    }
   },
   "source": [
    "![turing_exo1_1.png](attachment:de9c93de-078e-4d38-a47e-9c29c2a93546.png)\n",
    "\n",
    "       ∙ | 1 | 0 | 1 | 1 | ∙  =>  ∙ | 0 | 0 | 1 | 1 | ∙  =>  ∙ | 0 | 1 | 1 | 1 | ∙   => ...\n",
    "           ↑                              ↑                              ↑\n",
    "           D                              D                               D\n",
    "       ∙ | 0 | 1 | 0 | 0 | ∙  =>  ∙ | 0 | 1 | 0 | 0 | ∙  =>  ∙ | 0 | 1 | 0 | 0 | ∙   => ...\n",
    "                           ↑                      ↑                      ↑    \n",
    "                           D                      R                      R\n",
    "       ∙ | 0 | 1 | 0 | 0 | ∙  =>  ∙ | 0 | 1 | 0 | 0 | ∙\n",
    "       ↑                              ↑                                         \n",
    "       R                              F                \n",
    "       \n",
    "La sortie est `0100`. Au final, cette machine produit assez clairement l'*inversion bit à bit* du mot fourni en entrée et «rembobine»."
   ]
  },
  {
   "cell_type": "markdown",
   "metadata": {},
   "source": [
    "2. Modifier cette machine de telle sorte qu'elle face le même calcul quelle que soit la position initial de la tête de lecture sur l'un des bits du mot saisie en entrée; elle doit finalement pointer sur le bit de poids fort."
   ]
  },
  {
   "cell_type": "markdown",
   "metadata": {
    "jupyter": {
     "source_hidden": true
    }
   },
   "source": [
    "L'idée est de chercher le bit de poids faible puis d'effectuer l'inversion au retour...\n",
    "\n",
    "      |   0   |   1   |   ∙   \n",
    "    --------------------------\n",
    "    D | 0,→,D | 1,→,D | ∙,←,R\n",
    "    R | 1,←,R | 0,←,R | ∙,→,F"
   ]
  },
  {
   "cell_type": "markdown",
   "metadata": {},
   "source": [
    "#### Exercice 2"
   ]
  },
  {
   "cell_type": "markdown",
   "metadata": {},
   "source": [
    "1. Que fait la machine de Turing donnée par la table de transition suivante:\n",
    "\n",
    "          |   0   |   1   |   ∙   \n",
    "        --------------------------\n",
    "        A | 0,→,A | 1,→,A | ∙,←,B\n",
    "        B | 1,↓,F | 1,←,B | ∙,↓,F\n",
    "   "
   ]
  },
  {
   "attachments": {
    "73be8df6-5ffe-4e1a-9eec-145cdf8f8833.png": {
     "image/png": "[encoded data removed]"
    }
   },
   "cell_type": "markdown",
   "metadata": {
    "jupyter": {
     "source_hidden": true
    }
   },
   "source": [
    "![turing_exo2_1.png](attachment:73be8df6-5ffe-4e1a-9eec-145cdf8f8833.png)"
   ]
  },
  {
   "cell_type": "markdown",
   "metadata": {},
   "source": [
    "2. Améliorer là de façon qu'elle pointe sur le bit de poid fort à la fin de l'exécution."
   ]
  },
  {
   "attachments": {
    "f0476cc9-cc0d-4d47-a2b2-1efbc4b944ad.png": {
     "image/png": "[encoded data removed]"
    }
   },
   "cell_type": "markdown",
   "metadata": {
    "jupyter": {
     "source_hidden": true
    }
   },
   "source": [
    "![turing_exo2_2.png](attachment:f0476cc9-cc0d-4d47-a2b2-1efbc4b944ad.png)"
   ]
  },
  {
   "cell_type": "markdown",
   "metadata": {},
   "source": [
    "## Modélisation du «ruban» - `TabBiDir`"
   ]
  },
  {
   "cell_type": "markdown",
   "metadata": {},
   "source": [
    "Afin de modéliser le ruban d'une machine de Turing, on va définir une class `TabBiDir` pour des tableaux bidirectionnels dont une partie des éléments ont des indices positifs et une partie des éléments des indices négatifs, et qui sont extensibles aussi bien par la gauche que par la droite. \n",
    "\n",
    "Plus précisément, les indices d'un tel tableau bidirectionnel vont aller d'un indice $i_{min}$ à un indice $i_{max}$, tous deux *inclus*, et tels que $i_{min}\\leqslant 0$ et $-1\\leqslant i_{max}$. Le tableau directionnel vide correspond au cas où $i_{min}$ vaut $0$ et $i_{max}$ vaut $-1$."
   ]
  },
  {
   "cell_type": "markdown",
   "metadata": {},
   "source": [
    "La classe `TabBiDir` a pour attributs deux tableaux Python:\n",
    "- un tableau `droite` contenant les éléments d'*indices positifs ou nul*, et et \n",
    "- un tableau `gauche` contenant les éléments d'*indices strictement négatifs*.\n",
    "    - Ainsi `gauche[0]` contiendra l'élément d'indice `-1` du tableau bidirectionnel, `gauche[1]` celui d'indice `-2` et ainsi de suite."
   ]
  },
  {
   "cell_type": "markdown",
   "metadata": {},
   "source": [
    "Voici un exemple d'utilisation:"
   ]
  },
  {
   "cell_type": "markdown",
   "metadata": {},
   "source": [
    "```python\n",
    "t = TabBiDir([1,2,3], [7, 8])\n",
    "print(t) # [1, 2, 3, 7, 8]\n",
    "t.prepend(12)\n",
    "t.append(0)\n",
    "print(t) # [12, 1, 2, 3, 7, 8, 0]\n",
    "assert t[t.imin()] == 12\n",
    "assert t[t.imax()] == 0\n",
    "```"
   ]
  },
  {
   "cell_type": "markdown",
   "metadata": {},
   "source": [
    "1. Écrire un constructeur `__init__(self, g, d)` construisant un *tableau bidirectionnel* contenant, dans l'ordre, les éléments des tableaux `g` et `d`. Le dernier élément de `g` (si `g` n'est pas vide), devra être calé sur l'indice $-1$ du tableau bidirectionnel, et le premier élément de `d` (si `d` n'est pas vide) sur l'indice `0`. \n",
    "   \n",
    "   Écrire également des méthodes `imin(self)` et `imax(self)` renvoyant respectivement l'indice minimum et l'indice maximum."
   ]
  },
  {
   "cell_type": "code",
   "execution_count": null,
   "metadata": {
    "jupyter": {
     "source_hidden": true
    }
   },
   "outputs": [],
   "source": [
    "class TabBiDir:\n",
    "    \n",
    "    def __init__(self, g=None, d=None):\n",
    "        self.g = [] if g is None else [g[len(g)-i-1] for i in range(len(g))] # ou g[::-1]...\n",
    "        self.d = [] if d is None else d\n",
    "    \n",
    "    def imin(self):\n",
    "        return -len(self.g)\n",
    "    \n",
    "    def imax(self):\n",
    "        return len(self.d) - 1"
   ]
  },
  {
   "cell_type": "markdown",
   "metadata": {},
   "source": [
    "2. Ajouter une méthode `append(self, v)` qui comme son homonyme des tableaux Python ajoute l'élément `v` à droite du tableau bidirectionnel `self`, et une méthode `prepend(self, v)` ajoutant cette fois l'élément `v` à gauche du tableau bidirectionnel `self`. Utiliser `append` sur un tableau bidirectionnel vide place l'élément à l'indice `0`. Utiliser `prepend` sur un tableau bidirectionnel vide place l'élément à l'indice `-1`."
   ]
  },
  {
   "cell_type": "code",
   "execution_count": null,
   "metadata": {
    "jupyter": {
     "source_hidden": true
    }
   },
   "outputs": [],
   "source": [
    "def append(self, v):\n",
    "    self.d.append(v)\n",
    "\n",
    "def prepend(self, v):\n",
    "    self.g.append(v)\n",
    "\n",
    "TabBiDir.append = append\n",
    "TabBiDir.prepend = prepend\n",
    "del append\n",
    "del prepend"
   ]
  },
  {
   "cell_type": "markdown",
   "metadata": {},
   "source": [
    "3. Ajouter une méthode `__getitem__(self, i)` qui renvoie l'élément du *tableau bidirectionnel* `self` à l'indice `i`, et une méthode `__setitem__(self, i, v)` qui modifie l'élément du tableau `self` d'indice `i` pour lui donner la valeur `v`."
   ]
  },
  {
   "cell_type": "code",
   "execution_count": null,
   "metadata": {
    "jupyter": {
     "source_hidden": true
    }
   },
   "outputs": [],
   "source": [
    "def getitem(self, i):\n",
    "    if i >= 0:\n",
    "        return self.d[i]\n",
    "    else:\n",
    "        return self.g[-i-1]\n",
    "\n",
    "def setitem(self, i, v):\n",
    "    if i >= 0:\n",
    "        self.d[i] = v\n",
    "    else:\n",
    "        self.g[-i-1] = v\n",
    "\n",
    "TabBiDir.__getitem__ = getitem\n",
    "TabBiDir.__setitem__ = setitem\n",
    "del getitem\n",
    "del setitem"
   ]
  },
  {
   "cell_type": "markdown",
   "metadata": {},
   "source": [
    "4. Ajouter une méthode `__str__(self)` qui renvoie une chaîne de caractères décrivant le contenu du tableau."
   ]
  },
  {
   "cell_type": "code",
   "execution_count": null,
   "metadata": {
    "jupyter": {
     "source_hidden": true
    }
   },
   "outputs": [],
   "source": [
    "def __str__(self):\n",
    "    if len(self.g) == 0 and len(self.d) == 0:\n",
    "        return \"[]\"\n",
    "    deb = str(list(reversed(self.g)))\n",
    "    fin = str(self.d)\n",
    "    if len(self.g) == 0:\n",
    "        return fin\n",
    "    elif len(self.d) == 0:\n",
    "        return deb\n",
    "    else:\n",
    "        return deb[:-1] + \", \" + fin[1:]\n",
    "    \n",
    "TabBiDir.__str__ = __str__\n",
    "del __str__"
   ]
  },
  {
   "cell_type": "markdown",
   "metadata": {},
   "source": [
    "## Simulation d'une machine de Turing"
   ]
  },
  {
   "cell_type": "markdown",
   "metadata": {},
   "source": [
    "On se propose d'écrire un programme simulant l'exécution d'une machine de Turing. Fixons tout d'abord certains choix de représentation:\n",
    "\n",
    "- Un **état** de la machine est identifié par une chaîne de caractères.\n",
    "\n",
    "- Le **symbole** écrit dans une case du ruban est aussi représenté par une chaîne de caractères.\n",
    "\n",
    "- L'ensemble des **règles de transition** de la machine est matérialisé par un **dictionnaire** *dont les clés sont les états*. \n",
    "  Consulter ce dictionnaire pour un état donné fournit l'ensemble des règles applicables à partir de cet état, à nouveau sous la forme d'un dictionnaire, dont les clés sont les symboles manipulés par la machine et les valeurs sont les actions associées.\n",
    "\n",
    "- Les **actions** à effectuer à la lecture d'un symbole donné dans un état donné sont représentées par un triplet $(e,d,s)$ où:\n",
    "    - $e$ est le symbole à écrire (une chaîne de caractères),\n",
    "    - $d$ est le déplacement éventuel: $-1$ pour aller à gauche, $0$ pour ne pas bouger, $1$ pour aller à droite;\n",
    "    - $s$ est l'état suivant (une chaîne de caractères).\n",
    "\n"
   ]
  },
  {
   "cell_type": "markdown",
   "metadata": {},
   "source": [
    "Une machine de Turing est donnée par un *état de départ*, un *état final* et un *dictionnaire de règles de transition*.\n",
    "\n",
    "Lors de l'exécution de la machine, on fait évoluer une *configuration* formée d'un ruban mémoire, d'une identification de la position et de l'état courant de la machine. Pour représenter le ruban, on utilise un tableau bidirectionnel tel que décrit dans l'exercice précédent.\n",
    "\n",
    "Ce tableau ne pouvant pas être infini il ne contiendra que les cases effectivement utilisées, toutes les positions au-delà de ce qui est représenté dans le tableau étant réputées contenir le symbole «blanc» $\\bullet$. Pour cela, le ruban est initialisé au début de l'exécution avec l'ensemble des cases représentant l'entrée, puis il est étendu à gauche ou à droite à chaque fois que la machine se déplace en dehors des limites courantes.\n",
    "\n",
    "Écrire une fonction ou une méthode prenant en paramètres la description d'une machine de Turing $M$ et une entrée $e$ pour cette machine, et simulant l'exécution de la machine $M$ sur l'entrée $e$. Il est possible d'utiliser une ou plusieurs classes pour structurer les données manipulées et le code. Tester ce simulateur avec la machine d'incrément de 1 donnée en exercice; cela pourrait ressembler à:"
   ]
  },
  {
   "cell_type": "markdown",
   "metadata": {},
   "source": [
    "\n",
    "```python\n",
    "B = TuringMachine.BLANC # alias\n",
    "prog_incr_1 = {\n",
    "    'A': {\n",
    "        \"0\": (\"0\",  1, \"A\"),\n",
    "        \"1\": (\"1\",  1, \"A\"),\n",
    "        B  : (B  , -1, \"B\")\n",
    "    },\n",
    "    'B': {\n",
    "        \"0\": (\"1\",  0, \"F\"),\n",
    "        \"1\": (\"0\", -1, \"B\"),\n",
    "        B  : (\"1\",  0, \"F\")\n",
    "    },\n",
    "}\n",
    "\n",
    "# Par exemple!\n",
    "TuringMachine('A', 'F', prog_test).executer_sur(\"10011\")\n",
    "```"
   ]
  },
  {
   "cell_type": "code",
   "execution_count": null,
   "metadata": {
    "jupyter": {
     "source_hidden": true
    }
   },
   "outputs": [],
   "source": [
    "class TuringMachine:\n",
    "    BLANC = '.' # le blanc de la machine\n",
    "    def __init__(self, etat_initial, etat_final, regles):\n",
    "        self.etat = etat_initial\n",
    "        self.etat_final = etat_final\n",
    "        self.regles = regles\n",
    "        r = TabBiDir()\n",
    "        r.prepend(self.BLANC)\n",
    "        self.ruban = r\n",
    "        self.i = 0 # position sur le ruban\n",
    "    \n",
    "    def est_arreter(self):\n",
    "        return self.etat == self.etat_final\n",
    "    \n",
    "    def charger(self, entree, pos=0):\n",
    "        \"\"\"charge l'entrée fournie (chaîne de caractères) et la\n",
    "        place sur le ruban à la position donnée.\"\"\"\n",
    "        N = len(entree)\n",
    "        if pos == 0:\n",
    "            for c in entree:\n",
    "                self.ruban.append(c)\n",
    "            self.ruban.append(self.BLANC)\n",
    "        elif pos < 0:\n",
    "            for _ in range(-pos):\n",
    "                self.ruban.prepend(self.BLANC)\n",
    "            if N + pos >= 0:\n",
    "                for _ in range(N+pos):\n",
    "                    self.ruban.append(self.BLANC)\n",
    "            else:\n",
    "                self.ruban.append(self.BLANC)\n",
    "            for i in range(N):\n",
    "                self.ruban[pos+i] = entree[i]\n",
    "        else:\n",
    "            for _ in range(pos+N+1):\n",
    "                self.ruban.append(self.BLANC)\n",
    "            for i in range(pos, pos+N):\n",
    "                self.ruban[i] = entree[i-pos]\n",
    "\n",
    "    def suivant(self):\n",
    "        # lecture\n",
    "        sym = self.ruban[self.i]\n",
    "        # Récupérer le triplet correspondant\n",
    "        sym, depl, etat = self.regles[self.etat][sym]\n",
    "        # écriture\n",
    "        self.ruban[self.i] = sym\n",
    "        # si on est en bout de ruban, se donner de la marge\n",
    "        if sym is not self.BLANC and self.i == self.ruban.imax():\n",
    "            self.ruban.append(self.B)\n",
    "        if sym is not self.BLANC and self.i == self.ruban.imin():\n",
    "            self.ruban.prepend(self.BLANC)\n",
    "        # se déplacer et mettre à jour\n",
    "        self.i += depl\n",
    "        self.etat = etat\n",
    "    \n",
    "    def __str__(self):\n",
    "        \"\"\"Affiche la configuration courante de la machine.\"\"\"\n",
    "        # plaçons une marque sur le ruban\n",
    "        sauv = self.ruban[self.i]\n",
    "        self.ruban[self.i] = \"secret\"\n",
    "        # un peu de ménage...\n",
    "        ruban_str = str(self.ruban)[1:-1].replace(\"'\", \"\").replace('\"', \"\").replace(\", \", \" | \")\n",
    "        # où est la marque?\n",
    "        pos = ruban_str.find(\"secret\")\n",
    "        # créons une chaîne qui figure la position courante et l'état\n",
    "        i_etat_str = \" \" * pos + \"🠁\\n\" + \" \" * pos + self.etat\n",
    "        # restaurer\n",
    "        ruban_str = ruban_str.replace(\"secret\", sauv) + \"\\n\" + i_etat_str\n",
    "        self.ruban[self.i] = sauv\n",
    "        return ruban_str\n",
    "    \n",
    "    def executer_sur(self, entree, pos=0, verbeux=True):\n",
    "        self.charger(entree, pos=pos)\n",
    "        while not self.est_arreter():\n",
    "            if verbeux:\n",
    "                print(self)\n",
    "            self.suivant()\n",
    "        print(\"L'état du ruban est:\")\n",
    "        print(self)\n",
    "        \n",
    "\n",
    "B = TuringMachine.BLANC # alias"
   ]
  },
  {
   "cell_type": "markdown",
   "metadata": {},
   "source": [
    "#### Exercice 3 - mais que fait cette machine?"
   ]
  },
  {
   "cell_type": "markdown",
   "metadata": {},
   "source": [
    "Voici un ensemble de règles de transition pour une machine de Turing. Son état initial est `P` et son état final `F`.\n",
    "\n",
    "           |   0    |   1    |   ∙   \n",
    "        ------------------------------\n",
    "        P  | ∙,→,D0 | ∙,→,D1 | 1,↓,F\n",
    "        D0 | 0,→,D0 | 1,→,D0 | ∙,←,V0\n",
    "        D1 | 0,→,D1 | 1,→,D1 | ∙,←,V1\n",
    "        V0 | ∙,←,R  | ∙,←,E  | 1,↓,F\n",
    "        V1 | ∙,←,E  | ∙,←,R  | 1,↓,F\n",
    "        R  | 0,←,R  | 1,←,R  | ∙,→,P\n",
    "        E  | ∙,←,E  | ∙,←,E  | 0,↓,F"
   ]
  },
  {
   "cell_type": "markdown",
   "metadata": {},
   "source": [
    "Avec quel alphabet travaille cette machine? Quels sont les états de la machine? L'exécuter à la main sur l'entrée `1001`, puis sur l'entrée `1110` en considérant à chaque fois qu'en dehors de cette entrée, le ruban est intégralement rempli avec le symbole blanc $\\bullet$. Comment se comporte-t-elle dans chacun des états? Que fait cette machine? *Il ne faut pas hésiter à tester la machine sur d'autres entrées, y compris en utilisant le simulateur de l'exercice précédent*."
   ]
  },
  {
   "cell_type": "markdown",
   "metadata": {},
   "source": [
    "Diagramme états-transitions"
   ]
  },
  {
   "attachments": {
    "e3b89b75-ea49-43e0-b9af-908763fc0729.png": {
     "image/png": "[encoded data removed]"
    }
   },
   "cell_type": "markdown",
   "metadata": {
    "jupyter": {
     "source_hidden": true
    }
   },
   "source": [
    "![turing_exo3.png](attachment:e3b89b75-ea49-43e0-b9af-908763fc0729.png)"
   ]
  },
  {
   "cell_type": "markdown",
   "metadata": {},
   "source": [
    "Solution pour `1001`"
   ]
  },
  {
   "cell_type": "markdown",
   "metadata": {
    "jupyter": {
     "source_hidden": true
    }
   },
   "source": [
    "L'alphabet de la machine est l'ensemble {0, 1} (le «blanc» est un symbole spécial), l'ensemble de ses états est {P, D0, D1, V0, V1, R, E, F}. \n",
    "\n",
    "Suite des configurations pour `1001`:\n",
    "\n",
    "       ∙ | 1 | 0 | 0 | 1 | ∙  =>  ∙ | ∙ | 0 | 0 | 1 | ∙  =>  ∙ | ∙ | 0 | 0 | 1 | ∙   => ...\n",
    "           ↑                              ↑                              ↑\n",
    "           P                              D1                             D1\n",
    "       ∙ | ∙ | 0 | 0 | 1 | ∙  =>  ∙ | ∙ | 0 | 0 | 1 | ∙  =>  ∙ | ∙ | 0 | 0 | ∙ | ∙   =>\n",
    "                           ↑                      ↑                      ↑    \n",
    "                           D1                     V1                     R\n",
    "       ∙ | ∙ | 0 | 0 | ∙ | ∙  =>  ∙ | ∙ | 0 | 0 | ∙ | ∙  =>  ∙ | ∙ | 0 | 0 | ∙ | ∙   =>\n",
    "               ↑                      ↑                              ↑           \n",
    "               R                      R                              P\n",
    "       ∙ | ∙ | ∙ | 0 | ∙ | ∙  =>  ∙ | ∙ | ∙ | 0 | ∙ | ∙  =>  ∙ | ∙ | ∙ | 0 | ∙ | ∙   =>\n",
    "                   ↑                              ↑                      ↑         \n",
    "                   D0                             D0                     V0\n",
    "       ∙ | ∙ | ∙ | ∙ | ∙ | ∙  =>  ∙ | ∙ | ∙ | ∙ | ∙ | ∙  =>  ∙ | ∙ | ∙ | 1 | ∙ | ∙\n",
    "               ↑                              ↑                          ↑         \n",
    "               R                              P                          F \n",
    "\n",
    "Finalement pour l'entrée `1001` sa sortie est `1`."
   ]
  },
  {
   "cell_type": "markdown",
   "metadata": {},
   "source": [
    "Solution pour `1110`"
   ]
  },
  {
   "cell_type": "markdown",
   "metadata": {
    "jupyter": {
     "source_hidden": true
    }
   },
   "source": [
    "Voici une **autre façon de représenter** la suite de configurations (=ruban+position+état) de la machine; lorsqu'un état est composé *de plus d'un caractère*, il est parenthésé pour éviter toute confusion. Pour l'entrée `1110` cela donne:\n",
    "\n",
    "        P1110, ∙(D1)110, ∙1(D1)10, ∙11(D1)0, ∙110(D1), ∙11(V1)0, ∙1E1∙, ∙E1∙∙, E∙∙∙∙, F0∙∙∙ \n",
    "\n",
    "Finalement pour l'entrée `1110` sa sortie est `0`."
   ]
  },
  {
   "cell_type": "markdown",
   "metadata": {},
   "source": [
    "Expérimentation avec le simulateur:"
   ]
  },
  {
   "cell_type": "code",
   "execution_count": null,
   "metadata": {
    "jupyter": {
     "source_hidden": true
    }
   },
   "outputs": [],
   "source": [
    "from turing import *\n",
    "prog_exo = {\n",
    "    'P':{\n",
    "        '0': (B, 1, 'D0'),\n",
    "        '1': (B, 1, 'D1'),\n",
    "         B : ('1', 0, 'F'),\n",
    "    },\n",
    "    'D0':{\n",
    "        '0': ('0', 1 , 'D0'),\n",
    "        '1': ('1', 1, 'D0'),\n",
    "         B : (B, -1, 'V0'),\n",
    "    },\n",
    "    'D1':{\n",
    "        '0': ('0', 1 , 'D1'),\n",
    "        '1': ('1', 1, 'D1'),\n",
    "         B : (B, -1, 'V1'),\n",
    "    },\n",
    "    'V0':{\n",
    "        '0': (B, -1 , 'R'),\n",
    "        '1': (B, -1, 'E'),\n",
    "         B : ('1', 0, 'F'),\n",
    "    },\n",
    "    'V1':{\n",
    "        '0': (B, -1 , 'E'),\n",
    "        '1': (B, -1, 'R'),\n",
    "         B : ('1', 0, 'F'),\n",
    "    },\n",
    "    'R':{\n",
    "        '0': ('0', -1 , 'R'),\n",
    "        '1': ('1', -1, 'R'),\n",
    "         B : (B, 1, 'P'),\n",
    "    },\n",
    "    'E':{\n",
    "        '0': (B, -1 , 'E'),\n",
    "        '1': (B, -1, 'E'),\n",
    "         B : ('0', 0, 'F'),\n",
    "    },\n",
    "}\n",
    "\n",
    "TuringMachine('P', 'F', prog_exo).executer_sur(\"10011\")"
   ]
  },
  {
   "cell_type": "markdown",
   "metadata": {},
   "source": [
    "Conclusion:"
   ]
  },
  {
   "cell_type": "markdown",
   "metadata": {
    "jupyter": {
     "source_hidden": true
    }
   },
   "source": [
    "Cette machine de Turing «décide» si l'entrée est un **palindrome** (auquel cas elle renvoie 1) ou non (elle renvoie 0).\n",
    "\n",
    "Un palindrome est une suite de symboles qu'on peut lire indifféremment de gauche à droite ou de droite à gauche. Par exemple `radar`, `kayak`, `bob`, `ressasser` etc."
   ]
  },
  {
   "cell_type": "markdown",
   "metadata": {},
   "source": [
    "#### Exercice 4 - shift"
   ]
  },
  {
   "cell_type": "markdown",
   "metadata": {},
   "source": [
    "Définir une machine de Turing qui décale son entrée d'une case vers la droite. On supposera que l'entrée est composée des symboles 0 et 1 et bordée de symboles blancs $\\bullet$. On supposera également que la position de départ de la machine est à l'extrémité gauche de l'entrée."
   ]
  },
  {
   "cell_type": "markdown",
   "metadata": {},
   "source": [
    "Correction sous forme de diagramme «état-transition»"
   ]
  },
  {
   "attachments": {
    "1b7373ce-464d-434d-8968-fb16bdcd495c.png": {
     "image/png": "[encoded data removed]"
    }
   },
   "cell_type": "markdown",
   "metadata": {
    "jupyter": {
     "source_hidden": true
    }
   },
   "source": [
    "![turing_exo4.png](attachment:1b7373ce-464d-434d-8968-fb16bdcd495c.png)"
   ]
  },
  {
   "cell_type": "code",
   "execution_count": null,
   "metadata": {
    "jupyter": {
     "source_hidden": true
    }
   },
   "outputs": [],
   "source": [
    "# 1: Aller jusqu'au dernier symbole non blanc (rightmost)\n",
    "# 2: Mettre un blanc à la place puis se déplacer à droite\n",
    "# 3: Écrire le nombre lu à l'étape précédente et se déplacer à gauche\n",
    "# 4: se déplacer à nouveau à gauche\n",
    "# 5: reprendre à l'étape 2 si le symbole lue est non blanc autre arrêter\n",
    "from turing import *\n",
    "prog_decaler =  {\n",
    "    'D': {\n",
    "        '1': ('1', 1, 'D'),\n",
    "        '0': ('0', 1, 'D'),\n",
    "        B  : (B, -1, 'L'),\n",
    "    },\n",
    "    'L': {\n",
    "        '1': (B, 1, 'L1'),\n",
    "        '0': (B, 1, 'L0'),\n",
    "        B  : (B, 1, 'F'),\n",
    "    },\n",
    "    'L1': {\n",
    "        '1': ('1', -1, 'R'),\n",
    "        '0': ('1', -1, 'R'),\n",
    "        B  : ('1', -1, 'R'),\n",
    "    },\n",
    "    'L0': {\n",
    "        '1': ('0', -1, 'R'),\n",
    "        '0': ('0', -1, 'R'),\n",
    "        B  : ('0', -1, 'R'),\n",
    "    },\n",
    "    'R': {\n",
    "        '1': ('1', -1, 'R'),\n",
    "        '0': ('0', -1, 'R'),\n",
    "        B  : (B, -1, 'L'),\n",
    "    },\n",
    "}\n",
    "\n",
    "TuringMachine('D', 'F', prog_decaler).executer_sur(\"10011\")"
   ]
  },
  {
   "cell_type": "markdown",
   "metadata": {},
   "source": [
    "#### Exercice 5 - chercher un motif dans un mot"
   ]
  },
  {
   "cell_type": "markdown",
   "metadata": {},
   "source": [
    "1. Définir une machine de Turing qui, partant de l'extrémité gauche de son entrée, parcourt cette entrée à la recherche du symbole 0. Si le symbole est trouvé elle devra écrire 1 dans la case *précédent l'entrée*, et sinon elle devra y écrire 0. On supposera que l'entrée est composée des symboles 0 et 1 et bordée de symboles blancs $\\bullet$."
   ]
  },
  {
   "cell_type": "markdown",
   "metadata": {},
   "source": [
    "Correction sous forme de diagramme «état-transition»"
   ]
  },
  {
   "attachments": {
    "a145273c-ac29-4d87-afc9-4933c5d6e603.png": {
     "image/png": "[encoded data removed]"
    }
   },
   "cell_type": "markdown",
   "metadata": {
    "jupyter": {
     "source_hidden": true
    }
   },
   "source": [
    "![turing_exo5_1.png](attachment:a145273c-ac29-4d87-afc9-4933c5d6e603.png)"
   ]
  },
  {
   "cell_type": "code",
   "execution_count": null,
   "metadata": {
    "jupyter": {
     "source_hidden": true
    }
   },
   "outputs": [],
   "source": [
    "prog_contient_0 = {\n",
    "    'D': {\n",
    "        '0': ('0', -1, 'T'),\n",
    "        '1': ('1', 1, 'D'),\n",
    "        B  : (B, -1, 'E'),\n",
    "    },\n",
    "    'T': {\n",
    "        '0': ('0', -1, 'T'),\n",
    "        '1': ('1', -1, 'T'),\n",
    "        B  : ('1', 0, 'F'),\n",
    "    },\n",
    "    'E': {\n",
    "        '0': ('0', -1, 'E'),\n",
    "        '1': ('1', -1, 'E'),\n",
    "        B  : ('0', 0, 'F'),\n",
    "    },\n",
    "}\n",
    "\n",
    "TuringMachine('D', 'F', prog_contient_0).executer_sur(\"1111\") # essayer \"1110\" ou \"1101\""
   ]
  },
  {
   "cell_type": "markdown",
   "metadata": {},
   "source": [
    "2. Modifier la machine précédente pour détecter non pas les occurrences de 0 mais, les occurrences de plus de deux symboles 0 consécutifs."
   ]
  },
  {
   "cell_type": "markdown",
   "metadata": {},
   "source": [
    "Correction sous forme de diagramme «état-transition»"
   ]
  },
  {
   "attachments": {
    "4caa4a1f-75e5-4b42-9467-45a685466a1a.png": {
     "image/png": "[encoded data removed]"
    }
   },
   "cell_type": "markdown",
   "metadata": {
    "jupyter": {
     "source_hidden": true
    }
   },
   "source": [
    "![turing_exo5_2.png](attachment:4caa4a1f-75e5-4b42-9467-45a685466a1a.png)"
   ]
  },
  {
   "cell_type": "code",
   "execution_count": null,
   "metadata": {
    "jupyter": {
     "source_hidden": true
    },
    "scrolled": true
   },
   "outputs": [],
   "source": [
    "prog_contient_00_ou_plus = {\n",
    "    'D': {\n",
    "        '0': ('0', 1, 'P'),\n",
    "        '1': ('1', 1, 'D'),\n",
    "        B  : (B, -1, 'E'),\n",
    "    },\n",
    "    'P': {\n",
    "        '0': ('0', -1, 'T'),\n",
    "        '1': ('1', 1, 'D'),\n",
    "        B  : (B, -1, 'E'),\n",
    "    },\n",
    "    'T': {\n",
    "        '0': ('0', -1, 'T'),\n",
    "        '1': ('1', -1, 'T'),\n",
    "        B  : ('1', 0, 'F'),\n",
    "    },\n",
    "    'E': {\n",
    "        '0': ('0', -1, 'E'),\n",
    "        '1': ('1', -1, 'E'),\n",
    "        B  : ('0', 0, 'F'),\n",
    "    },\n",
    "}\n",
    "\n",
    "TuringMachine('D', 'F', prog_contient_00_ou_plus).executer_sur(\"1010\")"
   ]
  },
  {
   "cell_type": "markdown",
   "metadata": {},
   "source": [
    "#### Exercice 6 - chercher sans savoir de quel côté "
   ]
  },
  {
   "cell_type": "markdown",
   "metadata": {},
   "source": [
    "Supposons un ruban de machine de Turing dont une case contient le symbole 0, et tout le reste le symbole $\\bullet$. Supposons que la machine se trouve à une certaine position du ruban, dont on ne sait pas si elle est à gauche ou à droite du symbole 0. Donner un ensemble de règles permettant, à coup sûr, d'arriver en temps fini à la position contenant un 0.\n",
    "\n",
    "On pourra utiliser un symbole au choix, par exemple l'astérisque `*`, pour laisser une marque sur une case. Un objectif facultatif consiste à nettoyer le ruban de toutes les marques `*` utilisées avant de s'arrêter."
   ]
  },
  {
   "cell_type": "markdown",
   "metadata": {},
   "source": [
    "Correction sous forme de diagramme «état-transition»"
   ]
  },
  {
   "attachments": {
    "77b05a1e-d303-4add-bf43-21fe3775a23e.png": {
     "image/png": "[encoded data removed]"
    }
   },
   "cell_type": "markdown",
   "metadata": {
    "jupyter": {
     "source_hidden": true
    }
   },
   "source": [
    "![turing_exo6.png](attachment:77b05a1e-d303-4add-bf43-21fe3775a23e.png)"
   ]
  },
  {
   "cell_type": "code",
   "execution_count": null,
   "metadata": {
    "jupyter": {
     "source_hidden": true
    },
    "scrolled": true
   },
   "outputs": [],
   "source": [
    "prog_trouver_le_0 = {\n",
    "    'D': {\n",
    "        '0': ('0', 0, 'F'),\n",
    "        '*': ('*', 0, 'F'),\n",
    "        B: ('*', 0, 'R'),\n",
    "    },\n",
    "    'R': {\n",
    "        '0': ('0', 0, 'F'),\n",
    "        '*': ('*', 1, 'R'),\n",
    "        B: ('*',-1, 'L'),\n",
    "    },\n",
    "    'L': {\n",
    "        '0': ('0', 0, 'F'),\n",
    "        '*': ('*', -1, 'L'),\n",
    "        B: ('*',1, 'R'),\n",
    "    },\n",
    "}\n",
    "\n",
    "TuringMachine('D', 'F', prog_trouver_le_0).executer_sur(\"0\", pos=-3)"
   ]
  },
  {
   "cell_type": "markdown",
   "metadata": {},
   "source": [
    "«Objectif facultatif»"
   ]
  },
  {
   "cell_type": "code",
   "execution_count": null,
   "metadata": {
    "jupyter": {
     "source_hidden": true
    },
    "scrolled": true
   },
   "outputs": [],
   "source": [
    "prog_trouver_le_0_et_nettoyer = {\n",
    "    'D': {\n",
    "        '0': ('0', 0, 'F'),\n",
    "        '*': ('*', 0, 'F'),\n",
    "        B: ('*', 0, 'R'),\n",
    "    },\n",
    "    'R': {\n",
    "        '0': ('0', -1, 'NR'),\n",
    "        '*': ('*', 1, 'R'),\n",
    "        B: ('*',-1, 'L'),\n",
    "    },\n",
    "    'L': {\n",
    "        '0': ('0', 1, 'NL'),\n",
    "        '*': ('*', -1, 'L'),\n",
    "        B: ('*',1, 'R'),\n",
    "    },\n",
    "    'NL': {\n",
    "        '0': ('0', 1, 'NL'),\n",
    "        '*': (B, 1, 'NL'),\n",
    "        B: (B ,-1, 'GR'),\n",
    "    },\n",
    "    'NR': {\n",
    "        '0': ('0', 1, 'NR'),\n",
    "        '*': (B, -1, 'NR'),\n",
    "        B: (B ,1, 'GL'),\n",
    "    },\n",
    "    'GL': {\n",
    "        '0': ('0', 0, 'F'),\n",
    "        '*': (B, 1, 'NL'),\n",
    "        B: (B ,1, 'GL'),\n",
    "    },\n",
    "    'GR': {\n",
    "        '0': ('0', 0, 'F'),\n",
    "        '*': (B, 1, 'NL'),\n",
    "        B: (B ,-1, 'GR'),\n",
    "    },\n",
    "}\n",
    "\n",
    "TuringMachine('D', 'F', prog_trouver_le_0_et_nettoyer).executer_sur(\"0\", pos=3)"
   ]
  }
 ],
 "metadata": {
  "kernelspec": {
   "display_name": "Python 3",
   "language": "python",
   "name": "python3"
  },
  "language_info": {
   "codemirror_mode": {
    "name": "ipython",
    "version": 3
   },
   "file_extension": ".py",
   "mimetype": "text/x-python",
   "name": "python",
   "nbconvert_exporter": "python",
   "pygments_lexer": "ipython3",
   "version": "3.7.3"
  }
 },
 "nbformat": 4,
 "nbformat_minor": 4
}
