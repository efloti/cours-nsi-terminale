{
 "cells": [
  {
   "cell_type": "markdown",
   "metadata": {},
   "source": [
    "# Lambda calcul - vers la programmation fonctionnelle"
   ]
  },
  {
   "cell_type": "markdown",
   "metadata": {},
   "source": [
    "**Utiliser la table des matières**"
   ]
  },
  {
   "cell_type": "markdown",
   "metadata": {},
   "source": [
    "«Au lycée, les mathématiques abordés jusqu'en Terminale scientifique sont grosso-modo celles du 18e siècle; l'informatique a été inventé par les sciences du 19ème et du 20ème siècle, alors attendez-vous à être un peu surpris car c'est la **question des fondements** que nous abordons ici de la façon la plus douce possible...\n",
    "\n",
    "Pour les non matheux n'ayez pas peur! La seule chose indispensable est d'apprendre un instant à être aussi bête qu'un ordinateur: manipuler des signes (en suivant des règles strictes) sans se soucier aucunement de leur sens! \n",
    "\n",
    "Tout informaticien doit se mettre au moins une fois à la portée de la bêtise des machines!»"
   ]
  },
  {
   "cell_type": "markdown",
   "metadata": {},
   "source": [
    "## Alonso Church 1903-1995"
   ]
  },
  {
   "cell_type": "markdown",
   "metadata": {},
   "source": [
    "<p style=\"text-align: center;\"><a><img src=\"https://upload.wikimedia.org/wikipedia/en/a/a6/Alonzo_Church.jpg\"/></a></p>"
   ]
  },
  {
   "cell_type": "markdown",
   "metadata": {},
   "source": [
    "Un peu avant qu'Alan Turing n'explora le thème de la calculabilité avec son invention des «machines» de même nom, le mathématicien anglais **Alonso Church** (qui fut un enseignant de Turing), s'intéressait à des questions similaires et développa la **théorie des «lambda expressions»**.\n",
    "\n",
    "Bien que loin du modèle d'une «machine», il est démontré que la puissance de sa théorie est la même que celle de Turing (c'est Turing lui-même qui l'a démontré!):\n",
    "\n",
    "> **Théorème**: Tout ce qu'une machine de Turing peut calculer peut aussi s'exprimer par le «lambda calcul» et vice-versa.\n",
    "\n",
    "Autrement dit, la «calculabilité» selon ces deux points de vue est la même notion. Ainsi fut posé ce qui est connu de nos jour sous le nom de **thèse de Church-Turing**:\n",
    "\n",
    "> Est calculable (*en principe*) tout ce qu'une machine de Turing (ou un lambda calcul) peut calculer."
   ]
  },
  {
   "cell_type": "markdown",
   "metadata": {},
   "source": [
    "De nombreuses autre façon de cerner la calculabilité ont ensuite vu le jour ... et devinez quoi: équivalentes à une machine de Turing ou donc au lambda calcul. Au fond, toutes ces tentatives ont consisté à aborder le problème sous un angle différent et ont apporté de nouvelles façon d'aborder le calcul et donc la programmation."
   ]
  },
  {
   "cell_type": "markdown",
   "metadata": {},
   "source": [
    "Si les machines de Turing ont eu un profond impact sur le développement des premiers langages de programmation dits **impératifs** (affectation, boucles, ...) comme FORTRAN (1956 - [John Backus](https://fr.wikipedia.org/wiki/John_Backus)), C (1972 -  Dennis Ritchie, Ken Thompson et Brian Kernighan) etc.; la mise en pratique de la théorie du lambda calcul de Church conduisit au développement du premier langage **fonctionnel** LISP (1958 par [John Mc Carthy](https://fr.wikipedia.org/wiki/John_McCarthy)) et de nombreux autres suivirent (ML, Haskell, OCAML...)."
   ]
  },
  {
   "cell_type": "markdown",
   "metadata": {},
   "source": [
    "Pour fixer les idées, voici deux manières de coder la même chose en *Javascript* (pour changer)\n",
    "```javascript\n",
    "// style impératif\n",
    "const numList = [1, 2, 3, 4, 5, 6, 7, 8, 9, 10];\n",
    "let result = 0;\n",
    "for (let i = 0; i < numList.length; i++) {\n",
    "  if (numList[i] % 2 === 0) {\n",
    "    result += numList[i] * 10;\n",
    "  }\n",
    "} // result --> 20 + 40 + ... + 100 = 300\n",
    "\n",
    "// style fonctionnel\n",
    "const result = [1, 2, 3, 4, 5, 6, 7, 8, 9, 10]\n",
    "               .filter(n => n % 2 === 0) // filtre les «pairs»\n",
    "               .map(a => a * 10)         // leur applique *10\n",
    "               .reduce((a, b) => a + b); // fait leur somme.\n",
    "```"
   ]
  },
  {
   "cell_type": "markdown",
   "metadata": {},
   "source": [
    "Le style «fonctionnel» doit vous grattez un petit peu l'oeil: c'est tout à fait normal... mais ce petit voyage dans le «lambda calcul» devrait vous permettre de comprendre cette démarche."
   ]
  },
  {
   "cell_type": "markdown",
   "metadata": {},
   "source": [
    "De nos jours, le **paradigme fonctionnel** est devenu *incontournable* pour au moins deux raisons:\n",
    "1. **Sureté**: La **correction** des programmes est (assez) facilement «prouvable»: c'est indispensable dans certaines applications où la sécurité est un élément essentiel (pilotage d'un avion, d'une fusée, d'une centrale nucléaire...),\n",
    "2. **Efficience**: Les compilateurs ont atteint un tel degré de maturité que le code machine qu'ils produisent est très **efficace**: pendant longtemps, ce n'était pas le cas..."
   ]
  },
  {
   "cell_type": "markdown",
   "metadata": {},
   "source": [
    "Pour cette raison, des langages comme JavaScript et Python (et bien d'autres) sont «multi-paradigmes». Bien évidemment, il propose (de manière plus ou moins «élégante») le **paradime fonctionnel**..."
   ]
  },
  {
   "cell_type": "markdown",
   "metadata": {},
   "source": [
    "## À quoi «ressemble» le $\\lambda$-calcul (prononcer «lambda calcul»)"
   ]
  },
  {
   "cell_type": "markdown",
   "metadata": {},
   "source": [
    "### Grammaire des $\\lambda$-expressions"
   ]
  },
  {
   "cell_type": "markdown",
   "metadata": {},
   "source": [
    "On commence par se munir d'un ensemble de symboles appelés **variables**: nous utiliserons les lettres minuscules de l'alphabet latin: $a, b, \\dots, f, g, \\dots n, \\dots, z$ et de deux «**mots clés**», `𝜆` (prononcer «lambda») et le point `.`. On utilise enfin les parenthèses `(` et `)` pour indiquer l'ordre d'évaluation."
   ]
  },
  {
   "cell_type": "markdown",
   "metadata": {},
   "source": [
    "On se munit encore d'une **grammaire** ici exprimée dans la notation BNF (*Backus Naur Form*) qui est très courante ([un exemple pour python dans une syntaxe légèrement différente](https://docs.python.org/3/reference/expressions.html#conditional-expressions)). Voici la grammaire des $\\lambda$-expression:"
   ]
  },
  {
   "cell_type": "markdown",
   "metadata": {},
   "source": [
    "        <expression> := <variable> | <fonction> | <application>\n",
    "        <fonction>   := 𝜆 <variable> . <expression>\n",
    "        <application>:= <expression> <expression>"
   ]
  },
  {
   "cell_type": "markdown",
   "metadata": {},
   "source": [
    "Et oui... cette grammaire est *récursive*! le symbole `|` marque l'alternative. Voici quelques exemples de $\\lambda$-expression (qui respecte la **syntaxe** induite par cette grammaire):\n",
    "\n",
    "$$\\bullet~ xy\\qquad \\bullet~ \\lambda x.y\\qquad \\bullet~ (\\lambda x.xt)\\, t\\qquad\\bullet~\\lambda x.\\lambda y. xy$$ "
   ]
  },
  {
   "cell_type": "markdown",
   "metadata": {},
   "source": [
    "On peut les lire comme suit:\n",
    "1. «$x$ appliqué à $y$»,\n",
    "2. «fonction qui à $x$ fait correspondre $y$»,\n",
    "3. «fonction qui à $x$ fait correspondre, $x$ appliqué à $t$; elle-même appliquée à $t$»,\n",
    "4. «fonction qui à $x$ fait correspondre la fonction qui à $y$ fait correspondre $x$ appliqué à $y$.\n",
    "\n",
    "Sexy ... non?"
   ]
  },
  {
   "cell_type": "markdown",
   "metadata": {},
   "source": [
    "#### Exercice 1"
   ]
  },
  {
   "cell_type": "markdown",
   "metadata": {},
   "source": [
    "Les écritures suivantes sont-elles des $\\lambda$ expression valide?\n",
    "\n",
    "$$\\bullet~t\\qquad\\bullet~\\lambda x\\qquad\\bullet~xyz\\qquad\\bullet~\\lambda x.(\\lambda x.non)(\\lambda o.\\lambda i. oui)\\qquad\\bullet~ x.\\lambda y$$"
   ]
  },
  {
   "cell_type": "markdown",
   "metadata": {},
   "source": [
    "Encore quelques **conventions**:\n",
    "1. $xyz$ doit se lire comme $(xy)z$ soit «le résultat de $x$ appliqué à $y$, est appliqué à $z$» tandis que $x(yz)$ se lit «$x$ appliqué au résultat de $y$ appliqué à $z$». Ainsi L'*application* est associative à gauche.\n",
    "2. $\\lambda x.\\lambda y.xy$ s'*abrège* en $\\lambda xy.xy$ «fonction qui à $x$, $y$ fait correspondre $x$ appliqué à $y$». Ce n'est pas anodin (nous en reparlerons) mais cela va nous faciliter la vie..."
   ]
  },
  {
   "cell_type": "markdown",
   "metadata": {},
   "source": [
    "### Régle de réduction"
   ]
  },
  {
   "cell_type": "markdown",
   "metadata": {},
   "source": [
    "Elle correspond fondamentalement à une **substitution**: \n",
    "> remplacer une **variable** par une **expression** *partout où cette **variable** apparaît après le `.`*."
   ]
  },
  {
   "cell_type": "markdown",
   "metadata": {},
   "source": [
    "Voici quelques exemples commentés pour essayer de vous la faire sentir sans pour autant la définir rigoureusement."
   ]
  },
  {
   "cell_type": "markdown",
   "metadata": {},
   "source": [
    "#### 1er exemple"
   ]
  },
  {
   "cell_type": "markdown",
   "metadata": {},
   "source": [
    "$$(\\lambda x.xyx)\\,z=zyz$$\n",
    "\n",
    "Ainsi, $z$ a été substitué à la variable $x$ (ou $x$ a été remplacé par $z$ si vous préférez). C'est le rôle de $\\lambda$ d'indiquer quelle variable «transporte» ou plutôt «**est liée à**» l'expression» reçue après la fonction $\\lambda x.xyz$."
   ]
  },
  {
   "cell_type": "markdown",
   "metadata": {},
   "source": [
    "Notez qu'après la réduction, le «lieur» $\\lambda x$ est éliminé. "
   ]
  },
  {
   "cell_type": "markdown",
   "metadata": {},
   "source": [
    "#### Exercice 2\n",
    "\n",
    "Réduire $(\\lambda t.tyt)\\,z$ (Comparer avec l'exemple, qu'observe-t-on?). De même réduire $(\\lambda u.y)\\,v$."
   ]
  },
  {
   "cell_type": "markdown",
   "metadata": {
    "jupyter": {
     "source_hidden": true
    }
   },
   "source": [
    "$(\\lambda t.tyt)\\,z=zyz$. On obtient donc le même résultat que pour l'exemple. le fait que la variable soit le symbole $t$ ou le symbole $x$ (comme dans l'exemple) n'a pas d'importance.\n",
    "\n",
    "$(\\lambda u.y)\\,v=y$"
   ]
  },
  {
   "cell_type": "markdown",
   "metadata": {},
   "source": [
    "#### 2ème exemple"
   ]
  },
  {
   "cell_type": "markdown",
   "metadata": {},
   "source": [
    "$$(\\lambda xy.yx)\\,a\\,b=ba$$"
   ]
  },
  {
   "cell_type": "markdown",
   "metadata": {},
   "source": [
    "En effet, il faut se souvenir que la fonction abrège $\\lambda x.\\lambda y.yx$ et:\n",
    "\n",
    "$$(\\lambda x.\\lambda y.yx)\\, a\\, b =((\\lambda x.\\lambda y.yx)\\, a)\\, b =(\\lambda y.ya)\\,b = ba$$"
   ]
  },
  {
   "cell_type": "markdown",
   "metadata": {},
   "source": [
    "C'est donc similaire au 1er exemple où $x$ est lié à $a$ et $y$ à $b$."
   ]
  },
  {
   "cell_type": "markdown",
   "metadata": {},
   "source": [
    "#### Exercice 3\n",
    "\n",
    "Réduire $(\\lambda abc.bac)\\,x\\,y$. Se souvenir de ce que «$\\lambda abc.\\dots$» abrège."
   ]
  },
  {
   "cell_type": "markdown",
   "metadata": {
    "jupyter": {
     "source_hidden": true
    }
   },
   "source": [
    "$(\\lambda abc.bac)\\,x\\,y=\\lambda c.yxc$\n",
    "\n",
    "En effet:\n",
    "$(\\lambda abc.bac)\\,x\\,y = (\\lambda a.\\lambda b. \\lambda c.bac) \\,x\\,y=(\\lambda b.\\lambda c.bxc) \\,y=\\lambda c.yxc$"
   ]
  },
  {
   "cell_type": "markdown",
   "metadata": {},
   "source": [
    "#### 3ème exemple"
   ]
  },
  {
   "cell_type": "markdown",
   "metadata": {},
   "source": [
    "$$(\\lambda fx.fx)\\,(\\lambda t.tt)\\,z=(\\lambda t.tt)\\, z=zz$$"
   ]
  },
  {
   "cell_type": "markdown",
   "metadata": {},
   "source": [
    "À la première étape, $f$ est remplacé par $(\\lambda t.tt)$ et $x$ par $z$. Une variable peut très bien être remplacé par une *fonction* (qui est un cas particulier de $\\lambda$-expression). L'expression obtenue peu elle-même parfois être «réductible» comme dans cet exemple. Observer que la réduction suivante est *logiquement* incorrecte (même si elle donne le même résultat!):\n",
    "\n",
    "$$(\\lambda fx.fx)\\,(\\lambda t.tt)\\,z=(\\lambda fx.fx)\\,zz=zz$$\n",
    "\n",
    "Pourquoi?"
   ]
  },
  {
   "cell_type": "markdown",
   "metadata": {},
   "source": [
    "#### Exercice 4"
   ]
  },
  {
   "cell_type": "markdown",
   "metadata": {},
   "source": [
    "Réduire les expressions suivantes:\n",
    "\n",
    "$$\\bullet~(\\lambda ux.u(ux))\\,(\\lambda r.rr)\\,z \\qquad\\bullet~(\\lambda ux.uux)\\,(\\lambda r.rr)\\,z\\qquad\\bullet~(\\lambda xy.x(xy))\\,(\\lambda u.uu)\\,z$$."
   ]
  },
  {
   "cell_type": "markdown",
   "metadata": {
    "jupyter": {
     "source_hidden": true
    }
   },
   "source": [
    "$(\\lambda ux.u(ux))\\,(\\lambda r.rr)\\,z = (\\lambda r.rr)\\color{red}{(}(\\lambda r.rr)\\,z\\color{red}{)}=(\\lambda r.rr) zz= zzz$\n",
    "\n",
    "Notez bien que le résultat n'est pas $zzzz$ mais bien $zzz$. Les parenthèses «rouge» DOIVENT être éliminée puisque l'application protégée a été réduite. Autrement:\n",
    "\n",
    "$$(\\lambda t.tt) (z\\,z) = (z\\,z)(z\\,z)=z\\,z\\,(zz)\\neq zzzz$$\n",
    "\n",
    "$(\\lambda ux.uux)\\,(\\lambda r.rr)\\,z=(\\lambda r.rr)\\,(\\lambda r.rr)\\,z=(\\lambda r.rr)\\,(\\lambda r.rr)\\,z=\\dots$\n",
    "\n",
    "On ne peut réduire plus: la réduction «boucle»... Cet exemple devrait devenir plus clair dans un instant.\n",
    "\n",
    "$(\\lambda xy.x(xy))\\,(\\lambda u.uu)\\,z=(\\lambda u.uu)((\\lambda u.uu)\\,z)=(\\lambda u.uu)\\,z\\,z=zzz$"
   ]
  },
  {
   "cell_type": "markdown",
   "metadata": {},
   "source": [
    "### Variables libres et variables liées"
   ]
  },
  {
   "cell_type": "markdown",
   "metadata": {},
   "source": [
    "**Un point délicat**: Le symbole des variables **liées** \\[ *bound variable* \\] dans les fonctions, entre $\\lambda$ et `.`,  **n'a pas d'importance**; il est *«local» à la fonction*. Par exemple, ces $\\lambda$-expressions sont toutes considérées comme égales:\n",
    "\n",
    "$$\\lambda x.xz=\\lambda f.fz=\\lambda w.wz=\\lambda y.yz=\\dots$$"
   ]
  },
  {
   "cell_type": "markdown",
   "metadata": {},
   "source": [
    "En mathématiques, par exemple, $0+1+2+\\cdots+n=\\Sigma_{i=0}^{n}i=\\Sigma_{j=0}^{n}j$: Le nom de l'indice $i$ ou $j$ n'a pas d'importance car il sert à transporter la même information; on dit souvent que c'est un indice «muet». C'est la même idée ici.\n",
    "\n",
    "En revanche la variable $z$ de l'exemple est dite **«libre»**, on ne peut pas la renommer sans modifier le sens de la fonction. De même $n$ est «libre» dans l'exemple de la somme.\n",
    "\n",
    "Voici un exemple d'expression qui peut facilement embrouiller:\n",
    "\n",
    "$$(\\lambda x.xy)(\\lambda y.y)$$\n",
    "\n",
    "En fait, le $y$ de la première fonction (qui est «libre») et celui de la seconde (qui est lié) **n'ont rien à voir**. Dans ces situations, il est prudent de *renommer* la variable **liée** avant de réduire:\n",
    "\n",
    "$$(\\lambda x.xy)(\\lambda y.y)=(\\lambda x.xy)(\\lambda u.u)=(\\lambda u.u)y=y$$"
   ]
  },
  {
   "cell_type": "markdown",
   "metadata": {},
   "source": [
    "#### Exercice 5"
   ]
  },
  {
   "cell_type": "markdown",
   "metadata": {},
   "source": [
    "Réduire les expressions qui suivent:\n",
    "\n",
    "$$\\bullet~(\\lambda x.x)(\\lambda x.x)\\qquad\\bullet~(\\lambda x.xyx)\\,(xx)\\qquad\\bullet~ (\\lambda xy.yx)\\,y\\qquad\\bullet~(\\lambda x.xx)(\\lambda x.xx)$$"
   ]
  },
  {
   "cell_type": "markdown",
   "metadata": {
    "jupyter": {
     "source_hidden": true
    }
   },
   "source": [
    "$(\\lambda x.x)(\\lambda x.x) = (\\lambda y.y)(\\lambda x.x) = \\lambda x.x$\n",
    "\n",
    "$(\\lambda x.xyx)\\,(xx) = (\\lambda u.uyu)\\,(xx) = (xx)y(xx)=xxy(xx)$\n",
    "\n",
    "$(\\lambda xy.yx)\\,y=(\\lambda xu.ux)\\,y=\\lambda u.uy$\n",
    "\n",
    "$(\\lambda x.xx)(\\lambda x.xx)=(\\lambda u.uu)(\\lambda x.xx)=(\\lambda x.xx)(\\lambda x.xx)=\\dots$"
   ]
  },
  {
   "cell_type": "markdown",
   "metadata": {},
   "source": [
    "## (Une) Sémantique du $\\lambda$-calcul"
   ]
  },
  {
   "cell_type": "markdown",
   "metadata": {},
   "source": [
    "Après avoir défini le «langage» du $\\lambda$-calcul, sa **syntaxe**, il nous reste à lui associer une **sémantique**, un sens."
   ]
  },
  {
   "cell_type": "markdown",
   "metadata": {},
   "source": [
    "Par la suite, on se permet de nommer (en utilisant des caractères gras pour les distinguer des variables) certaines $\\lambda$-expression; par exemple l'«identité» est désignée par:"
   ]
  },
  {
   "cell_type": "markdown",
   "metadata": {},
   "source": [
    "$${\\bf Id} \\equiv \\lambda x. x$$"
   ]
  },
  {
   "cell_type": "markdown",
   "metadata": {},
   "source": [
    "Le symbole $\\equiv$ précise qu'il s'agit d'une déclaration. On peut alors utiliser le nom choisi dans les $\\lambda$-expressions. Par exemple:"
   ]
  },
  {
   "cell_type": "markdown",
   "metadata": {},
   "source": [
    "$${\\bf Id\\,Id }= (\\lambda x.x)(\\lambda x.x)=\\lambda x.x = {\\bf Id}$$"
   ]
  },
  {
   "cell_type": "markdown",
   "metadata": {},
   "source": [
    "#### Exercice 6\n",
    "\n",
    "Réduire ${\\bf Id\\,Id\\,Id}$ puis ${\\bf Id}\\, x$."
   ]
  },
  {
   "cell_type": "markdown",
   "metadata": {
    "jupyter": {
     "source_hidden": true
    }
   },
   "source": [
    "${\\bf Id\\,Id\\,Id}=({\\bf Id\\,Id}){\\bf \\,ID}={\\bf Id\\,Id}={\\bf Id}$\n",
    "\n",
    "${\\bf Id}\\, x=(\\lambda u.u) x=x$"
   ]
  },
  {
   "cell_type": "markdown",
   "metadata": {},
   "source": [
    "### Booléens et opérations logiques"
   ]
  },
  {
   "cell_type": "markdown",
   "metadata": {},
   "source": [
    "On convient d'encoder les booléens comme suit."
   ]
  },
  {
   "cell_type": "markdown",
   "metadata": {},
   "source": [
    "$${\\bf Vrai}\\equiv{\\bf V}\\equiv \\lambda xy.x,\\qquad {\\bf Faux}\\equiv{\\bf F}\\equiv \\lambda xy.y$$"
   ]
  },
  {
   "cell_type": "markdown",
   "metadata": {},
   "source": [
    "#### Exercice 7"
   ]
  },
  {
   "cell_type": "markdown",
   "metadata": {},
   "source": [
    "Comment se réduit ${\\bf V\\,}ab$? Même question pour ${\\bf F\\,}ab$."
   ]
  },
  {
   "cell_type": "markdown",
   "metadata": {
    "jupyter": {
     "source_hidden": true
    }
   },
   "source": [
    "${\\bf V\\,}ab=(\\lambda xy.x)ab=a$ donc ${\\bf V\\,}ab=a$\n",
    "\n",
    "${\\bf F\\,}ab=(\\lambda xy.y)ab=b$ donc ${\\bf F\\,}ab=b$"
   ]
  },
  {
   "cell_type": "markdown",
   "metadata": {},
   "source": [
    "#### Négation logique"
   ]
  },
  {
   "cell_type": "markdown",
   "metadata": {},
   "source": [
    "On peut l'«encoder» comme suit: "
   ]
  },
  {
   "cell_type": "markdown",
   "metadata": {},
   "source": [
    "$${\\bf !}\\equiv \\lambda x.x\\,{\\bf F\\,V}$$"
   ]
  },
  {
   "cell_type": "markdown",
   "metadata": {},
   "source": [
    "#### Exercice 8"
   ]
  },
  {
   "cell_type": "markdown",
   "metadata": {},
   "source": [
    "1. Donner l'écriture «primitive» de la négation.\n",
    "2. Montrer que ${\\bf !\\, F} = {\\bf V}$ et ${\\bf !\\,V}={\\bf F}$."
   ]
  },
  {
   "cell_type": "markdown",
   "metadata": {
    "jupyter": {
     "source_hidden": true
    }
   },
   "source": [
    "${\\bf !} \\equiv \\lambda x.x(\\lambda uv.v)(\\lambda uv.u)$ (par exemple - au renommage près)\n",
    "\n",
    "${\\bf !\\, F}=(\\lambda x.x\\,{\\bf F\\,V}){\\bf \\, F}={\\bf F\\, F\\, V}=(\\lambda xy.y)\\,{\\bf F\\,V}={\\bf V}$\n",
    "\n",
    "Vérification détaillée: ${\\bf !\\,F}=[\\lambda x.x(\\lambda uv.v)(\\lambda uv.u)] (\\lambda st.t)=(\\lambda st.t)(\\lambda uv.v)(\\lambda uv.u)=\\lambda uv.u=\\lambda xy.x={\\bf V}$\n",
    "\n",
    "${\\bf !\\, V}=(\\lambda x.x\\,{\\bf F\\,V}){\\bf \\, V}={\\bf V\\, F\\, V}=(\\lambda xy.x)\\,{\\bf F\\,V}={\\bf F}$"
   ]
  },
  {
   "cell_type": "markdown",
   "metadata": {},
   "source": [
    "#### ET/OU logique"
   ]
  },
  {
   "cell_type": "markdown",
   "metadata": {},
   "source": [
    "$${\\bf Et}=\\lambda xy.xy\\,{\\bf F},\\qquad {\\bf Ou}=\\lambda xy.x\\,{\\bf V}\\,y$$"
   ]
  },
  {
   "cell_type": "markdown",
   "metadata": {},
   "source": [
    "Par exemple: ${\\bf Et\\, V\\, F}=(\\lambda xy.xy\\,{\\bf F})\\,{\\bf V\\,F}={\\bf V\\,F\\,F}=(\\lambda xy.y) {\\bf \\,F\\,F}={\\bf\\,F}$ soit \n",
    "\n",
    "$${\\bf Et\\, V\\, F}={\\bf\\,F}$$\n",
    "\n",
    "`True and False == False` (ouf!)"
   ]
  },
  {
   "cell_type": "markdown",
   "metadata": {},
   "source": [
    "#### Exercice 9"
   ]
  },
  {
   "cell_type": "markdown",
   "metadata": {},
   "source": [
    "Vérifier d'autres égalités attendues étant donnée l'interprétation de ces opérations."
   ]
  },
  {
   "cell_type": "markdown",
   "metadata": {
    "jupyter": {
     "source_hidden": true
    }
   },
   "source": [
    "${\\bf Et\\, V\\, V}=(\\lambda xy.xy\\,{\\bf F})\\,{\\bf V\\,V}=\\,{\\bf V\\, V\\, F}={\\bf V}$\n",
    "\n",
    "${\\bf Et\\, F\\, V} ={\\bf F\\, V\\, F }= {\\bf F}$\n",
    "\n",
    "${\\bf Ou\\, F\\, V} =(\\lambda xy.x\\,{\\bf V}\\,y)\\,{\\bf F\\, V}= {\\bf F\\,V\\,V}={\\bf V}$\n",
    "\n",
    "${\\bf Ou\\, F\\, F} =(\\lambda xy.x\\,{\\bf V}\\,y)\\,{\\bf F\\, F}= {\\bf F\\,V\\,F}={\\bf F}$"
   ]
  },
  {
   "cell_type": "markdown",
   "metadata": {},
   "source": [
    "### Entiers de Church"
   ]
  },
  {
   "cell_type": "markdown",
   "metadata": {},
   "source": [
    "On les définit comme suit:"
   ]
  },
  {
   "cell_type": "markdown",
   "metadata": {},
   "source": [
    "$${\\bf 0} \\equiv \\lambda xy.y\\equiv {\\bf Faux}$$\n",
    "\n",
    "$${\\bf 1} \\equiv \\lambda xy.\\overbrace{xy}^{x({\\bf 0\\,}xy)},\\qquad{\\bf 2\\,} \\equiv \\lambda xy.x(\\overbrace{xy}^{{\\bf 1}xy}),\\qquad{\\bf 3} \\equiv \\lambda xy.x(\\overbrace{x(xy)}^{{\\bf 2}xy}),\\qquad \\dots$$"
   ]
  },
  {
   "cell_type": "markdown",
   "metadata": {},
   "source": [
    "En observant bien, vous devriez voir que `{\\bf 3}` encode « appliquer le premier argument «3 fois» de suite au deuxième»."
   ]
  },
  {
   "cell_type": "markdown",
   "metadata": {},
   "source": [
    "Soit... Mais sans opération, ce n'est pas «drôle»...\n",
    "\n",
    "Voici l'opération la plus *fondamentale* dans ce domaine: l'**incrémentation d'une unité** (suivant d'un entier):"
   ]
  },
  {
   "cell_type": "markdown",
   "metadata": {},
   "source": [
    "$${\\bf Suiv} \\equiv \\lambda nxy. x(nxy)$$"
   ]
  },
  {
   "cell_type": "markdown",
   "metadata": {},
   "source": [
    "*Exemple*: ${\\bf Suiv\\,0} =(\\lambda nxy.x(nxy))\\,{\\bf 0}=\\lambda xy.x\\underbrace{({\\bf 0} xy)}_{y}=\\lambda xy.xy\\equiv {\\bf 1}$"
   ]
  },
  {
   "cell_type": "markdown",
   "metadata": {},
   "source": [
    "#### Exercice 10"
   ]
  },
  {
   "cell_type": "markdown",
   "metadata": {},
   "source": [
    "Vérifier l'égalité ${\\bf Suiv\\, 2}={\\bf 3}$"
   ]
  },
  {
   "cell_type": "markdown",
   "metadata": {
    "jupyter": {
     "source_hidden": true
    }
   },
   "source": [
    "${\\bf Suiv\\, 2}=\\lambda xy.x({\\bf 2\\,} x y)=\\lambda xy.x(x(x y))={\\bf 3}$"
   ]
  },
  {
   "cell_type": "markdown",
   "metadata": {},
   "source": [
    "Nous sommes maintenant en mesure de définir l'addition en observant que, par exemple «3+2» peut s'interpréter par «appliquer 2 fois successivement une incrémentation d'une unité à 3» qui se généralise en «appliquer n fois successivement une incrémentation d'une unité à m»:"
   ]
  },
  {
   "cell_type": "markdown",
   "metadata": {},
   "source": [
    "$${\\bf Add}\\equiv \\lambda nm.n\\,{\\bf Suiv}\\,m$$"
   ]
  },
  {
   "cell_type": "markdown",
   "metadata": {},
   "source": [
    "*Exemple*: ${\\bf Add\\, 2\\, 3} = {\\bf 2\\, Suiv\\, 3}={\\bf Suiv\\,}(\\underbrace{\\bf Suiv\\, 3}_{\\bf 4})={\\bf Suiv\\,}{\\bf 4}={\\bf 5}$\n",
    "\n",
    "En effet ${\\bf 2\\, Suiv\\, 3} = (\\lambda xy.x(xy)){\\bf \\,Suiv\\,3}={\\bf Suiv\\,}({\\bf Suiv\\,3})$"
   ]
  },
  {
   "cell_type": "markdown",
   "metadata": {},
   "source": [
    "#### Exercice 11"
   ]
  },
  {
   "cell_type": "markdown",
   "metadata": {},
   "source": [
    "«Calculer» ${\\bf Add\\, 3\\, 2}$"
   ]
  },
  {
   "cell_type": "markdown",
   "metadata": {
    "jupyter": {
     "source_hidden": true
    }
   },
   "source": [
    "${\\bf Add\\, 3\\, 2}={\\bf 3\\, Suiv\\, 2}={\\bf Suiv}\\, ({\\bf Suiv}\\, ({\\bf Suiv\\, 2}))={\\bf Suiv\\,(Suiv\\, 3)}={\\bf Suiv\\, 4} = {\\bf 5}$"
   ]
  },
  {
   "cell_type": "markdown",
   "metadata": {},
   "source": [
    "### Test à Zéro"
   ]
  },
  {
   "cell_type": "markdown",
   "metadata": {},
   "source": [
    "Renvoie ${\\bf Vrai}$ si appliqué à ${\\bf 0}$ et ${\\bf Faux}$ si appliqué à tout autre entier de Church:"
   ]
  },
  {
   "cell_type": "markdown",
   "metadata": {},
   "source": [
    "$${\\bf Z}\\equiv \\lambda x.x\\,{\\bf F\\,!\\,F}$$"
   ]
  },
  {
   "cell_type": "markdown",
   "metadata": {},
   "source": [
    "Hum ... ça doit vous démangez ${\\bf !\\, F}$ c'est ${\\bf V}$ non? STOP: vous oubliez que l'application ne peut pas être effectuée dans n'importe quel ordre! Il faudrait commencer par faire $x\\,{\\bf F}$... Bref, on ne peut «réduire directement» cette formule!"
   ]
  },
  {
   "cell_type": "markdown",
   "metadata": {},
   "source": [
    "#### Exercice 12 "
   ]
  },
  {
   "cell_type": "markdown",
   "metadata": {},
   "source": [
    "1. Montrer que ${\\bf Z\\, 0}={\\bf V}$, ${\\bf Z\\, 1}={\\bf F}$ puis trouver ${\\bf Z\\, 2}$ vous-même. "
   ]
  },
  {
   "cell_type": "markdown",
   "metadata": {
    "jupyter": {
     "source_hidden": true
    }
   },
   "source": [
    "${\\bf Z\\, 0}={\\bf 0\\, F\\,!\\,F}={\\bf !\\, F}={\\bf V}$\n",
    "\n",
    "${\\bf Z\\, 1}={\\bf 1\\, F\\,!\\,F}={\\bf F\\,!\\,F}={\\bf F}$\n",
    "\n",
    "${\\bf Z\\, 2}={\\bf 2\\, F\\,!\\,F}={\\bf F\\,}({\\bf F\\, !})\\,{\\bf F}={\\bf F}$"
   ]
  },
  {
   "cell_type": "markdown",
   "metadata": {},
   "source": [
    "2. Que valent ${\\bf Z\\,0}\\, a b$ et ${\\bf Z\\,2}\\, a b$? Interpréter..."
   ]
  },
  {
   "cell_type": "markdown",
   "metadata": {
    "jupyter": {
     "source_hidden": true
    }
   },
   "source": [
    "${\\bf Z\\,0}\\, a b= {\\bf V\\,} a b = a$\n",
    "\n",
    "${\\bf Z\\,2}\\, a b= {\\bf F\\,} a b = b$\n",
    "\n",
    "«si (n est nul) alors a sinon b» revient à $\\lambda n.{\\bf Z\\,n\\,} a b$. Cela fait penser à l'opérateur ternaire `a if cond else b` où `cond` est une comparaison à zéro."
   ]
  },
  {
   "cell_type": "markdown",
   "metadata": {},
   "source": [
    "### Représenter un couple"
   ]
  },
  {
   "cell_type": "markdown",
   "metadata": {},
   "source": [
    "Il s'agit d'un acte fondamental en informatique (et en mathématiques aussi): grouper 2 objets dans un certain ordre; à partir de ça, il n'est pas difficile de construire des *n-uplets*... autrement dit des *conteneurs*. Voici comment on définit l'opération «accoupler»:"
   ]
  },
  {
   "cell_type": "markdown",
   "metadata": {},
   "source": [
    "$${\\bf Couple}\\equiv {\\bf C}\\equiv\\lambda abz.zab$$ "
   ]
  },
  {
   "cell_type": "markdown",
   "metadata": {},
   "source": [
    "Le couple $(a; b)$ (notation mathématiques) s'encode alors ${\\bf C\\,} a\\, b=\\lambda z.zab$."
   ]
  },
  {
   "cell_type": "markdown",
   "metadata": {},
   "source": [
    "Qui dit couple dit opérations pour récupérer ses *composantes* appelées «projecteurs»:"
   ]
  },
  {
   "cell_type": "markdown",
   "metadata": {},
   "source": [
    "$${\\bf Fst}\\equiv \\lambda x.x\\,{\\bf V},\\qquad {\\bf Snd}\\equiv \\lambda x.x\\,{\\bf F}$$"
   ]
  },
  {
   "cell_type": "markdown",
   "metadata": {},
   "source": [
    "*Exemple*:  ${\\bf M}$ et ${\\bf N}$ représentent des $\\lambda$-expressions arbitraires; alors:"
   ]
  },
  {
   "cell_type": "markdown",
   "metadata": {},
   "source": [
    "${\\bf Fst\\,(C\\, M\\, N)}={\\bf Fst\\,} (\\lambda z.z\\,{\\bf M\\, N})=(\\lambda z.z\\,{\\bf M\\, N})\\,{\\bf V}={\\bf V\\, M\\, N}={\\bf M}$"
   ]
  },
  {
   "cell_type": "markdown",
   "metadata": {},
   "source": [
    "#### Exercice 13\n",
    "\n",
    "Montrer que:\n",
    "\n",
    "- ${\\bf C\\,M\\,N\\,F}={\\bf N}$\n",
    "- ${\\bf Snd\\,(C\\, M\\, N)}={\\bf N}$\n",
    "- ${\\bf C}\\,({\\bf Fst}\\, ({\\bf C\\, M\\, N}))\\, ({\\bf Snd}\\, ({\\bf C\\, M\\, N})) = {\\bf C\\, M\\, N}$"
   ]
  },
  {
   "cell_type": "markdown",
   "metadata": {
    "jupyter": {
     "source_hidden": true
    }
   },
   "source": [
    "${\\bf C\\,M\\,N\\,F}= (\\lambda z.z\\,{\\bf M\\,N})\\,{\\bf F}={\\bf F\\,M\\,N}= {\\bf N}$ \n",
    "\n",
    "${\\bf Snd\\,(C\\, M\\, N)}={\\bf C\\, M\\, N\\, F}={\\bf N}$ c'est le même calcul que précédemment mais «par l'autre bout».\n",
    "\n",
    "Le dernier est idiot... il suffit de bien suivre l'ordre des parenthèses!"
   ]
  },
  {
   "cell_type": "markdown",
   "metadata": {},
   "source": [
    "### Soustraire l'unité - Prédecesseur"
   ]
  },
  {
   "cell_type": "markdown",
   "metadata": {},
   "source": [
    "Celui là est un peu plus subtile, il utilise un opérateur qui permet de construire la suite de couples $(0;0)\\rightarrow (1;0)\\rightarrow (2;1)\\rightarrow (3;2)\\rightarrow\\dots$; Non non, on ne peut pas ajouter 1 à chaque composante ... La bonne règle est: «prendre la première composante $x$ du couple, et construire un nouveau couple $(x+1;x)$»"
   ]
  },
  {
   "cell_type": "markdown",
   "metadata": {},
   "source": [
    "Voici cette opérateur (la variable $c$ représente le couple à transformer):"
   ]
  },
  {
   "cell_type": "markdown",
   "metadata": {},
   "source": [
    "$${\\bf \\Phi}\\equiv \\lambda cz.z(({\\bf Suiv}\\,(c\\,{\\bf V}))(c\\,{\\bf V}))$$"
   ]
  },
  {
   "cell_type": "markdown",
   "metadata": {},
   "source": [
    "Posons ${\\bf S}\\equiv {\\bf Suiv}$ pour alléger l'écriture et vérifier cela:\n",
    "\n",
    "${\\bf \\Phi\\,}({\\bf C\\,0\\,0})=\\lambda z. z({\\bf S\\,}({\\bf C\\,0\\,0}\\,{\\bf V}))({\\bf C\\,0\\,0}\\,{\\bf V})=\\lambda z.z({\\bf S\\, 0\\, 0})=\\lambda z.z\\,{\\bf 1\\, 0}={\\bf C\\,1\\,0}$\n",
    "\n",
    "${\\bf \\Phi\\,}({\\bf C\\,1\\,0})=\\lambda z. z({\\bf S\\,}({\\bf C\\,1\\,0}\\,{\\bf V}))({\\bf C\\,1\\,0}\\,{\\bf V})=\\lambda z.z({\\bf S\\, 1\\, 1})=\\lambda z.z\\,{\\bf 2\\, 1}={\\bf C\\,2\\,1}$"
   ]
  },
  {
   "cell_type": "markdown",
   "metadata": {},
   "source": [
    "Ainsi, ${\\bf 2\\, \\Phi}\\, ({\\bf C\\,0\\,0})={\\bf \\Phi\\,}({\\bf \\Phi\\,} ({\\bf C\\,0\\,0}))={\\bf C\\, 2\\, 1}$ et donc: $${\\bf 2\\, \\Phi} ({\\bf C\\,0\\,0})\\,{\\bf F}={\\bf C\\, 2\\, 1\\,F} = {\\bf 1}\\qquad (*)$$"
   ]
  },
  {
   "cell_type": "markdown",
   "metadata": {},
   "source": [
    "Cela rend «compréhensible» la définition suivante:"
   ]
  },
  {
   "cell_type": "markdown",
   "metadata": {},
   "source": [
    "$${\\bf Pred}\\equiv \\lambda n.n\\,{\\bf \\Phi\\,} ({\\bf C\\, 0\\, 0})\\,{\\bf F}$$"
   ]
  },
  {
   "cell_type": "markdown",
   "metadata": {},
   "source": [
    "car l'égalité $(*)$ se réécrit alors ${\\bf Pred\\, 2 = 1}$"
   ]
  },
  {
   "cell_type": "markdown",
   "metadata": {},
   "source": [
    "#### Exercice 14"
   ]
  },
  {
   "cell_type": "markdown",
   "metadata": {},
   "source": [
    "1. Calculer ${\\bf Pred\\, 0}$, ${\\bf Pred\\, 1}$ et ${\\bf Pred\\, 3}$"
   ]
  },
  {
   "cell_type": "markdown",
   "metadata": {
    "jupyter": {
     "source_hidden": true
    }
   },
   "source": [
    "${\\bf Pred\\,0}={\\bf 0\\,\\Phi}\\,({\\bf C\\,0\\,0})\\,{\\bf F}={\\bf F}={\\bf 0}$ (se souvenir que ${\\bf Faux=0}$ dans ce système).\n",
    "\n",
    "Argh, je m'attendais à $-1$ ... mais non, c'est **normal**: nous n'avons défini que les entiers positifs et les entiers relatifs, c'est une tout autre histoire; raison pour laquelle on ne les enseignes qu'à partir de la 5e et non en CP...\n",
    "\n",
    "${\\bf Pred\\, 1}={\\bf 1\\, \\Phi\\,} ({\\bf C\\, 0\\, 0})\\,{\\bf F}={\\bf \\Phi\\,} ({\\bf C\\, 0\\, 0})\\,{\\bf F}={\\bf C\\, 1\\, 0}\\,{\\bf F}={\\bf 0}$\n",
    "\n",
    "${\\bf Pred\\, 3}={\\bf 3\\, \\Phi\\,} ({\\bf C\\, 0\\, 0})\\,{\\bf F}={\\bf \\Phi\\,}({\\bf \\Phi\\,} ({\\bf \\Phi\\,} ({\\bf C\\, 0\\, 0})))\\,{\\bf F}={\\bf \\Phi\\,}({\\bf \\Phi\\,} ({\\bf C\\, 1\\, 0})\\,{\\bf F}={\\bf \\Phi\\,}{\\bf C\\, 2\\, 1\\, F}={\\bf C\\, 3\\, 2\\, F}={\\bf 2}$"
   ]
  },
  {
   "cell_type": "markdown",
   "metadata": {},
   "source": [
    "2. Définir ${\\bf Sub}$ qui «soustrait deux entiers (positifs)...» pour lesquelles la soustractions fait «sens» (résultat est un entier positif ou nul):"
   ]
  },
  {
   "cell_type": "markdown",
   "metadata": {
    "jupyter": {
     "source_hidden": true
    }
   },
   "source": [
    "$${\\bf Sub}=\\lambda mn.n\\,{\\bf Pred}\\,m$$\n",
    "\n",
    "Par exemple: ${\\bf Sub\\,3\\,2}={\\bf 2\\, Pred \\,3}={\\bf Pred}\\, ({\\bf Pred \\, 3})={\\bf Pred\\, 2}={\\bf 1}$"
   ]
  },
  {
   "cell_type": "markdown",
   "metadata": {},
   "source": [
    "#### Exercice 15"
   ]
  },
  {
   "cell_type": "markdown",
   "metadata": {},
   "source": [
    "Qu'obtient-t-on «intuivement» en changeant l'ordre des entiers dans l'exemple précédent? Le vérifier!"
   ]
  },
  {
   "cell_type": "markdown",
   "metadata": {
    "jupyter": {
     "source_hidden": true
    }
   },
   "source": [
    "Comme on est «cantonné» aux nombres entiers **naturels** ($\\geqslant 0$), on s'attend à obtenir **0**, non..?\n",
    "\n",
    "${\\bf Sub\\,2\\,3}={\\bf 3\\, Pred \\,2}={\\bf Pred}\\, ({\\bf Pred \\,} ({\\bf Pred\\, 3}))={\\bf Pred\\, 2}={\\bf Pred}\\, ({\\bf Pred \\,1})={\\bf Pred\\, 0}={\\bf 0}$"
   ]
  },
  {
   "cell_type": "markdown",
   "metadata": {},
   "source": [
    "### Tests d'égalités et d'inégalités"
   ]
  },
  {
   "cell_type": "markdown",
   "metadata": {},
   "source": [
    "Définissons par exemple $\\geqslant$; cet «opérateur attend deux arguments et vu que (en notation mathématique normale) $x\\geqslant y \\iff y - x\\leqslant 0$, on est conduit à poser:"
   ]
  },
  {
   "cell_type": "markdown",
   "metadata": {},
   "source": [
    "$${\\bf Geq }\\equiv \\lambda mn.{\\bf Z}\\,({\\bf Sub\\,} nm)$$ "
   ]
  },
  {
   "cell_type": "markdown",
   "metadata": {},
   "source": [
    "*Note*: «Geq» pour «Greater or equal»."
   ]
  },
  {
   "cell_type": "markdown",
   "metadata": {},
   "source": [
    "#### Exercice 16"
   ]
  },
  {
   "cell_type": "markdown",
   "metadata": {},
   "source": [
    "1. Calculer ${\\bf Geq\\, 3\\, 2}$, ${\\bf Geq\\, 3\\, 3}$ et ${\\bf Geq\\, 2\\, 3}$"
   ]
  },
  {
   "cell_type": "markdown",
   "metadata": {
    "jupyter": {
     "source_hidden": true
    }
   },
   "source": [
    "${\\bf Geq\\, 3\\, 2}={\\bf Z}\\,({\\bf Sub\\, 2\\, 3})={\\bf Z\\, 0}={\\bf V}$\n",
    "\n",
    "${\\bf Geq\\, 3\\, 3}={\\bf Z}\\,({\\bf Sub\\, 3\\, 3})={\\bf Z\\, 0}={\\bf V}$\n",
    "\n",
    "${\\bf Geq\\, 2\\, 3}={\\bf Z}\\,({\\bf Sub\\, 3\\, 2})={\\bf Z\\, 1}={\\bf F}$"
   ]
  },
  {
   "cell_type": "markdown",
   "metadata": {},
   "source": [
    "2. Comment pourrait-on définir un test d'égalité ${\\bf Eq}$. Y réfléchir un peu puis regarder la solution proposée (se souvenir des booléens et de leurs opérations...):"
   ]
  },
  {
   "cell_type": "markdown",
   "metadata": {
    "jupyter": {
     "source_hidden": true
    }
   },
   "source": [
    "$${\\bf Eq}\\equiv \\lambda mn.{\\bf ET}\\, ({\\bf Geq}\\,mn)\\,({\\bf Geq}\\, nm)$$"
   ]
  },
  {
   "cell_type": "markdown",
   "metadata": {},
   "source": [
    "3. Définir les fonctions «strictement plus petit que» ${\\bf Lt}$ (*less than*) et «strictement plus grand que» ${\\bf Gt}$ (*greater than*); elles prennent deux arguments numériques."
   ]
  },
  {
   "cell_type": "markdown",
   "metadata": {
    "jupyter": {
     "source_hidden": true
    }
   },
   "source": [
    "${\\bf Lt}={\\bf !\\, Geq}$\n",
    "\n",
    "${\\bf Gt}={\\bf Et\\,}({\\bf !\\,Z})\\,{\\bf Geq}$"
   ]
  },
  {
   "cell_type": "markdown",
   "metadata": {},
   "source": [
    "### Récursion"
   ]
  },
  {
   "cell_type": "markdown",
   "metadata": {},
   "source": [
    "On peut l'exprimer dans ce système en utilisant cette $\\lambda$-expression appelée «combinateur de point fixe»:"
   ]
  },
  {
   "cell_type": "markdown",
   "metadata": {},
   "source": [
    "$${\\bf Y}\\equiv \\lambda y.(\\lambda x.y(xx))(\\lambda x.y(xx))$$"
   ]
  },
  {
   "cell_type": "markdown",
   "metadata": {},
   "source": [
    "Si on l'applique à une fonction non précisée ${\\bf R}$, cela produit:\n",
    "\n",
    "$${\\bf Y\\,R}=(\\lambda u.{\\bf R\\,}(uu))(\\lambda x.{\\bf R\\,}(xx))={\\bf R\\,}(\\underbrace{(\\lambda x.{\\bf R\\,}(xx))(\\lambda x.{\\bf R\\,}(xx))}_{{\\bf Y\\,R}})$$\n",
    "\n",
    "En résumé ${\\bf R\\,}({\\bf Y\\,R})$ d'où:\n",
    "\n",
    "$${\\bf Y\\,R}={\\bf R\\,}({\\bf Y\\,R})={\\bf R\\,}({\\bf R\\,}({\\bf Y\\,R}))=\\dots$$\n"
   ]
  },
  {
   "cell_type": "markdown",
   "metadata": {},
   "source": [
    "Prenons pour exemple le calcul classique de «somme des entiers de 0 à n»; on peut l'exprimer récursivement comme suit:\n",
    "«Si n vaut 0 alors 0 autrement ajouter n à la somme des entiers de 0 à n-1»\n",
    "\n",
    "En lambda calcul, on voudrait quelquechose comme:\n",
    "\n",
    "$$\\lambda n.{\\bf Z\\,}n{\\bf \\,0\\,}({\\bf Add\\, }n{\\,(\\text{«self»}\\,}({\\bf Pred\\,}n)))$$ "
   ]
  },
  {
   "cell_type": "markdown",
   "metadata": {},
   "source": [
    "L'idée est de faire de «self» un paramètre $r$ de la fonction et d'utiliser $Y$ pour exprimer que ce paramètre est la fonction elle-même (zarbi comme idée et pourtant...):\n",
    "\n",
    "$${\\bf Somme}\\equiv \\lambda rn.{\\bf Z\\,}n{\\bf \\,0\\,}({\\bf Add\\, }nr({\\bf Pred\\,}n)))$$"
   ]
  },
  {
   "cell_type": "markdown",
   "metadata": {},
   "source": [
    "Pour lancer l'appel «recursif» (pour passer la fonction à elle-même) nous appliquons ${\\bf Y}$ à notre «fonction»; par exemple (souvenez vous que ${\\bf Y\\, R}={\\bf R\\,} ({\\bf Y\\,R})$ quel que soit ${\\bf R}$...):\n",
    "\n",
    "$$\\begin{eqnarray}{\\bf Y\\,Somme\\, 3}&=&{\\bf Somme\\,}({\\bf Y\\,Somme}) {\\bf\\, 3}\\cr &=&\\underbrace{{\\bf Z\\,3}}_{{\\bf F}}{\\bf \\,0\\,}({\\bf Add\\, 3\\,} ({\\bf Y\\,Somme\\,}({\\bf Pred \\,3})))\\cr\n",
    "&=&{\\bf Add\\, 3\\,} ({\\bf Y\\,Somme\\,}({\\bf Pred\\,3}))\\cr\n",
    "&=&{\\bf Add\\, 3\\,} (\\underbrace{{\\bf Y\\, Somme}}_{{\\bf Y\\,R }=\\dots}\\,{\\bf 2})\\cr\n",
    "&=&\\dots\\end{eqnarray}$$"
   ]
  },
  {
   "cell_type": "markdown",
   "metadata": {},
   "source": [
    "En fait, à y réféchir de plus près, la véritable fonction «somme» serait plutôt ${\\bf Y\\, Somme}$ ... on a simplifié un petit peu pour mettre en évidence «le procédé» de définition récursive dans le $\\lambda$-calcul."
   ]
  },
  {
   "cell_type": "markdown",
   "metadata": {},
   "source": [
    "#### Exercice 17"
   ]
  },
  {
   "cell_type": "markdown",
   "metadata": {},
   "source": [
    "1. Terminer ce calcul! (termine-t-il au fait?)"
   ]
  },
  {
   "cell_type": "markdown",
   "metadata": {
    "jupyter": {
     "source_hidden": true
    }
   },
   "source": [
    "$$\n",
    "\\begin{eqnarray}\n",
    "\\dots&=&{\\bf Add\\, 3\\,} (\\underbrace{{\\bf Y\\, Somme}}_{{\\bf Y\\,R=R\\,(Y\\,R)}}{\\bf \\,2})\\cr\n",
    "&=& {\\bf Add\\,3\\,} ({\\bf Somme\\,} ({\\bf Y\\, Somme}) {\\bf \\,2})\\cr\n",
    "&=& {\\bf Add\\,3\\,} (\\underbrace{{\\bf Z\\,2}}_{F}{\\bf \\,0\\,}({\\bf Add\\, 2\\,}({\\bf Y\\, Somme}\\,({\\bf Pred\\, 2}))))\\cr\n",
    "&=& {\\bf Add\\,3\\,} ({\\bf Add\\, 2\\,} ({\\bf Y\\, Somme\\, 1}))\\cr\n",
    "&=& \\dots \\cr\n",
    "&=& {\\bf Add\\,3\\,} ({\\bf Add\\, 2\\,} ({\\bf Add\\, 1\\,} (\\underbrace{{\\bf Z\\, 0}}_{V}{\\bf \\,0\\,}({\\bf Add\\, 0\\,}({\\bf Y\\, Somme}\\,({\\bf Pred\\, 0}))))))\\cr\n",
    "&=& {\\bf Add\\,3\\,} ({\\bf Add\\, 2\\,} ({\\bf Add\\, 1\\, 0}))\\cr\n",
    "&=& {\\bf Add\\,3\\,} ({\\bf Add\\, 2\\, 1})\\cr\n",
    "&=& {\\bf Add\\,3\\, 3}={\\bf 6}\\quad 3+2+1+0=6 ~(\\text{ouf!})\n",
    "\\end{eqnarray}$$"
   ]
  },
  {
   "cell_type": "markdown",
   "metadata": {},
   "source": [
    "2. En imitant le procédé donné pour ${\\bf Somme}$, définir («programmer»?) la multiplication ${\\bf Mult}$ de deux nombres entiers positifs en observant attentivement l'égalité suivante (en notation mathématiques habituelle...):\n",
    "\n",
    "$$n\\times 0=0\\qquad \\text{et}\\qquad n\\times m = n + n\\times (m-1)$$ "
   ]
  },
  {
   "cell_type": "markdown",
   "metadata": {
    "jupyter": {
     "source_hidden": true
    }
   },
   "source": [
    "${\\bf Mult}\\equiv\\lambda rnm.{\\bf Z\\,}m{\\bf \\,0\\,Add\\,}n (rn({\\bf Pred\\,} m))$\n",
    "\n",
    "Noter que pour lancer le calcul il faut appliquer $Y$ à cette fonction avant tout...\n",
    "\n",
    "${\\bf Y\\,Mult\\, 5\\, 2}$ nous donnera 10 mais pas ${\\bf Mult\\,5\\,2}$... qui ne demarre pas car il manque $r$ qui seul peut «débloquer» l'opération. On peut aussi dire que la multiplication à laquelle on pense est en fait ${\\bf Y\\, Mult}$."
   ]
  },
  {
   "cell_type": "markdown",
   "metadata": {},
   "source": [
    "## Vers la programmation fonctionnelle"
   ]
  },
  {
   "cell_type": "markdown",
   "metadata": {},
   "source": [
    "Cette courte (???) introduction au $\\lambda$-calcul devrait vous permettre de sentir sa «puissance»: il a été démontré (par Turing) que la notion de «calculabilité» qu'il définit est la même que celle des machines de Turing (qui servent précisément à définir cette notion - [thèse de Church-Turing](https://fr.wikipedia.org/wiki/Th%C3%A8se_de_Church)) "
   ]
  },
  {
   "cell_type": "markdown",
   "metadata": {},
   "source": [
    "Bien que presque vide - une petite grammaire et une seule opération de réduction - on peut reconstruire la plupart des objets couramment manipulées en informatique (en fait tous!)."
   ]
  },
  {
   "cell_type": "markdown",
   "metadata": {},
   "source": [
    "Il faut observer que le $\\lambda$-calcul place au centre de son monde les notions de **fonction** et d'**application** d'une fonction à ... quelque chose qui bien souvent est aussi une fonction: tout cela pour produire ... une nouvelle **fonction** ... \n",
    "\n",
    "> la notion de **fonction** y est centrale et il n'y a **pas de distinction entre fonction et «valeur»**."
   ]
  },
  {
   "cell_type": "markdown",
   "metadata": {},
   "source": [
    "Cependant, les fonctions du lambda-calcul ne sont pas les mêmes que celles qu'on manipule couramment en informatique: elles sont dites **«pures»**.\n",
    "\n",
    "> **fonction pure**: son application à un jeu de paramètres donné produit **toujours** le même résultat (comme en mathématiques, $f(x)$ est **L**'image - donc *unique* - d'un $x$ donné)"
   ]
  },
  {
   "cell_type": "markdown",
   "metadata": {},
   "source": [
    "Il est très facile de produire des fonctions «impures»:"
   ]
  },
  {
   "cell_type": "code",
   "execution_count": null,
   "metadata": {},
   "outputs": [],
   "source": [
    "def impure(n):\n",
    "    return n + len(a)\n",
    "a = [1, 2, 3]\n",
    "print(impure(2))\n",
    "a.append(4)\n",
    "print(impure(2))"
   ]
  },
  {
   "cell_type": "markdown",
   "metadata": {},
   "source": [
    "La fonction ci-dessus est *impure* au sens où la valeur qu'elle produit *dépend de son environnement* et non pas seulement du paramètre reçu: une fonction au sens du lambda calcul ne peut faire cela...\n",
    "\n",
    "Au fait, la fonction pré-définie *len* est «pure»... voici un autre exemple de «fonction» impure."
   ]
  },
  {
   "cell_type": "code",
   "execution_count": null,
   "metadata": {},
   "outputs": [],
   "source": [
    "def simple(a, x):\n",
    "    a.append(x)\n",
    "    return len(a)\n",
    "\n",
    "truc = [1, 2, 3]\n",
    "print(simple(truc, 5))\n",
    "print(simple(truc, 5))"
   ]
  },
  {
   "cell_type": "markdown",
   "metadata": {},
   "source": [
    "Mêmes arguments mais le résultat est différent... donc `simple` est une fonction «impure» (on parle parfois de *procédure* pour qualifier ces fonctions «généralisées»).\n",
    "\n",
    "*Pourquoi est-elle impure?* Cela vient de ce qu'une «liste python» est un objet *muable* et, pour cette raison, la fonction reçoit une *référence* vers cet objet: en fait `a` contient l'adresse en mémoire de la première case du tableau qui représente la liste.\n",
    "\n",
    "> Un objet «muable» - dont la structure interne peut être modifiée - est toujours manipulé par *référence*: le nom qui sert à le manipuler est l'adresse de cet objet en mémoire.\n",
    "\n",
    "et donc il peut être modifié par la fonction: on appelle cela un **effet de bord**. Une fonction «pure» ne peut pas faire cela, elle n'a pas d'effet de bord..."
   ]
  },
  {
   "cell_type": "markdown",
   "metadata": {},
   "source": [
    "> Une fonction pure ne peut pas avoir d'effet de bord."
   ]
  },
  {
   "cell_type": "markdown",
   "metadata": {},
   "source": [
    "En particulier, il n'est dès lors pas possible de **raisonner sur les noms** comme on le fait en mathématique. \n",
    "\n",
    "Par exemple, $x+x=2x$ est toujours vraie en maths et cela quel que soit le *nombre* que représente (dénote) $x$; de même $f(x)+f(x)=2f(x)$ si $f$ dénote une fonction qui attend un nombre et en produit un autre: on parle de **transparence référentielle**.\n",
    "\n",
    "Mais cela n'est pas vrai pour la «fonction» `simple` définie précédemment: "
   ]
  },
  {
   "cell_type": "code",
   "execution_count": null,
   "metadata": {},
   "outputs": [],
   "source": [
    "assert simple(truc, 5) + simple(truc, 5) == 2 * simple(truc, 5), \"problème de «transparence référentielle»\""
   ]
  },
  {
   "cell_type": "markdown",
   "metadata": {},
   "source": [
    "Ainsi, la programmation fonctionnelle doit *rejeter les objets muables* ou plutôt (si on est plus «libéral») elle doit les traiter comme des objets  immuables; *interdit de modifier un objet passé à une fonction (comme argument) **dans** cette fonction*!"
   ]
  },
  {
   "cell_type": "markdown",
   "metadata": {},
   "source": [
    "> **Transparence référentielle**: les noms sont «transparents» - chaque occurence du même nom (et celui-ci peut-être composé de plusieurs sous-noms comme $f(x)$) désigne le même objet - on peut donc remplacer un nom par l'objet qu'il désigne partout où ce nom apparaît (ou tout du moins dans la «portée» de ce nom)."
   ]
  },
  {
   "cell_type": "markdown",
   "metadata": {},
   "source": [
    "Il faut donc - en Python - *traiter les objets comme immuables pour obtenir des fonctions «pures»*:"
   ]
  },
  {
   "cell_type": "code",
   "execution_count": null,
   "metadata": {},
   "outputs": [],
   "source": [
    "def simple_pure(a, x):\n",
    "    b = a + [x]\n",
    "    return len(b) # ou len(a+[x])\n",
    "\n",
    "assert simple_pure(truc, 5) + simple_pure(truc, 5) == 2 * simple_pure(truc, 5), \"problème de «transparence référencielle»\""
   ]
  },
  {
   "cell_type": "markdown",
   "metadata": {},
   "source": [
    "*Pourquoi cela fonctionne-t-il*? `l1 + l2` produit une *nouvelle liste* et les listes `l1` et `l2` ne sont pas modifiées.\n",
    "\n",
    "Ainsi, cette opération `+` «traite» les listes *comme si elles étaient immuables*. \n",
    "\n",
    "Pour cette raison, Python propose souvent *les opérations en double*: l'une pour la programmation impérative (comme `append`) l'autre pour la programmation fonctionnelle (comme `+`)."
   ]
  }
 ],
 "metadata": {
  "kernelspec": {
   "display_name": "Python 3",
   "language": "python",
   "name": "python3"
  },
  "language_info": {
   "codemirror_mode": {
    "name": "ipython",
    "version": 3
   },
   "file_extension": ".py",
   "mimetype": "text/x-python",
   "name": "python",
   "nbconvert_exporter": "python",
   "pygments_lexer": "ipython3",
   "version": "3.7.3"
  }
 },
 "nbformat": 4,
 "nbformat_minor": 4
}
