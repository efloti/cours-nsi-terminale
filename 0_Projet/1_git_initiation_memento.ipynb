{
 "cells": [
  {
   "cell_type": "markdown",
   "metadata": {},
   "source": [
    "# Initiation à git - en «local»"
   ]
  },
  {
   "cell_type": "markdown",
   "metadata": {},
   "source": [
    "[Vidéo d'accompagnement](https://vimeo.com/473925949)"
   ]
  },
  {
   "cell_type": "markdown",
   "metadata": {},
   "source": [
    "## Configurer - initialiser"
   ]
  },
  {
   "cell_type": "markdown",
   "metadata": {},
   "source": [
    "- configuration minimale:\n",
    "\n",
    "        git config --global user.name <nom>\n",
    "        git config --global user.email <email>"
   ]
  },
  {
   "cell_type": "markdown",
   "metadata": {},
   "source": [
    "- autres exemples (éditeur par défaut et alias):\n",
    "    \n",
    "        git config --global core.editor <editeur>\n",
    "        git config --global alias.tr \"log --oneline --graph --all\""
   ]
  },
  {
   "cell_type": "markdown",
   "metadata": {},
   "source": [
    "- initialiser un répertoire local:\n",
    "    \n",
    "        git init <repertoire>"
   ]
  },
  {
   "cell_type": "markdown",
   "metadata": {},
   "source": [
    "## Commandes les plus fréquentes"
   ]
  },
  {
   "cell_type": "markdown",
   "metadata": {},
   "source": [
    "- **status** - Connaître l'état courant du dépôt:\n",
    "\n",
    "        git status\n",
    "        "
   ]
  },
  {
   "cell_type": "markdown",
   "metadata": {},
   "source": [
    "- **add** - Passer un fichier ou un répertoire en suivi de version et/ou l'indexer pour validation:\n",
    "\n",
    "        git add <nom_fichier>"
   ]
  },
  {
   "cell_type": "markdown",
   "metadata": {},
   "source": [
    "- **commit** - Validation:\n",
    "\n",
    "        git commit -m \"précision sur la validation\""
   ]
  },
  {
   "cell_type": "markdown",
   "metadata": {},
   "source": [
    "## Historique du dépôt"
   ]
  },
  {
   "cell_type": "markdown",
   "metadata": {},
   "source": [
    "    git log <options>"
   ]
  },
  {
   "cell_type": "markdown",
   "metadata": {},
   "source": [
    "Exemple:  <tt>git log --oneline --graph --all</tt> ou <tt>git tr</tt> (voir config plus tôt...)."
   ]
  },
  {
   "cell_type": "markdown",
   "metadata": {},
   "source": [
    "## Branches"
   ]
  },
  {
   "cell_type": "markdown",
   "metadata": {},
   "source": [
    "- créer une branche locale (ou afficher les branches):\n",
    "\n",
    "        git branch <nom_branche>\n",
    "    "
   ]
  },
  {
   "cell_type": "markdown",
   "metadata": {},
   "source": [
    "- aller sur une branche (ou sur n'importe quel commit):\n",
    "\n",
    "        git checkout <nom_branche>"
   ]
  },
  {
   "cell_type": "markdown",
   "metadata": {},
   "source": [
    "- fusionner \\[*merge*\\] une branche dans la branche courante:\n",
    "\n",
    "        git merge <branche_a_fusionner>"
   ]
  },
  {
   "cell_type": "markdown",
   "metadata": {},
   "source": [
    "## Récupérer un dépôt publique"
   ]
  },
  {
   "cell_type": "markdown",
   "metadata": {},
   "source": [
    "    git clone <url_depot>"
   ]
  },
  {
   "cell_type": "markdown",
   "metadata": {},
   "source": [
    "Ressources:\n",
    "\n",
    "- [site officiel de git et son livre (en fr)](https://git-scm.com/book/fr/v2) - surtout [ch2](https://git-scm.com/book/fr/v2/Les-bases-de-Git-D%C3%A9marrer-un-d%C3%A9p%C3%B4t-Git)\n",
    "- [Mieux comprendre les branches de git](https://learngitbranching.js.org) - sorte de TP dans le navigateur.\n",
    "- [TP sur git (université - en français)](http://www.cristal.univ-lille.fr/TPGIT/)"
   ]
  }
 ],
 "metadata": {
  "kernelspec": {
   "display_name": "Python 3",
   "language": "python",
   "name": "python3"
  },
  "language_info": {
   "codemirror_mode": {
    "name": "ipython",
    "version": 3
   },
   "file_extension": ".py",
   "mimetype": "text/x-python",
   "name": "python",
   "nbconvert_exporter": "python",
   "pygments_lexer": "ipython3",
   "version": "3.7.3"
  }
 },
 "nbformat": 4,
 "nbformat_minor": 4
}
