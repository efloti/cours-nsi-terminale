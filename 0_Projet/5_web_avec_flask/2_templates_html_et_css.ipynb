{
 "cells": [
  {
   "cell_type": "markdown",
   "metadata": {},
   "source": [
    "# Flask: templates et mise en forme "
   ]
  },
  {
   "cell_type": "markdown",
   "metadata": {},
   "source": [
    "[Vidéo d'accompagnement](https://vimeo.com/503856059)"
   ]
  },
  {
   "cell_type": "markdown",
   "metadata": {},
   "source": [
    "Pour éviter de reprendre la partie sur sqlite, voici quelques fonctions pour nous simplifier la vie. Lire puis exécuter:"
   ]
  },
  {
   "cell_type": "code",
   "execution_count": null,
   "metadata": {},
   "outputs": [],
   "source": [
    "import sqlite3 as db\n",
    "\n",
    "def init_db():\n",
    "    conn = db.connect(\"mini_blog.db\") # connect(nom_fichier) renvoie un handler de connexion\n",
    "    with open(\"schema.sql\") as script: # Ouverture du fichier contenant le schéma de la base\n",
    "        conn.executescript(script.read()) # Sa lecture donne une chaîne qu'on passe à executescript(sql)\n",
    "    conn.close()\n",
    "\n",
    "def recuperer_articles():\n",
    "    \"\"\"Renvoie une liste de tuples\n",
    "    de la forme (id_article, login, cree_le, titre, contenu)\"\"\"\n",
    "    \n",
    "    with db.connect(\"mini_blog.db\") as c:\n",
    "        curs = c.execute(\n",
    "            \"\"\"SELECT articles.id, login, cree_le, titre, contenu \n",
    "               FROM membres JOIN articles\n",
    "                 ON membres.id = articles.auteur_id\n",
    "                 ORDER BY articles.cree_le DESC\n",
    "            \"\"\"\n",
    "        )\n",
    "        return curs.fetchall()\n",
    "\n",
    "def inserer_article(auteur_id, titre, contenu):\n",
    "    with db.connect(\"mini_blog.db\") as c:\n",
    "        curs = c.execute(\n",
    "                 \"\"\"INSERT INTO articles (auteur_id, titre, contenu) \n",
    "                   VALUES (?, ?, ?)\"\"\",\n",
    "                (auteur_id, titre, contenu)\n",
    "            )\n",
    "        c.commit()\n",
    "        \n",
    "def supprimer_article(id_article):\n",
    "    with db.connect(\"mini_blog.db\") as c:\n",
    "        curs = c.execute(\n",
    "                 \"\"\"DELETE FROM articles WHERE id = ?\"\"\",\n",
    "                (id_article,)\n",
    "            )\n",
    "        c.commit()\n",
    "\n",
    "def recuperer_membre(login):\n",
    "    \"\"\"Renvoie un tuple de la forme (id_membre, mot de passe)\n",
    "    ou None si aucun membre n'a le login indiqué.\"\"\"\n",
    "    \n",
    "    with db.connect(\"mini_blog.db\") as c:\n",
    "        curs = c.execute(\n",
    "                 \"\"\"SELECT id, mdp FROM membres WHERE login = ?\"\"\",\n",
    "                (login,)\n",
    "            )\n",
    "        return curs.fetchone()\n",
    "\n",
    "init_db()"
   ]
  },
  {
   "cell_type": "markdown",
   "metadata": {},
   "source": [
    "## 6 - Introduction aux «templates»"
   ]
  },
  {
   "cell_type": "markdown",
   "metadata": {},
   "source": [
    "Il n'est pas commode de mélanger le code Python avec le langage HTML. C'est la raison pour laquelle Flask nous propose d'utiliser les **templates** *jinja*.\n",
    "\n",
    "> *werkzeug, jinja* ??? Flask est en réalité composé de plusieurs briques logicielles dédiées au web et groupées dans le projet [*pallets*](https://palletsprojects.com/)."
   ]
  },
  {
   "cell_type": "markdown",
   "metadata": {},
   "source": [
    "L'idée d'un **template** est de pouvoir mélanger des éléments HTML avec une sorte de *mini-langage* dans le but de produire le HTML final. L'objectif est ici de **séparer** (*découpler*) le code python de l'application avec la description de la page que ce code vise à produire, en application du sacro-saint principe de **modularité** (découper le complexe en éléments plus simples ou modules)."
   ]
  },
  {
   "cell_type": "markdown",
   "metadata": {},
   "source": [
    "Concrètement, un template jinja est une sorte de HTML avec des points d'insertions de la forme `{% instruction %}`. ou `{{ variable }}`. Par exemple pour écrire le HTML de notre page d'accueil précédente, on pourrait écrire un templates comme celui-ci:"
   ]
  },
  {
   "cell_type": "markdown",
   "metadata": {},
   "source": [
    "```jinja2\n",
    "{% for _, login, cree_le, titre, contenu in articles %}\n",
    "    <article>\n",
    "      <h3 style=\"margin-bottom: 0\">{{ titre }}</h3>\n",
    "      <p style=\"margin-top: 0; font-size: 80%\">\n",
    "      crée le {{ cree_le }} par <em>{{ login }}</em>\n",
    "      </p>\n",
    "      <p style=\"padding-left: 20px\">{{ contenu }}</p>\n",
    "      <hr/>\n",
    "    </article>\n",
    "{% endfor %}\n",
    "```"
   ]
  },
  {
   "cell_type": "markdown",
   "metadata": {},
   "source": [
    "Reprenons *app5* mais juste la page d'accueil. On commence par importer `render_template(nom_templates[, nom1=v1, nom2=v2, ..])` et son code devient (juste pour l'accueil):"
   ]
  },
  {
   "cell_type": "code",
   "execution_count": null,
   "metadata": {},
   "outputs": [],
   "source": [
    "from flask import Flask, render_template\n",
    "\n",
    "app6 = Flask(__name__, template_folder='templates/app6') # similaire à app5 mais avec l'utilisation des templates\n",
    "\n",
    "@app6.route('/')\n",
    "def accueil(): # comparer avec le code de app5\n",
    "    return render_template(\n",
    "        'accueil.html',           # nom du template (qui doit-être situé dans un dossier templates)\n",
    "         articles=recuperer_articles() # variable «articles» accessible depuis le template\n",
    "    )"
   ]
  },
  {
   "cell_type": "code",
   "execution_count": null,
   "metadata": {},
   "outputs": [],
   "source": [
    "from serveur import lancer # lancer(application) ou lancer(application, port) \n",
    "\n",
    "lancer(app6, 8006)"
   ]
  },
  {
   "cell_type": "markdown",
   "metadata": {},
   "source": [
    "Soyez vigilent aux éléments de syntaxe de ce mini-langage qui *ressemble* à Python mais n'**est pas Python**: il a ses propres règles...\n",
    "\n",
    "Par exemple, il est nécessaire d'indiquer `{% endfor %}` car ce mini-langage est insensible à l'indentation. `{{valeur}}` NON mais `{{ valeur }}` est correct etc. En cas de doute, il faudra vous référerez à sa [documentation](https://jinja.palletsprojects.com/en/2.11.x/templates/)."
   ]
  },
  {
   "cell_type": "markdown",
   "metadata": {},
   "source": [
    "## 7 - Composition de templates"
   ]
  },
  {
   "cell_type": "markdown",
   "metadata": {},
   "source": [
    "Souvent, les multiples pages qui composent un site web dynamique ont une structure commune.\n",
    "\n",
    "Par exemple, pour notre «Micro-blog NSI», on pourrait avoir le template de base (dans *templates/base.html*):\n",
    "\n",
    "```jinja2\n",
    "<!doctype html>\n",
    "<html>\n",
    "  <head>\n",
    "    {% include 'head.html' %}\n",
    "    <title>{% block titre %}{% endblock %}Micro Blog NSI</title>\n",
    "  </head>\n",
    "  <body>\n",
    "    <nav>\n",
    "      {% include 'nav.html' %}\n",
    "    </nav>\n",
    "    <section>\n",
    "      <header>\n",
    "        {% block entete %}{% endblock %}\n",
    "      </header>\n",
    "      {% block contenu %}{% endblock %}\n",
    "    </section>\n",
    "  </body>\n",
    "</html>\n",
    "```"
   ]
  },
  {
   "cell_type": "markdown",
   "metadata": {},
   "source": [
    "Observez bien les `include` et les `block`. \n",
    "\n",
    "Les premiers - `include` - servent à **inclure** d'autres templates dans celui-ci: le résultat est simplement l'insertion du template «cible» dans celui-ci (le template «source»)."
   ]
  },
  {
   "cell_type": "markdown",
   "metadata": {},
   "source": [
    "*Exemple* pour *nav.html* qui sera inclus dans *base.html*"
   ]
  },
  {
   "cell_type": "markdown",
   "metadata": {},
   "source": [
    "```jinja2\n",
    "<h1>Mini-Blog</h1>\n",
    "<ul>\n",
    "{% if 'login' in session %}\n",
    "  <li><span>{{ session['login'] }}</span>\n",
    "  <li><a href=\"{{ url_for('logout') }}\">Se déconnecter</a>\n",
    "{% else %}\n",
    "  <li><a href=\"{{ url_for('inscription') }}\">S'inscrire</a>\n",
    "  <li><a href=\"{{ url_for('login') }}\">Se connecter</a>\n",
    "{% endif %}\n",
    "</ul>\n",
    "```"
   ]
  },
  {
   "cell_type": "markdown",
   "metadata": {},
   "source": [
    "Les seconds - `block` - servent à créer de nouveaux templates par **spécialisation**: pour cela on crée un nouveau templates en commençant par `{% extends \"base.html %}` (je spécialise le template «base.html») puis, on précise le contenu particulier des `block` (tout ou partie).\n",
    "\n",
    "Ainsi un template qui étend *base.html* sera de la forme:"
   ]
  },
  {
   "cell_type": "markdown",
   "metadata": {},
   "source": [
    "```jinja2\n",
    "{% extends 'base.html' %}\n",
    "\n",
    "{% block entete %}\n",
    "...\n",
    "{% endblock %}\n",
    "\n",
    "{% block contenu %}\n",
    "...\n",
    "{% endblock %}\n",
    "```"
   ]
  },
  {
   "cell_type": "markdown",
   "metadata": {},
   "source": [
    "*Exemple*: *accueil.html* spécialise (étend) *base.html*"
   ]
  },
  {
   "cell_type": "markdown",
   "metadata": {},
   "source": [
    "```jinja2\n",
    "{% extends 'base.html' %}\n",
    "\n",
    "{% block entete %}\n",
    "  <h1>{% block titre %}Accueil{% endblock %}</h1>\n",
    "  {% if 'mbrid' in session %}\n",
    "    <a class=\"action\" href=\"{{ url_for('editer') }}\">Ajouter</a>\n",
    "  {% endif %}\n",
    "{% endblock %}\n",
    "\n",
    "{% block contenu %}\n",
    "    {% for article_id, login, cree_le, titre, contenu in articles %}\n",
    "        <article>\n",
    "          <head>\n",
    "            <h1>{{ titre }}</h1>\n",
    "            <aside>\n",
    "              crée le {{ cree_le }} par <em>{{ login }}</em>\n",
    "            </aside>\n",
    "          </head>\n",
    "          <p class=\"contenu\">{{ contenu }}</p>\n",
    "          {% if 'login' in session and session['login'] == login %}\n",
    "            <a href=\"{{ url_for('supprimer', id=article_id) }}\">supprimer cet article</a>\n",
    "          {% endif %}\n",
    "          {% if not loop.last %}\n",
    "          <hr/>\n",
    "          {% endif %}\n",
    "        </article>\n",
    "    {% endfor %}\n",
    "{% endblock %}\n",
    "```"
   ]
  },
  {
   "cell_type": "markdown",
   "metadata": {},
   "source": [
    "Cet exemple est un peu long mais il vous permet d'observer que Flask transmet automatiquement aux templates l'objet `session` et la fonction `url_for`.\n",
    "\n",
    "Observer encore que si une vue dépend d'un paramètre comme `supprimer(id_article)` (voir plus bas), on peut utiliser la syntaxe `url_for('nom_vue', nom_param=valeur)` pour créer l'url correspondante."
   ]
  },
  {
   "cell_type": "markdown",
   "metadata": {},
   "source": [
    "L'application Flask qui suit permet:\n",
    "- la connexion et la déconnexion d'un membre,\n",
    "- la suppression de ses articles pour un membre connecté."
   ]
  },
  {
   "cell_type": "code",
   "execution_count": null,
   "metadata": {},
   "outputs": [],
   "source": [
    "from flask import Flask, render_template, request, session, redirect, url_for\n",
    "# from werkzeug.security import check_password_hash\n",
    "\n",
    "app7 = Flask(__name__, template_folder='templates/app7')\n",
    "app7.secret_key = \"dev\"\n",
    "\n",
    "@app7.route('/')\n",
    "def accueil():\n",
    "    return render_template(\n",
    "        'accueil.html', # template situé dans le répertoire templates/app7\n",
    "        articles=recuperer_articles()\n",
    "    )\n",
    "\n",
    "@app7.route('/login', methods=[\"GET\", \"POST\"])\n",
    "def login():\n",
    "    if request.method == \"POST\":\n",
    "        login = request.form[\"login\"]\n",
    "        mdp = request.form[\"mdp\"]\n",
    "        membre = recuperer_membre(login)\n",
    "        # membre = None ou est un 2-tuple de la forme (id, mdp)\n",
    "        if membre and membre[1] == mdp: # mieux: check_password_hash(membre[1], mdp)\n",
    "            session.clear()\n",
    "            # enregistrons quelques informations utiles dans l'objet session.\n",
    "            session['mbrid'] = membre[0]\n",
    "            session['login'] = login\n",
    "            return redirect(url_for('accueil'))\n",
    "    # si \"GET\" ou si l'utilisateur n'est pas reconnue\n",
    "    return render_template(\n",
    "        'login.html'\n",
    "    )\n",
    "\n",
    "@app7.route('/logout')\n",
    "def logout():\n",
    "    session.clear()\n",
    "    return redirect(url_for('accueil'))\n",
    "\n",
    "@app7.route('/supprimer/<int:id>')\n",
    "def supprimer(id):\n",
    "    supprimer_article(id)\n",
    "    return redirect(url_for('accueil'))\n",
    "\n",
    "# la suite sert juste de «bouche trou»\n",
    "@app7.route('/inscription')\n",
    "def inscription():\n",
    "    return redirect(url_for('accueil'))\n",
    "\n",
    "@app7.route('/editer')\n",
    "def editer():\n",
    "    return redirect(url_for('accueil'))"
   ]
  },
  {
   "cell_type": "code",
   "execution_count": null,
   "metadata": {},
   "outputs": [],
   "source": [
    "from serveur import lancer # lancer(application) ou lancer(application, port) \n",
    "\n",
    "lancer(app7, 8006)"
   ]
  },
  {
   "cell_type": "code",
   "execution_count": null,
   "metadata": {},
   "outputs": [],
   "source": [
    "# Pour réinitialiser la base de données si besoin...\n",
    "init_db()"
   ]
  },
  {
   "cell_type": "markdown",
   "metadata": {},
   "source": [
    "## 8 - CSS pour le style"
   ]
  },
  {
   "cell_type": "markdown",
   "metadata": {},
   "source": [
    "Pour charger un fichier de style (*stylesheet*):\n",
    "1. créer un fichier *style.css*,\n",
    "2. le placer dans un dossier nommé **static** situé au même niveau que le fichier définissant l'application,\n",
    "3. et utiliser un ordre de chargement `<link ...>` dans le template *head.html*. "
   ]
  },
  {
   "cell_type": "markdown",
   "metadata": {},
   "source": [
    "Pour la 3e étape, on peut utiliser `url_for` (*head.html*):\n",
    "\n",
    "```jinja2\n",
    "<link rel=\"stylesheet\" href=\"{{ url_for('static', filename='style.css') }}\">\n",
    "```"
   ]
  },
  {
   "cell_type": "markdown",
   "metadata": {},
   "source": [
    "Reste à produire le code CSS ... À notre niveau, on procède par *ajustements successifs* ce qui demande un peu d'organisation.\n",
    "\n",
    "Malheureusement la version communautaire de PyCharm n'offre aucune aide pour css (saisie, coloration syntaxique etc.)  ... mais on peut utiliser VSCodium pour s'en sortir. \n",
    "\n",
    "Autre point important: il faudra demander au navigateur de **rafraîchir le cache** en utilisant `CTRL+F5` (firefox) pour recharger la page; autrement, on ne voit pas les modifications apportées au niveau du style."
   ]
  },
  {
   "cell_type": "markdown",
   "metadata": {},
   "source": [
    "Voici une [vidéo qui vous montre comment procéder](https://vimeo.com/503790766):\n",
    "- revoir les notions essentielles de css,\n",
    "- organiser son environnement de travail,\n",
    "- utiliser les outils de développement du navigateur pour\n",
    "- procéder par ajustements successifs.\n",
    "\n",
    "Exemple de code css de *style.css*:"
   ]
  },
  {
   "cell_type": "markdown",
   "metadata": {},
   "source": [
    "```css\n",
    "html {\n",
    "    font-family: sans-serif;\n",
    "    background: rgb(252, 255, 240); /* floralwhite */\n",
    "}\n",
    "\n",
    "body {\n",
    "    max-width: 960px;\n",
    "    margin: 0 auto;\n",
    "    background: rgb(255, 253, 250);\n",
    "    padding-bottom: 2rem;\n",
    "}\n",
    "\n",
    "nav {\n",
    "    display: flex;\n",
    "    height: 50px;\n",
    "    justify-content: space-between;\n",
    "    align-items: baseline;\n",
    "    background: rgb(255, 238, 203);\n",
    "}\n",
    "\n",
    "nav h1 {\n",
    "    padding-left: 1rem;\n",
    "    margin: .5rem 0;\n",
    "}\n",
    "\n",
    "nav ul {\n",
    "    display: flex;\n",
    "    list-style-type: none;\n",
    "}\n",
    "\n",
    "nav ul li {\n",
    "    margin-right: 1rem;\n",
    "}\n",
    "\n",
    "a {\n",
    "    text-decoration: none;\n",
    "}\n",
    "\n",
    "section {\n",
    "    padding-left: 1rem;\n",
    "}\n",
    "\n",
    "h1, a {\n",
    "    color: rgb(73, 100, 187);\n",
    "}\n",
    "\n",
    "aside {\n",
    "    font-size: smaller;\n",
    "    color: rgb(122, 122, 122);\n",
    "    margin-left: 0.3rem;\n",
    "}\n",
    "\n",
    "article h1 {\n",
    "    margin-bottom: 0.5rem;\n",
    "}\n",
    "\n",
    ".contenu {\n",
    "    padding: 0.5rem 2rem;\n",
    "}\n",
    "\n",
    "hr {\n",
    "    width: 500px;\n",
    "    border-bottom: 0;\n",
    "    border-left: 0;\n",
    "    border-right: 0;\n",
    "    border-top: 1px solid lightgrey;\n",
    "}\n",
    "\n",
    "form {\n",
    "    margin: 3rem auto;\n",
    "    width: 500px;\n",
    "    padding: 1rem;\n",
    "    border: 1px solid #CCC;\n",
    "    border-radius: 1rem;\n",
    "}\n",
    "\n",
    "form label {\n",
    "    display: inline-block;\n",
    "    width: 35%;\n",
    "    text-align: right;\n",
    "    margin-bottom: 1rem;\n",
    "    font-weight: bold;\n",
    "}\n",
    "\n",
    "form div:last-child {\n",
    "    margin-top: 1em;\n",
    "    text-align: center;\n",
    "}\n",
    "```"
   ]
  }
 ],
 "metadata": {
  "kernelspec": {
   "display_name": "Python 3",
   "language": "python",
   "name": "python3"
  },
  "language_info": {
   "codemirror_mode": {
    "name": "ipython",
    "version": 3
   },
   "file_extension": ".py",
   "mimetype": "text/x-python",
   "name": "python",
   "nbconvert_exporter": "python",
   "pygments_lexer": "ipython3",
   "version": "3.7.3"
  }
 },
 "nbformat": 4,
 "nbformat_minor": 4
}
