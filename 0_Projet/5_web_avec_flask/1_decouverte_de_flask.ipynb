{
 "cells": [
  {
   "cell_type": "markdown",
   "metadata": {},
   "source": [
    "# Découverte de Flask"
   ]
  },
  {
   "cell_type": "markdown",
   "metadata": {},
   "source": [
    "[Vidéo d'accompagnement](https://vimeo.com/501659567)"
   ]
  },
  {
   "cell_type": "markdown",
   "metadata": {},
   "source": [
    "**Notre Objectif final** est de réaliser un «micro blog» permettant à de multiples utilisateurs d'éditer et de fédérer des articles au sein d'une page web. Un utilisateur est tout internaute qui s'inscrit sur la plateforme; Une fois inscrit et connecté, il peut alors éditer, modifier, supprimer leurs articles à volonté. La page principale recense les articles de tous ces utilisateurs."
   ]
  },
  {
   "cell_type": "markdown",
   "metadata": {},
   "source": [
    "## Vue d'ensemble du «web»\n",
    "\n",
    "L'utilisateur est derrière son client web. Il navigue de «page en page» ordinairement par l'intermédiaire de **liens** ou de **boutons** de type *submit* (adossé à un formulaire)."
   ]
  },
  {
   "cell_type": "code",
   "execution_count": null,
   "metadata": {},
   "outputs": [],
   "source": [
    "%%HTML\n",
    "<a href=\"...\">lien...</a>\n",
    "<input type=\"submit\" value=\"valider\"/>"
   ]
  },
  {
   "cell_type": "markdown",
   "metadata": {},
   "source": [
    "Cela a pour effet de produire une *requête* *(request)* HTTP (de type GET ou POST) envoyé à un serveur web dont le rôle est de réagir en produisant une *réponse* (*response*) HTTP qui contient éventuellement une nouvelle page web sous la forme d'un texte formaté en HTML."
   ]
  },
  {
   "cell_type": "markdown",
   "metadata": {},
   "source": [
    "Lorsqu'on clique sur le bouton «valider» d'un formulaire, cela produit une requête qui peut-être de type:\n",
    "- GET: les données du formulaire sont placées *directement dans l'url* (champ recherche d'un moteur de recherche) sous la forme *\\<debut_url\\>?nom1=v1&nom2=v2*\n",
    "- POST: les données sont placées dans le corps de la requête."
   ]
  },
  {
   "cell_type": "code",
   "execution_count": null,
   "metadata": {},
   "outputs": [],
   "source": [
    "%%HTML\n",
    "<form method=\"post\">\n",
    "<input type=\"date\" name=\"une_date\">\n",
    "<input type=\"submit\" value=\"envoyer\">\n",
    "</form>"
   ]
  },
  {
   "cell_type": "markdown",
   "metadata": {},
   "source": [
    "Si ce formulaire appartient à la «ressource» `http://example.com/une_page`, une requête **POST** est envoyé *à la même ressource* et son *corps* contient une chaîne de la forme `une_date=<date choisie>`."
   ]
  },
  {
   "cell_type": "markdown",
   "metadata": {},
   "source": [
    "Souvent la requête est retransmise par le serveur à un script (programme) dont le rôle est de construire la réponse à la place du serveur: le serveur joue alors le rôle de **passerelle** (*gateway*) entre le client et le programme (qu'on qualifie souvent d'**application** dans ce contexte)."
   ]
  },
  {
   "cell_type": "markdown",
   "metadata": {},
   "source": [
    "Enfin, les données éventuelles sont souvent sauvegardées/restaurées par l'application qui communique avec un **système de gestion de base de données** (SGBD). On obtient donc le schéma récapitulatif suivant:"
   ]
  },
  {
   "attachments": {
    "e24cb21a-dfe5-42cf-b914-7f932d639d32.png": {
     "image/png": "[encoded data removed]"
    }
   },
   "cell_type": "markdown",
   "metadata": {},
   "source": [
    "<p style=\"text-align: center;\">\n",
    "     <img src=\"attachment:e24cb21a-dfe5-42cf-b914-7f932d639d32.png\"/>\n",
    "</p>"
   ]
  },
  {
   "cell_type": "markdown",
   "metadata": {},
   "source": [
    "Le protocole standard de communication entre un serveur web et une application python est WSGI. Nous ne le détaillerons pas, mais c'est celui qu'utilise la librairie Flask introduite ci-après."
   ]
  },
  {
   "cell_type": "markdown",
   "metadata": {},
   "source": [
    "## 1 - Flask - Hello World"
   ]
  },
  {
   "cell_type": "markdown",
   "metadata": {},
   "source": [
    "On commence par créer une application flask:"
   ]
  },
  {
   "cell_type": "code",
   "execution_count": null,
   "metadata": {},
   "outputs": [],
   "source": [
    "from flask import Flask\n",
    "app1 = Flask(__name__)"
   ]
  },
  {
   "cell_type": "markdown",
   "metadata": {},
   "source": [
    "Puis, on configure une «**vue**» qui est une simple fonction «décorée» avec `@app.route()`. Cela sert à «prévenir l'application» de réagir à une requête `GET /` en construisant une réponse avec la chaîne renvoyée."
   ]
  },
  {
   "cell_type": "code",
   "execution_count": null,
   "metadata": {},
   "outputs": [],
   "source": [
    "@app1.route(\"/\")\n",
    "def salut(): # «vue» associée à cette route\n",
    "    return \"<h1>Salut tout le monde!</h1>\""
   ]
  },
  {
   "cell_type": "markdown",
   "metadata": {},
   "source": [
    "Reste à faire «tourner cette application»"
   ]
  },
  {
   "cell_type": "code",
   "execution_count": null,
   "metadata": {},
   "outputs": [],
   "source": [
    "from serveur import lancer # lancer(application) ou lancer(application, port) \n",
    "\n",
    "lancer(app1)"
   ]
  },
  {
   "cell_type": "markdown",
   "metadata": {},
   "source": [
    "*Note*: la fonction `lancer` prend en deuxième paramètre optionnel un numéro de port entre 8000 et 8999 (au cas où le port par défaut est occupé)"
   ]
  },
  {
   "cell_type": "markdown",
   "metadata": {},
   "source": [
    "#### Exercice 1"
   ]
  },
  {
   "cell_type": "markdown",
   "metadata": {},
   "source": [
    "Sachant qu'il est possible de «paramétrer» une vue en fonction de la «route» demandée avec la syntaxe:\n",
    "```python\n",
    "@app1.route(\"/partie_fixe/<param>\") # les chevrons font parties de la syntaxe\n",
    "def salut_a(param):\n",
    "    pass #faire quelquechose avec param\n",
    "```\n",
    "ajouter une nouvelle *vue* qui permet de saluer une personne par son **nom**: Par exemple, si la requête est de la forme `GET /salut/pauline`, l'application affiche *Salut Pauline!*."
   ]
  },
  {
   "cell_type": "markdown",
   "metadata": {},
   "source": [
    "## Travailler avec PyCharm"
   ]
  },
  {
   "cell_type": "markdown",
   "metadata": {},
   "source": [
    "Il est plus commode de travailler en local avec un éditeur comme PyCharm."
   ]
  },
  {
   "cell_type": "markdown",
   "metadata": {},
   "source": [
    "#### Exercice 2\n",
    "\n",
    "En suivant le **guide ci-dessous**, configurer Pycharm pour faire fonctionner l'application exemple de la section 1 en local (sur votre machine):\n",
    "1. Commencer par créer un projet `flask_mini_apps`.\n",
    "2. Créer un sous-dossier `demo1` puis placer le code de l'application exemple (*app1*) dans un fichier `demo1/app.py` (renommer systématiquement `app1` en `app`),\n",
    "3. Configurer Pycharm de façon à pouvoir lancer cette application «demo1» avec une commande run nommée `run demo1`."
   ]
  },
  {
   "cell_type": "markdown",
   "metadata": {},
   "source": [
    "**GUIDE PYCHARM**: Après avoir créer un nouveau projet,\n",
    "\n",
    "1. Installer flask (*File -> settings...*),\n",
    "\n",
    "2. Je suppose que vous avez un fichier Python définissant le nom `app` comme dans l'exemple de la section précédente (à cela près que le nom doit-être `app` et non `app1` - donc adapter!)\n",
    "\n",
    "3. Créer une commande pour démarrer un serveur de développement pour cette application flask:\n",
    "   - menu *run -> edit configuration*,\n",
    "   - puis ajouter (*+*) une nouvelle «configuration» pour Python:\n",
    "       - Nommer là `run app` (par exemple!),\n",
    "       - **changer** *Script path* en *Module name* puis indiquer `flask`\n",
    "       - *Parameters*: mettre `run`\n",
    "       - *Environnement variables*: ajouter `FLASK_APP=<nom>;FLASK_ENV=development` où `<nom>` est celui du fichier contenant l'application sans l'extension `.py`,\n",
    "       - **Si** le fichier contenant l'application n'est pas dans le dossier du projet, mais dans un sous-dossier, modifier le *working directory* de façon à le faire pointer sur ce sous-dossier; **Sinon** laisser vide\n",
    "       - *Ok* pour finir\n",
    "   - enfin, tester en sélectionnant votre commande (en haut à droite près de la flèche): normalement, la console indique le démarrage du serveur et l'url pour accéder à l'application avec le navigateur."
   ]
  },
  {
   "cell_type": "markdown",
   "metadata": {},
   "source": [
    "## 2 - Liens entre les vues"
   ]
  },
  {
   "cell_type": "markdown",
   "metadata": {},
   "source": [
    "La librairie Flask définie une fonction `url_for(\"<nom_de_la_vue>\")` qui renvoie l'url de la vue indiquée."
   ]
  },
  {
   "cell_type": "code",
   "execution_count": null,
   "metadata": {},
   "outputs": [],
   "source": [
    "#Pycharm: demo2/app.py ; renommer app2 en app.\n",
    "from flask import Flask, url_for\n",
    "app2 = Flask(__name__)\n",
    "\n",
    "@app2.route(\"/\")\n",
    "def vue1():\n",
    "    page2 = url_for('vue2')\n",
    "    return f\"\"\"\n",
    "    <h1>Première page</h1>\n",
    "    <a href=\"{page2}\">Deuxième page</a>\"\"\"\n",
    "\n",
    "@app2.route(\"/autre\")\n",
    "def vue2():\n",
    "    return \"\"\"\n",
    "    <h1> Deuxième ...</h1>\n",
    "    <a href=\"{}\">Première Page</a>\"\"\".format(url_for('vue1'))"
   ]
  },
  {
   "cell_type": "markdown",
   "metadata": {},
   "source": [
    "Attention à bien arrêter le serveur précédent avant de lancer celui-ci:"
   ]
  },
  {
   "cell_type": "code",
   "execution_count": null,
   "metadata": {},
   "outputs": [],
   "source": [
    "from serveur import lancer\n",
    "\n",
    "lancer(app2)"
   ]
  },
  {
   "cell_type": "markdown",
   "metadata": {},
   "source": [
    "#### Exercice 3"
   ]
  },
  {
   "cell_type": "markdown",
   "metadata": {},
   "source": [
    "Créer une troisième vue de route \"/exercice\" qui propose deux liens vers chacune des autres vues. "
   ]
  },
  {
   "cell_type": "markdown",
   "metadata": {},
   "source": [
    "## 3 - Formulaire"
   ]
  },
  {
   "cell_type": "markdown",
   "metadata": {},
   "source": [
    "Commençons par un peu de HTML dans des chaînes multilignes."
   ]
  },
  {
   "cell_type": "code",
   "execution_count": null,
   "metadata": {},
   "outputs": [],
   "source": [
    "# accueil\n",
    "base = \"\"\"\n",
    "<h1>Salut tout le monde!</h1>\n",
    "<p><a href={}>Aller au formulaire</a><p>\n",
    "\"\"\" # on utilise des points d'insertions «{}» qu'on comblera avec .format\n",
    "\n",
    "# un formulaire minimaliste\n",
    "si_get = \"\"\"\n",
    "<form method=\"post\">\n",
    "<input type=\"date\" name=\"une_date\">\n",
    "<input type=\"submit\" value=\"envoyer\">\n",
    "</form>\n",
    "\"\"\"\n",
    "\n",
    "# ce qu'on affichera lorsqu'il sera soumis\n",
    "si_post = \"\"\"\n",
    "<p>La date saisie est {}</p>\n",
    "<p><a href=\"{}\">Saisir une autre date</a> - <a href=\"{}\">Revenir à la page principale</a></p>\n",
    "\"\"\""
   ]
  },
  {
   "cell_type": "markdown",
   "metadata": {},
   "source": [
    "Flask définie un objet `request` lequel permet d'accéder aux éléments de la requête de l'utilisateur. Plus précisément:\n",
    "- `request.method` vaut \"GET\" ou \"POST\" selon le type de requête,\n",
    "- `request.form` est un dictionnaire permettant d'accéder au valeurs soumises via un formulaire. "
   ]
  },
  {
   "cell_type": "code",
   "execution_count": null,
   "metadata": {},
   "outputs": [],
   "source": [
    "from flask import Flask, request, url_for\n",
    "# request sert à récupérer des éléments de la requête\n",
    "# url_for à produire une url étant donné le nom d'une vue.\n",
    "\n",
    "app3 = Flask(__name__)\n",
    "\n",
    "@app3.route(\"/\")\n",
    "def accueil():\n",
    "    return base.format(url_for('formulaire'))\n",
    "\n",
    "\n",
    "@app3.route(\"/form\", methods=[\"GET\", \"POST\"]) # précise les types de requêtes possibles\n",
    "def formulaire():\n",
    "    # Si c'est \"POST\", c'est que le formulaire a été soumis\n",
    "    if request.method == \"POST\":\n",
    "        date = request.form[\"une_date\"]\n",
    "        return si_post.format(date, url_for('formulaire'), url_for('accueil'))\n",
    "    # Sinon \"GET\" on affiche le formulaire.\n",
    "    return si_get"
   ]
  },
  {
   "cell_type": "markdown",
   "metadata": {},
   "source": [
    "Voyez par vous-même (Attention à bien arrêter le serveur précédent!)"
   ]
  },
  {
   "cell_type": "code",
   "execution_count": null,
   "metadata": {},
   "outputs": [],
   "source": [
    "from serveur import lancer # lancer(application) ou lancer(application, port) \n",
    "\n",
    "lancer(app3)"
   ]
  },
  {
   "cell_type": "markdown",
   "metadata": {},
   "source": [
    "#### Exercice 4"
   ]
  },
  {
   "cell_type": "markdown",
   "metadata": {},
   "source": [
    "Retravailler la vue `formulaire` de façon que, en plus de la date, l'utilisateur puisse choisir une couleur pour sa présentation.\n",
    "\n",
    "*Aide*: Retravailler les chaînes `si_get` et `si_post`. Pour la première, englober la date à afficher par une balise «en ligne» générale `<span>` dont l'attribut *style* règle la couleur du texte avec la propriété CSS `color`."
   ]
  },
  {
   "cell_type": "markdown",
   "metadata": {},
   "source": [
    "## 4 - Session"
   ]
  },
  {
   "cell_type": "markdown",
   "metadata": {},
   "source": [
    "On parle de **session** lorsque l'utilisateur est identifié par l'application.\n",
    "\n",
    "Commençons par un simple formulaire de login (être attentif aux valeurs des attributs *name*) et un utilisateur fictif (normalement on le récupère depuis une bdd)."
   ]
  },
  {
   "cell_type": "code",
   "execution_count": null,
   "metadata": {},
   "outputs": [],
   "source": [
    "login_form = \"\"\"\n",
    "<form method=\"post\">\n",
    "login: <input type=\"text\" name=\"login\"><br/>\n",
    "mdp: <input type=\"password\" name=\"mdp\"><br/> \n",
    "<input type=\"submit\" value=\"envoyer\">\n",
    "</form>\n",
    "\"\"\"\n",
    "\n",
    "user = {\n",
    "    \"id\": 0,\n",
    "    \"login\": \"lambda\",\n",
    "    \"mdp\": \"secret\",\n",
    "}"
   ]
  },
  {
   "cell_type": "markdown",
   "metadata": {},
   "source": [
    "Flask définie un objet `session` qui se manipule similairement à un dictionnaire:\n",
    "- `session[<cle>] = val` pour créer l'association clé-valeur,\n",
    "- `session.get(<cle>)` pour récupérer la valeur associée à la clé ou `None` si la clé n'existe pas,\n",
    "- `session.clear()` pour «nettoyer» la session.\n",
    "\n",
    "Pour pouvoir utiliser le système de session de Flask, il faut renseigner l'attribut `secret_key` de l'application (permet à Flask de la sécuriser).\n",
    "\n",
    "Enfin, Flask définit aussi une fonction `redirect(<url>)` qui sert à **rediriger** vers une autre vue que la vue courante. Elle s'utilise souvent en combinant avec `url_for(<nom de la vue>)`.\n",
    "\n",
    "Voici un exemple simple qui défini 3 vues: `login` pour l'authentification par formulaire, `logout` pour se déconnecter et `accueil` qui réagit différemment si l'utilisateur est connecté ou non."
   ]
  },
  {
   "cell_type": "code",
   "execution_count": null,
   "metadata": {},
   "outputs": [],
   "source": [
    "from flask import Flask, request, url_for, session, redirect\n",
    "\n",
    "app4 = Flask(__name__)\n",
    "app4.secret_key = \"dev\" # pour activer le système de session...\n",
    "\n",
    "@app4.route('/login', methods=[\"GET\", \"POST\"])\n",
    "def login():\n",
    "    if request.method == \"POST\":\n",
    "        login = request.form[\"login\"]\n",
    "        mdp = request.form[\"mdp\"]\n",
    "        # si l'utilisateur est «lambda»\n",
    "        if user[\"login\"] == login and user[\"mdp\"] == mdp:\n",
    "            session.clear() # on ne sait jamais...\n",
    "            session['userid'] = user[\"id\"]\n",
    "            return redirect(url_for('accueil'))\n",
    "    # si \"GET\" ou si l'utilisateur n'est pas reconnue\n",
    "    return login_form\n",
    "\n",
    "@app4.route('/logout')\n",
    "def logout():\n",
    "    session.clear()\n",
    "    return redirect(url_for('accueil'))\n",
    "\n",
    "@app4.route('/')\n",
    "def accueil():\n",
    "    url_login = url_for('login')\n",
    "    url_logout = url_for('logout')\n",
    "    \n",
    "    # l'utilisateur s'est-il authentifié ?\n",
    "    #    attention «not session.get('userid')» ne fonctionnerait pas ici...\n",
    "    if session.get('userid') is None: \n",
    "        return f\"<h1>Salut inconnu(e)!</h1><a href={url_login}>S'identifier</a>\"\n",
    "    else:\n",
    "        return f\"<h1>Salut lambda!</h1><a href={url_logout}>Se déconnecter</a>\""
   ]
  },
  {
   "cell_type": "code",
   "execution_count": null,
   "metadata": {},
   "outputs": [],
   "source": [
    "from serveur import lancer # lancer(application) ou lancer(application, port) \n",
    "\n",
    "lancer(app4)"
   ]
  },
  {
   "cell_type": "markdown",
   "metadata": {},
   "source": [
    "**Petits rappels de 1e**: Les sessions sont réalisées en échangeant un **cookie** (petite donnée textuelle):\n",
    "1. Lors de l'authentification, le serveur demande au client d'enregistrer un cookie,\n",
    "2. puis, à chaque requête, le client renvoie au serveur le (ou les) cookies (qu'il lui a communiqué précédemment),\n",
    "3. Lors de la déconnexion, le serveur demande au client de supprimer ce(s) cookie(s).\n",
    "\n",
    "Pour voir ce mécanisme, ouvrir l'outil d'analyse de firefox (clic droit -> *examiner l'élément* puis ouvrir l'onglet *Stockage*) pendant que vous naviguez sur l'application. Le cookie est rendue illisible (en utilisant *secret key*) pour renforcer la sécurité."
   ]
  },
  {
   "cell_type": "markdown",
   "metadata": {},
   "source": [
    "#### Exercice 5\n",
    "\n",
    "Il est dangereux d'écrire un mot de passe en clair (aussi bien dans un dictionnaire que dans une base de données). Lorsqu'on installe Flask, plusieurs autres librairies sont installées et notamment `werkzeug` dont le module `security` propose deux fonctions utiles pour régler ce problème."
   ]
  },
  {
   "cell_type": "code",
   "execution_count": 71,
   "metadata": {},
   "outputs": [],
   "source": [
    "from werkzeug.security import generate_password_hash, check_password_hash"
   ]
  },
  {
   "cell_type": "markdown",
   "metadata": {},
   "source": [
    "Lire brièvement l'aide de chacune d'elles:"
   ]
  },
  {
   "cell_type": "code",
   "execution_count": null,
   "metadata": {},
   "outputs": [],
   "source": [
    "?generate_password_hash"
   ]
  },
  {
   "cell_type": "code",
   "execution_count": null,
   "metadata": {},
   "outputs": [],
   "source": [
    "?check_password_hash"
   ]
  },
  {
   "cell_type": "markdown",
   "metadata": {},
   "source": [
    "Puis faites quelques tests basiques pour les «prendre en main»:"
   ]
  },
  {
   "cell_type": "code",
   "execution_count": null,
   "metadata": {},
   "outputs": [],
   "source": [
    "# à vous de jouer"
   ]
  },
  {
   "cell_type": "markdown",
   "metadata": {},
   "source": [
    "Enfin, modifier le dictionnaire `user` de façon à faire en sorte qu'il ne contienne plus *directement* le mot de passe en clair et le code de `app4` afin que la session fonctionne tout de même."
   ]
  },
  {
   "cell_type": "markdown",
   "metadata": {},
   "source": [
    "## 5 - Base de données (avec sqlite)"
   ]
  },
  {
   "cell_type": "markdown",
   "metadata": {},
   "source": [
    "Commençons par définir un schéma simple en SQL (en lien avec notre mini blog) formé de deux relations:\n",
    "- `membres(!id,login,mdp)` et,\n",
    "- `articles(!id,#auteur_id,cree_le,titre,contenu)`\n",
    "\n",
    "Pour plus de détails, ouvrir le fichier *schema.sql* qui définit aussi un petit jeu de données."
   ]
  },
  {
   "cell_type": "markdown",
   "metadata": {},
   "source": [
    "Initialisons la base de données (dans une fonction pour pouvoir la rappeler plus tard)."
   ]
  },
  {
   "cell_type": "code",
   "execution_count": null,
   "metadata": {},
   "outputs": [],
   "source": [
    "import sqlite3 as db\n",
    "\n",
    "def init_db():\n",
    "    conn = db.connect(\"mini_blog.db\") # connect(nom_fichier) renvoie un handler de connexion\n",
    "    with open(\"schema.sql\") as script: # Ouverture du fichier contenant le schéma de la base\n",
    "        conn.executescript(script.read()) # Sa lecture donne une chaîne qu'on passe à executescript(sql)\n",
    "    conn.close()\n",
    "\n",
    "init_db()"
   ]
  },
  {
   "cell_type": "markdown",
   "metadata": {},
   "source": [
    "Définissons une mini application dans le but de:\n",
    "1. Lister les articles dans la page d'accueil\n",
    "2. Insérer un nouvel article (nous utiliserons Alice)"
   ]
  },
  {
   "cell_type": "markdown",
   "metadata": {},
   "source": [
    "Pour rendre le code «plus clair», encapsulons ces deux actions dans des fonctions:"
   ]
  },
  {
   "cell_type": "code",
   "execution_count": null,
   "metadata": {},
   "outputs": [],
   "source": [
    "def recuperer_articles(): # renvoie une liste de tuples \n",
    "                          # de la forme (login, cree_le, titre, contenu)\n",
    "    with db.connect(\"mini_blog.db\") as c:\n",
    "        curs = c.execute(\n",
    "            \"\"\"SELECT login, cree_le, titre, contenu \n",
    "               FROM membres JOIN articles\n",
    "                 ON membres.id = articles.auteur_id\n",
    "                 ORDER BY articles.cree_le DESC\n",
    "            \"\"\"\n",
    "        )\n",
    "        return curs.fetchall()\n",
    "\n",
    "def inserer_article(auteur_id, titre, contenu):\n",
    "    with db.connect(\"mini_blog.db\") as c:\n",
    "        curs = c.execute(\n",
    "                 \"\"\"INSERT INTO articles (auteur_id, titre, contenu) \n",
    "                   VALUES (?, ?, ?)\"\"\",\n",
    "                (auteur_id, titre, contenu)\n",
    "            )\n",
    "        c.commit() # ne pas oublier de «valider» lorsqu'une table est modifiée."
   ]
  },
  {
   "cell_type": "markdown",
   "metadata": {},
   "source": [
    "Nous sommes à présent en mesure d'écrire assez succintement cette «mini application»:"
   ]
  },
  {
   "cell_type": "code",
   "execution_count": null,
   "metadata": {},
   "outputs": [],
   "source": [
    "from flask import Flask, request, url_for, redirect\n",
    "\n",
    "app5 = Flask(__name__)\n",
    "\n",
    "@app5.route('/')\n",
    "def accueil():\n",
    "    # Petit rappel de 1e - syntaxe des listes en «compréhension»\n",
    "    articles = [\n",
    "        f\"\"\"\n",
    "        <article>\n",
    "          <h3 style=\"margin-bottom: 0\">{titre}</h3>\n",
    "          <p style=\"margin-top: 0; font-size: 80%\">\n",
    "          crée le {cree_le} par <em>{login}</em>\n",
    "          </p>\n",
    "          <p style=\"padding-left: 20px\">{contenu}</p>\n",
    "          <hr/>\n",
    "        </article>\n",
    "        \"\"\"\n",
    "        for login, cree_le, titre, contenu in recuperer_articles()\n",
    "    ]\n",
    "    return f\"\"\"\n",
    "    <nav><a href=\"{url_for('ajouter')}\">Nouvel article</a></nav>\n",
    "    \"\"\" + \"\\n\".join(articles)\n",
    "\n",
    "@app5.route('/ajouter', methods=[\"GET\", \"POST\"])\n",
    "def ajouter():\n",
    "    if request.method == \"POST\":\n",
    "        titre = request.form[\"titre\"]\n",
    "        contenu = request.form[\"contenu\"]\n",
    "        if titre and contenu:\n",
    "            inserer_article(1, titre, contenu)\n",
    "            return redirect(url_for('accueil'))\n",
    "    return \"\"\"\n",
    "    <form method=\"post\">\n",
    "        Titre: <input name=\"titre\"/><br/>\n",
    "        Contenu: <textarea name=\"contenu\"></textarea><br/>\n",
    "        <input type=\"submit\" value=\"Enregistrer\"/>\n",
    "    </form>\n",
    "    \"\"\""
   ]
  },
  {
   "cell_type": "code",
   "execution_count": null,
   "metadata": {},
   "outputs": [],
   "source": [
    "from serveur import lancer # lancer(application) ou lancer(application, port) \n",
    "\n",
    "lancer(app5)"
   ]
  },
  {
   "cell_type": "markdown",
   "metadata": {},
   "source": [
    "#### Exercice 6\n",
    "\n",
    "Modifier cette mini-app de façon qu'il soit possible de supprimer les post d'Alice (qui est fictivement connectée) en cliquant sur un lien *supprimer* apparaissant sur la page d'accueil à côté de chacun de ses articles (pas ceux de Bob)."
   ]
  },
  {
   "cell_type": "markdown",
   "metadata": {},
   "source": [
    "#### Mémo sqlite"
   ]
  },
  {
   "cell_type": "markdown",
   "metadata": {},
   "source": [
    "[**Sqlite3**](https://docs.python.org/fr/3/library/sqlite3.html#module-sqlite3) fait partie de la librairie standard de python:\n",
    "- `c = connect(<nom_fichier>)` ou `with connect(<nom_fichier>) as c`: établit une connexion sur la base du fichier indiqué; on ferme la connection avec `c.close()` (fait automatiquement lorsqu'on sort du bloc *with*).\n",
    "\n",
    "- `curs = c.cursor()`: renvoie un «curseur» qui va servir à la fois à exécuter des commandes sql et à récupérer le résultat.\n",
    "\n",
    "- `curs.execute(sql[, <seq valeurs>])`: exécute la requête SQL; si elle contient des «point d'insertion» `?` (c'était `%s` avec postgre), on précise une séquence de valeurs qui seront insérées dans la requête. Note: si vous n'avez qu'une valeur, utiliser (valeur,) comme séquence. *Notes*:\n",
    "    - on peut utiliser `c.execute(...)` (et les fonctions du même genre) directement sur le handler de connexion. Dans ce cas, la fonction renvoie ... un curseur pour lire la réponse,\n",
    "    - Si l'ordre sql modifie une table (insert, delete...), il faut «valider» l'ordre avec `c.commit()`,\n",
    "    - `.executescript(script_sql)` permet de d'exécuter un script sql (qu'il faut ouvrir et lire avant).\n",
    "\n",
    "\n",
    "- Après avoir effectué une requête (de type select):\n",
    "    - `curs.fetchall()` renvoie une liste de tuples, chaque tuple correpondant à une ligne.\n",
    "    - `col1, col2, ... = curs.fetchone()` pour récupérer les colonnes d'une ligne (s'il n'y en qu'une, écrire `c, = ...` pour ne pas récupérer le tuple...)\n",
    "    - On peut aussi boucler sur le curseur en utilisant la multi-affectation: `for c1, c2, ... in curs:...`.\n",
    "    "
   ]
  }
 ],
 "metadata": {
  "kernelspec": {
   "display_name": "Python 3",
   "language": "python",
   "name": "python3"
  },
  "language_info": {
   "codemirror_mode": {
    "name": "ipython",
    "version": 3
   },
   "file_extension": ".py",
   "mimetype": "text/x-python",
   "name": "python",
   "nbconvert_exporter": "python",
   "pygments_lexer": "ipython3",
   "version": "3.7.3"
  }
 },
 "nbformat": 4,
 "nbformat_minor": 4
}
