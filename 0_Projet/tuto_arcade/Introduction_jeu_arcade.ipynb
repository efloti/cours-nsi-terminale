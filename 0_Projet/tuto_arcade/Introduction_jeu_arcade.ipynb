{
 "cells": [
  {
   "cell_type": "markdown",
   "metadata": {},
   "source": [
    "# Introduction à la librairie Arcade"
   ]
  },
  {
   "cell_type": "markdown",
   "metadata": {},
   "source": [
    "[Arcade](https://arcade.academy/index.html) est une librairie Python pour la création de jeux. \n",
    "\n",
    "C'est une librairie «haut niveau» (plus facile) basée sur la librairie «bas niveau» [pyglet](https://pyglet.readthedocs.io/en/latest/). Elle est conçue pour **faciliter la programmation de jeu** en Python.\n",
    "\n",
    "Pour l'installer sous windows (je suppose que Python est déjà installé), saisir dans `cmd.exe` (console windows)\n",
    "\n",
    "    python -m pip install arcade\n",
    "\n",
    "Sa documentation contient une foule d'exemples et quelques tutoriels pour démarrer. Elle contient aussi la documentation de toutes les classes, fonctions (ainsi que leur code source) qu'elle propose.\n",
    "\n",
    "Ici, je reprends le [tutoriel de la documentation appelé «Simple Plateformer»](https://arcade.academy/examples/platform_tutorial/index.html#) (simple jeu de plateforme).\n",
    "\n",
    "Pour vous faciliter la vie, je traduis une partie du code mais je vous recommande vivement de comparer avec la version d'origine en anglais pour vous familiariser avec le vocabulaire courant du monde des jeux..."
   ]
  },
  {
   "cell_type": "markdown",
   "metadata": {},
   "source": [
    "##  Une fenêtre de jeu - *1_main.py*"
   ]
  },
  {
   "cell_type": "markdown",
   "metadata": {},
   "source": [
    "La structure de base du code arcade pour produire une fenêtre est:"
   ]
  },
  {
   "cell_type": "markdown",
   "metadata": {},
   "source": [
    "```python\n",
    "import arcade\n",
    "\n",
    "# Constantes\n",
    "LARGEUR_ECRAN = 1000\n",
    "#...\n",
    "\n",
    "\n",
    "class MonJeu(arcade.Window):\n",
    "    \"\"\"\n",
    "    Classe principale de l'application: représente une fenêtre de jeu customisée.\n",
    "    qui dérive de la fenêtre de base d'arcade `arcade.Window`.\n",
    "    \"\"\"\n",
    "\n",
    "    def __init__(self):\n",
    "        # Initialise la fenêtre en appelant la méthode __init__ de la classe mère\n",
    "        # `arcade.Window` (d'où l'utilisation de `super`())\n",
    "        super().__init__(LARGEUR_ECRAN,...)\n",
    "\n",
    "        # Choisir la couleur de fond\n",
    "        arcade.set_background_color(...)\n",
    "\n",
    "    def setup(self):\n",
    "        \"\"\" Configurer le jeu ici. Appeler cette fonction pour (re)démarrer le jeu.\"\"\"\n",
    "        pass\n",
    "\n",
    "    def on_draw(self):\n",
    "        \"\"\" Affichage à l'écran \"\"\"\n",
    "\n",
    "        arcade.start_render()\n",
    "        # Le code pour dessiner à l'écran:\n",
    "\n",
    "\n",
    "def main():\n",
    "    \"\"\" fonction principale pour lancer le jeu \"\"\"\n",
    "    window = MonJeu()  # création de la fenêtre ...\n",
    "    window.setup()  # ... puis configuration ...\n",
    "    arcade.run()  # lance la boucle de gestion des événements (la «mainloop» ...)\n",
    "\n",
    "\n",
    "if __name__ == \"__main__\":\n",
    "    main()\n",
    "```"
   ]
  },
  {
   "cell_type": "markdown",
   "metadata": {},
   "source": [
    "On distingue quatre zones:\n",
    "1. Import d'arcade et déclaration de constantes (par convention en majuscule),\n",
    "\n",
    "\n",
    "2. Définition de la classe `MonJeu`:\n",
    "    - elle représente une fenêtre Arcade (`arcade.Window`) spécialisée pour notre jeu,\n",
    "    - c'est à l'intérieur de cette classe qu'on va coder effectivement le jeu,\n",
    "\n",
    "\n",
    "3. Définition d'une fonction `main` («principale») dont le rôle est simplement de:\n",
    "    - créer notre fenêtre de Jeu,\n",
    "    - de le configurer (via son opération `setup`)\n",
    "    - et de lancer la boucle principale d'arcade (s'occupe de gérer les événements utilisateurs, rafraîchir l'écran etc.)\n",
    "\n",
    "\n",
    "4. `if __name__ ...`: sert simplement a **appeler** la fonction `main` pour démarrer le jeu."
   ]
  },
  {
   "cell_type": "markdown",
   "metadata": {},
   "source": [
    "#### Note complémentaire sur `if __name__` ..."
   ]
  },
  {
   "cell_type": "markdown",
   "metadata": {
    "jupyter": {
     "source_hidden": true
    }
   },
   "source": [
    "Lorsqu'on lance **directement** un fichier python *test.py*, la variable *interne* `__name__` vaut `\"__main__\"`.\n",
    "\n",
    "En revanche, lorsqu'on **importe** un fichier python - `import test` (inutile de mettre le *.py*) depuis un autre fichier python `autre.py` et qu'on lance ce dernier, alors quand python lit `test.py`, la variable __name__ ne vaut pas \"__main__\".\n",
    "\n",
    "Cela permet de distinguer les fichiers lancés *directement* ou *indirectement* (via un import). Voilà une expérience à faire:\n",
    "\n",
    "Dans *test.py*\n",
    "```python\n",
    "print(f\"test.py: __name__ vaut {__name__}\")\n",
    "if __name__ == \"__main__\":\n",
    "    print(\"Salut toi!\")\n",
    "```\n",
    "\n",
    "Dans *autre.py*\n",
    "```python\n",
    "import test # doit-être dans le même répertoire que moi!\n",
    "print(f\"autre.py: __name__ vaut {__name__}\")\n",
    "```\n",
    "\n",
    "Ensuite, on lance python sur chaque fichier (ligne de commande):\n",
    "\n",
    "    python test.py \n",
    "        test.py: __name__ vaut __main__ \n",
    "        Salut toi!\n",
    "    \n",
    "    python autre.py \n",
    "        test.py: __name__ vaut test\n",
    "        autre.py: __name__ vaut __main__"
   ]
  },
  {
   "cell_type": "markdown",
   "metadata": {},
   "source": [
    "### `__init__(self, ...)` ???"
   ]
  },
  {
   "cell_type": "markdown",
   "metadata": {},
   "source": [
    "Il s'agit d'une fonction spéciale de Python qui est appelée automatiquement lors de la construction de la fenêtre de jeu `window = MonJeu()`.\n",
    "\n",
    "Elle sert à initialiser les attributs propres à cette fenêtre."
   ]
  },
  {
   "cell_type": "markdown",
   "metadata": {},
   "source": [
    "### `self` ???"
   ]
  },
  {
   "cell_type": "markdown",
   "metadata": {},
   "source": [
    "Sans entrer dans les détails, `self` représente la fenêtre de jeu *courante* (tandis que la classe `MonJeu` sert à créer cette fenêtre).\n",
    "\n",
    "On peut utiliser `self` pour lui ajouter des **attributs** (variables attachées à la fenêtre): \n",
    "- déclaration `self.mon_attribut = valeur`,\n",
    "- accès à l'attribut `self.mon_attribut`."
   ]
  },
  {
   "cell_type": "markdown",
   "metadata": {},
   "source": [
    "## Planter le décors - *2_main.py*"
   ]
  },
  {
   "cell_type": "markdown",
   "metadata": {},
   "source": [
    "On utilise des images qu'Arcade nous fournit par défaut (voir...). Elles vont nous servir à:\n",
    "1. Créer des **Sprites** individuels, ce sont des images destinées à être animées:\n",
    "    - `mon_sprite = arcade.Sprite(chemin_img, echelle, ...)` puis\n",
    "    - on le positionne sur l'écran: `mon_sprite.center_x = x` (et pareil pour y)\n",
    "\n",
    "\n",
    "2. Grouper ces Sprites dans des listes adaptée `SpriteList`: \n",
    "    - `grp_sprites = arcade.SpriteList(options)` puis\n",
    "    - `grp_sprites.append(<un sprite>)`,\n",
    "\n",
    "\n",
    "3. Dessiner ces sprites à l'écran: `grp_sprites.draw()` (dans `on_draw`)"
   ]
  },
  {
   "cell_type": "markdown",
   "metadata": {},
   "source": [
    "Voici des extraits de code pertinent pour le décors (formé de «tuiles» \\[*tiles*\\]):\n",
    "```python\n",
    "    def __init__(self):\n",
    "        ...\n",
    "        self.tuiles = None # déclaration de l'attribut «tuiles» pour la fenêtre courante\n",
    "        ...\n",
    "    \n",
    "    def setup(self):\n",
    "        ...\n",
    "        self.tuiles = arcade.SpriteList()\n",
    "        ...\n",
    "        for x in ...:\n",
    "            bloc_pelouse = arcade.Sprite(\n",
    "                \":resources:images/tiles/grassMid.png\", # chemin\n",
    "                ECHELLE_TUILE # constante d'échelle\n",
    "            )\n",
    "            # positionnement\n",
    "            bloc_pelouse.center_x = x\n",
    "            bloc_pelouse.center_y = 32 # fixe ici\n",
    "            # ajouter chaque bloc à la spriteList des tuiles (attribut de la fenêtre courante)\n",
    "            self.tuiles.append(bloc_pelouse)\n",
    "        ...\n",
    "    \n",
    "    def on_draw(self):\n",
    "        ...\n",
    "        self.tuiles.draw()\n",
    "        ...\n",
    "            \n"
   ]
  },
  {
   "cell_type": "markdown",
   "metadata": {},
   "source": [
    "## Déplacement et interaction avec le décors - *3_main.py* - "
   ]
  },
  {
   "cell_type": "markdown",
   "metadata": {},
   "source": [
    "### Déplacement du personnage"
   ]
  },
  {
   "cell_type": "markdown",
   "metadata": {},
   "source": [
    "On ajoute **Dans** la classe `MonJeu` les fonctions `on_key_press` et `on_key_release`.\n",
    "\n",
    "Ces fonctions seront appelées *automatiquement* dès que l'utilisateur **enfonce** \\[*press*\\] ou **relâche** \\[*release*\\] une touche du clavier.\n",
    "\n",
    "Par exemple, si l'utilisateur enfonce la flèche ↑ du clavier, alors la variable `key` prendra la valeur ... `arcade.key.UP`.\n",
    "\n",
    "Si cela se produit, on veut déplacer notre personnage vers le haut: `self.sprite_joueur.center_y += <valeur>` **sauf si** ça lui fait traverser le décors!!!"
   ]
  },
  {
   "cell_type": "markdown",
   "metadata": {},
   "source": [
    "### Interaction avec le décors"
   ]
  },
  {
   "cell_type": "markdown",
   "metadata": {},
   "source": [
    "Comme il n'est pas du tout évident de gérer à la main le «décors» et le «**sauf si**» précédent, on utilise un gestionnaire spécialisé appelé `PhysicsEngineSimple` qui va s'occuper de ses choses pour nous.\n",
    "\n",
    "Cela se passe en trois temps:\n",
    "\n",
    "1. créer ce gestionnaire et le placer dans un attribut de la fenêtre courante: \n",
    "\n",
    "   `self.physics_engine = arcade.PhysicsEngineSimple(<sprite personnage>, <sprites du decors>)\n",
    "\n",
    "2. créer une fonction `on_update` dans la classe `MonJeu`: elle sera appelée automatiquement à intervalle régulier\n",
    "\n",
    "3. appeler, depuis la fonction précédente, la méthode `update` de `physics_engine`."
   ]
  },
  {
   "cell_type": "markdown",
   "metadata": {},
   "source": [
    "Voici les portions de code pertinentes:\n",
    "\n",
    "```python\n",
    "    def __init__(self):\n",
    "        ...\n",
    "        self.physics_engine = None\n",
    "        ...\n",
    "    def setup(self):\n",
    "        ...\n",
    "        self.physics_engine = arcade.PhysicsEngineSimple(\n",
    "            self.sprite_joueur,  # personnage\n",
    "            self.tuiles  # obstacles ou sols\n",
    "        )\n",
    "        ...\n",
    "    def on_update(self, delta_time):\n",
    "        ...\n",
    "        self.physics_engine.update()\n",
    "        ...↑\n",
    "```"
   ]
  },
  {
   "cell_type": "markdown",
   "metadata": {},
   "source": [
    "### Retour au déplacement du personnage"
   ]
  },
  {
   "cell_type": "markdown",
   "metadata": {},
   "source": [
    "Grâce au «physics_engine», nous pouvons gérer le clavier sans nous préoccuper des obstacles.\n",
    "\n",
    "Mais plutôt que de modifier le `.center_y` de notre sprite, nous modifions son `.change_y`. Cela donne:\n",
    "\n",
    "```python\n",
    "    def on_key_press(self, key, modifiers): # ne pas se préoccuper de modifiers...\n",
    "        ...\n",
    "        if key == arcade.key.UP:\n",
    "            self.sprite_joueur.change_y = VITESSE_PERSONNAGE # constante à définir en début de fichier\n",
    "        if key == arcade.key.DOWN:\n",
    "            self.sprite_joueur.change_y = -VITESSE_PERSONNAGE\n",
    "        ...\n",
    "    def on_key_release(self, key, modifiers):\n",
    "        if key == arcade.key.UP:\n",
    "            self.sprite_joueur.change_y = 0    \n",
    "        ...\n",
    "```"
   ]
  },
  {
   "cell_type": "markdown",
   "metadata": {},
   "source": [
    "## Ajuster la fenêtre de vue au déplacement du personnage - *4_main.py*"
   ]
  },
  {
   "cell_type": "markdown",
   "metadata": {},
   "source": [
    "L'objectif est d'«agrandir» notre petit monde. Précisément, nous souhaiterions que la vue du jeu change lorsque le personnage approche des bords.\n",
    "\n",
    "*Initialement*, la fenêtre de vue \\[*viewport*\\] est un rectangle défini par quatre nombres:\n",
    "- bord gauche: xmin = 0\n",
    "- bord bas: ymin = 0\n",
    "- bord droit: xmax = `LARGEUR_ECRAN`\n",
    "- bord haut: ymax = `HAUTEUR_ECRAN`\n"
   ]
  },
  {
   "cell_type": "markdown",
   "metadata": {},
   "source": [
    "Mais arcade propose la méthode `arcade.set_viewport(xmin, ymin, xmax, ymax)` pour recadrer la fenêtre d'affichage."
   ]
  },
  {
   "cell_type": "markdown",
   "metadata": {},
   "source": [
    "Ainsi, **pour le côté gauche**, on commence par définir une marge minimum - `MARGE_GAUCHE_VUE` - entre le bord gauche de la vue et le personnage.\n",
    "\n",
    "Puis, on ajoute l'attribut `self.xmin` à la fenêtre qu'on initialise à `0`.\n",
    "\n",
    "Ensuite, dans `on_update`, on vérifie si le personnage (son bord gauche) entre dans cette marge (trop proche du bord gauche).\n",
    "\n",
    "Si c'est le cas, on recalcule `self.xmin` et on règle la fenêtre de vue de façon que sa distance au bord gauche de la fenêtre soit précisément `MARGE_GAUCHE_VUE`. Cela donne quelquechose comme:\n",
    "\n",
    "```python\n",
    "    def on_update(self, time_delta):\n",
    "        ...\n",
    "        if self.sprite_joueur.left < self.xmin + MARGE_GAUCHE_VUE:\n",
    "            # le personnage est trop proche du bord gauche!! On recadre\n",
    "            self.xmin = self.sprite_joueur.left - MARGE_GAUCHE_VUE\n",
    "            # et on règle la vue\n",
    "            arcade.set_viewport(\n",
    "                self.xmin,\n",
    "                self.ymin,\n",
    "                self.xmin + LARGEUR_ECRAN # xmax\n",
    "                self.ymin + HAUTEUR_ECRAN # ymax\n",
    "            )\n",
    "```"
   ]
  },
  {
   "cell_type": "markdown",
   "metadata": {},
   "source": [
    "Reste à faire de même pour les trois autres bords."
   ]
  },
  {
   "cell_type": "markdown",
   "metadata": {},
   "source": [
    "## Un personnage qui «saute» - *5_main.py*"
   ]
  },
  {
   "cell_type": "markdown",
   "metadata": {},
   "source": [
    "Pour réaliser cela facilement, on va changer le moteur `PhysicsEngineSimple` par le moteur `PhysicsEnginePlatformer` lequel prend en compte la gravité. Reste alors à préciser le comportement lors de l'appui sur la touche ↑. "
   ]
  },
  {
   "cell_type": "markdown",
   "metadata": {},
   "source": [
    "On commence par définir de nouvelles constantes: `GRAVITE` et `VITESSE_SAUT_PERSONNAGE` puis:\n",
    "\n",
    "```python\n",
    "    ...\n",
    "    def setup(self):\n",
    "        ...\n",
    "        self.physics_engine = arcade.PhysicsEnginePlatformer(\n",
    "            self.sprite_joueur,  # personnage\n",
    "            self.tuiles,  # obstacles ou sols\n",
    "            GRAVITE  # force de la gravité\n",
    "        )\n",
    "    ...\n",
    "    def on_key_press(self,...):\n",
    "        ...\n",
    "        if key == arcade.key.UP:\n",
    "            # On vérifie que le joueur peut sauter\n",
    "            if self.physics_engine.can_jump():\n",
    "                self.sprite_joueur.change_y = VITESSE_SAUT_PERSONNAGE\n",
    "        ...\n",
    "```"
   ]
  },
  {
   "cell_type": "markdown",
   "metadata": {},
   "source": [
    "## Du son et des pièces d'argent - *6_main.py*"
   ]
  },
  {
   "cell_type": "markdown",
   "metadata": {},
   "source": [
    "Pour le son, on charge un fichier son avec `mon_saut = arcade.load_sound(chemin)`, puis on déclenche avec `arcade.play_sound(mon_son)` au moment propice (par exemple lors d'un saut).\n",
    "\n",
    "Pour les pièces, on procède de manière similaire aux tuiles (herbe et obstacle) pour les placer, les dessiner... Remarquez qu'on les groupe dans une `SpriteList` dédiée.\n",
    "\n",
    "Reste à gérer dans `on_update` la collision entre le personnage et les pièces avec `arcade.check_for_collision_with_list(un_sprite, des_sprites)` qui renvoie une liste de sprite en collision avec `un_sprite`. \n",
    "\n",
    "Dans les grandes lignes, cela donne:\n",
    "\n",
    "```python\n",
    "    def on_update(...):\n",
    "        \n",
    "        # on récupère\n",
    "        pieces = arcade.check_for_collision_with_list(self.sprite_joueur, self.pieces)\n",
    "        # et on agit\n",
    "        for piece in pieces:\n",
    "            piece.remove_from_sprite_lists()\n",
    "            arcade.play_sound(self.son_collecte_piece)\n",
    "```"
   ]
  }
 ],
 "metadata": {
  "kernelspec": {
   "display_name": "Python 3",
   "language": "python",
   "name": "python3"
  },
  "language_info": {
   "codemirror_mode": {
    "name": "ipython",
    "version": 3
   },
   "file_extension": ".py",
   "mimetype": "text/x-python",
   "name": "python",
   "nbconvert_exporter": "python",
   "pygments_lexer": "ipython3",
   "version": "3.7.3"
  },
  "toc-autonumbering": false
 },
 "nbformat": 4,
 "nbformat_minor": 4
}
