{
 "cells": [
  {
   "cell_type": "markdown",
   "metadata": {},
   "source": [
    "## Mémento Arcade"
   ]
  },
  {
   "cell_type": "markdown",
   "metadata": {},
   "source": [
    "Pour éviter toute répétition, je ne précise pas le préfixe `arcade.` à chaque fois."
   ]
  },
  {
   "cell_type": "markdown",
   "metadata": {},
   "source": [
    "### Jeu de constantes prédéfinies: `arcade`"
   ]
  },
  {
   "cell_type": "markdown",
   "metadata": {},
   "source": [
    "- [`csscolor`](https://arcade.academy/arcade.csscolor.html): pour les couleurs (ex: `.ALICE_BLUE`, `.ANTIQUE_WHITE` ...)\n",
    "- [`key`](https://arcade.academy/arcade.key.html): pour les touches du clavier (ex: `.UP`, `.RIGHT` ...)"
   ]
  },
  {
   "cell_type": "markdown",
   "metadata": {},
   "source": [
    "### Initialisation:"
   ]
  },
  {
   "cell_type": "markdown",
   "metadata": {},
   "source": [
    "- [`start_render()`](https://arcade.academy/arcade.html#arcade.start_render): doit-être appelée avant de dessiner (dans `on_draw` de la fenêtre)."
   ]
  },
  {
   "cell_type": "markdown",
   "metadata": {},
   "source": [
    "- [`run()`](https://arcade.academy/arcade.html#arcade.run): lance le jeu (la boucle événementielle - *mainloop*) - à mettre dans le «main»."
   ]
  },
  {
   "cell_type": "markdown",
   "metadata": {},
   "source": [
    "### Principales classes d'objets"
   ]
  },
  {
   "cell_type": "markdown",
   "metadata": {},
   "source": [
    "- [`Window`](https://arcade.academy/arcade.html#arcade.Window): à dériver «class MonJeu(arcade.Window):...»\n",
    "    - instanciation: *width*, *height*, *title*, ...\n",
    "    - méthodes appelées automatiquement à intervalles régulier et à «personnaliser»: [`on_draw`](https://arcade.academy/arcade.html#arcade.Window.on_draw), [`on_key_press`](https://arcade.academy/arcade.html#arcade.Window.on_key_press), [`on_key_release`](https://arcade.academy/arcade.html#arcade.Window.on_key_release), [`on_update`](https://arcade.academy/arcade.html#arcade.Window.on_update) (méthode qui contient la logique principale du jeu), ..."
   ]
  },
  {
   "cell_type": "markdown",
   "metadata": {},
   "source": [
    "- [`Texture`](https://arcade.academy/arcade.html#arcade.Texture):\n",
    "    - instanciation: *chemin_image*\n",
    "    - attributs: [`hit_box_points`](https://arcade.academy/arcade.html#arcade.Texture.hit_box_points), ..."
   ]
  },
  {
   "cell_type": "markdown",
   "metadata": {},
   "source": [
    "- [`Sprite`](https://arcade.academy/arcade.html#arcade.Sprite): à dériver lorsqu'on souhaite ajouter des attributs et comportement «class Personnage(arcade.Sprite):...».\n",
    "    - instanciation: chemin_image, échelle, ...\n",
    "    - attributs: center_x, center_y, left, bottom, right, top, change_x, change_y, texture...\n",
    "    - méthodes: [`draw`](https://arcade.academy/arcade.html#arcade.Sprite.draw), [`remove_from_sprite_lists`](https://arcade.academy/arcade.html#arcade.Sprite.remove_from_sprite_lists), [`update_animation`](https://arcade.academy/arcade.html#arcade.Sprite.set_hit_box), [`set_hit_box`](https://arcade.academy/arcade.html#arcade.Sprite.set_hit_box), ..."
   ]
  },
  {
   "cell_type": "markdown",
   "metadata": {},
   "source": [
    "- [`SpriteList`](https://arcade.academy/arcade.html#arcade.SpriteList): se manipule comme une liste python\n",
    "    - méthodes: [`draw`](https://arcade.academy/arcade.html#arcade.SpriteList.draw), ..."
   ]
  },
  {
   "cell_type": "markdown",
   "metadata": {},
   "source": [
    "- [`PhysicsEngineSimple`](https://arcade.academy/arcade.html#arcade.PhysicsEngineSimple): gère les collisions basiques avec un décors\n",
    "    - instantiation: «sprite_principal», «spritelist_decors»\n",
    "    - méthodes: `update`, ..."
   ]
  },
  {
   "cell_type": "markdown",
   "metadata": {},
   "source": [
    "- [`PhysicsEnginePlatformer`](https://arcade.academy/arcade.html#arcade.PhysicsEnginePlatformer): idem mais gère aussi gravité, saut, échelles...\n",
    "    - instantiation: idem mais on ajoute une valeur de «gravité»\n",
    "    - méthodes: `update`, [`can_jump`](https://arcade.academy/arcade.html#arcade.PhysicsEnginePlatformer.can_jump), [`is_on_ladder`](https://arcade.academy/arcade.html#arcade.PhysicsEnginePlatformer.is_on_ladder), ..."
   ]
  },
  {
   "cell_type": "markdown",
   "metadata": {},
   "source": [
    "### Principaux utilitaires: `arcade`"
   ]
  },
  {
   "cell_type": "markdown",
   "metadata": {},
   "source": [
    "- [`.set_background_color(une_couleur)`](https://arcade.academy/arcade.html#arcade.set_background_color)"
   ]
  },
  {
   "cell_type": "markdown",
   "metadata": {},
   "source": [
    "- **Son**: [`.load_sound(chemin_fichier_son)`](https://arcade.academy/arcade.html#arcade.load_sound) qui renvoie un «son» à jouer avec [`.play_sound(son)`](https://arcade.academy/arcade.html#arcade.play_sound)"
   ]
  },
  {
   "cell_type": "markdown",
   "metadata": {},
   "source": [
    "- **Collision** [`.check_for_collision_with_list(un_sprite, une_spriteliste)`](https://arcade.academy/arcade.html#arcade.check_for_collision_with_list): renvoie une liste... "
   ]
  },
  {
   "cell_type": "markdown",
   "metadata": {},
   "source": [
    "- **Fenêtre de vue**: [`.set_viewport(xmin, xmax, ymin, ymax)`](https://arcade.academy/arcade.html#arcade.set_viewport)."
   ]
  },
  {
   "cell_type": "markdown",
   "metadata": {},
   "source": [
    "- **Carte de tuiles** (*tilemap*): [`.read_tmx(chemin_carte)`](https://arcade.academy/arcade.html#arcade.read_tmx) qui renvoie une «carte» -  [`TileMap`](https://github.com/Beefy-Swain/pytiled_parser/blob/master/pytiled_parser/objects.py#L500) - laquelle possède les attributs   `.map_size.[width|height]`, `.tile_size[width|height]`, `background_color`, ...\n",
    "\n",
    "  puis [`process_layer(carte, nom_calque, echelle)`](https://arcade.academy/arcade.html#arcade.process_layer) qui renvoie une SpriteList à dessiner `.draw()` et à animer    éventuellement `.animation_update(dt)`."
   ]
  },
  {
   "cell_type": "markdown",
   "metadata": {},
   "source": [
    "- **Animation**: [`.load_texture(chemin_image)`](https://arcade.academy/arcade.html#arcade.load_texture): renvoie un `Texture` (image sans position contrairement à un Sprite). À utiliser pour charger des images dans un Sprite et pour modifier sa texture dynamiquement (avec son attribut `.texture`)."
   ]
  },
  {
   "cell_type": "markdown",
   "metadata": {},
   "source": [
    "- **Texte**: [`draw_text(texte, x, y, couleur, taille)`](https://arcade.academy/arcade.html#arcade.draw_text)."
   ]
  }
 ],
 "metadata": {
  "kernelspec": {
   "display_name": "Python 3",
   "language": "python",
   "name": "python3"
  },
  "language_info": {
   "codemirror_mode": {
    "name": "ipython",
    "version": 3
   },
   "file_extension": ".py",
   "mimetype": "text/x-python",
   "name": "python",
   "nbconvert_exporter": "python",
   "pygments_lexer": "ipython3",
   "version": "3.7.3"
  }
 },
 "nbformat": 4,
 "nbformat_minor": 4
}
