{
 "cells": [
  {
   "cell_type": "markdown",
   "metadata": {},
   "source": [
    "# [Modules et paquets](https://docs.python.org/3/tutorial/modules.html#modules)"
   ]
  },
  {
   "cell_type": "markdown",
   "metadata": {},
   "source": [
    "> Un **module** est un fichier source contenant du code Python, c'est à dire un fichier avec une extension `.py`.\n",
    "\n",
    "> Un **paquet** \\[*package*\\] est un répertoire qui contient un fichier `__init__.py` et qui peut contenir des modules python et d'autres paquets.  "
   ]
  },
  {
   "cell_type": "markdown",
   "metadata": {},
   "source": [
    "## Pourquoi organiser votre code en modules et paquets"
   ]
  },
  {
   "cell_type": "markdown",
   "metadata": {},
   "source": [
    "* Facile à maintenir,\n",
    "* Réutilisation,\n",
    "* Les espaces de noms - *Namespacing*,\n",
    "* Quelqu'un qui n'est pas familier avec votre projet peut avoir une vue d'ensemble simplement en regardant l'organisation des répertoires de votre projet,\n",
    "* Chercher certaines fonctionnalités ou classes est simple, ..."
   ]
  },
  {
   "cell_type": "markdown",
   "metadata": {},
   "source": [
    "## Comment faire"
   ]
  },
  {
   "cell_type": "markdown",
   "metadata": {},
   "source": [
    "Utilisons l'organisation de répertoires suivante comme un exemple (ouvrir une nouvelle vue pour garder un oeil sur cette organisation):"
   ]
  },
  {
   "cell_type": "markdown",
   "metadata": {},
   "source": [
    "```\n",
    "epicerie/\n",
    "    __init__.py\n",
    "    \n",
    "    produits/\n",
    "        __init__.py\n",
    "        \n",
    "        fruit/\n",
    "            __init__.py\n",
    "            pomme.py\n",
    "            banane.py\n",
    "            \n",
    "        boisson/\n",
    "            __init__.py\n",
    "            jus.py\n",
    "            lait.py\n",
    "            biere.py\n",
    "\n",
    "    caisse/\n",
    "        __init__.py\n",
    "        ticket.py\n",
    "        calculateur.py\n",
    "```"
   ]
  },
  {
   "cell_type": "markdown",
   "metadata": {},
   "source": [
    "Les fichiers `__init__.py` peuvent-être **vide**, il suffit qu'ils existent."
   ]
  },
  {
   "cell_type": "markdown",
   "metadata": {},
   "source": [
    "Supposons que le fichier `biere.py` contienne:\n",
    "\n",
    "```python\n",
    "\n",
    "def obtenir_marques_disponibles():\n",
    "    return ['heineken', 'leffe', 'grimbergen']\n",
    "\n",
    "\n",
    "class Biere:\n",
    "    def __init__(self, marque='heineken'):\n",
    "        if marque not in obtenir_marques_disponibles():\n",
    "            raise ValueError(f'Marque inconnue: {marque}')\n",
    "        self._marque = marque\n",
    "     \n",
    "```"
   ]
  },
  {
   "cell_type": "markdown",
   "metadata": {},
   "source": [
    "### Importer"
   ]
  },
  {
   "cell_type": "markdown",
   "metadata": {},
   "source": [
    "Disons que nous avons besoin de la classe `Biere` (définie dans *biere.py*) **à l'intérieur du fichier** *ticket.py*.\n",
    "\n",
    "On y parvient en l'**important** au début du fichier **ticket.py**:\n",
    "\n",
    "```python\n",
    "# au début du fichier ticket.py\n",
    "from epicerie.produits.boisson.biere import Biere\n",
    "\n",
    "# On peut maintant l'utiliser comme cela:\n",
    "ma_biere = Biere()\n",
    "```\n",
    "\n",
    "\n",
    "\n",
    "Si nous avons besoin d'accéder à plusieurs classes ou fonctions définies dans le fichier biere.py:\n",
    "\n",
    "```python\n",
    "# au début du fichier ticket.py\n",
    "from epicerie.produits.boisson import biere\n",
    "\n",
    "# Cela s'utilise alors comme suit\n",
    "marques = biere.obtenir_marques_disponibles()\n",
    "ma_biere = biere.Biere(marques[-1])\n",
    "```"
   ]
  },
  {
   "cell_type": "markdown",
   "metadata": {},
   "source": [
    "Une introduction plus complète aux modules et paquets [ici](https://realpython.com/python-modules-packages/)."
   ]
  }
 ],
 "metadata": {
  "kernelspec": {
   "display_name": "Python 3",
   "language": "python",
   "name": "python3"
  },
  "language_info": {
   "codemirror_mode": {
    "name": "ipython",
    "version": 3
   },
   "file_extension": ".py",
   "mimetype": "text/x-python",
   "name": "python",
   "nbconvert_exporter": "python",
   "pygments_lexer": "ipython3",
   "version": "3.7.3"
  }
 },
 "nbformat": 4,
 "nbformat_minor": 4
}
