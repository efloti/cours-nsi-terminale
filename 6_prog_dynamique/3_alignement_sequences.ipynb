{
 "cells": [
  {
   "cell_type": "markdown",
   "metadata": {},
   "source": [
    "# Alignement de séquences"
   ]
  },
  {
   "cell_type": "markdown",
   "metadata": {},
   "source": [
    "[Vidéo d'accompagnement](https://vimeo.com/534066780)"
   ]
  },
  {
   "cell_type": "markdown",
   "metadata": {},
   "source": [
    "## Que veut dire aligner deux séquences?"
   ]
  },
  {
   "cell_type": "markdown",
   "metadata": {},
   "source": [
    "On dispose de deux séquences $a$ et $b$. **Aligner ces séquences** signifie y *insérer éventuellement des «blancs»* (qu'on représentera par un `-`) de façon que:\n",
    "1. les séquences obtenues $\\hat{a}$ et $\\hat{b}$ sont de *même longueur*,\n",
    "2. deux éléments de *même position* dans $\\hat{a}$ et $\\hat{b}$ *ne peuvent tout deux être des «blancs»*."
   ]
  },
  {
   "cell_type": "markdown",
   "metadata": {},
   "source": [
    "*Exemple*: Si $a={\\bf programmer}$ et $b={\\bf dormir}$, voici trois alignements:\n",
    "\n",
    "         programmer       programmer       pr-ogr-ammer\n",
    "         -do-r-m-ir       d-o-r-mi-r       d-or--m---ir"
   ]
  },
  {
   "cell_type": "markdown",
   "metadata": {},
   "source": [
    "Bien sûr, certains nous semblent «meilleurs» que d'autres..."
   ]
  },
  {
   "cell_type": "markdown",
   "metadata": {},
   "source": [
    "## Score pour un alignement"
   ]
  },
  {
   "cell_type": "markdown",
   "metadata": {},
   "source": [
    "Pour préciser cette idée de «meilleurs» alignements, nous allons attribuer un **score** à ces alignements. Pour chaque position dans les «séquences d'alignement» $\\hat{a}$ et $\\hat{b}$:\n",
    "1. si les deux caractères ayant cette position sont *non blancs et coincident*, on gagne un point $\\bf +1$,\n",
    "2. s'ils sont *non blancs et diffèrent*, on est «quitte» $\\bf 0$,\n",
    "3. si l'un d'eux est un *blanc*, on perd un point $\\bf -1$."
   ]
  },
  {
   "cell_type": "markdown",
   "metadata": {},
   "source": [
    "Le score pour un alignement donné s'obtient en ajoutant ces points pour chaque position."
   ]
  },
  {
   "cell_type": "markdown",
   "metadata": {},
   "source": [
    "*Note*: sachez qu'en pratique - notamment en biologie lorsqu'on compare des séquences d'ADN - le «scoring» peut être beaucoup plus poussé de façon à tenir compte de la signification biologique des éléments (nucléotides) à comparer. Néanmoins, le principe reste le même qu'ici."
   ]
  },
  {
   "cell_type": "markdown",
   "metadata": {},
   "source": [
    "*Exemple*: Voici les scores des alignements données précédemment:\n",
    "\n",
    "                 programmer       programmer       pr-ogr-ammer\n",
    "                 -do-r-m-ir       d-o-r-mi-r       d-or--m---ir\n",
    "                 !*+!+!+!*+       *!+!+!+*!+       *!!*!!!!!!*+    où !=-1 *=0 et +=1\n",
    "    scores           0                0               -7"
   ]
  },
  {
   "cell_type": "markdown",
   "metadata": {},
   "source": [
    "#### Exercice 1\n",
    "\n",
    "Trouver deux alignements distincts de ${\\bf genome}$ et ${\\bf enorme}$ ainsi que les scores correspondants."
   ]
  },
  {
   "cell_type": "markdown",
   "metadata": {
    "jupyter": {
     "source_hidden": true
    }
   },
   "source": [
    "Par exemple:\n",
    "\n",
    "      genome    ge-no-me     geno-me     \n",
    "      enorme    -enorme-     -enorme     \n",
    "      ****++    !+!**!*!     !+++!++\n",
    "        2          -3           3"
   ]
  },
  {
   "cell_type": "markdown",
   "metadata": {},
   "source": [
    "____"
   ]
  },
  {
   "cell_type": "markdown",
   "metadata": {},
   "source": [
    "## Étude du problème de l'alignement de séquences"
   ]
  },
  {
   "cell_type": "markdown",
   "metadata": {},
   "source": [
    "**Le problème de l'alignement de séquences consiste à trouver un alignement de score maximal.**"
   ]
  },
  {
   "cell_type": "markdown",
   "metadata": {},
   "source": [
    "Dans la suite, nous notons $S(a, b)$ le score d'un *alignement optimal* des séquences $a$ et $b$."
   ]
  },
  {
   "cell_type": "markdown",
   "metadata": {},
   "source": [
    "**Cas 1**: Examinons le *cas particulier où l'une des séquences est vide*. "
   ]
  },
  {
   "cell_type": "markdown",
   "metadata": {},
   "source": [
    "*Exemple*: si $a=\\epsilon$ et $b={\\bf truc}$ alors le meilleur alignement possible est clairement $\\hat{a}={\\bf {-}{-}{-}{-}}$ et $\\hat{b}=b={\\bf truc}$."
   ]
  },
  {
   "cell_type": "markdown",
   "metadata": {},
   "source": [
    "Dans ce cas, le «meilleur» alignement possible consiste à *insérer autant de blancs que nécessaire dans la séquence vide* pour un score de: \n",
    "\n",
    "$$-1\\times «\\text{longueur de l'autre séquence}»\\\\\\text{donc}\\\\ S(\\epsilon, b)=-\\text{longueur}(b)\\text{ ou } S(a, \\epsilon)=-\\text{longueur}(a)$$"
   ]
  },
  {
   "cell_type": "markdown",
   "metadata": {},
   "source": [
    "**Cas 2**: À présent, on suppose que *ni $a$ ni $b$ ne sont vides*."
   ]
  },
  {
   "cell_type": "markdown",
   "metadata": {},
   "source": [
    "**Conventions de notation**: Par la suite, si $a$ désigne une séquence, $a'$ désigne celle obtenue à partir de $a$ en supprimant son dernier élément.\n",
    "\n",
    "- *Exemple*: si $a={\\bf progr}$ alors $a'={\\bf prog}$.\n",
    "\n",
    "De plus, si $a$ et $b$ désigne deux séquences, $ab$ désigne la séquence obtenue en concaténant $b$ à la suite de $a$.\n",
    "\n",
    "- *Exemple*: si $a={\\bf truc}$ et $b={\\bf machin}$ alors $ab={\\bf trucmachin}$ et $ba={\\bf machintruc}$.\n",
    "\n",
    "<hr width=\"50%\"/>"
   ]
  },
  {
   "cell_type": "markdown",
   "metadata": {},
   "source": [
    "Supposons disposer d'un alignement **optimal** $\\hat{a}, \\hat{b}$ pour deux séquences $a$ et $b$ (non vides donc). \n",
    "\n",
    "Si on convient de noter $x$ et $y$ les **derniers caractères** des séquences réalisant l'alignement alors: \n",
    "\n",
    "$$\\hat{a}=\\hat{a}'x\\quad\\text{et}\\quad \\hat{b}=\\hat{b}'y$$"
   ]
  },
  {
   "cell_type": "markdown",
   "metadata": {},
   "source": [
    "Trois cas peuvent alors se présenter:\n",
    "1. **$x$ et $y$ ne sont pas des blancs.**\n",
    "\n",
    "   Cela ne peut se produire que dans le cas où $x$ et $y$ sont les derniers caractères des chaînes $a$ et $b$.\n",
    "   \n",
    "   En supprimant ces caractères, on optient un alignement $\\hat{a}'$ et $\\hat{b}'$ de $a'$ et $b'$ et il est lui-même **optimal** ... (raisonner par l'absurde ou contentez-vous de l'admettre).\n",
    "   \n",
    "   Ainsi, si $x=y$, on ajoute 1 point au score de l'alignement $a', b'$ pour obtenir celui de $a, b$. Sinon, on est «quitte» donc:\n",
    "   \n",
    "   $$S(a,b)=\\left\\{\\begin{array}{l}S(a',b')+1&\\text{si } x=y\\cr S(a',b')&\\text{sinon}\\end{array}\\right.$$\n",
    "   \n",
    "   *Exemple* avec $x=y$:   \n",
    "   $$\\begin{array}{l|l|l|l}\n",
    "   a={\\bf abc}&\\hat{a}={\\bf abc}&a'={\\bf ab}&\\hat{a}'={\\bf ab}\\cr\n",
    "   b={\\bf ac}&\\hat{b}={\\bf a{-}c}&b'={\\bf a}&\\hat{b}'={\\bf a-}\\cr\n",
    "   \\text{score}& \\hfill 1 \\hfill && \\hfill 0 \\hfill\n",
    "   \\end{array}\n",
    "   $$"
   ]
  },
  {
   "cell_type": "markdown",
   "metadata": {},
   "source": [
    "2. **$x$ est un «blanc»**. \n",
    "\n",
    "   Dans ce cas, le dernier élément de $b$ ne peut pas être un blanc.\n",
    "   \n",
    "   Donc $\\hat{a}'$ et $\\hat{b}'$ forme un alignement pour $a$ et $b'$ et on peut s'assurer qu'il est lui-même *optimal*...\n",
    "   \n",
    "   Enfin, on doit enlever 1 point (blanc aligné avec non blanc) pour passer du score de l'alignement de $a$, $b'$ à celui de $a$, $b$ soit:\n",
    "   \n",
    "\n",
    "   $$S(a,b)=S(a,b')-1$$\n",
    "   \n",
    "   *Exemple*:   \n",
    "   $$\\begin{array}{l|l|l|l}\n",
    "   a={\\bf ab}&\\hat{a}={\\bf a{-}b{-}}&a={\\bf ab}&\\hat{a}'={\\bf a{-}b}\\cr\n",
    "   b={\\bf adbc}&\\hat{b}={\\bf adbc}&b'={\\bf abd}&\\hat{b}'={\\bf adb}\\cr\n",
    "   \\text{score}& \\hfill 0 \\hfill && \\hfill 1 \\hfill\n",
    "   \\end{array}\n",
    "   $$"
   ]
  },
  {
   "cell_type": "markdown",
   "metadata": {},
   "source": [
    "3. **$y$ est un «blanc»**.\n",
    "\n",
    "   Ce cas est symétrique du précédent et donc:\n",
    "\n",
    "   $$S(a,b)=S(a', b)-1$$"
   ]
  },
  {
   "cell_type": "markdown",
   "metadata": {},
   "source": [
    "## Récurrence pour les scores d'alignement optimaux"
   ]
  },
  {
   "cell_type": "markdown",
   "metadata": {},
   "source": [
    "Ainsi, le score d'un alignement optimal de $a$ et $b$ de longueurs respectives $n$ et $m$ est *le maximum des trois scores ci-dessus* (pour deux séquences non vides) et, en combinant les **cas 1 et 2**, on obtient la récurrence:\n",
    "\n",
    "$$S(a,b)=\\left\\{\\begin{array}{lr}\n",
    "-n&\\text{si }m=0\\cr\n",
    "-m&\\text{sinon si }n=0\\cr\n",
    "\\max\\{S(a',b')+1,S(a,b')-1,S(a',b)-1\\}&\\text{sinon si }a_n=b_m\\cr\n",
    "\\max\\{S(a',b'),S(a,b')-1,S(a',b)-1\\}&\\text{sinon}\n",
    "\\end{array}\\right.$$"
   ]
  },
  {
   "cell_type": "markdown",
   "metadata": {},
   "source": [
    "*Conseil*: Gardez en vue cette récurrence (ou mieux, notez là soigneusement) pour bien comprendre la suite."
   ]
  },
  {
   "cell_type": "markdown",
   "metadata": {},
   "source": [
    "#### Exercice 2\n",
    "\n",
    "Dessiner l'arbre des appels pour le score avec les séquences $a={\\bf aa}$ et $b={\\bf ab}$. Combien de fois le sous-problème ${\\bf a},{\\bf a}$ est-il résolu?"
   ]
  },
  {
   "attachments": {
    "9a6c8311-07cb-46fe-8bed-0c12fb13775e.png": {
     "image/png": "[encoded data removed]"
    }
   },
   "cell_type": "markdown",
   "metadata": {
    "jupyter": {
     "source_hidden": true
    }
   },
   "source": [
    "![plsc_exo1.png](attachment:9a6c8311-07cb-46fe-8bed-0c12fb13775e.png)"
   ]
  },
  {
   "cell_type": "markdown",
   "metadata": {},
   "source": [
    "_________"
   ]
  },
  {
   "cell_type": "markdown",
   "metadata": {},
   "source": [
    "#### Exercice 3\n",
    "\n",
    "Transposer la récurrence précédente pour écrire la fonction récursive `score_alignement_rec(a, b)` qui calcule le score maximal pour l'alignement des séquences `a` et `b`."
   ]
  },
  {
   "cell_type": "code",
   "execution_count": null,
   "metadata": {
    "jupyter": {
     "source_hidden": true
    }
   },
   "outputs": [],
   "source": [
    "def score_alignement_rec(a, b):\n",
    "    n, m = len(a), len(b)\n",
    "    if len(a) == 0:\n",
    "        return -m\n",
    "    if len(b) == 0:\n",
    "        return -n\n",
    "    x, y = a[-1], b[-1]\n",
    "    return max(\n",
    "        (1 if x == y else 0) + score_alignement_rec(a[:-1],b[:-1]),\n",
    "        -1 + score_alignement_rec(a[:-1],b),\n",
    "        -1 + score_alignement_rec(a,b[:-1])\n",
    "    )\n",
    "\n",
    "score_alignement_rec(\"programmer\", \"dormir\")"
   ]
  },
  {
   "cell_type": "markdown",
   "metadata": {},
   "source": [
    "_________"
   ]
  },
  {
   "cell_type": "markdown",
   "metadata": {},
   "source": [
    "## Calcul du meilleur score par programmation dynamique"
   ]
  },
  {
   "cell_type": "markdown",
   "metadata": {},
   "source": [
    "L'algorithme récursif va calculer plusieurs fois les mêmes sous-problèmes comme nous l'avons vu dans l'exercice 1. \n",
    "\n",
    "Nous allons donc utiliser la **programmation dynamique** pour mémoriser les solutions des sous-problèmes qu'on va résoudre «des plus petits vers les plus grands».\n",
    "\n",
    "Mais quels sont les «sous-problèmes» pour des séquences $a$ et $b$ de longueurs respectives $n$ et $m$? Et combien y en a-t-il?"
   ]
  },
  {
   "cell_type": "markdown",
   "metadata": {},
   "source": [
    "L'opération «prime» (supprimer le dernier élément d'une séquence) peut être appliquée *autant de fois que la séquence a d'éléments*.  En comptant la séquence elle-même, cela donne $\\bf n+1$ séquences possibles pour $a$ dans un sous-problème (*rappel*: $\\epsilon$ désigne la séquence vide):\n",
    "\n",
    "$$a, a', a'', \\dots, \\epsilon$$\n",
    "De même, il y aura $\\bf m+1$ séquences possibles pour $b$."
   ]
  },
  {
   "cell_type": "markdown",
   "metadata": {},
   "source": [
    "#### Exercice 4\n",
    "\n",
    "Préciser la suite $a, a', a'', \\dots, \\epsilon$ si $a={\\bf truc}$"
   ]
  },
  {
   "cell_type": "markdown",
   "metadata": {
    "jupyter": {
     "source_hidden": true
    }
   },
   "source": [
    "$$a={\\bf truc}, a'={\\bf tru}, a''={\\bf tr}, a'''={\\bf t}, a''''=\\epsilon \\text{ (séquence vide)}$$"
   ]
  },
  {
   "cell_type": "markdown",
   "metadata": {},
   "source": [
    "______"
   ]
  },
  {
   "cell_type": "markdown",
   "metadata": {},
   "source": [
    "Comme les sous-problèmes peuvent combiner deux séquences parmi celles-ci, il y en a $\\bf (n+1)(m+1)$. On peut visualiser cela comme suit:\n",
    "                   \n",
    "                        m+1 colonnes\n",
    "                      | 𝜖 … b'' b' b\n",
    "                   ----------------\n",
    "                   𝜖  | ? … ?   ?  ?\n",
    "           n+1     …  | …     …\n",
    "           lignes  a''| ?   ?   *  ?    avec, par exemple, * = S(a'',b')\n",
    "                   a' | ?   ?   ?  ?\n",
    "                   a  | ?   ?   ?  ?\n",
    "\n",
    "où à chaque combinaison ligne, colonne correspond un sous-problème à résoudre."
   ]
  },
  {
   "cell_type": "markdown",
   "metadata": {},
   "source": [
    "On va donc utiliser une matrice `mat` a $n+1$ lignes et $m+1$ colonnes pour mémoriser ces solutions; `mat[i][j]` contiendra: \n",
    "\n",
    "$$S(<a_1,a_2,\\dots,a_i>,<b_1,b_2,\\dots,b_j>)\\qquad\\text{avec } 0\\leqslant i\\leqslant n\\text{ et } 0\\leqslant j\\leqslant m$$\n",
    "\n",
    "Autrement dit, `mat[i][j]` contiendra *le score du sous-problème faisant intervenir les **préfixes** de $i$ éléments de $a$ et de $j$ éléments de $b$*. \n",
    "\n",
    "Exprimé avec Python, cela donne:\n",
    "\n",
    "        mat[i][j] = S(a[:i], b[:j])"
   ]
  },
  {
   "cell_type": "markdown",
   "metadata": {},
   "source": [
    "#### Exercice 5\n",
    "\n",
    "Construire cette matrice à la main pour $a={\\bf dormir}$ et $b={\\bf programmer}$ en vous aidant du canevas donné ci-dessous et de la récurrence rappelée ici:\n",
    "\n",
    "$$S(a,b)=\\left\\{\\begin{array}{lr}\n",
    "-n&\\text{si }m=0\\cr\n",
    "-m&\\text{sinon si }n=0\\cr\n",
    "\\max\\{S(a',b')+1,S(a,b')-1,S(a',b)-1\\}&\\text{sinon si }a_n=b_m\\cr\n",
    "\\max\\{S(a',b'),S(a,b')-1,S(a',b)-1\\}&\\text{sinon}\n",
    "\\end{array}\\right.$$\n",
    "\n",
    "où $n$ et $m$ représentent les nombre d'éléments respectifs de $a$ et $b$.\n",
    "\n",
    "*Conseil*: Commencer par le cas de base de façon à obtenir la 1ère ligne et la 1ère colonne. Ensuite, procéder ligne par ligne."
   ]
  },
  {
   "cell_type": "markdown",
   "metadata": {},
   "source": [
    "       |    p  r  o  g  r  a  m  m  e  r | i\n",
    "      -------------------------------------\n",
    "       | 0 -1 -2  .  .  .  .  .  .  .  . | 0\n",
    "     d |-1  .  .  .  .  .  .  .  .  .  . | 1\n",
    "     o |-2  .  .  .  .  .  .  .  .  .  . | 2\n",
    "     r | .  .  .  .  .  .  .  .  .  .  . | 3\n",
    "     m | .  .  .  .  .  .  .  .  .  .  . | 4\n",
    "     i | .  .  .  .  .  .  .  .  .  .  . | 5\n",
    "     r | .  .  .  .  .  .  .  .  .  .  . | 6\n",
    "     --------------------------------------\n",
    "     j | 0  1  2  3  4  5  6  7  8  9  10|"
   ]
  },
  {
   "cell_type": "markdown",
   "metadata": {
    "jupyter": {
     "source_hidden": true
    }
   },
   "source": [
    "       |    p  r  o  g  r  a  m  m  e  r | i\n",
    "      -------------------------------------\n",
    "       | 0 -1 -2 -3 -4 -5 -6 -7 -8 -9 -10| 0\n",
    "     d |-1  0 -1 -2 -3 -4 -5 -6 -7 -8 -9 | 1\n",
    "     o |-2 -1  0  0 -1 -2 -3 -4 -5 -6 -7 | 2\n",
    "     r |-3 -2  0  0  0  0 -1 -2 -3 -4 -5 | 3\n",
    "     m |-4 -3 -1  0  0  0  0  0 -1 -2 -3 | 4\n",
    "     i |-5 -4 -2 -1  0  0  0  0  0 -1 -2 | 5\n",
    "     r |-6 -5 -3 -2 -1  1  0  0  0  0  0 | 6\n",
    "     --------------------------------------\n",
    "     j | 0  1  2  3  4  5  6  7  8  9  10|\n",
    "\n",
    "*Exemples*: pour calculer `mat[1][1]`, comme `b!=a` on doit prendre le plus grand de `mat[0][0]=0`, `mat[0][1]-1=-2`, `mat[1][0]-1=-2` donc on trouve **0**.\n",
    "\n",
    "Pour calculer `mat[2][3]`, comme on a la même lettre `o` on doit prendre le plus grand de `mat[1][2]+1=0`, `mat[2][2]-1=-1` et `mat[1][3]-1=-3` donc (encore) **0**."
   ]
  },
  {
   "cell_type": "markdown",
   "metadata": {},
   "source": [
    "_________"
   ]
  },
  {
   "cell_type": "markdown",
   "metadata": {},
   "source": [
    "#### Exercice 6\n",
    "\n",
    "Utiliser la programmation dynamique pour écrire une version itérative `score_alignement(a, b)` de la première version récursive trouvée à l'exercice 2. Je vous redonne la fonction `aff` pour afficher (à peu près) correctement la matrice (pour vérification)."
   ]
  },
  {
   "cell_type": "code",
   "execution_count": null,
   "metadata": {},
   "outputs": [],
   "source": [
    "def aff(mat):\n",
    "    n = len(mat)\n",
    "    m = len(mat[0])\n",
    "    for i in range(n):\n",
    "        for j in range(m):\n",
    "            if j != m-1:\n",
    "                print(mat[i][j], end=\" \")\n",
    "            else:\n",
    "                print(mat[i][j])"
   ]
  },
  {
   "cell_type": "markdown",
   "metadata": {},
   "source": [
    "En avant!"
   ]
  },
  {
   "cell_type": "code",
   "execution_count": null,
   "metadata": {},
   "outputs": [],
   "source": [
    "def score_alignement(a, b):\n",
    "    pass\n",
    "\n",
    "score_alignement(\"dormir\", \"programmer\")"
   ]
  },
  {
   "cell_type": "code",
   "execution_count": null,
   "metadata": {
    "jupyter": {
     "source_hidden": true
    }
   },
   "outputs": [],
   "source": [
    "def score_alignement(a, b):\n",
    "    n, m = len(a), len(b)\n",
    "    tab = [[0]*(m+1) for _ in range(n+1)]\n",
    "    for i in range(n+1):\n",
    "        tab[i][0] = -i\n",
    "    for j in range(m+1):\n",
    "        tab[0][j] = -j\n",
    "    for i in range(1, n+1):\n",
    "        for j in range(1, m+1):\n",
    "            x, y = a[i-1], b[j-1]\n",
    "            tab[i][j] = max(\n",
    "                (1 if x == y else 0) + tab[i-1][j-1],\n",
    "                -1 + tab[i-1][j],\n",
    "                -1 + tab[i][j-1]\n",
    "            )\n",
    "    aff(tab)\n",
    "    return tab[n][m]\n",
    "\n",
    "\n",
    "score_alignement(\"dormir\", \"programmer\")"
   ]
  },
  {
   "cell_type": "markdown",
   "metadata": {},
   "source": [
    "_________"
   ]
  },
  {
   "cell_type": "markdown",
   "metadata": {},
   "source": [
    "## Calcul d'un «meilleur» alignement"
   ]
  },
  {
   "cell_type": "markdown",
   "metadata": {},
   "source": [
    "Reste à trouver *un meilleur alignement effectif*. Pour cela, vous allez devoir «remonter» la matrice utilisée par la fonction `score_alignement` de l'exercice 6.\n",
    "\n",
    "Cela ressemble beaucoup à ce que nous avons détaillé pour le problème de *la plus longue sous-séquence commune* à cela près qu'à chaque étape (itération), pour construire une solution $\\hat{a}$, $\\hat{b}$, vous devez soit «ramasser»:\n",
    "- les deux caractères courants (déplacement diagonal),\n",
    "- le caractère courant en colonne et mettre un «blanc» pour l'autre (déplacement horizontal)\n",
    "- le caractère courant en ligne et mettre un «blanc» pour l'autre (déplacement vertical)."
   ]
  },
  {
   "cell_type": "markdown",
   "metadata": {},
   "source": [
    "En cas d'ambiguité (car il y a souvent plusieurs alignements optimaux), fixez-vous une règle:\n",
    "- je peux remonter d'une colonne ou d'une ligne?: je choisis la ligne (par exemple),\n",
    "- je peux remonter d'une «diagonale» ou d'une ligne?: je choisis la diagonale, etc.\n",
    "\n",
    "Enfin lorsque ce processus se termine (soit parce que vous avez atteint la 1ère colonne ou alors la 1ère ligne), il faudra éventuellement finir de compléter vos alignements.\n",
    "\n",
    "Par *exemple*, si vous terminez dans la 1ère colonne et en dessous de sa première case, cela signifie qu'il faut ajouter les lettres situées au-dessus dans l'alignement pour $a$ (le $\\hat{a}$ ...) et compléter par des «blancs» l'autre. "
   ]
  },
  {
   "cell_type": "markdown",
   "metadata": {},
   "source": [
    "#### Exercice 7\n",
    "\n",
    "Écrire une fonction `alignement_de_sequences(a,b)` qui étant donnés deux séquences renvoie le score maximal d'un alignement **ainsi qu'un alignement particulier**. Aidez-vous du plan donné ci-après et des commentaires précédents. Revoir éventuellement ce que nous avons fait pour le problème de la plus longue sous-séquence commune."
   ]
  },
  {
   "cell_type": "code",
   "execution_count": null,
   "metadata": {},
   "outputs": [],
   "source": [
    "def alignement_de_sequences(a, b):\n",
    "    n, m = len(a), len(b)\n",
    "    tab = [[0]*(m+1) for _ in range(n+1)]\n",
    "    for i in range(n+1):\n",
    "        tab[i][0] = -i\n",
    "    for j in range(m+1):\n",
    "        tab[0][j] = -j\n",
    "    for i in range(1, n+1):\n",
    "        for j in range(1, m+1):\n",
    "            x, y = a[i-1], b[j-1]\n",
    "            tab[i][j] = max(\n",
    "                tab[i-1][j-1] + (1 if x == y else 0),\n",
    "                tab[i-1][j] - 1,\n",
    "                tab[i][j-1] - 1\n",
    "            )\n",
    "    \n",
    "    # Relire le tableau à l'envers et «ramasser» les caractères \n",
    "    # (ou insérer des blancs) au fur et à mesure\n",
    "    # jusqu'à atteindre la première ligne i = 0 ou la première colonne j = 0\n",
    "    i, j = n, m\n",
    "    pile_a = []\n",
    "    pile_b = []\n",
    "    while ...:\n",
    "        ...\n",
    "    \n",
    "    # on se retrouve maintenant avec l'une des deux séquences vide\n",
    "    while i > 0: # j == 0 soit a=a[:i], b=<vide>\n",
    "        ...\n",
    "    while j > 0: # i == 0 soit a=<vide>, b=b[:j]\n",
    "        ...\n",
    "    \n",
    "    # remettre tout «à l'endroit»\n",
    "    ...\n",
    "    \n",
    "    # terminer!\n",
    "    return ...\n",
    "\n",
    "alignement_de_sequences(\"programmer\", \"dormir\")"
   ]
  },
  {
   "cell_type": "code",
   "execution_count": null,
   "metadata": {
    "jupyter": {
     "source_hidden": true
    }
   },
   "outputs": [],
   "source": [
    "def alignement_de_sequences(a, b):\n",
    "    n, m = len(a), len(b)\n",
    "    tab = [[0]*(m+1) for _ in range(n+1)]\n",
    "    for i in range(n+1):\n",
    "        tab[i][0] = -i\n",
    "    for j in range(m+1):\n",
    "        tab[0][j] = -j\n",
    "    for i in range(1, n+1):\n",
    "        for j in range(1, m+1):\n",
    "            x, y = a[i-1], b[j-1]\n",
    "            tab[i][j] = max(\n",
    "                tab[i-1][j-1] + (1 if x == y else 0),\n",
    "                tab[i-1][j] - 1,\n",
    "                tab[i][j-1] - 1\n",
    "            )\n",
    "    \n",
    "    # Relire le tableau à l'envers et «ramasser» les caractères \n",
    "    # (ou insérer des blancs) au fur et à mesure\n",
    "    # jusqu'à atteindre la première ligne i = 0 ou la première colonne j = 0\n",
    "    i, j = n, m\n",
    "    pile_a = []\n",
    "    pile_b = []\n",
    "    while i > 0 and j > 0:\n",
    "        x, y = a[i-1], b[j-1]\n",
    "        d = tab[i-1][j-1] + (1 if x == y else 0)\n",
    "        h, g = tab[i-1][j] - 1, tab[i][j-1] - 1\n",
    "        if tab[i][j] == d:\n",
    "            pile_a.append(x)\n",
    "            pile_b.append(y)\n",
    "            i -= 1\n",
    "            j -= 1\n",
    "        elif tab[i][j] == h:\n",
    "            pile_a.append(x)\n",
    "            pile_b.append('-')\n",
    "            i -= 1\n",
    "        else:\n",
    "            pile_a.append('-')\n",
    "            pile_b.append(y)\n",
    "            j -= 1\n",
    "    \n",
    "    # on se retrouve maintenant avec l'une des deux séquences vide\n",
    "    while i > 0: # j == 0 soit a=a[:i], b=<vide>\n",
    "        pile_a.append(a[i-1])\n",
    "        pile_b.append('-')\n",
    "        i -= 1\n",
    "    while j > 0: # i == 0 soit a=<vide>, b=b[:j]\n",
    "        pile_a.append('-')\n",
    "        pile_b.append(b[j-1])\n",
    "        j -= 1\n",
    "    \n",
    "    # remettre tout «à l'endroit»\n",
    "    ch1 = \"\"\n",
    "    while len(pile_a) > 0:\n",
    "        ch1 += pile_a.pop()\n",
    "    ch2 = \"\"\n",
    "    while len(pile_b) > 0:\n",
    "        ch2 += pile_b.pop()\n",
    "    \n",
    "    # terminer!\n",
    "    return tab[n][m], ch1, ch2\n",
    "\n",
    "alignement_de_sequences(\"programmer\", \"dormir\")"
   ]
  },
  {
   "cell_type": "markdown",
   "metadata": {},
   "source": [
    "## Synthèse"
   ]
  },
  {
   "cell_type": "markdown",
   "metadata": {},
   "source": [
    "Certains problèmes se traduisent par une **relation de récurrence**, c'est-à-dire que *leur solution s'exprime à partir de la solution de sous-problèmes **similaires** mais de «taille» strictement inférieure*."
   ]
  },
  {
   "cell_type": "markdown",
   "metadata": {},
   "source": [
    "Cette situation survient fréquemment pour des **problèmes d'optimisation** où on cherche une solution $x$ qui rend maximum (ou minimum) une certaine quantité $Q$; Dans ce cas, la **relation de récurrence** concerne le plus souvent cette quantité $Q$ et une solution effective du problème $x$ (car il peut y en avoir plusieurs) est cherchée dans un second temps."
   ]
  },
  {
   "cell_type": "markdown",
   "metadata": {},
   "source": [
    "L'algorithme récursif qui traduit cette récurrence est souvent inefficace car il peut être appelé de nombreuses fois sur les mêmes sous-problèmes."
   ]
  },
  {
   "cell_type": "markdown",
   "metadata": {},
   "source": [
    "Dans cette situation, la **programmation dynamique** consiste à examiner le nombre de sous-problèmes distincts possibles et à **utiliser un tableau adapté** (à une ou plusieurs dimensions) **pour calculer/mémoriser leurs solutions** afin d'**éviter de les recalculer**. Cette approche consomme de la mémoire..."
   ]
  },
  {
   "cell_type": "markdown",
   "metadata": {},
   "source": [
    "L'algorithme, après avoir initialisé ce tableau à l'aide du (ou des) cas de base de la relation de récurrence, le complète en procédant du **bas vers le haut** \\[ *bottom up* \\], c'est-à-dire des plus petits sous-problèmes vers les plus grands jusqu'à atteindre celui qu'on «vise». Il utilise la relation de récurrence et les valeurs précédemment calculées qui se situent généralement en «arrière» dans le tableau."
   ]
  },
  {
   "cell_type": "markdown",
   "metadata": {},
   "source": [
    "Enfin, la «relecture» de ce tableau du **haut vers le bas** \\[ *top down* \\] permet de construire une solution particulière $x$ du problème visé en examinant «à rebours» les choix effectués par l'algorithme pour calculer $Q$ lors de sa construction."
   ]
  }
 ],
 "metadata": {
  "kernelspec": {
   "display_name": "Python 3",
   "language": "python",
   "name": "python3"
  },
  "language_info": {
   "codemirror_mode": {
    "name": "ipython",
    "version": 3
   },
   "file_extension": ".py",
   "mimetype": "text/x-python",
   "name": "python",
   "nbconvert_exporter": "python",
   "pygments_lexer": "ipython3",
   "version": "3.7.3"
  }
 },
 "nbformat": 4,
 "nbformat_minor": 4
}
