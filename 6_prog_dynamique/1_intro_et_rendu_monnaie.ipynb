{
 "cells": [
  {
   "cell_type": "markdown",
   "metadata": {},
   "source": [
    "# Programmation dynamique"
   ]
  },
  {
   "cell_type": "markdown",
   "metadata": {},
   "source": [
    "## Problème du rendu de monnaie"
   ]
  },
  {
   "cell_type": "markdown",
   "metadata": {},
   "source": [
    "### Introduction et stratégie gloutonne."
   ]
  },
  {
   "cell_type": "markdown",
   "metadata": {},
   "source": [
    "On dispose de $n$ pièces (ou billets) de valeurs $v_1$, $v_2$, ... $v_n$ (entiers strictement positifs) et d'une certain montant $s$ (entier aussi). Nous souhaitons utiliser ces pièces pour *rendre la monnaie* sur le montant $s$ euros."
   ]
  },
  {
   "cell_type": "markdown",
   "metadata": {},
   "source": [
    "*Exemple:* pour trois pièces de valeurs $v_1=1$, $v_2=3$ et $v_3=4$ (euros) et pour une somme $s=10$ euros, on peut faire un *rendu de monnaie* avec:\n",
    "- deux pièces de $4$ et deux de $1$ ce qui «coûte» quatre pièces,\n",
    "- trois pièces de $3$ et une de $1$ pour le même «coût»,\n",
    "- une pièce de $4$ et deux de $3$, pour un coût de trois,\n",
    "- ..."
   ]
  },
  {
   "cell_type": "markdown",
   "metadata": {},
   "source": [
    "**Le problème du rendu de monnaie**: On voudrait trouver un rendu de monnaie qui consomme *le moins de pièces possibles*."
   ]
  },
  {
   "cell_type": "markdown",
   "metadata": {},
   "source": [
    "*Retour sur l'exemple*: Parmi les rendus trouvés, le plus *économe* en pièces en utilise **3** (une pièce de 4€ et deux de 3€); il n'y en a pas de «meilleur» dans ce cas."
   ]
  },
  {
   "cell_type": "markdown",
   "metadata": {},
   "source": [
    "**Formalisation**: Ainsi, on cherche $n$ entiers positifs ou nuls:\n",
    "- $x_1$ qui représente le nombre de fois qu'on utilise la pièce n°1 de valeur $v_1$,\n",
    "- $x_2$ le nombre de pièces de valeur $v_2$,\n",
    "- etc.\n",
    "- $x_n$: nombre de pièces de valeur $v_n$.\n",
    "\n",
    "de telle façon que si on prend la pièce n°1 «$x_1$ fois», puis la n°2 «$x_2$ fois» et ainsi de suite, la valeur de toutes ces pièces soit $s$:\n",
    "\n",
    "$$ R({\\bf x})=x_1v_1+x_2v_2+\\cdots +x_nv_n=\\sum_{i} x_iv_{i}=s\\quad (*)$$\n",
    "\n",
    "Le nombre total de pièces utilisées par un tel «rendu de monnaie» est alors:\n",
    "\n",
    "$$T({\\bf x})=x_1+x_2+\\cdots+x_n=\\sum_{i}x_i$$"
   ]
  },
  {
   "cell_type": "markdown",
   "metadata": {},
   "source": [
    "**Finalement**, on cherche ${\\bf x}=<x_1,x_2,\\dots,x_n>$ (entiers $\\geqslant 0$) qui vérifie $R({\\bf x})=s$ (c'est un rendu pour le montant $s$) et pour lequel $T({\\bf x})$ est *le plus petit possible* (le nombre de pièces utilisées est minimal)."
   ]
  },
  {
   "cell_type": "markdown",
   "metadata": {},
   "source": [
    "*Retour sur l'exemple*: Le premier rendu correspond à $x_1=2$, $x_2=0$ et $x_3=2$ de somme $T({\\bf x})=2+0+2=4$, le second à $x_1=1$, $x_2=3$, $x_3=0$ de somme $T({\\bf x})=1+3=4$ etc."
   ]
  },
  {
   "cell_type": "markdown",
   "metadata": {},
   "source": [
    "**Remarque**: Nous supposerons que l'une des pièces a pour valeur $1$ de façon à être sûr qu'*il y a au moins un rendu possible*, à savoir: *prendre cette pièce «$s$ fois»*."
   ]
  },
  {
   "cell_type": "markdown",
   "metadata": {},
   "source": [
    "Une première approche du problème - celle qui est la plus utilisée en pratique - serait d'adopter une **stratégie «gloutonne»**: \n",
    "\n",
    "> prendre la pièce *de plus grande valeur* autant de fois que possible puis celle de plus grande valeur parmi celles qui restent et ainsi de suite jusqu'à avoir rendu la somme demandée."
   ]
  },
  {
   "cell_type": "markdown",
   "metadata": {},
   "source": [
    "*Exemple*: Pour rendre 10€, on commence par la pièce de plus grande valeur 4€ et on peut en prendre **2** après quoi le *reste à rendre* est 2€. Ensuite, on considère la pièce de 3€, mais sa valeur est trop grande. On finit avec la pièce de 1€ qu'on utilise **2** fois pour achever le rendu. Avec cette stratégie, on obtient la réponse $x_1=2, x_2=0, x_3=2$ avec $v_1=4$, $v_2=3$ et $v_3=1$."
   ]
  },
  {
   "cell_type": "markdown",
   "metadata": {},
   "source": [
    "#### Exercice 1\n",
    "\n",
    "Ecrire une fonction `rendu_glouton(v, s)` où `v` est un tableau **trié** contenant les valeurs des pièces dans l'ordre *décroissant* et `s` la somme à rendre. Elle renvoie un tableau de même taille que `v` qui donne le nombre de pièces du rendu «$\\bf x$» trouvé pour chaque valeur.\n",
    "\n",
    "Par exemple `rendu_glouton([4,3,1], 10)` renvoie `[2,0,2]`."
   ]
  },
  {
   "cell_type": "code",
   "execution_count": null,
   "metadata": {},
   "outputs": [],
   "source": [
    "def rendu_glouton(v, s):\n",
    "    n = len(v)\n",
    "    x = [0] * n # le «rendu» à calculer\n",
    "    # ...\n",
    "    return x\n",
    "\n",
    "rendu_glouton([4,3,1], 10)"
   ]
  },
  {
   "cell_type": "code",
   "execution_count": null,
   "metadata": {
    "jupyter": {
     "source_hidden": true
    }
   },
   "outputs": [],
   "source": [
    "def rendu_glouton(v, s):\n",
    "    n = len(v)\n",
    "    xs = [0] * n # représente le «rendu» à calculer\n",
    "    for i in range(n):\n",
    "        while v[i] <= s: # tant qu'il est possible d'utiliser la pièce n°i\n",
    "            xs[i] += 1\n",
    "            s -= v[i]    # reste à rendre\n",
    "    return xs\n",
    "\n",
    "rendu_glouton([4,3,1], 10)"
   ]
  },
  {
   "cell_type": "markdown",
   "metadata": {},
   "source": [
    "_________"
   ]
  },
  {
   "cell_type": "markdown",
   "metadata": {},
   "source": [
    "#### Exercice 2 - problème du sac à dos.\n",
    "\n",
    "Un autre problème classique est celui du «sac à dos». \n",
    "- Imaginez $n$ **bacs** contenant chacun de la « *poudre* » d'une certaine *matière*:\n",
    "    - Le premier bac contient $p_1$ kg de poudre de la 1ère matière pour une valeur (totale) de $v_1$ euros,\n",
    "    - le second contient $p_2$ kg pour une valeur de $v_2$ euros,\n",
    "    - et ainsi de suite ...\n",
    "- Enfin, vous disposez d'un **sac** avec lequel vous pouvez transporter au maximum $c$ kilos.\n",
    "\n",
    "Le problème est de remplir le **sac** de façon à emporter un contenu *ayant la plus grande valeur possible*."
   ]
  },
  {
   "cell_type": "markdown",
   "metadata": {},
   "source": [
    "1. Résoudre le problème à la main pour un sac de contenance 50kg et trois bacs:\n",
    "\n",
    "                 | bac 1 | bac 2 | bac 3 |\n",
    "       valeur €  |   60  |  100  |  120  |\n",
    "       poids kg  |   10  |   20  |   30  |\n",
    "      \n",
    "   *Aide*: Souvenez-vous qu'on peut prendre tout ou partie du contenu d'un bac. Au fait, quelle matière semble avoir le plus de «valeur» (à ne pas confondre avec la valeur du bac)? "
   ]
  },
  {
   "cell_type": "markdown",
   "metadata": {
    "jupyter": {
     "source_hidden": true
    }
   },
   "source": [
    "On observe que la valeur *par kg* des matières est $60/10=6$ €/kg (bac 1), $100/20=5$ €/kg (bac 2) et $120/30=4$ €/kg (bac 3). \n",
    "\n",
    "Intuitivement, on va commencer par prendre le plus possible de la matière qui *a le plus de valeur par kilo* soit la totalité des 10kg du bac 1.\n",
    "\n",
    "Il nous reste 40kg de capacité, donc on prend toute la matière du bac 2 soit 20 kg de plus.\n",
    "\n",
    "Comme il nous reste 20kg de capacité, on prend 20kg de la troisième matière.\n",
    "\n",
    "La valeur de notre «butin» est donc $60+100+\\overbrace{120/30}^5\\times 20=260$ € et il est clair qu'on ne peut pas faire mieux ici."
   ]
  },
  {
   "cell_type": "markdown",
   "metadata": {},
   "source": [
    "2. Pour «résoudre» le problème précédent, vous avez probablement suivi une stratégie «gloutonne»: *prendre le plus possible de la matière de plus grande valeur au kg*... \n",
    "\n",
    "   Écrire une fonction `sac_a_dos_glouton(v, p, c)` où `v` et `p` sont des tableaux de même taille contenant respectivement la *valeur* et le *poids* de la matière contenu *dans chaque bac* et où `c` représente la capacité du sac. \n",
    "   \n",
    "   On suppose que les tableaux `v` et `p` ont été ordonnés de façon que les quotients `v[i]/p[i]` - qui représentent les valeurs *par kg* de chaque matière - *décroissent quand l'index $i$ augmente*.\n",
    "   \n",
    "   La fonction renvoie une solution sous la forme d'un tableau de même taille que `v` ou `p` et qui contient les masses des matières qu'on a mis dans le sac."
   ]
  },
  {
   "cell_type": "code",
   "execution_count": null,
   "metadata": {
    "jupyter": {
     "source_hidden": true
    }
   },
   "outputs": [],
   "source": [
    "def sac_a_dos_glouton(v, p, c):\n",
    "    n = len(v)\n",
    "    x = [0] * n # solution à calculer\n",
    "    i = 0       # n° du bac qui contient la matière ayant le plus de valeur\n",
    "    # tant qu'il reste de la place dans le sac et des bacs à considérer\n",
    "    while c > 0 and i < n:\n",
    "        # prendre le plus possible de la matière courante: \n",
    "        #     elle a le plus de valeur parmi celles qui restent\n",
    "        x[i] = p[i] if p[i] <= c else c # on vide le bac si possible sinon le sac est plein\n",
    "        c -= x[i] # mettre à jour la capacité du sac\n",
    "        i += 1 # passer au bac suivant\n",
    "    return x\n",
    "\n",
    "sac_a_dos_glouton([60, 100, 120], [10, 20, 30], 50)"
   ]
  },
  {
   "cell_type": "markdown",
   "metadata": {},
   "source": [
    "3. Améliorer la fonction précédente de façon à ce qu'elle renvoie en plus «la valeur du chargement»."
   ]
  },
  {
   "cell_type": "code",
   "execution_count": null,
   "metadata": {
    "jupyter": {
     "source_hidden": true
    }
   },
   "outputs": [],
   "source": [
    "def sac_a_dos_glouton(v, p, c):\n",
    "    n = len(v)\n",
    "    x = [0] * n\n",
    "    V = 0\n",
    "    i = 0\n",
    "    while c > 0 and i < n:\n",
    "        x[i] = p[i] if p[i] <= c else c\n",
    "        V += v[i] if p[i] <= c else v[i]/p[i] * c\n",
    "        c -= x[i]\n",
    "        i += 1\n",
    "    return x, round(V, 2)\n",
    "\n",
    "sac_a_dos_glouton([60, 100, 120], [10, 20, 30], 50)"
   ]
  },
  {
   "cell_type": "markdown",
   "metadata": {},
   "source": [
    "__________"
   ]
  },
  {
   "cell_type": "markdown",
   "metadata": {},
   "source": [
    "### Introduction à la «programmation dynamique»"
   ]
  },
  {
   "cell_type": "markdown",
   "metadata": {},
   "source": [
    "Il est important d'observer que la *stratégie gloutonne* employée pour résoudre le problème du rendu de monnaie n'y parvient que de **manière approchée** (Par contre on peut sentir qu'elle trouve une solution optimale pour le sac à dos avec des matières en poudre).\n",
    "\n",
    "En effet, pour l'exemple donné au début -  trois pièces de valeurs $v_1=4$, $v_2=3$ et $v_3=1$ et une somme $s=10$€ - la solution trouvée par notre stratégie gloutonne est: **deux** pièces de $4$€ et **deux** de $1$€ pour un coût de **4** pièces. \n",
    "\n",
    "Or, on voit qu'on peut faire mieux: **une** de $4$€ et **deux** de $3$€ pour un coût de **3** pièces."
   ]
  },
  {
   "cell_type": "markdown",
   "metadata": {},
   "source": [
    "Nous allons utiliser la **programmation dynamique** pour résoudre exactement ce problème. Dans les grandes lignes, cette méthode consiste à:\n",
    "\n",
    "1. trouver un algorithme *récursif* (souvent inefficace) pour le problème considéré, puis\n",
    "2. *transformer* cet algorithme récursif en un algorithme **itératif** qui **mémorise** les solutions des «sous-problèmes» dans un **tableau** (à une ou plusieurs dimensions) pour **éviter de les recalculer**. "
   ]
  },
  {
   "cell_type": "markdown",
   "metadata": {},
   "source": [
    "Avant d'appliquer cette méthode pour résoudre exactement le problème du rendu de monnaie, il est bon de se familiariser avec les techniques permettant de réaliser la 2ème étape ci-dessus: *transformer un algorithme récursif en un algorithme itératif* (quand c'est possible!)"
   ]
  },
  {
   "cell_type": "markdown",
   "metadata": {},
   "source": [
    "#### Suite de Fibonacci encore!"
   ]
  },
  {
   "cell_type": "markdown",
   "metadata": {},
   "source": [
    "La suite de Fibonacci peut se définir comme suit:\n",
    "\n",
    "$$\\text{Fib}(n)=\\left\\{\\begin{array}{lr}\n",
    "0&\\text{si }n=0\\cr\n",
    "1&\\text{si }n=1\\cr\n",
    "\\text{Fib}(n-2)+\\text{Fib}(n-1)&\\text{si } n\\geqslant 2\n",
    "\\end{array}\\right.$$\n",
    "\n",
    "Sa programmation récursive est «simple» mais l'algorithme obtenu est inefficace:"
   ]
  },
  {
   "cell_type": "code",
   "execution_count": null,
   "metadata": {},
   "outputs": [],
   "source": [
    "def fibo(n):\n",
    "    if n == 0:\n",
    "        return 0\n",
    "    elif n == 1:\n",
    "        return 1\n",
    "    return fibo(n-2) + fibo(n-1)\n",
    "\n",
    "fibo(35) # prend du temps!"
   ]
  },
  {
   "cell_type": "markdown",
   "metadata": {},
   "source": [
    "On peut montrer que sa complexité est *exponentielle*. Le problème est que l'algorithme passe son temps à **recalculer les mêmes «sous-problèmes»**.\n",
    "\n",
    "Par exemple, `fibo(4)` appelle `fibo(2)` et `fib(3)`, puis\n",
    "- `fibo(2)` appelle `fibo(0)` et `fibo(1)` et lorsque cela se termine, c'est au tour de\n",
    "- `fibo(3)` qui appelle `fibo(1)` et **`fibo(2)`**; comme le premier appel termine tout de suite, c'est au tour de:\n",
    "    - `fibo(2)` qui appelle `fibo(0)` et `fibo(1)`."
   ]
  },
  {
   "cell_type": "markdown",
   "metadata": {},
   "source": [
    "L'important est de comprendre que le «sous-problème» `fibo(2)` est re-calculé comme s'il n'avait jamais été résolu! Évidemment, la chose empire avec des valeurs de départ plus grandes."
   ]
  },
  {
   "cell_type": "markdown",
   "metadata": {},
   "source": [
    "#### Exercice 3\n",
    "\n",
    "Combien de fois `fibo(5)` va-t-il résoudre le sous-problème `fibo(2)`? Résout-elle plusieurs fois un autre problème et si oui lequel? *Conseil*: dessiner l'arbre des appels."
   ]
  },
  {
   "cell_type": "markdown",
   "metadata": {
    "jupyter": {
     "source_hidden": true
    }
   },
   "source": [
    "                _______5_________\n",
    "               /                 \\\n",
    "           ____3___          ____4____\n",
    "          /        \\        /         \\\n",
    "          1      __2__    __2__     __3__\n",
    "                /     \\  /     \\   /     \\\n",
    "                0     1  0     1   1    _2_ \n",
    "                                       /   \\\n",
    "                                       0   1\n",
    "                                       \n",
    "`fibo(2)` va donc être recalculé **3** fois et `fibo(3)` **2** fois. "
   ]
  },
  {
   "cell_type": "markdown",
   "metadata": {},
   "source": [
    "________"
   ]
  },
  {
   "cell_type": "markdown",
   "metadata": {},
   "source": [
    "L'idée de la **programmation dynamique** est de résoudre les «sous-problèmes» de façon *ascendantes* \\[ *bottom up* \\] - résoudre les problèmes de plus petite taille en premier - en **mémorisant** les résultats intermédiaires dans un **tableau**.\n",
    "\n",
    "Pour la suite de Fibonacci, les sous-problèmes sont `fibo(0)`, `fibo(1)`, ..., `fibo(n)`. Nous allons donc utiliser un tableau de taille `n+1` pour mémoriser leurs solutions:"
   ]
  },
  {
   "cell_type": "code",
   "execution_count": null,
   "metadata": {},
   "outputs": [],
   "source": [
    "def fibo_dyn(n):\n",
    "    tab = [0, 1] + [None] * (n-1) # pour mémoriser les résultats au fur et à mesure\n",
    "    for i in range(2, n+1):\n",
    "        tab[i] = tab[i-2] + tab[i-1]\n",
    "    return tab[n]\n",
    "\n",
    "fibo_dyn(35)"
   ]
  },
  {
   "cell_type": "markdown",
   "metadata": {},
   "source": [
    "C'est exactement ce que l'on fait quand on complète la suite de Fibonacci à la main."
   ]
  },
  {
   "cell_type": "markdown",
   "metadata": {},
   "source": [
    "La *complexité en temps* de cet algorithme est clairement $O(n)$ mais il faut noter qu'il **consomme de la mémoire**. Plus précisément, cet algorithme nécessite un tableau dont la taille dépend de celle de l'entrée $n$. Par exemple, le calcul de `fibo(1OOO)` oblige à réserver un tableau de taille 1000. On dit que sa **complexité mémoire** est $O(n)$."
   ]
  },
  {
   "cell_type": "markdown",
   "metadata": {},
   "source": [
    "*Remarque*: Bien sûr, comme on n'a besoin que des deux valeurs qui précèdent celle qu'on est en train de calculer, on peut se passer du tableau moyennant deux variables pour retenir les valeurs utiles:"
   ]
  },
  {
   "cell_type": "code",
   "execution_count": null,
   "metadata": {},
   "outputs": [],
   "source": [
    "def fibo_classique(n):\n",
    "    a, b = 0, 1\n",
    "    for _ in range(n-1):\n",
    "        a, b = b, a + b\n",
    "    return b\n",
    "\n",
    "# note: reste un petit défaut; fibo(0) renvoie 1 alors qu'il devrait renvoyer 0\n",
    "fibo_classique(35)"
   ]
  },
  {
   "cell_type": "markdown",
   "metadata": {},
   "source": [
    "La complexité en temps est inchangé mais la *complexité mémoire* est à présent $O(1)$ ce qui est une amélioration significative."
   ]
  },
  {
   "cell_type": "markdown",
   "metadata": {},
   "source": [
    "#### Exercice 4\n",
    "\n",
    "On dispose d'une liste de nombres entiers strictement positifs $v=<v_1=1, v_2, \\dots, v_n>$ et on considère la quantité $T(m)$, où $m$ est un entier, définie *récursivement* comme suit: \n",
    "- $T(0)=0$,\n",
    "- si $m\\geqslant 1$, $T(m)$ est le **minimum** des nombres:\n",
    "\n",
    "$$T(m-v_1)+1~\\text{si }v_1\\leqslant m,\\qquad T(m-v_2)+1~\\text{si }v_2\\leqslant m,\\qquad \\dots\\quad T(m-v_n)+1~\\text{si }v_n\\leqslant m$$\n",
    "\n",
    "**Note**: si la condition n'est pas respectée, la quantité correspondante est éliminée de la liste. Remarquez que cette liste est non vide puisque $v_1=1$...\n",
    "\n",
    "On écrit souvent ces conditions comme cela:\n",
    "\n",
    "$$T(m)=\\left\\{\\begin{array}{lr}\n",
    "0&\\text{si }m=0\\cr\n",
    "1+\\min_{1\\leqslant i\\leqslant n}\\{T(m-v_i): m-v_i\\geqslant 0\\}& \\text{si }m\\geqslant 1\\end{array}\\right.$$\n",
    "\n",
    "*Note*: le symbole «:» dans l'écriture du min se lit «à condition que» ou «tel que»."
   ]
  },
  {
   "cell_type": "markdown",
   "metadata": {},
   "source": [
    "1. Calculer $T(0), T(1),\\dots, T(10)$ si $v=<1,3>$"
   ]
  },
  {
   "cell_type": "markdown",
   "metadata": {
    "jupyter": {
     "source_hidden": true
    }
   },
   "source": [
    "    T(0) = 0\n",
    "    T(1) = 1 + min{T(0)}=1\n",
    "    T(2) = 1 + min{T(1)}=2\n",
    "    T(3) = 1 + min{T(0), T(2)}=1\n",
    "    ...\n",
    "    n    | 0| 1| 2| 3| 4| 5| 6| 7| 8| 9|10\n",
    "    --------------------------------------\n",
    "    T(n) | 0| 1| 2| 1| 2| 3| 2| 3| 4| 3| 4\n",
    "  \n",
    "Observer que lorsqu'on écrit la liste des valeurs, la prochaine s'obtient en ajoutant 1 au minimum des valeurs situées à 1 ou 3 positions avant celle qu'on veut calculer.\n",
    "    \n",
    "       n-3   n-1 n\n",
    "    ..| a| ?| b| c| .. avec c = 1 + min(a,b)"
   ]
  },
  {
   "cell_type": "markdown",
   "metadata": {},
   "source": [
    "2. Écrire un algorithme *récursif* `T(v,n)` qui calcule $T(n)$ pour la liste `v` de valeurs fournie en argument. On suppose que `v[0]=1` (de façon a être sûr que l'ensemble des valeurs sur lequel on calcule le $\\min$ est non vide).\n",
    "\n",
    "   *Note*: Pour calculer un *minimum* en «toute circonstance», on peut utiliser cette façon de faire:\n",
    "   ```python\n",
    "   mini = float(\"inf\") # correspond à +∞: toute valeur finie x vérifie x < +∞\n",
    "   for v in valeurs:\n",
    "       if v < mini:\n",
    "           mini = v\n",
    "   # mini contient alors le min de «valeurs» si cette liste est non vide.  \n",
    "   ```"
   ]
  },
  {
   "cell_type": "code",
   "execution_count": null,
   "metadata": {
    "jupyter": {
     "source_hidden": true
    }
   },
   "outputs": [],
   "source": [
    "def T(v, n):\n",
    "    if n == 0:\n",
    "        return 0\n",
    "    # calcul du min des T(n-v)\n",
    "    mini = float(\"inf\")\n",
    "    for val in v:\n",
    "        if val <= n:\n",
    "            t = T(v, n-val)\n",
    "            if t < mini:\n",
    "                mini = t\n",
    "    return 1 + mini\n",
    "            \n",
    "for i in range(11):\n",
    "    print(T([1,3], i), end=\" \")"
   ]
  },
  {
   "cell_type": "markdown",
   "metadata": {},
   "source": [
    "3. Donner une *version itérative* de ce calcul `T_iter(v, n)` en utilisant un tableau de taille $n+1$ pour mémoriser les valeurs au fur et à mesure. Inspirez-vous de la façon de procéder de la première question."
   ]
  },
  {
   "cell_type": "code",
   "execution_count": null,
   "metadata": {
    "jupyter": {
     "source_hidden": true
    }
   },
   "outputs": [],
   "source": [
    "def T_iter(v, n):\n",
    "    tab = [0] * (n+1)\n",
    "    for m in range(1, n+1): # m sert d'index dans tab\n",
    "        # calcul du min des T(m-v)\n",
    "        mini = float(\"inf\")\n",
    "        for val in v:\n",
    "            if val <= m:\n",
    "                t = tab[m-val]\n",
    "                if t < mini:\n",
    "                    mini = t\n",
    "        tab[m] = 1 + mini\n",
    "    return tab[n]\n",
    "\n",
    "for i in range(40):\n",
    "    print(T_iter([1,3], i), end=\" \")"
   ]
  },
  {
   "cell_type": "markdown",
   "metadata": {},
   "source": [
    "#### Note - exploitation de l'écriture en compréhension\n",
    "\n",
    "L'écriture en compréhension permet une réécriture quasiment directe de la relation de récurrence. Voyez par vous-même:"
   ]
  },
  {
   "cell_type": "code",
   "execution_count": null,
   "metadata": {},
   "outputs": [],
   "source": [
    "def T(v, n):\n",
    "    if n == 0:\n",
    "        return 0\n",
    "    return 1 + min([q(v, n-val) for val in v if val <= n])\n",
    "\n",
    "# Note complémentaire: l'écriture min([q(v, n-val) for val in v if val <= n]) peut en fait\n",
    "# se simplifier en min(q(v, n-val) for val in v if val <= n)\n",
    "            \n",
    "for i in range(40):\n",
    "    print(T([1,3], i), end=\" \")"
   ]
  },
  {
   "cell_type": "markdown",
   "metadata": {},
   "source": [
    "On peut aussi améliorer significativement la lisibilité de la version itérative:"
   ]
  },
  {
   "cell_type": "code",
   "execution_count": null,
   "metadata": {},
   "outputs": [],
   "source": [
    "def T_iter(v, n):\n",
    "    tab = [0] * (n+1)\n",
    "    for m in range(1, n+1):\n",
    "        tab[m] = 1 + min(tab[m-val] for val in v if val <= i)\n",
    "    return tab[n]\n",
    "\n",
    "for i in range(40):\n",
    "    print(T_iter([1,3], i), end=\" \")"
   ]
  },
  {
   "cell_type": "markdown",
   "metadata": {},
   "source": [
    "Néanmoins, on peut avoir besoin de «dérouler» le min comme nous le verrons plus tard, donc il est utile de connaître les deux méthodes."
   ]
  },
  {
   "cell_type": "markdown",
   "metadata": {},
   "source": [
    "____________"
   ]
  },
  {
   "cell_type": "markdown",
   "metadata": {},
   "source": [
    "#### Exercice 5\n",
    "\n",
    "Voici un définition récursive d'une certaine quantité $Q$ (dont la signification ne sera pas précisée) et qui dépend de deux entiers positifs ou nuls $n$ et $m$:\n",
    "\n",
    "$$Q(n, m)=\\left\\{\\begin{array}{l}\n",
    "1\\qquad\\text{si }m=0\\cr\n",
    "0\\qquad\\text{sinon si } n=0\\cr\n",
    "Q(n-1, m-1)+Q(n-1, m)\\qquad\\text{sinon}\n",
    "\\end{array}\\right.$$"
   ]
  },
  {
   "cell_type": "markdown",
   "metadata": {},
   "source": [
    "1. Calculer $Q(3, 2)$ à la main."
   ]
  },
  {
   "cell_type": "markdown",
   "metadata": {
    "jupyter": {
     "source_hidden": true
    }
   },
   "source": [
    "$Q(3,2)=Q(2,1)+Q(2,2)$\n",
    "\n",
    "Puis $Q(2,1)=Q(1,0)+Q(1,1)=1+(Q(0,0)+Q(0,1))=1+(1+0)=2$\n",
    "\n",
    "et $Q(2,2)=Q(1,1)+Q(1,2)=1+(Q(0,1)+Q(0,2))=1+(0+0)=1$\n",
    "\n",
    "Donc $Q(3,2)=2+1={\\bf 3}$"
   ]
  },
  {
   "cell_type": "markdown",
   "metadata": {},
   "source": [
    "2. Donner une implémentation récursive `Q_rec` permettant de calculer cette quantité."
   ]
  },
  {
   "cell_type": "code",
   "execution_count": null,
   "metadata": {},
   "outputs": [],
   "source": [
    "def Q_rec(n, m):\n",
    "    if n == 0 and m >= 1:\n",
    "        return 0\n",
    "    elif m == 0:\n",
    "        return 1\n",
    "    return Q_rec(n-1,m-1)+Q_rec(n-1,m)\n",
    "\n",
    "Q_rec(30, 15)"
   ]
  },
  {
   "cell_type": "markdown",
   "metadata": {},
   "source": [
    "3. Le tableau qui suit contient $Q(i,j)$ à l'intersection de la ligne $i$ et de la colonne $j$. Il permet de calculer la valeur de la case tout en bas à droite *en complétant progressivement le tableau ligne par ligne à l'aide la récurrence donnée*.\n",
    "\n",
    "   Compléter le pour trouver $Q(n,m)$ avec $n=6$ et $m=4$ soit $Q(6, 4)$."
   ]
  },
  {
   "cell_type": "markdown",
   "metadata": {},
   "source": [
    "                             j\n",
    "                             \n",
    "                   | 0 | 1 | 2 | 3 | 4\n",
    "                 ----------------------\n",
    "                 0 | 1 | 0 | 0 |   |  \n",
    "                 ----------------------\n",
    "                 1 | 1 |   |   |   |   \n",
    "                 ----------------------\n",
    "                 2 |   |   |   |   |   \n",
    "           i     ----------------------\n",
    "                 3 |   |   |   |   |  \n",
    "                 ----------------------\n",
    "                 4 |   |   |   |   |                \n",
    "                 ----------------------\n",
    "                 5 |   |   |   |   |   \n",
    "                 ----------------------\n",
    "                 6 |   |   |   |   |   "
   ]
  },
  {
   "cell_type": "markdown",
   "metadata": {
    "jupyter": {
     "source_hidden": true
    }
   },
   "source": [
    "Observez que pour calculer la valeur d'une case on a besoin de ses cases «nord» et «nord-ouest»\n",
    "\n",
    "                j-1    j\n",
    "     i-1   .. |  a  |  b  | ..\n",
    "             ---------------\n",
    "       i   .. |     | a+b | ..\n",
    "\n",
    "                           j\n",
    "                             \n",
    "                   | 0 | 1 | 2 | 3 | 4\n",
    "                 ----------------------\n",
    "                 0 | 1 | 0 | 0 | 0 | 0\n",
    "                 ----------------------\n",
    "                 1 | 1 | 1 | 0 | 0 | 0 \n",
    "                 ----------------------\n",
    "                 2 | 1 | 2 | 1 | 0 | 0 \n",
    "           i     ----------------------\n",
    "                 3 | 1 | 3 | 3 | 1 | 0\n",
    "                 ----------------------\n",
    "                 4 | 1 | 4 | 6 | 4 | 1              \n",
    "                 ----------------------\n",
    "                 5 | 1 | 5 | 10| 10| 5 \n",
    "                 ----------------------\n",
    "                 6 | 1 | 6 | 15| 20| 15\n",
    "            \n",
    "Reconnaissez-vous cette matrice (pour ceux qui font la spé maths...)?"
   ]
  },
  {
   "cell_type": "markdown",
   "metadata": {},
   "source": [
    "4. Pour transformer l'algorithme récursif naturel permettant de calculer $Q(n,m)$ en un algorithme itératif, on peut s'inspirer de la façon dont on calcule le tableau précédent à la main: c'est l'approche de la programmation dynamique.\n",
    "\n",
    "   Écrire une version *itérative* `Q_dyn(n,m)` de cet algorithme. Pour cela, initialiser une matrice avec une «liste de listes» qui modélise le tableau précédent; Vous pouvez alors pré-remplir la première ligne et la première colonne avec le cas de base de la récurrence précédente."
   ]
  },
  {
   "cell_type": "code",
   "execution_count": null,
   "metadata": {
    "jupyter": {
     "source_hidden": true
    }
   },
   "outputs": [],
   "source": [
    "def Q_dyn(n, m):\n",
    "    # initialisation du tableau\n",
    "    tab = [[0] * (m+1) for _ in range(n+1)]\n",
    "    for i in range(n+1):\n",
    "        tab[i][0] = 1\n",
    "    \n",
    "    # remplissage ligne par ligne\n",
    "    for i in range(1, n+1):\n",
    "        for j in range(1, m+1):\n",
    "            tab[i][j] = tab[i-1][j-1] + tab[i-1][j]\n",
    "    # finalement\n",
    "    return tab[n][m]\n",
    "    \n",
    "Q_dyn(6, 4)"
   ]
  },
  {
   "cell_type": "markdown",
   "metadata": {},
   "source": [
    "5. Quelle est sa complexité en temps? en mémoire?"
   ]
  },
  {
   "cell_type": "markdown",
   "metadata": {
    "jupyter": {
     "source_hidden": true
    }
   },
   "source": [
    "La boucle imbriquée domine le coût en temps qui est $O(nm)$. Le tableau contient $nm$ cases et le coût mémoire est donc aussi $O(nm)$. "
   ]
  },
  {
   "cell_type": "markdown",
   "metadata": {},
   "source": [
    "6. En observant que pour calculer un élément du tableau, on n'utilise que certains éléments de la *ligne précédente*, améliorer la consommation mémoire de cet algorithme en utilisant seulement deux tableaux de taille $m+1$ chacun."
   ]
  },
  {
   "cell_type": "code",
   "execution_count": null,
   "metadata": {
    "jupyter": {
     "source_hidden": true
    }
   },
   "outputs": [],
   "source": [
    "def Q_iter(n, m):\n",
    "    tab1 = [1] + [0] * m\n",
    "    tab2 = [1] + [None] * m\n",
    "    \n",
    "    for _ in range(1, n+1):\n",
    "        for j in range(1, m+1):\n",
    "            tab2[j] = tab1[j-1] + tab1[j]\n",
    "        tab1, tab2 = tab2, tab1\n",
    "        \n",
    "    return tab1[m]\n",
    "\n",
    "print(Q_iter(6, 4))\n",
    "\n",
    "# Note complémentaire: On peut encore un peu économiser la mémoire \n",
    "# en n'utilisant qu'un seul tableau et en calculant les valeurs de la «droite vers la gauche»\n",
    "\n",
    "def Q_iter_bis(n, m):\n",
    "    tab = [1] + [0] * m\n",
    "    \n",
    "    for _ in range(1, n+1): # on pourrait faire une itération de moins...\n",
    "        for j in reversed(range(1, m+1)):\n",
    "            tab[j] = tab[j-1] + tab[j]\n",
    "        \n",
    "    return tab[m]\n",
    "\n",
    "print(Q_iter_bis(6, 4))\n",
    "\n",
    "# Après cette optimisation, le coût mémoire est donc O(m)."
   ]
  },
  {
   "cell_type": "markdown",
   "metadata": {},
   "source": [
    "________"
   ]
  },
  {
   "cell_type": "markdown",
   "metadata": {},
   "source": [
    "### Résolution exacte du rendu de monnaie"
   ]
  },
  {
   "cell_type": "markdown",
   "metadata": {},
   "source": [
    "Supposons disposer d'une *solution optimale* ${\\bf x}$ pour le montant $s$ (entier) au problème du rendu de monnaie."
   ]
  },
  {
   "cell_type": "markdown",
   "metadata": {},
   "source": [
    "Si on élimine une pièce de valeur $v$ intervenant dans cette solution optimale ${\\bf x}$ au moins une fois, la somme des pièces *restantes* a pour valeur $s-v$ donc est un *rendu de monnaie pour le montant* $s-v$."
   ]
  },
  {
   "cell_type": "markdown",
   "metadata": {},
   "source": [
    "**La remarque cruciale est la suivante**: *le rendu de monnaie obtenu en supprimant une pièce de valeur $v$ d'un rendu **optimal** est lui-même **optimal** pour le montant $s-v$*."
   ]
  },
  {
   "cell_type": "markdown",
   "metadata": {},
   "source": [
    "En effet, s'il n'était pas optimal, on pourrait trouver un rendu pour $s-v$ utilisant *moins de pièces que celui-ci* et en y ajoutant la pièce précédemment supprimée, on obtiendrait un rendu pour $s$ qui utiliserait moins de pièces que le rendu ${\\bf x}$. Mais, nous avons supposé que le rendu ${\\bf x}$ était **optimal** pour $s$, donc on a une **contradiction**."
   ]
  },
  {
   "cell_type": "markdown",
   "metadata": {},
   "source": [
    "> On en déduit qu'une solution **optimale** ${\\bf x}$ pour un montant $s$ s'obtient en choisissant la solution qui utilise le moins de pièces **parmi** *les solutions optimales des problèmes de rendu pour un montant $s-v$ où $v$ est la valeur d'une des pièces dont nous disposons*."
   ]
  },
  {
   "cell_type": "markdown",
   "metadata": {},
   "source": [
    "Ainsi, si $T(s)$ désigne le nombre de pièces d'un rendu *optimal* pour le montant $s$ alors:\n",
    "\n",
    "$$T(s)=1+\\min_{i}\\{T(s-v_i): s-v_i\\geqslant 0\\}\\quad \\text{si }s\\geqslant 1$$"
   ]
  },
  {
   "cell_type": "markdown",
   "metadata": {},
   "source": [
    "Et, évidemment, $T(0)=0$ puisque, pour un montant nul, il n'y a rien à rendre!"
   ]
  },
  {
   "cell_type": "markdown",
   "metadata": {},
   "source": [
    "Il n'est pas difficile d'en déduire un algorithme récursif pour calculer $T(s)$ (voir exercice 4):"
   ]
  },
  {
   "cell_type": "code",
   "execution_count": null,
   "metadata": {},
   "outputs": [],
   "source": [
    "def rendu_monnaie_rec(v, s):\n",
    "    if s == 0:\n",
    "        return 0\n",
    "    return 1 + min(rendu_monnaie_rec(v, s-val) for val in v if val <= s)\n",
    "\n",
    "rendu_monnaie_rec([1,2,5,10,20,50,100,200], 30)"
   ]
  },
  {
   "cell_type": "markdown",
   "metadata": {},
   "source": [
    "Malheureusement, il n'est *pas efficace* car il calcule de nombreuses fois la même chose."
   ]
  },
  {
   "cell_type": "markdown",
   "metadata": {},
   "source": [
    "#### Exercice 6"
   ]
  },
  {
   "cell_type": "markdown",
   "metadata": {},
   "source": [
    "1. Dessiner l'arbre des appels récursifs si `p = [1, 2, 3]` et `s = 4`."
   ]
  },
  {
   "cell_type": "markdown",
   "metadata": {
    "jupyter": {
     "source_hidden": true
    }
   },
   "source": [
    "                         __________ 4 ___________\n",
    "                        /           |            \\\n",
    "                   ___ 3____     __ 2             1 \n",
    "                  /    |    \\   /   |             |\n",
    "              __ 2     1    0   1   0             0\n",
    "             /   |     |        |\n",
    "             1   0     0        0\n",
    "             |\n",
    "             0\n",
    "       \n",
    "On observe que l'algorithme récursif va calculer deux fois le sous-problème T(2) (rendu pour 2 euros) et la situation empire avec une somme à rendre plus grande. En fait, on peut montrer que le nombre d'appels récursifs est «exponentielle» par rapport au rendu s: il est de l'ordre de $2^s$ et donc si $s=30$ il va y avoir environ $2^{30}\\approx 1000^3$ soit 1 milliard d'appels!!!)"
   ]
  },
  {
   "cell_type": "markdown",
   "metadata": {},
   "source": [
    "2. Modifier `rendu_monnaie_rec(v, s, prof=0)`, où `prof` représente la profondeur de l'appel, de façon à afficher cet arbre «ligne à ligne», en indentant la ligne en fonction de la profondeur de l'appel (un peu comme le fait la commande `lstree` pour un répertoire)."
   ]
  },
  {
   "cell_type": "code",
   "execution_count": null,
   "metadata": {},
   "outputs": [],
   "source": [
    "def rendu_monnaie_rec(v, s, prof=0):\n",
    "    # à adapter\n",
    "    if s == 0:\n",
    "        return 0\n",
    "    return 1 + min(rendu_monnaie_rec(v, s-val) for val in v if val <= s)\n",
    "\n",
    "rendu_monnaie_rec([1,2,3], 4)"
   ]
  },
  {
   "cell_type": "code",
   "execution_count": null,
   "metadata": {
    "jupyter": {
     "source_hidden": true
    }
   },
   "outputs": [],
   "source": [
    "def rendu_monnaie_rec(v, s, prof=0):\n",
    "    print(\"  \" * prof + str(s))\n",
    "    if s == 0:\n",
    "        return 0\n",
    "    return 1 + min(rendu_monnaie_rec(v, s-val, prof+1) for val in v if val <= s)\n",
    "\n",
    "rendu_monnaie_rec([1,2,3], 4)"
   ]
  },
  {
   "cell_type": "markdown",
   "metadata": {},
   "source": [
    "_________"
   ]
  },
  {
   "cell_type": "markdown",
   "metadata": {},
   "source": [
    "Pour éviter de **recalculer plusieurs fois la même chose**, nous pouvons mémoriser les solutions «partielles» $T(0), T(1), \\dots, T(s)$, du problème de rendu comme déjà expliqué. Rappelons le encore une fois:\n",
    "\n",
    "La **programmation dynamique** consiste à transformer une version *récursive* d'un algorithme en une version *itérative* en mémorisant les solutions partielles dans un tableau  du «bas vers le haut» \\[ *bottom up* \\] c'est-à-dire en commençant par les sous-problèmes «les plus petits»."
   ]
  },
  {
   "cell_type": "code",
   "execution_count": null,
   "metadata": {},
   "outputs": [],
   "source": [
    "def rendu_monnaie_simple(v, s):\n",
    "    n = len(v)\n",
    "    # nombre total de pièces utilisées pour chaque somme à rendre: i=0, 1, ..., s\n",
    "    T = [0]*(s+1) \n",
    "    for m in range(1, s+1):\n",
    "        # m représente le montant à rendre\n",
    "        T[m] = 1 + min(T[m-val] for val in v if val <= i)\n",
    "    return T[s]\n",
    "\n",
    "rendu_monnaie_simple([1,2,5,10,20,50,100,200], 437)"
   ]
  },
  {
   "cell_type": "markdown",
   "metadata": {},
   "source": [
    "#### Exercice 7\n",
    "\n",
    "Quelle est la complexité temporelle de cet algorithme? Quelle est sa complexité spatiale (en mémoire)?"
   ]
  },
  {
   "cell_type": "markdown",
   "metadata": {
    "jupyter": {
     "source_hidden": true
    }
   },
   "source": [
    "L'algorithme a une complexité temporelle $O(ns)$ où $n$ représente le nombre (de pièces) de valeurs différentes. En effet, `min` «cache» une boucle $O(n)$ et comme on a deux boucles imbriquées... Sa consommation mémoire est proportionnelle à la somme à rendre soit $O(s)$."
   ]
  },
  {
   "cell_type": "markdown",
   "metadata": {},
   "source": [
    "_________"
   ]
  },
  {
   "cell_type": "markdown",
   "metadata": {},
   "source": [
    "### Trouver un rendu optimal"
   ]
  },
  {
   "cell_type": "markdown",
   "metadata": {},
   "source": [
    "Observez que notre algorithme ne ne nous dit pas *quelles pièces sont utilisées dans un rendu optimal*, il nous dit juste combien il en faudra au minimum."
   ]
  },
  {
   "cell_type": "markdown",
   "metadata": {},
   "source": [
    "Il est heureusement possible de l'adapter pour qu'il réponde à cette question. L'idée est de **mémoriser le choix de la pièce effectué** pour passer d'un sous-rendu optimal au rendu optimal «courant»: Quelle pièce $i$ est choisie lorsqu'on calcule $T(s)=1+\\min_{i}\\{T(s-v_i): s-v_i\\geqslant 0\\}$? Observez qu'elle entre nécessairement dans la composition du rendu de monnaie trouvé par l'algorithme."
   ]
  },
  {
   "cell_type": "markdown",
   "metadata": {},
   "source": [
    "*Exemple*: Pour $v_1=1, v_2=3, v_3=4$ et $s=6$, et si on modifie notre algorithme pour qu'il mémorise la pièce ajoutée pour obtenir un rendu optimal pour $1\\leqslant m\\leqslant s$ à partir d'un sous-rendu optimal, on obtient:\n",
    "\n",
    "    m | 1| 2| 3| 4| 5| 6 --> montant à rendre\n",
    "    i | 1| 1| 2| 3| 1| 2 --> n° de  la pièce choisie lors du min\n",
    "    \n"
   ]
  },
  {
   "cell_type": "markdown",
   "metadata": {},
   "source": [
    "D'après ce tableau, pour rendre $m=6$€, on utilise la **pièce n°2** qui vaut 3€: le reste à rendre est donc $m=6-3=3$€.\n",
    "\n",
    "En utilisant à nouveau ce tableau avec le nouveau montant $m=3$€, on utilise **à nouveau la pièce n°$i=2$** et le reste à rendre est $m=3-3=0$€.\n",
    "\n",
    "On en conclut que pour 6€, la solution de notre algorithme est d'utiliser deux pièces de $3$€, c'est-à-dire: $$x_1=0, x_2=2, x_3=0$$"
   ]
  },
  {
   "cell_type": "markdown",
   "metadata": {},
   "source": [
    "#### Exercice 8\n",
    "\n",
    "1. Préciser le rendu pour 10€ d'après le tableau «`p`» ci-dessous (avec les mêmes pièces que dans l'exemple précédent)\n",
    "\n",
    "        m --> | 1| 2| 3| 4| 5| 6| 7| 8| 9| 10| --> montant à rendre\n",
    "        i --> | 1| 1| 2| 3| 1| 2| 2| 3| 1|  2| --> n° de  la pièce choisie lors du min"
   ]
  },
  {
   "cell_type": "markdown",
   "metadata": {
    "jupyter": {
     "source_hidden": true
    }
   },
   "source": [
    "On utilise la pièce n°$i=2$ (reste à rendre $m=10-3=7$€), puis encore la pièce n°$i=2$ (reste à rendre $m=7-3=4$€) puis la pièce n°$i=3$ (reste à rendre $m=4-4=0$). Finalement: $$x_1=0, x_2=2, x_3=1$$."
   ]
  },
  {
   "cell_type": "markdown",
   "metadata": {},
   "source": [
    "2. Écrire la fonction `rendu(v,p)` où `v` est un tableau contenant la valeur des pièces du rendu et `p` un tableau qui fait correspondre au montant à rendre $m$ le *numéro* de la pièce choisie `p[m]` (comme expliqué plus tôt).\n",
    "\n",
    "   Elle renvoie un tableau de même taille que `v` qui donne pour chaque pièce $i$ son nombre d'utilisation dans le rendu pour le montant correspondant à la longueur de $p$.\n",
    "   \n",
    "   *Par exemple*, `rendu([1,3,4],[0,0,1,2,0,1,1,2,0,1])` renvoie `[0,2,1]` qui correspond au rendu pour 10€ de la première question. Le tableau `p` a été adapté pour tenir compte de la numérotation à partir de 0."
   ]
  },
  {
   "cell_type": "code",
   "execution_count": null,
   "metadata": {
    "jupyter": {
     "source_hidden": true
    }
   },
   "outputs": [],
   "source": [
    "def rendu(v, p):\n",
    "    x = [0] * len(v)\n",
    "    m = len(p)\n",
    "    while m > 0:\n",
    "        i = p[m-1]\n",
    "        x[i] += 1\n",
    "        m -= v[i]\n",
    "    return x\n",
    "\n",
    "rendu([1,3,4],[0,0,1,2,0,1,1,2,0,1])"
   ]
  },
  {
   "cell_type": "markdown",
   "metadata": {},
   "source": [
    "_________"
   ]
  },
  {
   "cell_type": "markdown",
   "metadata": {},
   "source": [
    "Pour mémoriser le numéro de la pièce choisie lors des rendus pour $m$ euros où $1\\leqslant m\\leqslant s$, nous allons avoir besoin de «dérouler» l'algorithme du min."
   ]
  },
  {
   "cell_type": "markdown",
   "metadata": {},
   "source": [
    "Voici ce que cela donne en pseudo-code:"
   ]
  },
  {
   "cell_type": "markdown",
   "metadata": {},
   "source": [
    "<pre>\n",
    "<strong>rendu_monnaie</strong>(v, s):\n",
    "    initialiser un tableau <em>T</em> de longueur s+1 avec des zéros\n",
    "    initialiser un tableau <em>p</em> de longueur s (peu importe les valeurs qu'il contient)\n",
    "    <strong>Pour</strong> m de 1 à s:\n",
    "        T[m] 🠄 +∞\n",
    "        <strong>Pour</strong> i de 1 à n:\n",
    "             m' = m - v[i]\n",
    "             <strong>Si</strong> m' > 0 <strong>et</strong> 1 + T[m'] < T[m]:\n",
    "                  T[m] 🠄 1 + T[m']\n",
    "                  p[m-1] 🠄 i    # mémoriser le choix de la pièce!          \n",
    "    \n",
    "    ... calculer x à partir de p ...\n",
    "    renvoyer T[s], x\n",
    "<pre>"
   ]
  },
  {
   "cell_type": "markdown",
   "metadata": {},
   "source": [
    "Dans la boucle interne (du min), $i$ représente un numéro de la pièce. On mémorise ce numéro lorsque le min est mis à jour. Lorsque *cette* boucle se termine, le $i$ mémorisé correspond au n° de la pièce choisie pour passer d'un sous-problème à celui de montant $m$."
   ]
  },
  {
   "cell_type": "markdown",
   "metadata": {},
   "source": [
    "#### Exercice 9"
   ]
  },
  {
   "cell_type": "markdown",
   "metadata": {},
   "source": [
    "Résoudre complètement le problème du rendu de monnaie en vous inspirant de l'algorithme en pseudo-code et en complétant sa partie manquante.\n",
    "\n",
    "Pour cela, écrire une fonction `rendu_monnaie(v, s)` qui renvoie le nombre minimal de pièces pour un rendu sur un montant `s` ainsi qu'un rendu optimal particulier. On suppose toujours que la liste des valeurs des pièces `v` contient 1. "
   ]
  },
  {
   "cell_type": "code",
   "execution_count": null,
   "metadata": {
    "jupyter": {
     "source_hidden": true
    }
   },
   "outputs": [],
   "source": [
    "def rendu_monnaie(v, s):\n",
    "    \"\"\"Renvoie le nombre minimal de pièces ainsi que leur distribution\n",
    "    dans le problème de rendu de monnaie pour un montant s et un jeu\n",
    "    de pièces dont les valeurs sont données dans le tableau v.\n",
    "    On suppose que l'une des pièces a pour valeur 1.\"\"\"\n",
    "    assert 1 in v, \"L'une des pièces doit valoir 1€.\"\n",
    "    \n",
    "    # initialisations des tableaux\n",
    "    T = [0] * (s+1)  # nombres de pièces utilisées pour chaque montant intermédiaire\n",
    "    p = [0] * s      # pièces effectivement ajoutée, pour obtenir le rendu (pour chaque\n",
    "                      # montant intermédiaire), à celles d'un «sous-rendu» optimal.\n",
    "    \n",
    "    # pour chaque montant intermédiaire\n",
    "    for m in range(1, s + 1):\n",
    "        # calculer et mémoriser le nombre de pièces utilisées pour ce montant\n",
    "        T[m] = float(\"inf\")\n",
    "        # pour chaque pièce\n",
    "        for i, val in enumerate(v):\n",
    "            if val <= m and 1 + T[m-val] < T[m]:\n",
    "                # actualiser la solution en ajoutant cette pièce \n",
    "                # à celles du sous-problème considéré\n",
    "                T[m] = 1 + T[m-val]\n",
    "                # mémoriser la pièce utilisée\n",
    "                p[m-1] = i\n",
    "    \n",
    "    # calcul de la répartition des pièces utilisées\n",
    "    x = [0] * len(v) # quantités pour chaque pièce\n",
    "    m = s\n",
    "    while m > 0:\n",
    "        i = p[m-1]\n",
    "        x[i] += 1\n",
    "        m -= v[i]\n",
    "    # renvoyer le nombre de pièces utilisées et leur répartition.\n",
    "    return T[s], x\n",
    "\n",
    "rendu_monnaie([1,3,4], 10)"
   ]
  }
 ],
 "metadata": {
  "kernelspec": {
   "display_name": "Python 3",
   "language": "python",
   "name": "python3"
  },
  "language_info": {
   "codemirror_mode": {
    "name": "ipython",
    "version": 3
   },
   "file_extension": ".py",
   "mimetype": "text/x-python",
   "name": "python",
   "nbconvert_exporter": "python",
   "pygments_lexer": "ipython3",
   "version": "3.7.3"
  }
 },
 "nbformat": 4,
 "nbformat_minor": 4
}
